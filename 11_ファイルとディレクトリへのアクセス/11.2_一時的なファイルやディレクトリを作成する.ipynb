{
 "cells": [
  {
   "cell_type": "code",
   "execution_count": 11,
   "metadata": {},
   "outputs": [
    {
     "name": "stdout",
     "output_type": "stream",
     "text": [
      "<tempfile._TemporaryFileWrapper object at 0x0000020B9CBD3590>\n",
      "C:\\Users\\kgrmr\\AppData\\Local\\Temp\\tmpc1rcpkis\n",
      "True\n",
      "True\n",
      "b'hogehogehoge'\n",
      "False\n"
     ]
    }
   ],
   "source": [
    "# 一時ファイルの利用例\n",
    "import tempfile\n",
    "from pathlib import Path\n",
    "with tempfile.TemporaryFile() as tmpf:\n",
    "    print(tmpf)\n",
    "    print(tmpf.name)\n",
    "    tmpf_path = Path(tmpf.name)\n",
    "    print(tmpf_path.exists())\n",
    "    print(tmpf_path.is_file())\n",
    "    tmpf.write(b'hogehogehoge')\n",
    "    tmpf.seek(0)\n",
    "    print(tmpf.read())\n",
    "print(tmpf_path.exists())\n"
   ]
  },
  {
   "cell_type": "markdown",
   "metadata": {},
   "source": [
    "### 一時リソースとして使用できるオブジェクト\n",
    "\n",
    "<table>\n",
    "    <thead>\n",
    "        <tr>\n",
    "            <th>オブジェクト</th>\n",
    "            <th>説明</th>\n",
    "        </tr>\n",
    "    </thead>\n",
    "    <tbody>\n",
    "        <tr>\n",
    "            <td><m-b>TemporaryFile()</m-b></td>\n",
    "            <td>ファイル名のない一時ファイルを作成する</td>\n",
    "        </tr>\n",
    "        <tr>\n",
    "            <td><m-b>NamedTemporaryFile()</m-b></td>\n",
    "            <td>ファイル名のある一時ファイルを作成する</td>\n",
    "        </tr>\n",
    "        <tr>\n",
    "            <td><m-b>SpooledTemporaryFile()</m-b></td>\n",
    "            <td>一定サイズまではメモリで管理し、それ以上はディスクに書き込む一時ファイルを作成する</td>\n",
    "        </tr>\n",
    "        <tr>\n",
    "            <td><m-b>TemporaryDirectory()</m-b></td>\n",
    "            <td>一時ディレクトリを作成する</td>\n",
    "        </tr>\n",
    "    </tbody>\n",
    "</table>\n",
    "\n",
    "### 一時ファイルを扱うオブジェクトの比較\n",
    "<table>\n",
    "    <thead>\n",
    "        <tr>\n",
    "            <th>オブジェクト</th>\n",
    "            <th>データの書き出し先</th>\n",
    "            <th>ファイル名</th>\n",
    "        </tr>\n",
    "    </thead>\n",
    "    <tbody>\n",
    "        <tr>\n",
    "            <td>TemporaryFile()</td>\n",
    "            <td><m-b>ディスク上</m-b></td>\n",
    "            <td><m-b>なし</m-b></td>\n",
    "        </tr>\n",
    "        <tr>\n",
    "            <td>NamedTemporaryFile()</td>\n",
    "            <td><m-b>ディスク上</m-b></td>\n",
    "            <td><m-b>あり</m-b></td>\n",
    "        </tr>\n",
    "        <tr>\n",
    "            <td>SpooledTemporaryFile()</td>\n",
    "            <td><m-b>メモリ上⇒ディスク上</m-b></td>\n",
    "            <td><m-b>なし</m-b></td>\n",
    "        </tr>\n",
    "    </tbody>\n",
    "</table>\n"
   ]
  },
  {
   "cell_type": "code",
   "execution_count": 12,
   "metadata": {},
   "outputs": [
    {
     "name": "stdout",
     "output_type": "stream",
     "text": [
      "c:\\Users\\kgrmr\\OneDrive\\ドキュメント\\GitHub\\python-certified-practical-practice\\11_ファイルとディレクトリへのアクセス\\tmp\\hoge_6hc07kdn.tmp\n"
     ]
    }
   ],
   "source": [
    "# ディレクトリ・接頭辞・接尾辞を指定して一時ファイルを作成\n",
    "import tempfile\n",
    "with tempfile.TemporaryFile(dir='./tmp', prefix='hoge_', suffix='.tmp') as f:\n",
    "    print(f.name)\n"
   ]
  },
  {
   "cell_type": "code",
   "execution_count": 13,
   "metadata": {},
   "outputs": [
    {
     "name": "stdout",
     "output_type": "stream",
     "text": [
      "c:\\Users\\kgrmr\\OneDrive\\ドキュメント\\GitHub\\python-certified-practical-practice\\11_ファイルとディレクトリへのアクセス\\tmp\\hoge_ojy0p79n.tmp\n"
     ]
    }
   ],
   "source": [
    "# ファイルシステム上に名前を持つことが保証された一時ファイル\n",
    "import tempfile\n",
    "with tempfile.NamedTemporaryFile(dir='./tmp', prefix='hoge_', suffix='.tmp') as f:\n",
    "    print(f.name)\n"
   ]
  },
  {
   "cell_type": "code",
   "execution_count": 19,
   "metadata": {},
   "outputs": [
    {
     "name": "stdout",
     "output_type": "stream",
     "text": [
      "./tmp\\hoge_c9wvxww6.fuga\n",
      "tmp\\hoge_c9wvxww6.fuga\n",
      "True\n"
     ]
    }
   ],
   "source": [
    "# 一時ディレクトリ\n",
    "import tempfile\n",
    "from pathlib import Path\n",
    "with tempfile.TemporaryDirectory(dir='./tmp', prefix='hoge_', suffix='.fuga') as d:\n",
    "    print(d)\n",
    "    print(Path(d))\n",
    "    print(Path(d).is_dir())\n"
   ]
  }
 ],
 "metadata": {
  "kernelspec": {
   "display_name": "Python 3",
   "language": "python",
   "name": "python3"
  },
  "language_info": {
   "codemirror_mode": {
    "name": "ipython",
    "version": 3
   },
   "file_extension": ".py",
   "mimetype": "text/x-python",
   "name": "python",
   "nbconvert_exporter": "python",
   "pygments_lexer": "ipython3",
   "version": "3.11.7"
  }
 },
 "nbformat": 4,
 "nbformat_minor": 2
}
