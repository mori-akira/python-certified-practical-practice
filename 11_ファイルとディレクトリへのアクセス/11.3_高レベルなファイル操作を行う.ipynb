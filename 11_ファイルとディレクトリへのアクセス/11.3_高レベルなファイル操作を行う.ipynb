{
 "cells": [
  {
   "cell_type": "markdown",
   "metadata": {},
   "source": [
    "### shutil\n",
    "\n",
    "shutilには、ファイルをコピーする関数やファイル属性をコピーする関数がある。\n",
    "\n",
    "<table>\n",
    "    <thead>\n",
    "        <tr>\n",
    "            <th>関数</th>\n",
    "            <th>戻り値</th>\n",
    "            <th>説明</th>\n",
    "        </tr>\n",
    "    </thead>\n",
    "    <tbody>\n",
    "        <tr>\n",
    "            <td><m-b>copyfile(src, dst)</m-b></td>\n",
    "            <td><m-b>str</m-b></td>\n",
    "            <td>ファイルsrcをファイルdstにコピーする</td>\n",
    "        <tr>\n",
    "            <td><m-b>copy(src, dst)</m-b></td>\n",
    "            <td><m-b>str</m-b></td>\n",
    "            <td>パーミッションと共にファイルをコピーする</td>\n",
    "        <tr>\n",
    "            <td><m-b>copy2(src, dst)</m-b></td>\n",
    "            <td><m-b>str</m-b></td>\n",
    "            <td>すべてのメタデータと共にファイルをコピーする</td>\n",
    "        <tr>\n",
    "            <td><m-b>copymode(src, dst)</m-b></td>\n",
    "            <td><m-b>None</m-b></td>\n",
    "            <td>パーミッションをコピーする</td>\n",
    "        <tr>\n",
    "            <td><m-b>copystat(src, dst)</m-b></td>\n",
    "            <td><m-b>None</m-b></td>\n",
    "            <td>メタデータをコピーする</td>\n",
    "        </tr>\n",
    "    </tbody>\n",
    "</table>\n"
   ]
  },
  {
   "cell_type": "code",
   "execution_count": 7,
   "metadata": {},
   "outputs": [
    {
     "ename": "PermissionError",
     "evalue": "[Errno 13] Permission denied: './tmp2'",
     "output_type": "error",
     "traceback": [
      "\u001b[1;31m---------------------------------------------------------------------------\u001b[0m",
      "\u001b[1;31mPermissionError\u001b[0m                           Traceback (most recent call last)",
      "Cell \u001b[1;32mIn[7], line 5\u001b[0m\n\u001b[0;32m      3\u001b[0m \u001b[38;5;28;01mimport\u001b[39;00m \u001b[38;5;21;01mos\u001b[39;00m\n\u001b[0;32m      4\u001b[0m os\u001b[38;5;241m.\u001b[39mmakedirs(\u001b[38;5;124m'\u001b[39m\u001b[38;5;124m./tmp2\u001b[39m\u001b[38;5;124m'\u001b[39m, exist_ok\u001b[38;5;241m=\u001b[39m\u001b[38;5;28;01mTrue\u001b[39;00m)\n\u001b[1;32m----> 5\u001b[0m \u001b[43mshutil\u001b[49m\u001b[38;5;241;43m.\u001b[39;49m\u001b[43mcopyfile\u001b[49m\u001b[43m(\u001b[49m\u001b[38;5;124;43m'\u001b[39;49m\u001b[38;5;124;43m./11.1_ファイルパス操作を直観的に行う.html\u001b[39;49m\u001b[38;5;124;43m'\u001b[39;49m\u001b[43m,\u001b[49m\u001b[43m \u001b[49m\u001b[38;5;124;43m'\u001b[39;49m\u001b[38;5;124;43m./tmp2\u001b[39;49m\u001b[38;5;124;43m'\u001b[39;49m\u001b[43m)\u001b[49m\n",
      "File \u001b[1;32mC:\\Program Files\\WindowsApps\\PythonSoftwareFoundation.Python.3.11_3.11.2032.0_x64__qbz5n2kfra8p0\\Lib\\shutil.py:258\u001b[0m, in \u001b[0;36mcopyfile\u001b[1;34m(src, dst, follow_symlinks)\u001b[0m\n\u001b[0;32m    256\u001b[0m \u001b[38;5;28;01mwith\u001b[39;00m \u001b[38;5;28mopen\u001b[39m(src, \u001b[38;5;124m'\u001b[39m\u001b[38;5;124mrb\u001b[39m\u001b[38;5;124m'\u001b[39m) \u001b[38;5;28;01mas\u001b[39;00m fsrc:\n\u001b[0;32m    257\u001b[0m     \u001b[38;5;28;01mtry\u001b[39;00m:\n\u001b[1;32m--> 258\u001b[0m         \u001b[38;5;28;01mwith\u001b[39;00m \u001b[38;5;28mopen\u001b[39m(dst, \u001b[38;5;124m'\u001b[39m\u001b[38;5;124mwb\u001b[39m\u001b[38;5;124m'\u001b[39m) \u001b[38;5;28;01mas\u001b[39;00m fdst:\n\u001b[0;32m    259\u001b[0m             \u001b[38;5;66;03m# macOS\u001b[39;00m\n\u001b[0;32m    260\u001b[0m             \u001b[38;5;28;01mif\u001b[39;00m _HAS_FCOPYFILE:\n\u001b[0;32m    261\u001b[0m                 \u001b[38;5;28;01mtry\u001b[39;00m:\n",
      "\u001b[1;31mPermissionError\u001b[0m: [Errno 13] Permission denied: './tmp2'"
     ]
    }
   ],
   "source": [
    "# ディレクトリを指定するパターン\n",
    "import shutil\n",
    "import os\n",
    "os.makedirs('./tmp2', exist_ok=True)\n",
    "shutil.copyfile('./11.1_ファイルパス操作を直観的に行う.html', './tmp2')\n"
   ]
  },
  {
   "cell_type": "code",
   "execution_count": 3,
   "metadata": {},
   "outputs": [
    {
     "name": "stdout",
     "output_type": "stream",
     "text": [
      "('spam', ['ham'], [])\n",
      "('spam\\\\ham', ['egg', 'egg2'], [])\n",
      "('spam\\\\ham\\\\egg', [], [])\n",
      "('spam\\\\ham\\\\egg2', [], [])\n"
     ]
    }
   ],
   "source": [
    "# ディレクトリの再帰的な削除\n",
    "from pathlib import Path\n",
    "import os\n",
    "import shutil\n",
    "dir = Path('./spam/ham/egg/')\n",
    "dir.mkdir(parents=True, exist_ok=True)\n",
    "dir = Path('./spam/ham/egg2/')\n",
    "dir.mkdir(parents=True, exist_ok=True)\n",
    "for n in os.walk(Path('./spam/')):\n",
    "    print(n)\n",
    "shutil.rmtree(Path('./spam/'))\n",
    "for n in os.walk(Path('./spam/')):\n",
    "    print(n)\n"
   ]
  },
  {
   "cell_type": "code",
   "execution_count": 7,
   "metadata": {},
   "outputs": [
    {
     "name": "stdout",
     "output_type": "stream",
     "text": [
      "('spam', ['ham'], [])\n",
      "('spam\\\\ham', ['egg', 'egg2'], ['tmp.txt'])\n",
      "('spam\\\\ham\\\\egg', [], ['tmp.txt'])\n",
      "('spam\\\\ham\\\\egg2', [], [])\n"
     ]
    }
   ],
   "source": [
    "# ファイルを追加\n",
    "from pathlib import Path\n",
    "import os\n",
    "import shutil\n",
    "dir = Path('./spam/ham/egg/')\n",
    "dir.mkdir(parents=True, exist_ok=True)\n",
    "dir = Path('./spam/ham/egg2/')\n",
    "dir.mkdir(parents=True, exist_ok=True)\n",
    "file = Path('./spam/ham/tmp.txt')\n",
    "file.touch()\n",
    "file = Path('./spam/ham/egg/tmp.txt')\n",
    "file.touch()\n",
    "for n in os.walk(Path('./spam/')):\n",
    "    print(n)\n",
    "shutil.rmtree(Path('./spam/'))\n",
    "for n in os.walk(Path('./spam/')):\n",
    "    print(n)\n",
    "\n"
   ]
  },
  {
   "cell_type": "code",
   "execution_count": 12,
   "metadata": {},
   "outputs": [
    {
     "name": "stdout",
     "output_type": "stream",
     "text": [
      "('spam2', ['ham'], [])\n",
      "('spam2\\\\ham', ['egg', 'egg2'], ['tmp.txt'])\n",
      "('spam2\\\\ham\\\\egg', [], ['tmp.txt'])\n",
      "('spam2\\\\ham\\\\egg2', [], [])\n"
     ]
    }
   ],
   "source": [
    "# 再帰的な移動\n",
    "from pathlib import Path\n",
    "import os\n",
    "import shutil\n",
    "dir = Path('./spam/ham/egg/')\n",
    "dir.mkdir(parents=True, exist_ok=True)\n",
    "dir = Path('./spam/ham/egg2/')\n",
    "dir.mkdir(parents=True, exist_ok=True)\n",
    "file = Path('./spam/ham/tmp.txt')\n",
    "file.touch()\n",
    "file = Path('./spam/ham/egg/tmp.txt')\n",
    "file.touch()\n",
    "shutil.move(Path('./spam/'), Path('./spam2/'))\n",
    "for n in os.walk(Path('./spam/')):\n",
    "    print(n)\n",
    "for n in os.walk(Path('./spam2/')):\n",
    "    print(n)\n",
    "shutil.rmtree(Path('./spam2/'))\n"
   ]
  },
  {
   "cell_type": "code",
   "execution_count": 20,
   "metadata": {},
   "outputs": [
    {
     "name": "stdout",
     "output_type": "stream",
     "text": [
      "spam2\n",
      "('spam', ['ham'], [])\n",
      "('spam\\\\ham', ['egg', 'egg2'], ['tmp.txt'])\n",
      "('spam\\\\ham\\\\egg', [], ['tmp.txt'])\n",
      "('spam\\\\ham\\\\egg2', [], [])\n",
      "('spam2', ['ham'], [])\n",
      "('spam2\\\\ham', ['egg', 'egg2'], ['tmp.txt'])\n",
      "('spam2\\\\ham\\\\egg', [], ['tmp.txt'])\n",
      "('spam2\\\\ham\\\\egg2', [], [])\n"
     ]
    }
   ],
   "source": [
    "# 再帰的なコピー\n",
    "from pathlib import Path\n",
    "import os\n",
    "import shutil\n",
    "dir = Path('./spam/ham/egg/')\n",
    "dir.mkdir(parents=True, exist_ok=True)\n",
    "dir = Path('./spam/ham/egg2/')\n",
    "dir.mkdir(parents=True, exist_ok=True)\n",
    "file = Path('./spam/ham/tmp.txt')\n",
    "file.touch()\n",
    "file = Path('./spam/ham/egg/tmp.txt')\n",
    "file.touch()\n",
    "ret = shutil.copytree(src=Path('./spam/'),\n",
    "                dst=Path('./spam2/'),\n",
    "                ignore=shutil.ignore_patterns('**/egg/*.txt'),\n",
    "                copy_function=shutil.copy2,\n",
    "                dirs_exist_ok=True)\n",
    "print(ret)\n",
    "for n in os.walk(Path('./spam/')):\n",
    "    print(n)\n",
    "for n in os.walk(Path('./spam2/')):\n",
    "    print(n)\n",
    "shutil.rmtree(Path('./spam/'))\n",
    "shutil.rmtree(Path('./spam2/'))\n",
    "\n"
   ]
  },
  {
   "cell_type": "code",
   "execution_count": 22,
   "metadata": {},
   "outputs": [
    {
     "ename": "SameFileError",
     "evalue": "'./11.1_ファイルパス操作を直観的に行う.html' and './11.1_ファイルパス操作を直観的に行う.html' are the same file",
     "output_type": "error",
     "traceback": [
      "\u001b[1;31m---------------------------------------------------------------------------\u001b[0m",
      "\u001b[1;31mSameFileError\u001b[0m                             Traceback (most recent call last)",
      "Cell \u001b[1;32mIn[22], line 3\u001b[0m\n\u001b[0;32m      1\u001b[0m \u001b[38;5;66;03m# srcとdstが重複する場合のエラー\u001b[39;00m\n\u001b[0;32m      2\u001b[0m \u001b[38;5;28;01mimport\u001b[39;00m \u001b[38;5;21;01mshutil\u001b[39;00m\n\u001b[1;32m----> 3\u001b[0m \u001b[43mshutil\u001b[49m\u001b[38;5;241;43m.\u001b[39;49m\u001b[43mcopy\u001b[49m\u001b[43m(\u001b[49m\u001b[38;5;124;43m'\u001b[39;49m\u001b[38;5;124;43m./11.1_ファイルパス操作を直観的に行う.html\u001b[39;49m\u001b[38;5;124;43m'\u001b[39;49m\u001b[43m,\u001b[49m\u001b[43m \u001b[49m\u001b[38;5;124;43m'\u001b[39;49m\u001b[38;5;124;43m./11.1_ファイルパス操作を直観的に行う.html\u001b[39;49m\u001b[38;5;124;43m'\u001b[39;49m\u001b[43m)\u001b[49m\n",
      "File \u001b[1;32mC:\\Program Files\\WindowsApps\\PythonSoftwareFoundation.Python.3.11_3.11.2032.0_x64__qbz5n2kfra8p0\\Lib\\shutil.py:419\u001b[0m, in \u001b[0;36mcopy\u001b[1;34m(src, dst, follow_symlinks)\u001b[0m\n\u001b[0;32m    417\u001b[0m \u001b[38;5;28;01mif\u001b[39;00m os\u001b[38;5;241m.\u001b[39mpath\u001b[38;5;241m.\u001b[39misdir(dst):\n\u001b[0;32m    418\u001b[0m     dst \u001b[38;5;241m=\u001b[39m os\u001b[38;5;241m.\u001b[39mpath\u001b[38;5;241m.\u001b[39mjoin(dst, os\u001b[38;5;241m.\u001b[39mpath\u001b[38;5;241m.\u001b[39mbasename(src))\n\u001b[1;32m--> 419\u001b[0m \u001b[43mcopyfile\u001b[49m\u001b[43m(\u001b[49m\u001b[43msrc\u001b[49m\u001b[43m,\u001b[49m\u001b[43m \u001b[49m\u001b[43mdst\u001b[49m\u001b[43m,\u001b[49m\u001b[43m \u001b[49m\u001b[43mfollow_symlinks\u001b[49m\u001b[38;5;241;43m=\u001b[39;49m\u001b[43mfollow_symlinks\u001b[49m\u001b[43m)\u001b[49m\n\u001b[0;32m    420\u001b[0m copymode(src, dst, follow_symlinks\u001b[38;5;241m=\u001b[39mfollow_symlinks)\n\u001b[0;32m    421\u001b[0m \u001b[38;5;28;01mreturn\u001b[39;00m dst\n",
      "File \u001b[1;32mC:\\Program Files\\WindowsApps\\PythonSoftwareFoundation.Python.3.11_3.11.2032.0_x64__qbz5n2kfra8p0\\Lib\\shutil.py:236\u001b[0m, in \u001b[0;36mcopyfile\u001b[1;34m(src, dst, follow_symlinks)\u001b[0m\n\u001b[0;32m    233\u001b[0m sys\u001b[38;5;241m.\u001b[39maudit(\u001b[38;5;124m\"\u001b[39m\u001b[38;5;124mshutil.copyfile\u001b[39m\u001b[38;5;124m\"\u001b[39m, src, dst)\n\u001b[0;32m    235\u001b[0m \u001b[38;5;28;01mif\u001b[39;00m _samefile(src, dst):\n\u001b[1;32m--> 236\u001b[0m     \u001b[38;5;28;01mraise\u001b[39;00m SameFileError(\u001b[38;5;124m\"\u001b[39m\u001b[38;5;132;01m{!r}\u001b[39;00m\u001b[38;5;124m and \u001b[39m\u001b[38;5;132;01m{!r}\u001b[39;00m\u001b[38;5;124m are the same file\u001b[39m\u001b[38;5;124m\"\u001b[39m\u001b[38;5;241m.\u001b[39mformat(src, dst))\n\u001b[0;32m    238\u001b[0m file_size \u001b[38;5;241m=\u001b[39m \u001b[38;5;241m0\u001b[39m\n\u001b[0;32m    239\u001b[0m \u001b[38;5;28;01mfor\u001b[39;00m i, fn \u001b[38;5;129;01min\u001b[39;00m \u001b[38;5;28menumerate\u001b[39m([src, dst]):\n",
      "\u001b[1;31mSameFileError\u001b[0m: './11.1_ファイルパス操作を直観的に行う.html' and './11.1_ファイルパス操作を直観的に行う.html' are the same file"
     ]
    }
   ],
   "source": [
    "# srcとdstが重複する場合のエラー\n",
    "import shutil\n",
    "shutil.copy('./11.1_ファイルパス操作を直観的に行う.html', './11.1_ファイルパス操作を直観的に行う.html')"
   ]
  }
 ],
 "metadata": {
  "kernelspec": {
   "display_name": "Python 3",
   "language": "python",
   "name": "python3"
  },
  "language_info": {
   "codemirror_mode": {
    "name": "ipython",
    "version": 3
   },
   "file_extension": ".py",
   "mimetype": "text/x-python",
   "name": "python",
   "nbconvert_exporter": "python",
   "pygments_lexer": "ipython3",
   "version": "3.11.7"
  }
 },
 "nbformat": 4,
 "nbformat_minor": 2
}
