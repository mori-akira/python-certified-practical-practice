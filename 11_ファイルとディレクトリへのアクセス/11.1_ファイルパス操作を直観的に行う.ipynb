{
 "cells": [
  {
   "cell_type": "markdown",
   "metadata": {},
   "source": [
    "### pathlibが提供するクラス\n",
    "\n",
    "<table>\n",
    "    <thead>\n",
    "        <tr>\n",
    "            <th>クラス名</th>\n",
    "            <th>基底クラス</th>\n",
    "            <th>説明</th>\n",
    "        </tr>\n",
    "    </thead>\n",
    "    <tbody>\n",
    "        <tr>\n",
    "            <td><m-b>pathlib.PurePath</m-b></td>\n",
    "            <td>-</td>\n",
    "            <td>純粋パスクラスの基底クラス</td>\n",
    "        </tr>\n",
    "        <tr>\n",
    "            <td><m-b>pathlib.PurePosixPath</m-b></td>\n",
    "            <td>PurePath</td>\n",
    "            <td>非Windows向けの純粋パスクラス</td>\n",
    "        </tr>\n",
    "        <tr>\n",
    "            <td><m-b>pathlib.PureWindowsPath</m-b></td>\n",
    "            <td>PurePath</td>\n",
    "            <td>Windows向けの純粋パスクラス</td>\n",
    "        </tr>\n",
    "        <tr>\n",
    "            <td><m-b>pathlib.Path</m-b></td>\n",
    "            <td>PurePath</td>\n",
    "            <td>具象パスクラスの基底クラス</td>\n",
    "        </tr>\n",
    "        <tr>\n",
    "            <td><m-b>pathlib.PosixPath</m-b></td>\n",
    "            <td>PurePosixPath、Path</td>\n",
    "            <td>非Windows向けの具象パスクラス</td>\n",
    "        </tr>\n",
    "        <tr>\n",
    "            <td><m-b>pathlib.WindowsPath</m-b></td>\n",
    "            <td>PureWindowsPath、Path</td>\n",
    "            <td>Windows向けの具象パスクラス</td>\n",
    "        </tr>\n",
    "    </tbody>\n",
    "</table>"
   ]
  },
  {
   "cell_type": "code",
   "execution_count": 3,
   "metadata": {},
   "outputs": [
    {
     "data": {
      "text/plain": [
       "WindowsPath('.')"
      ]
     },
     "execution_count": 3,
     "metadata": {},
     "output_type": "execute_result"
    }
   ],
   "source": [
    "# Windowsの場合\n",
    "from pathlib import Path\n",
    "Path() # モジュールがプラットフォームを認識する"
   ]
  }
 ],
 "metadata": {
  "kernelspec": {
   "display_name": "Python 3",
   "language": "python",
   "name": "python3"
  },
  "language_info": {
   "codemirror_mode": {
    "name": "ipython",
    "version": 3
   },
   "file_extension": ".py",
   "mimetype": "text/x-python",
   "name": "python",
   "nbconvert_exporter": "python",
   "pygments_lexer": "ipython3",
   "version": "3.11.7"
  }
 },
 "nbformat": 4,
 "nbformat_minor": 2
}
