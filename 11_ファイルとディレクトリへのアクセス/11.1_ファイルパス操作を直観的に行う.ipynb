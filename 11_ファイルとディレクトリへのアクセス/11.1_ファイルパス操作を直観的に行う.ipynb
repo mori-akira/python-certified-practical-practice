{
 "cells": [
  {
   "cell_type": "markdown",
   "metadata": {},
   "source": [
    "### pathlibが提供するクラス\n",
    "\n",
    "<table>\n",
    "    <thead>\n",
    "        <tr>\n",
    "            <th>クラス名</th>\n",
    "            <th>基底クラス</th>\n",
    "            <th>説明</th>\n",
    "        </tr>\n",
    "    </thead>\n",
    "    <tbody>\n",
    "        <tr>\n",
    "            <td><m-b>pathlib.PurePath</m-b></td>\n",
    "            <td>-</td>\n",
    "            <td>純粋パスクラスの基底クラス</td>\n",
    "        </tr>\n",
    "        <tr>\n",
    "            <td><m-b>pathlib.PurePosixPath</m-b></td>\n",
    "            <td>PurePath</td>\n",
    "            <td>非Windows向けの純粋パスクラス</td>\n",
    "        </tr>\n",
    "        <tr>\n",
    "            <td><m-b>pathlib.PureWindowsPath</m-b></td>\n",
    "            <td>PurePath</td>\n",
    "            <td>Windows向けの純粋パスクラス</td>\n",
    "        </tr>\n",
    "        <tr>\n",
    "            <td><m-b>pathlib.Path</m-b></td>\n",
    "            <td>PurePath</td>\n",
    "            <td>具象パスクラスの基底クラス</td>\n",
    "        </tr>\n",
    "        <tr>\n",
    "            <td><m-b>pathlib.PosixPath</m-b></td>\n",
    "            <td>PurePosixPath、Path</td>\n",
    "            <td>非Windows向けの具象パスクラス</td>\n",
    "        </tr>\n",
    "        <tr>\n",
    "            <td><m-b>pathlib.WindowsPath</m-b></td>\n",
    "            <td>PureWindowsPath、Path</td>\n",
    "            <td>Windows向けの具象パスクラス</td>\n",
    "        </tr>\n",
    "    </tbody>\n",
    "</table>"
   ]
  },
  {
   "cell_type": "code",
   "execution_count": 3,
   "metadata": {},
   "outputs": [
    {
     "data": {
      "text/plain": [
       "WindowsPath('.')"
      ]
     },
     "execution_count": 3,
     "metadata": {},
     "output_type": "execute_result"
    }
   ],
   "source": [
    "# Windowsの場合\n",
    "from pathlib import Path\n",
    "Path() # モジュールがプラットフォームを認識する"
   ]
  },
  {
   "cell_type": "code",
   "execution_count": 9,
   "metadata": {},
   "outputs": [
    {
     "name": "stdout",
     "output_type": "stream",
     "text": [
      "spam.txt\n",
      "<class 'pathlib.PureWindowsPath'>\n",
      ".\n"
     ]
    }
   ],
   "source": [
    "# 純粋パス\n",
    "from pathlib import PurePath\n",
    "path = PurePath('spam.txt')\n",
    "print(path)\n",
    "print(type(path))\n",
    "print(PurePath())\n"
   ]
  },
  {
   "cell_type": "code",
   "execution_count": 10,
   "metadata": {},
   "outputs": [
    {
     "name": "stdout",
     "output_type": "stream",
     "text": [
      "spam\\ham\\egg\\.hoge\n",
      "aa\\bb\\cc\\dd\n",
      "xxx\\yyy\\zzz\n"
     ]
    }
   ],
   "source": [
    "# パスの結合\n",
    "from pathlib import Path, PurePath\n",
    "print(PurePath('spam', 'ham', 'egg', '.hoge'))\n",
    "print(PurePath('aa/bb', 'cc\\dd'))\n",
    "print(PurePath(PurePath('xxx'), 'yyy', Path('zzz')))\n"
   ]
  },
  {
   "cell_type": "code",
   "execution_count": 12,
   "metadata": {},
   "outputs": [
    {
     "name": "stdout",
     "output_type": "stream",
     "text": [
      "spam\\ham\\egg\n",
      "<class 'pathlib.WindowsPath'>\n",
      "spam\\ham\\egg\n",
      "<class 'pathlib.PureWindowsPath'>\n"
     ]
    }
   ],
   "source": [
    "# /演算子の使用\n",
    "from pathlib import Path, PurePath\n",
    "path = Path('spam') / 'ham' / PurePath('egg')\n",
    "print(path)\n",
    "print(type(path))\n",
    "path = 'spam' / PurePath('ham') / Path('egg')\n",
    "print(path)\n",
    "print(type(path))\n"
   ]
  },
  {
   "cell_type": "code",
   "execution_count": 22,
   "metadata": {},
   "outputs": [
    {
     "name": "stdout",
     "output_type": "stream",
     "text": [
      "各要素: ('c:\\\\', 'hoge', 'fuga', 'piyo.txt')\n",
      "ドライブ: c:\n",
      "ルート: \\\n",
      "ドライブとルートを結合: c:\\\n",
      "上位パスにアクセスできるシーケンス: <PureWindowsPath.parents>\n",
      "パスの直接の上位パス: c:\\hoge\\fuga\n",
      "パスの末尾要素: piyo.txt\n",
      "末尾要素の拡張子: .txt\n",
      "末尾要素の拡張子をリストで: ['.txt']\n",
      "末尾要素から拡張子を除いたもの: piyo\n"
     ]
    }
   ],
   "source": [
    "# PurePathのインスタンス変数\n",
    "from pathlib import PurePath\n",
    "path = PurePath('c://hoge', 'fuga', 'piyo.txt')\n",
    "print(f'各要素: {path.parts}')\n",
    "print(f'ドライブ: {path.drive}')\n",
    "print(f'ルート: {path.root}')\n",
    "print(f'ドライブとルートを結合: {path.anchor}')\n",
    "print(f'上位パスにアクセスできるシーケンス: {path.parents}')\n",
    "print(f'パスの直接の上位パス: {path.parent}')\n",
    "print(f'パスの末尾要素: {path.name}')\n",
    "print(f'末尾要素の拡張子: {path.suffix}')\n",
    "print(f'末尾要素の拡張子をリストで: {path.suffixes}')\n",
    "print(f'末尾要素から拡張子を除いたもの: {path.stem}')\n"
   ]
  },
  {
   "cell_type": "code",
   "execution_count": 48,
   "metadata": {},
   "outputs": [
    {
     "name": "stdout",
     "output_type": "stream",
     "text": [
      "False\n",
      "True\n",
      "\n",
      "True\n",
      "False\n",
      "\n",
      "True\n",
      "True\n",
      "False\n",
      "False\n"
     ]
    }
   ],
   "source": [
    "# PurePathの判定メソッド\n",
    "from pathlib import PurePath\n",
    "\n",
    "# 絶対パスか判定\n",
    "print(PurePath.is_absolute(PurePath('hoge', 'fuga')))\n",
    "print(PurePath.is_absolute(PurePath('c:/', 'hoge', 'fuga')))\n",
    "print()\n",
    "\n",
    "# 引数に対して相対パスか判定\n",
    "print(PurePath.is_relative_to(PurePath('hoge', 'fuga', 'piyo'), PurePath('hoge', 'fuga')))\n",
    "print(PurePath.is_relative_to(PurePath('/hoge', 'fuga', 'piyo'), PurePath('hoge', 'fuga')))\n",
    "print()\n",
    "\n",
    "# パスがglob形式のパターンを満たすか判定\n",
    "print(PurePath('/hoge/fuga/piyo.txt').match('**/piyo*'))\n",
    "print(PurePath('/hoge/fuga/piyo.txt').match('**/*.txt'))\n",
    "print(PurePath('/hoge/fuga/piyo.txt').match('/**/*.txt'))\n",
    "print(PurePath('/hoge/fuga/piyo.txt').match('/hoge/*.txt'))\n"
   ]
  },
  {
   "cell_type": "code",
   "execution_count": 55,
   "metadata": {},
   "outputs": [
    {
     "name": "stdout",
     "output_type": "stream",
     "text": [
      "\\hoge\\fuga\\tmp.py\n",
      "\\hoge\\fuga\\tmp.py.txt\n",
      "\\hoge\\fuga\\piyo.py\n"
     ]
    },
    {
     "ename": "ValueError",
     "evalue": "Invalid suffix 'tmp.py'",
     "output_type": "error",
     "traceback": [
      "\u001b[1;31m---------------------------------------------------------------------------\u001b[0m",
      "\u001b[1;31mValueError\u001b[0m                                Traceback (most recent call last)",
      "Cell \u001b[1;32mIn[55], line 6\u001b[0m\n\u001b[0;32m      4\u001b[0m \u001b[38;5;28mprint\u001b[39m(PurePath(\u001b[38;5;124m'\u001b[39m\u001b[38;5;124m/hoge/fuga/piyo.txt\u001b[39m\u001b[38;5;124m'\u001b[39m)\u001b[38;5;241m.\u001b[39mwith_stem(\u001b[38;5;124m'\u001b[39m\u001b[38;5;124mtmp.py\u001b[39m\u001b[38;5;124m'\u001b[39m))\n\u001b[0;32m      5\u001b[0m \u001b[38;5;28mprint\u001b[39m(PurePath(\u001b[38;5;124m'\u001b[39m\u001b[38;5;124m/hoge/fuga/piyo.txt\u001b[39m\u001b[38;5;124m'\u001b[39m)\u001b[38;5;241m.\u001b[39mwith_suffix(\u001b[38;5;124m'\u001b[39m\u001b[38;5;124m.py\u001b[39m\u001b[38;5;124m'\u001b[39m))\n\u001b[1;32m----> 6\u001b[0m \u001b[38;5;28mprint\u001b[39m(\u001b[43mPurePath\u001b[49m\u001b[43m(\u001b[49m\u001b[38;5;124;43m'\u001b[39;49m\u001b[38;5;124;43m/hoge/fuga/piyo.txt\u001b[39;49m\u001b[38;5;124;43m'\u001b[39;49m\u001b[43m)\u001b[49m\u001b[38;5;241;43m.\u001b[39;49m\u001b[43mwith_suffix\u001b[49m\u001b[43m(\u001b[49m\u001b[38;5;124;43m'\u001b[39;49m\u001b[38;5;124;43mtmp.py\u001b[39;49m\u001b[38;5;124;43m'\u001b[39;49m\u001b[43m)\u001b[49m)\n",
      "File \u001b[1;32mC:\\Program Files\\WindowsApps\\PythonSoftwareFoundation.Python.3.11_3.11.2032.0_x64__qbz5n2kfra8p0\\Lib\\pathlib.py:691\u001b[0m, in \u001b[0;36mPurePath.with_suffix\u001b[1;34m(self, suffix)\u001b[0m\n\u001b[0;32m    689\u001b[0m     \u001b[38;5;28;01mraise\u001b[39;00m \u001b[38;5;167;01mValueError\u001b[39;00m(\u001b[38;5;124m\"\u001b[39m\u001b[38;5;124mInvalid suffix \u001b[39m\u001b[38;5;132;01m%r\u001b[39;00m\u001b[38;5;124m\"\u001b[39m \u001b[38;5;241m%\u001b[39m (suffix,))\n\u001b[0;32m    690\u001b[0m \u001b[38;5;28;01mif\u001b[39;00m suffix \u001b[38;5;129;01mand\u001b[39;00m \u001b[38;5;129;01mnot\u001b[39;00m suffix\u001b[38;5;241m.\u001b[39mstartswith(\u001b[38;5;124m'\u001b[39m\u001b[38;5;124m.\u001b[39m\u001b[38;5;124m'\u001b[39m) \u001b[38;5;129;01mor\u001b[39;00m suffix \u001b[38;5;241m==\u001b[39m \u001b[38;5;124m'\u001b[39m\u001b[38;5;124m.\u001b[39m\u001b[38;5;124m'\u001b[39m:\n\u001b[1;32m--> 691\u001b[0m     \u001b[38;5;28;01mraise\u001b[39;00m \u001b[38;5;167;01mValueError\u001b[39;00m(\u001b[38;5;124m\"\u001b[39m\u001b[38;5;124mInvalid suffix \u001b[39m\u001b[38;5;132;01m%r\u001b[39;00m\u001b[38;5;124m\"\u001b[39m \u001b[38;5;241m%\u001b[39m (suffix))\n\u001b[0;32m    692\u001b[0m name \u001b[38;5;241m=\u001b[39m \u001b[38;5;28mself\u001b[39m\u001b[38;5;241m.\u001b[39mname\n\u001b[0;32m    693\u001b[0m \u001b[38;5;28;01mif\u001b[39;00m \u001b[38;5;129;01mnot\u001b[39;00m name:\n",
      "\u001b[1;31mValueError\u001b[0m: Invalid suffix 'tmp.py'"
     ]
    }
   ],
   "source": [
    "# PurePathの書き換えメソッド\n",
    "from pathlib import PurePath\n",
    "print(PurePath('/hoge/fuga/piyo.txt').with_name('tmp.py'))\n",
    "print(PurePath('/hoge/fuga/piyo.txt').with_stem('tmp.py'))\n",
    "print(PurePath('/hoge/fuga/piyo.txt').with_suffix('.py'))\n",
    "print(PurePath('/hoge/fuga/piyo.txt').with_suffix('tmp.py'))\n"
   ]
  },
  {
   "cell_type": "markdown",
   "metadata": {},
   "source": [
    "### 具象パスを扱うPath\n",
    "\n",
    "具象パスを扱うクラスは実際にファイルシステムにアクセスするため、基本的にOS上に捜査対象のファイルが存在する必要がある。\n",
    "\n",
    "### Pathクラスの主なメソッド\n",
    "\n",
    "<table>\n",
    "    <thead>\n",
    "        <tr>\n",
    "            <th>メソッド</th>\n",
    "            <th>戻り値</th>\n",
    "            <th>説明</th>\n",
    "        </tr>\n",
    "    </thead>\n",
    "    <tbody>\n",
    "        <tr>\n",
    "            <td><m-b>Path.cwd()</m-b></td>\n",
    "            <td><m-b>Pathオブジェクト</m-b></td>\n",
    "            <td>現在のディレクトリを取得する</td>\n",
    "        </tr>\n",
    "        <tr>\n",
    "            <td><m-b>Path.home()</m-b></td>\n",
    "            <td><m-b>Pathオブジェクト</m-b></td>\n",
    "            <td>ユーザのホームディレクトリを取得する</td>\n",
    "        </tr>\n",
    "        <tr>\n",
    "            <td><m-b>Path.stat()</m-b></td>\n",
    "            <td><m-b>os.stat_resultオブジェクト</m-b></td>\n",
    "            <td>ファイルの各種情報を取得する</td>\n",
    "        </tr>\n",
    "        <tr>\n",
    "            <td><m-b>Path.chmod(mode)</m-b></td>\n",
    "            <td><m-b>None</m-b></td>\n",
    "            <td>パスのパーミッションを変更する</td>\n",
    "        </tr>\n",
    "        <tr>\n",
    "            <td><m-b>Path.exists()</m-b></td>\n",
    "            <td><m-b>bool</m-b></td>\n",
    "            <td>パスが存在するか取得する</td>\n",
    "        </tr>\n",
    "        <tr>\n",
    "            <td><m-b>Path.glob(pattern)</m-b></td>\n",
    "            <td><m-b>ジェネレータ</m-b></td>\n",
    "            <td>パスがさすディレクトリ下からglobパターンに一致するパスをジェネレータで取得する</td>\n",
    "        </tr>\n",
    "        <tr>\n",
    "            <td><m-b>Path.is_dir()</m-b></td>\n",
    "            <td><m-b>bool</m-b></td>\n",
    "            <td>パスがディレクトリか取得する</td>\n",
    "        </tr>\n",
    "        <tr>\n",
    "            <td><m-b>Path.is_file()</m-b></td>\n",
    "            <td><m-b>bool</m-b></td>\n",
    "            <td>パスがファイルか取得する</td>\n",
    "        </tr>\n",
    "        <tr>\n",
    "            <td><m-b>Path.iterdir()</m-b></td>\n",
    "            <td><m-b>ジェネレータ</m-b></td>\n",
    "            <td>パス配下に存在するパスの一覧をジェネレータで取得する</td>\n",
    "        </tr>\n",
    "        <tr>\n",
    "            <td><m-b>\n",
    "                Path.mkdir(mode=0o777,<br>\n",
    "                    parent=False, exist_ok=False)\n",
    "            </m-b></td>\n",
    "            <td><m-b>None</m-b></td>\n",
    "            <td>パスを新しいディレクトリとして作成する</td>\n",
    "        </tr>\n",
    "        <tr>\n",
    "            <td><m-b>\n",
    "                Path.open(mode='r', buffering=-1, encoding=None,<br>\n",
    "                    errors=None, newline=None)\n",
    "            </m-b></td>\n",
    "            <td><m-b>ファイルオブジェクト</m-b></td>\n",
    "            <td>open()関数と同様にファイルを開く</td>\n",
    "        </tr>\n",
    "        <tr>\n",
    "            <td><m-b>Path.read_text(encoding=None, errors=None)</m-b></td>\n",
    "            <td><m-b>文字列</m-b></td>\n",
    "            <td>ファイル内容を文字列として取得する</td>\n",
    "        </tr>\n",
    "        <tr>\n",
    "            <td><m-b>Path.rename(target)</m-b></td>\n",
    "            <td><m-b>None</m-b></td>\n",
    "            <td>\n",
    "                パスの名前を変更する<br>\n",
    "                引数のtargetには文字列かほかのPathオブジェクトを指定する。\n",
    "            </td>\n",
    "        </tr>\n",
    "        <tr>\n",
    "            <td><m-b>Path.resolve(strict=False)</m-b></td>\n",
    "            <td><m-b>Pathオブジェクト</m-b></td>\n",
    "            <td>パスを絶対パスにし、シンボリックリンクを解決する</td>\n",
    "        </tr>\n",
    "        <tr>\n",
    "            <td><m-b>Path.rmdir()</m-b></td>\n",
    "            <td><m-b>None</m-b></td>\n",
    "            <td>ディレクトリを削除する</td>\n",
    "        </tr>\n",
    "        <tr>\n",
    "            <td><m-b>Path.touch(mode=0o666, exist_ok=True)</m-b></td>\n",
    "            <td><m-b>None</m-b></td>\n",
    "            <td>\n",
    "                パスにファイルが存在しなければファイルを作成する<br>\n",
    "                ファイルが存在すれば更新日時を現在日時に変更する。\n",
    "            </td>\n",
    "        </tr>\n",
    "        <tr>\n",
    "            <td><m-b>Path.unlink(missing_ok=False)</m-b></td>\n",
    "            <td><m-b>None</m-b></td>\n",
    "            <td>パスのファイルを削除する</td>\n",
    "        </tr>\n",
    "        <tr>\n",
    "            <td><m-b>Path.write_text(data, encoding=None, errors=None)</m-b></td>\n",
    "            <td><m-b>int</m-b></td>\n",
    "            <td>ファイルにdataを書き込み、書き込んだ文字数を取得する</td>\n",
    "        </tr>\n",
    "    </tbody>\n",
    "</table>\n"
   ]
  },
  {
   "cell_type": "code",
   "execution_count": 57,
   "metadata": {},
   "outputs": [
    {
     "name": "stdout",
     "output_type": "stream",
     "text": [
      "c:\\Users\\kgrmr\\OneDrive\\ドキュメント\\GitHub\\python-certified-practical-practice\\11_ファイルとディレクトリへのアクセス\n",
      "<class 'pathlib.WindowsPath'>\n",
      "C:\\Users\\kgrmr\n"
     ]
    }
   ],
   "source": [
    "from pathlib import Path\n",
    "cwd = Path.cwd()\n",
    "print(cwd)\n",
    "print(type(cwd))\n",
    "home = Path.home()\n",
    "print(home)"
   ]
  },
  {
   "cell_type": "code",
   "execution_count": 61,
   "metadata": {},
   "outputs": [
    {
     "name": "stdout",
     "output_type": "stream",
     "text": [
      "True\n",
      "None\n",
      "True\n",
      "True\n",
      "os.stat_result(st_mode=16895, st_ino=10414574138893722, st_dev=2930455130, st_nlink=1, st_uid=0, st_gid=0, st_size=0, st_atime=1702216253, st_mtime=1702216223, st_ctime=1702216223)\n"
     ]
    }
   ],
   "source": [
    "from pathlib import Path\n",
    "dir = Path('./tmp')\n",
    "print(dir.exists())\n",
    "print(dir.mkdir(exist_ok=True))\n",
    "print(dir.exists())\n",
    "print(dir.is_dir())\n",
    "print(dir.stat())\n"
   ]
  },
  {
   "cell_type": "code",
   "execution_count": 73,
   "metadata": {},
   "outputs": [
    {
     "name": "stdout",
     "output_type": "stream",
     "text": [
      "tmp\\hoge.txt\n",
      "False\n",
      "False\n",
      "None\n",
      "True\n",
      "True\n",
      "os.stat_result(st_mode=33206, st_ino=7318349395076784, st_dev=2930455130, st_nlink=1, st_uid=0, st_gid=0, st_size=0, st_atime=1702216546, st_mtime=1702216546, st_ctime=1702216348)\n",
      "C:\\Users\\kgrmr\\OneDrive\\ドキュメント\\GitHub\\python-certified-practical-practice\\11_ファイルとディレクトリへのアクセス\\tmp\\hoge.txt\n"
     ]
    }
   ],
   "source": [
    "from pathlib import Path\n",
    "dir = Path('./tmp')\n",
    "file = Path('hoge.txt')\n",
    "file = dir / file\n",
    "print(file)\n",
    "print(file.exists())\n",
    "print(file.is_file())\n",
    "print(file.touch())\n",
    "print(file.exists())\n",
    "print(file.is_file())\n",
    "print(file.stat())\n",
    "print(file.resolve())\n"
   ]
  },
  {
   "cell_type": "code",
   "execution_count": 78,
   "metadata": {},
   "outputs": [
    {
     "name": "stdout",
     "output_type": "stream",
     "text": [
      "None\n",
      "12\n",
      "hogehogehoge\n",
      "os.stat_result(st_mode=33206, st_ino=7318349395076784, st_dev=2930455130, st_nlink=1, st_uid=0, st_gid=0, st_size=12, st_atime=1702216665, st_mtime=1702216665, st_ctime=1702216348)\n"
     ]
    }
   ],
   "source": [
    "from pathlib import Path\n",
    "file = Path('./tmp/hoge.txt')\n",
    "print(file.chmod(0o333))\n",
    "print(file.write_text('hogehogehoge', encoding='utf-8'))\n",
    "print(file.read_text())\n",
    "print(file.stat())\n"
   ]
  },
  {
   "cell_type": "code",
   "execution_count": 87,
   "metadata": {},
   "outputs": [
    {
     "name": "stdout",
     "output_type": "stream",
     "text": [
      "tmp\\fuga.txt\n",
      "tmp\\fuga.txt\n",
      "tmp\\fugafuga.txt\n",
      "None\n",
      "False\n",
      "\n",
      "tmp\\hoge.txt\n",
      "tmp\\hoge.txt\n",
      "tmp\\hogehoge.txt\n",
      "None\n",
      "False\n",
      "\n"
     ]
    }
   ],
   "source": [
    "from pathlib import Path\n",
    "hoge = Path('./tmp/hoge.txt')\n",
    "fuga = Path('./tmp/fuga.txt')\n",
    "hoge.touch()\n",
    "fuga.touch()\n",
    "for f in Path('./tmp').iterdir():\n",
    "    print(f)\n",
    "    g = f.rename(f.with_stem(f.stem * 2))\n",
    "    print(f)\n",
    "    print(g)\n",
    "    print(g.unlink())\n",
    "    print(g.is_file())\n",
    "    print()\n"
   ]
  },
  {
   "cell_type": "code",
   "execution_count": 88,
   "metadata": {},
   "outputs": [
    {
     "ename": "FileNotFoundError",
     "evalue": "[Errno 2] No such file or directory: 'no file'",
     "output_type": "error",
     "traceback": [
      "\u001b[1;31m---------------------------------------------------------------------------\u001b[0m",
      "\u001b[1;31mFileNotFoundError\u001b[0m                         Traceback (most recent call last)",
      "Cell \u001b[1;32mIn[88], line 4\u001b[0m\n\u001b[0;32m      2\u001b[0m \u001b[38;5;28;01mfrom\u001b[39;00m \u001b[38;5;21;01mpathlib\u001b[39;00m \u001b[38;5;28;01mimport\u001b[39;00m Path\n\u001b[0;32m      3\u001b[0m tar \u001b[38;5;241m=\u001b[39m Path(\u001b[38;5;124m'\u001b[39m\u001b[38;5;124mno file\u001b[39m\u001b[38;5;124m'\u001b[39m)\n\u001b[1;32m----> 4\u001b[0m \u001b[43mtar\u001b[49m\u001b[38;5;241;43m.\u001b[39;49m\u001b[43mread_text\u001b[49m\u001b[43m(\u001b[49m\u001b[43m)\u001b[49m\n",
      "File \u001b[1;32mC:\\Program Files\\WindowsApps\\PythonSoftwareFoundation.Python.3.11_3.11.2032.0_x64__qbz5n2kfra8p0\\Lib\\pathlib.py:1058\u001b[0m, in \u001b[0;36mPath.read_text\u001b[1;34m(self, encoding, errors)\u001b[0m\n\u001b[0;32m   1054\u001b[0m \u001b[38;5;250m\u001b[39m\u001b[38;5;124;03m\"\"\"\u001b[39;00m\n\u001b[0;32m   1055\u001b[0m \u001b[38;5;124;03mOpen the file in text mode, read it, and close the file.\u001b[39;00m\n\u001b[0;32m   1056\u001b[0m \u001b[38;5;124;03m\"\"\"\u001b[39;00m\n\u001b[0;32m   1057\u001b[0m encoding \u001b[38;5;241m=\u001b[39m io\u001b[38;5;241m.\u001b[39mtext_encoding(encoding)\n\u001b[1;32m-> 1058\u001b[0m \u001b[38;5;28;01mwith\u001b[39;00m \u001b[38;5;28;43mself\u001b[39;49m\u001b[38;5;241;43m.\u001b[39;49m\u001b[43mopen\u001b[49m\u001b[43m(\u001b[49m\u001b[43mmode\u001b[49m\u001b[38;5;241;43m=\u001b[39;49m\u001b[38;5;124;43m'\u001b[39;49m\u001b[38;5;124;43mr\u001b[39;49m\u001b[38;5;124;43m'\u001b[39;49m\u001b[43m,\u001b[49m\u001b[43m \u001b[49m\u001b[43mencoding\u001b[49m\u001b[38;5;241;43m=\u001b[39;49m\u001b[43mencoding\u001b[49m\u001b[43m,\u001b[49m\u001b[43m \u001b[49m\u001b[43merrors\u001b[49m\u001b[38;5;241;43m=\u001b[39;49m\u001b[43merrors\u001b[49m\u001b[43m)\u001b[49m \u001b[38;5;28;01mas\u001b[39;00m f:\n\u001b[0;32m   1059\u001b[0m     \u001b[38;5;28;01mreturn\u001b[39;00m f\u001b[38;5;241m.\u001b[39mread()\n",
      "File \u001b[1;32mC:\\Program Files\\WindowsApps\\PythonSoftwareFoundation.Python.3.11_3.11.2032.0_x64__qbz5n2kfra8p0\\Lib\\pathlib.py:1044\u001b[0m, in \u001b[0;36mPath.open\u001b[1;34m(self, mode, buffering, encoding, errors, newline)\u001b[0m\n\u001b[0;32m   1042\u001b[0m \u001b[38;5;28;01mif\u001b[39;00m \u001b[38;5;124m\"\u001b[39m\u001b[38;5;124mb\u001b[39m\u001b[38;5;124m\"\u001b[39m \u001b[38;5;129;01mnot\u001b[39;00m \u001b[38;5;129;01min\u001b[39;00m mode:\n\u001b[0;32m   1043\u001b[0m     encoding \u001b[38;5;241m=\u001b[39m io\u001b[38;5;241m.\u001b[39mtext_encoding(encoding)\n\u001b[1;32m-> 1044\u001b[0m \u001b[38;5;28;01mreturn\u001b[39;00m io\u001b[38;5;241m.\u001b[39mopen(\u001b[38;5;28mself\u001b[39m, mode, buffering, encoding, errors, newline)\n",
      "\u001b[1;31mFileNotFoundError\u001b[0m: [Errno 2] No such file or directory: 'no file'"
     ]
    }
   ],
   "source": [
    "# ファイルが存在しない場合\n",
    "from pathlib import Path\n",
    "tar = Path('no file')\n",
    "tar.read_text()"
   ]
  },
  {
   "cell_type": "code",
   "execution_count": 96,
   "metadata": {},
   "outputs": [
    {
     "name": "stdout",
     "output_type": "stream",
     "text": [
      "[WinError 3] 指定されたパスが見つかりません。: 'hoge\\\\fuga\\\\piyo'\n",
      "False\n",
      "True\n"
     ]
    }
   ],
   "source": [
    "# ディレクトリの再帰的作成\n",
    "from pathlib import Path\n",
    "\n",
    "tar = Path(\"hoge/fuga/piyo/\")\n",
    "try:\n",
    "    tar.mkdir()\n",
    "except FileNotFoundError as ex:\n",
    "    print(ex)\n",
    "finally:\n",
    "    print(tar.is_dir())\n",
    "\n",
    "try:\n",
    "    tar.mkdir(parents=True, exist_ok=True)\n",
    "except FileNotFoundError as ex:\n",
    "    print(ex)\n",
    "finally:\n",
    "    print(tar.is_dir())\n",
    "\n",
    "if tar.exists:\n",
    "    Path(\"hoge/fuga/piyo/\").rmdir()\n",
    "    Path(\"hoge/fuga/\").rmdir()\n",
    "    Path(\"hoge/\").rmdir()\n"
   ]
  }
 ],
 "metadata": {
  "kernelspec": {
   "display_name": "Python 3",
   "language": "python",
   "name": "python3"
  },
  "language_info": {
   "codemirror_mode": {
    "name": "ipython",
    "version": 3
   },
   "file_extension": ".py",
   "mimetype": "text/x-python",
   "name": "python",
   "nbconvert_exporter": "python",
   "pygments_lexer": "ipython3",
   "version": "3.11.7"
  }
 },
 "nbformat": 4,
 "nbformat_minor": 2
}
