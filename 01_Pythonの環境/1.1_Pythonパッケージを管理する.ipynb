{
 "cells": [
  {
   "cell_type": "markdown",
   "metadata": {},
   "source": [
    "## 概要\n",
    "\n",
    "<m-b>PyPI</m-b>: <m-b>Python Package Index</m-b>の略で、pip用のリポジトリ"
   ]
  },
  {
   "cell_type": "markdown",
   "metadata": {},
   "source": [
    "## 導入方法\n",
    "\n",
    "Python3.4以降の環境では、次のモジュールを使用することでpipをインストールすることができる。\n",
    "\n",
    "<pre><code>\n",
    "python -m <m-b>ensurepip</m-b>\n",
    "</code></pre>"
   ]
  },
  {
   "cell_type": "markdown",
   "metadata": {},
   "source": [
    "## 使い方\n",
    "\n",
    "### バージョンを指定してインストール\n",
    "\n",
    "<pre><code>\n",
    "pip install <m-b>パッケージ名==バージョン</m-b>\n",
    "</code></pre>\n",
    "\n",
    "### バージョンを範囲指定してインストール\n",
    "\n",
    "範囲内の最新バージョンをインストールする。\n",
    "<pre><code>\n",
    "pip install <m-b>パッケージ名>=バージョン下限,&lt;バージョン上限</m-b>\n",
    "</code></pre>\n",
    "\n",
    "### インストール済みパッケージのアップグレード\n",
    "\n",
    "<pre><code>\n",
    "pip <m-b>-U install</m-b> パッケージ名\n",
    "</code></pre>\n",
    "\n",
    "### pip自体のアップグレード\n",
    "\n",
    "<pre><code>\n",
    "python -m pip <m-b>install --upgrade pip</m-b>\n",
    "</code></pre>\n",
    "\n",
    "### インストールされているパッケージとバージョンを確認\n",
    "\n",
    "<pre><code>\n",
    "pip <m-b>list</m-b>\n",
    "</code></pre>\n",
    "\n",
    "### 最新バージョンでないパッケージのみ確認\n",
    "\n",
    "<pre><code>\n",
    "pip <m-b>list --outdated</m-b>\n",
    "</code></pre>\n",
    "\n",
    "### パッケージのアンインストール\n",
    "\n",
    "<pre><code>\n",
    "pip <m-b>uninstall パッケージ名</m-b>\n",
    "</code></pre>"
   ]
  }
 ],
 "metadata": {
  "language_info": {
   "name": "python"
  }
 },
 "nbformat": 4,
 "nbformat_minor": 2
}
