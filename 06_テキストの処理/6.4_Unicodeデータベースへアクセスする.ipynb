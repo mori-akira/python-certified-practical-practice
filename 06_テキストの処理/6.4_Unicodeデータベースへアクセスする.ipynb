{
 "cells": [
  {
   "cell_type": "code",
   "execution_count": 9,
   "metadata": {},
   "outputs": [
    {
     "name": "stdout",
     "output_type": "stream",
     "text": [
      "a\n",
      "🍺\n"
     ]
    },
    {
     "ename": "KeyError",
     "evalue": "\"undefined character name 'UNKNOWN'\"",
     "output_type": "error",
     "traceback": [
      "\u001b[1;31m---------------------------------------------------------------------------\u001b[0m",
      "\u001b[1;31mKeyError\u001b[0m                                  Traceback (most recent call last)",
      "\u001b[1;32mc:\\Users\\kgrmr\\OneDrive\\ドキュメント\\GitHub\\python-certified-practical-practice\\06_テキストの処理\\6.4_Unicodeデータベースへアクセスする-unicodedata.ipynb Cell 1\u001b[0m line \u001b[0;36m5\n\u001b[0;32m      <a href='vscode-notebook-cell:/c%3A/Users/kgrmr/OneDrive/%E3%83%89%E3%82%AD%E3%83%A5%E3%83%A1%E3%83%B3%E3%83%88/GitHub/python-certified-practical-practice/06_%E3%83%86%E3%82%AD%E3%82%B9%E3%83%88%E3%81%AE%E5%87%A6%E7%90%86/6.4_Unicode%E3%83%87%E3%83%BC%E3%82%BF%E3%83%99%E3%83%BC%E3%82%B9%E3%81%B8%E3%82%A2%E3%82%AF%E3%82%BB%E3%82%B9%E3%81%99%E3%82%8B-unicodedata.ipynb#W0sZmlsZQ%3D%3D?line=2'>3</a>\u001b[0m \u001b[39mprint\u001b[39m(unicodedata\u001b[39m.\u001b[39mlookup(\u001b[39m'\u001b[39m\u001b[39mLatin Small Letter a\u001b[39m\u001b[39m'\u001b[39m))\n\u001b[0;32m      <a href='vscode-notebook-cell:/c%3A/Users/kgrmr/OneDrive/%E3%83%89%E3%82%AD%E3%83%A5%E3%83%A1%E3%83%B3%E3%83%88/GitHub/python-certified-practical-practice/06_%E3%83%86%E3%82%AD%E3%82%B9%E3%83%88%E3%81%AE%E5%87%A6%E7%90%86/6.4_Unicode%E3%83%87%E3%83%BC%E3%82%BF%E3%83%99%E3%83%BC%E3%82%B9%E3%81%B8%E3%82%A2%E3%82%AF%E3%82%BB%E3%82%B9%E3%81%99%E3%82%8B-unicodedata.ipynb#W0sZmlsZQ%3D%3D?line=3'>4</a>\u001b[0m \u001b[39mprint\u001b[39m(unicodedata\u001b[39m.\u001b[39mlookup(\u001b[39m'\u001b[39m\u001b[39mBEER MUG\u001b[39m\u001b[39m'\u001b[39m))\n\u001b[1;32m----> <a href='vscode-notebook-cell:/c%3A/Users/kgrmr/OneDrive/%E3%83%89%E3%82%AD%E3%83%A5%E3%83%A1%E3%83%B3%E3%83%88/GitHub/python-certified-practical-practice/06_%E3%83%86%E3%82%AD%E3%82%B9%E3%83%88%E3%81%AE%E5%87%A6%E7%90%86/6.4_Unicode%E3%83%87%E3%83%BC%E3%82%BF%E3%83%99%E3%83%BC%E3%82%B9%E3%81%B8%E3%82%A2%E3%82%AF%E3%82%BB%E3%82%B9%E3%81%99%E3%82%8B-unicodedata.ipynb#W0sZmlsZQ%3D%3D?line=4'>5</a>\u001b[0m \u001b[39mprint\u001b[39m(unicodedata\u001b[39m.\u001b[39;49mlookup(\u001b[39m'\u001b[39;49m\u001b[39mUNKNOWN\u001b[39;49m\u001b[39m'\u001b[39;49m))\n",
      "\u001b[1;31mKeyError\u001b[0m: \"undefined character name 'UNKNOWN'\""
     ]
    }
   ],
   "source": [
    "import unicodedata\n",
    "\n",
    "print(unicodedata.lookup('Latin Small Letter a'))\n",
    "print(unicodedata.lookup('BEER MUG'))\n",
    "print(unicodedata.lookup('UNKNOWN'))"
   ]
  },
  {
   "cell_type": "code",
   "execution_count": 17,
   "metadata": {},
   "outputs": [
    {
     "name": "stdout",
     "output_type": "stream",
     "text": [
      "LATIN SMALL LETTER A\n",
      "HIRAGANA LETTER KO\n",
      "BLACK DIAMOND\n",
      "PER TEN THOUSAND SIGN\n",
      "SMILING FACE WITH SMILING EYES\n"
     ]
    }
   ],
   "source": [
    "import unicodedata\n",
    "\n",
    "print(unicodedata.name('a'))\n",
    "print(unicodedata.name('こ'))\n",
    "print(unicodedata.name('◆'))\n",
    "print(unicodedata.name('‱'))\n",
    "print(unicodedata.name('😊', 'default'))"
   ]
  },
  {
   "cell_type": "code",
   "execution_count": 19,
   "metadata": {},
   "outputs": [
    {
     "name": "stdout",
     "output_type": "stream",
     "text": [
      "ｱアAＡ!！@＠\n",
      "アアAA!!@@\n",
      "㌧㌦\n",
      "トンドル\n"
     ]
    }
   ],
   "source": [
    "# Unicode文字列の正規化\n",
    "import unicodedata\n",
    "\n",
    "print(unicodedata.normalize('NFC', 'ｱアAＡ!！@＠'))\n",
    "print(unicodedata.normalize('NFKC', 'ｱアAＡ!！@＠'))\n",
    "print(unicodedata.normalize('NFC', '㌧㌦'))\n",
    "print(unicodedata.normalize('NFKC', '㌧㌦'))"
   ]
  },
  {
   "cell_type": "code",
   "execution_count": 21,
   "metadata": {},
   "outputs": [
    {
     "name": "stdout",
     "output_type": "stream",
     "text": [
      "が が\n",
      "b'\\xe3\\x81\\x8c' b'\\xe3\\x81\\x8b\\xe3\\x82\\x99'\n"
     ]
    }
   ],
   "source": [
    "import unicodedata\n",
    "\n",
    "nfkc = unicodedata.normalize('NFKC', 'が')\n",
    "nfkd = unicodedata.normalize('NFKD', 'が')\n",
    "print(nfkc, nfkd)\n",
    "print(nfkc.encode('utf-8'), nfkd.encode('utf-8'))"
   ]
  }
 ],
 "metadata": {
  "kernelspec": {
   "display_name": "Python 3",
   "language": "python",
   "name": "python3"
  },
  "language_info": {
   "codemirror_mode": {
    "name": "ipython",
    "version": 3
   },
   "file_extension": ".py",
   "mimetype": "text/x-python",
   "name": "python",
   "nbconvert_exporter": "python",
   "pygments_lexer": "ipython3",
   "version": "3.11.6"
  }
 },
 "nbformat": 4,
 "nbformat_minor": 2
}
