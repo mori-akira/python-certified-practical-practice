{
 "cells": [
  {
   "cell_type": "code",
   "execution_count": 7,
   "metadata": {},
   "outputs": [
    {
     "name": "stdout",
     "output_type": "stream",
     "text": [
      "hoge=abcdefg\n",
      "hoge='abcdefg'\n",
      "hoge=abcdefg   \n",
      "hoge=   abcdefg\n",
      "hoge= abcdefg  \n",
      "hoge=abcdefg___\n",
      "hoge=+++abcdefg\n"
     ]
    }
   ],
   "source": [
    "hoge = 'abcdefg'\n",
    "print(f'hoge={hoge}')\n",
    "print(f'{hoge=}')\n",
    "\n",
    "print(f'{hoge=:<10}')\n",
    "print(f'{hoge=:>10}')\n",
    "print(f'{hoge=:^10}')\n",
    "print(f'{hoge=:_<10}')\n",
    "print(f'{hoge=:+>10}')"
   ]
  },
  {
   "cell_type": "code",
   "execution_count": 15,
   "metadata": {},
   "outputs": [
    {
     "name": "stdout",
     "output_type": "stream",
     "text": [
      "666\n",
      "tar * 2=666\n",
      "101001101\n",
      "515\n",
      "333\n",
      "14d\n",
      "14D\n",
      "36,926,037\n"
     ]
    }
   ],
   "source": [
    "tar = 333\n",
    "print(f'{tar * 2}')\n",
    "print(f'{tar * 2=}')\n",
    "print(f'{tar:b}')\n",
    "print(f'{tar:o}')\n",
    "print(f'{tar:d}')\n",
    "print(f'{tar:x}')\n",
    "print(f'{tar:X}')\n",
    "print(f'{tar ** 3:,}')"
   ]
  },
  {
   "cell_type": "code",
   "execution_count": 24,
   "metadata": {},
   "outputs": [
    {
     "name": "stdout",
     "output_type": "stream",
     "text": [
      "round(tar, 2)=123.46\n",
      "3.141592653589793 3.141593\n",
      "12.345600%\n",
      "15241.383936 15241.384\n"
     ]
    }
   ],
   "source": [
    "import math\n",
    "tar = 123.456\n",
    "print(f'{round(tar, 2)=}')\n",
    "print(f'{math.pi} {math.pi:f}')\n",
    "print(f'{tar / 1000:%}')\n",
    "print(f'{tar * tar} {tar * tar:.3f}')"
   ]
  },
  {
   "cell_type": "code",
   "execution_count": 26,
   "metadata": {},
   "outputs": [
    {
     "name": "stdout",
     "output_type": "stream",
     "text": [
      "datetime.datetime.now()=2023/11/23 17=08=38\n"
     ]
    }
   ],
   "source": [
    "import datetime\n",
    "print(f'{datetime.datetime.now()=:%Y/%m/%d %H=%M=%S}')"
   ]
  },
  {
   "cell_type": "code",
   "execution_count": 29,
   "metadata": {},
   "outputs": [
    {
     "name": "stdout",
     "output_type": "stream",
     "text": [
      "2 * 3 = 6\n",
      "3 * 2 = 6\n",
      "2 * 3 = 6\n"
     ]
    },
    {
     "ename": "KeyError",
     "evalue": "'a'",
     "output_type": "error",
     "traceback": [
      "\u001b[1;31m---------------------------------------------------------------------------\u001b[0m",
      "\u001b[1;31mKeyError\u001b[0m                                  Traceback (most recent call last)",
      "\u001b[1;32mc:\\Users\\kgrmr\\OneDrive\\ドキュメント\\GitHub\\python-certified-practical-practice\\06_テキストの処理\\6.2_フォーマットと文字列列リテラル-f-string.ipynb Cell 5\u001b[0m line \u001b[0;36m5\n\u001b[0;32m      <a href='vscode-notebook-cell:/c%3A/Users/kgrmr/OneDrive/%E3%83%89%E3%82%AD%E3%83%A5%E3%83%A1%E3%83%B3%E3%83%88/GitHub/python-certified-practical-practice/06_%E3%83%86%E3%82%AD%E3%82%B9%E3%83%88%E3%81%AE%E5%87%A6%E7%90%86/6.2_%E3%83%95%E3%82%A9%E3%83%BC%E3%83%9E%E3%83%83%E3%83%88%E3%81%A8%E6%96%87%E5%AD%97%E5%88%97%E5%88%97%E3%83%AA%E3%83%86%E3%83%A9%E3%83%AB-f-string.ipynb#W4sZmlsZQ%3D%3D?line=2'>3</a>\u001b[0m \u001b[39mprint\u001b[39m(\u001b[39m'\u001b[39m\u001b[39m{1}\u001b[39;00m\u001b[39m * \u001b[39m\u001b[39m{0}\u001b[39;00m\u001b[39m = \u001b[39m\u001b[39m{2}\u001b[39;00m\u001b[39m'\u001b[39m\u001b[39m.\u001b[39mformat(\u001b[39m2\u001b[39m, \u001b[39m3\u001b[39m, \u001b[39m2\u001b[39m \u001b[39m*\u001b[39m \u001b[39m3\u001b[39m))\n\u001b[0;32m      <a href='vscode-notebook-cell:/c%3A/Users/kgrmr/OneDrive/%E3%83%89%E3%82%AD%E3%83%A5%E3%83%A1%E3%83%B3%E3%83%88/GitHub/python-certified-practical-practice/06_%E3%83%86%E3%82%AD%E3%82%B9%E3%83%88%E3%81%AE%E5%87%A6%E7%90%86/6.2_%E3%83%95%E3%82%A9%E3%83%BC%E3%83%9E%E3%83%83%E3%83%88%E3%81%A8%E6%96%87%E5%AD%97%E5%88%97%E5%88%97%E3%83%AA%E3%83%86%E3%83%A9%E3%83%AB-f-string.ipynb#W4sZmlsZQ%3D%3D?line=3'>4</a>\u001b[0m \u001b[39mprint\u001b[39m(\u001b[39m'\u001b[39m\u001b[39m{a}\u001b[39;00m\u001b[39m * \u001b[39m\u001b[39m{b}\u001b[39;00m\u001b[39m = \u001b[39m\u001b[39m{c}\u001b[39;00m\u001b[39m'\u001b[39m\u001b[39m.\u001b[39mformat(a\u001b[39m=\u001b[39m\u001b[39m2\u001b[39m, b\u001b[39m=\u001b[39m\u001b[39m3\u001b[39m, c\u001b[39m=\u001b[39m\u001b[39m2\u001b[39m \u001b[39m*\u001b[39m \u001b[39m3\u001b[39m))\n\u001b[1;32m----> <a href='vscode-notebook-cell:/c%3A/Users/kgrmr/OneDrive/%E3%83%89%E3%82%AD%E3%83%A5%E3%83%A1%E3%83%B3%E3%83%88/GitHub/python-certified-practical-practice/06_%E3%83%86%E3%82%AD%E3%82%B9%E3%83%88%E3%81%AE%E5%87%A6%E7%90%86/6.2_%E3%83%95%E3%82%A9%E3%83%BC%E3%83%9E%E3%83%83%E3%83%88%E3%81%A8%E6%96%87%E5%AD%97%E5%88%97%E5%88%97%E3%83%AA%E3%83%86%E3%83%A9%E3%83%AB-f-string.ipynb#W4sZmlsZQ%3D%3D?line=4'>5</a>\u001b[0m \u001b[39mprint\u001b[39m(\u001b[39m'\u001b[39;49m\u001b[39m{a}\u001b[39;49;00m\u001b[39m * \u001b[39;49m\u001b[39m{b}\u001b[39;49;00m\u001b[39m = \u001b[39;49m\u001b[39m{c}\u001b[39;49;00m\u001b[39m'\u001b[39;49m\u001b[39m.\u001b[39;49mformat(\u001b[39m2\u001b[39;49m, \u001b[39m3\u001b[39;49m, \u001b[39m2\u001b[39;49m \u001b[39m*\u001b[39;49m \u001b[39m3\u001b[39;49m))\n",
      "\u001b[1;31mKeyError\u001b[0m: 'a'"
     ]
    }
   ],
   "source": [
    "# format()メソッド\n",
    "print('{} * {} = {}'.format(2, 3, 2 * 3))\n",
    "print('{1} * {0} = {2}'.format(2, 3, 2 * 3))\n",
    "print('{a} * {b} = {c}'.format(a=2, b=3, c=2 * 3))\n",
    "print('{a} * {b} = {c}'.format(2, 3, 2 * 3))"
   ]
  },
  {
   "cell_type": "code",
   "execution_count": 39,
   "metadata": {},
   "outputs": [
    {
     "name": "stdout",
     "output_type": "stream",
     "text": [
      "Hello, % operator\n",
      "1 + 2 = 3\n",
      "Python is high functional and convenience\n",
      "3\n"
     ]
    },
    {
     "ename": "TypeError",
     "evalue": "%d format: a real number is required, not str",
     "output_type": "error",
     "traceback": [
      "\u001b[1;31m---------------------------------------------------------------------------\u001b[0m",
      "\u001b[1;31mTypeError\u001b[0m                                 Traceback (most recent call last)",
      "\u001b[1;32mc:\\Users\\kgrmr\\OneDrive\\ドキュメント\\GitHub\\python-certified-practical-practice\\06_テキストの処理\\6.2_フォーマットと文字列列リテラル-f-string.ipynb Cell 6\u001b[0m line \u001b[0;36m6\n\u001b[0;32m      <a href='vscode-notebook-cell:/c%3A/Users/kgrmr/OneDrive/%E3%83%89%E3%82%AD%E3%83%A5%E3%83%A1%E3%83%B3%E3%83%88/GitHub/python-certified-practical-practice/06_%E3%83%86%E3%82%AD%E3%82%B9%E3%83%88%E3%81%AE%E5%87%A6%E7%90%86/6.2_%E3%83%95%E3%82%A9%E3%83%BC%E3%83%9E%E3%83%83%E3%83%88%E3%81%A8%E6%96%87%E5%AD%97%E5%88%97%E5%88%97%E3%83%AA%E3%83%86%E3%83%A9%E3%83%AB-f-string.ipynb#W5sZmlsZQ%3D%3D?line=3'>4</a>\u001b[0m \u001b[39mprint\u001b[39m(\u001b[39m'\u001b[39m\u001b[39m%(hoge)s\u001b[39;00m\u001b[39m is \u001b[39m\u001b[39m%(fuga)s\u001b[39;00m\u001b[39m and \u001b[39m\u001b[39m%(piyo)s\u001b[39;00m\u001b[39m'\u001b[39m \u001b[39m%\u001b[39m {\u001b[39m'\u001b[39m\u001b[39mhoge\u001b[39m\u001b[39m'\u001b[39m: \u001b[39m'\u001b[39m\u001b[39mPython\u001b[39m\u001b[39m'\u001b[39m, \u001b[39m'\u001b[39m\u001b[39mfuga\u001b[39m\u001b[39m'\u001b[39m: \u001b[39m'\u001b[39m\u001b[39mhigh functional\u001b[39m\u001b[39m'\u001b[39m, \u001b[39m'\u001b[39m\u001b[39mpiyo\u001b[39m\u001b[39m'\u001b[39m: \u001b[39m'\u001b[39m\u001b[39mconvenience\u001b[39m\u001b[39m'\u001b[39m})\n\u001b[0;32m      <a href='vscode-notebook-cell:/c%3A/Users/kgrmr/OneDrive/%E3%83%89%E3%82%AD%E3%83%A5%E3%83%A1%E3%83%B3%E3%83%88/GitHub/python-certified-practical-practice/06_%E3%83%86%E3%82%AD%E3%82%B9%E3%83%88%E3%81%AE%E5%87%A6%E7%90%86/6.2_%E3%83%95%E3%82%A9%E3%83%BC%E3%83%9E%E3%83%83%E3%83%88%E3%81%A8%E6%96%87%E5%AD%97%E5%88%97%E5%88%97%E3%83%AA%E3%83%86%E3%83%A9%E3%83%AB-f-string.ipynb#W5sZmlsZQ%3D%3D?line=4'>5</a>\u001b[0m \u001b[39mprint\u001b[39m(\u001b[39m'\u001b[39m\u001b[39m%s\u001b[39;00m\u001b[39m'\u001b[39m\u001b[39m%\u001b[39m \u001b[39m3\u001b[39m)\n\u001b[1;32m----> <a href='vscode-notebook-cell:/c%3A/Users/kgrmr/OneDrive/%E3%83%89%E3%82%AD%E3%83%A5%E3%83%A1%E3%83%B3%E3%83%88/GitHub/python-certified-practical-practice/06_%E3%83%86%E3%82%AD%E3%82%B9%E3%83%88%E3%81%AE%E5%87%A6%E7%90%86/6.2_%E3%83%95%E3%82%A9%E3%83%BC%E3%83%9E%E3%83%83%E3%83%88%E3%81%A8%E6%96%87%E5%AD%97%E5%88%97%E5%88%97%E3%83%AA%E3%83%86%E3%83%A9%E3%83%AB-f-string.ipynb#W5sZmlsZQ%3D%3D?line=5'>6</a>\u001b[0m \u001b[39mprint\u001b[39m(\u001b[39m'\u001b[39;49m\u001b[39m%d\u001b[39;49;00m\u001b[39m'\u001b[39;49m\u001b[39m%\u001b[39;49m \u001b[39m'\u001b[39;49m\u001b[39m3\u001b[39;49m\u001b[39m'\u001b[39;49m)\n",
      "\u001b[1;31mTypeError\u001b[0m: %d format: a real number is required, not str"
     ]
    }
   ],
   "source": [
    "# %演算子\n",
    "print('Hello, %s' % '% operator')\n",
    "print('1 + 2 = %d' % (1 + 2))\n",
    "print('%(hoge)s is %(fuga)s and %(piyo)s' % {'hoge': 'Python', 'fuga': 'high functional', 'piyo': 'convenience'})\n",
    "print('%s'% 3)\n",
    "print('%d'% '3')"
   ]
  }
 ],
 "metadata": {
  "kernelspec": {
   "display_name": "Python 3",
   "language": "python",
   "name": "python3"
  },
  "language_info": {
   "codemirror_mode": {
    "name": "ipython",
    "version": 3
   },
   "file_extension": ".py",
   "mimetype": "text/x-python",
   "name": "python",
   "nbconvert_exporter": "python",
   "pygments_lexer": "ipython3",
   "version": "3.11.7"
  }
 },
 "nbformat": 4,
 "nbformat_minor": 2
}
