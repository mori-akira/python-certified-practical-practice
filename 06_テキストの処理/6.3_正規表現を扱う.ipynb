{
 "cells": [
  {
   "cell_type": "code",
   "execution_count": 6,
   "metadata": {},
   "outputs": [
    {
     "name": "stdout",
     "output_type": "stream",
     "text": [
      "<re.Match object; span=(0, 1), match='a'>\n",
      "<re.Match object; span=(0, 1), match='a'>\n",
      "<re.Match object; span=(3, 5), match='aa'>\n",
      "None\n"
     ]
    }
   ],
   "source": [
    "import re\n",
    "\n",
    "print(re.search('a+', 'abcaabbccaaabbbccc'))\n",
    "print(re.match('a+', 'abcaabbccaaabbbccc'))\n",
    "print(re.search('a{2,}', 'abcaabbccaaabbbccc'))\n",
    "print(re.match('a{2,}', 'abcaabbccaaabbbccc'))"
   ]
  },
  {
   "cell_type": "markdown",
   "metadata": {},
   "source": [
    "### reモジュールのフラグ(定数)\n",
    "\n",
    "<table>\n",
    "    <thead>\n",
    "        <tr>\n",
    "            <th>定数名</th>\n",
    "            <th>説明</th>\n",
    "        </tr>\n",
    "    </thead>\n",
    "    <tbody>\n",
    "        <tr>\n",
    "            <td><m-b>A</m-b>、<m-b>ASCII</m-b></td>\n",
    "            <td>\\s、\\wなどのマッチング処理で、UnicodeでなくASCII文字のみを使用する</td>\n",
    "        </tr>\n",
    "        <tr>\n",
    "            <td><m-b>I</m-b>、<m-b>IGNORECASE</m-b></td>\n",
    "            <td>大文字小文字を区別しない</td>\n",
    "        </tr>\n",
    "        <tr>\n",
    "            <td><m-b>M</m-b>、<m-b>MULTILINE</m-b></td>\n",
    "            <td>複数行のテキストに対し、^と$が各行の先頭と末尾にマッチする</td>\n",
    "        </tr>\n",
    "        <tr>\n",
    "            <td><m-b>S</m-b>、<m-b>DOTALL</m-b></td>\n",
    "            <td>.が改行文字も含めてマッチする</td>\n",
    "        </tr>\n",
    "    </tbody>\n",
    "</table>"
   ]
  },
  {
   "cell_type": "code",
   "execution_count": 40,
   "metadata": {},
   "outputs": [
    {
     "name": "stdout",
     "output_type": "stream",
     "text": [
      "<re.Match object; span=(0, 5), match='あいうえお'>\n",
      "None\n",
      "None\n",
      "<re.Match object; span=(2, 5), match='AbC'>\n",
      "None\n",
      "<re.Match object; span=(0, 3), match='aaa'>\n",
      "None\n",
      "<re.Match object; span=(0, 14), match='HOGE\\nfuga\\nPiyo'>\n"
     ]
    }
   ],
   "source": [
    "import re\n",
    "\n",
    "print(re.search('\\w+', 'あいうえお'))\n",
    "print(re.search('\\w+', 'あいうえお', flags=re.ASCII))\n",
    "\n",
    "print(re.search('abc', 'AAAbCCC'))\n",
    "print(re.search('abc', 'AAAbCCC', flags=re.IGNORECASE))\n",
    "\n",
    "target = '''\\\n",
    "aaa\n",
    "aaaa\n",
    "aaaaa\\\n",
    "'''\n",
    "print(re.compile('^aaaa$').search(target))\n",
    "print(re.compile('^aaa$', re.MULTILINE).search(target))\n",
    "\n",
    "target='''\\\n",
    "HOGE\n",
    "fuga\n",
    "Piyo\n",
    "'''\n",
    "print(re.compile('hoge.+piyo', re.IGNORECASE).search(target))\n",
    "print(re.compile('hoge.+piyo', re.DOTALL | re.IGNORECASE).search(target))"
   ]
  },
  {
   "cell_type": "markdown",
   "metadata": {},
   "source": [
    "### 正規表現オブジェクトのメソッド\n",
    "\n",
    "<table>\n",
    "    <thead>\n",
    "        <tr>\n",
    "            <th>メソッド</th>\n",
    "            <th>戻り値</th>\n",
    "            <th>説明</th>\n",
    "        </tr>\n",
    "    </thead>\n",
    "    <tbody>\n",
    "        <tr>\n",
    "            <td><m-b>search(string[, pos[, endpos]])</m-b></td>\n",
    "            <td><m-b>re.Match | None</m-b></td>\n",
    "            <td>\n",
    "                指定した文字列が正規表現にマッチするか返す<br>\n",
    "                pos、endposはマッチ処理の対象となる位置を指定する。\n",
    "            </td>\n",
    "        </tr>\n",
    "        <tr>\n",
    "            <td><m-b>match(string[, pos[, endpos]])</m-b></td>\n",
    "            <td><m-b>re.Match | None</m-b></td>\n",
    "            <td>\n",
    "                指定した文字列が正規表現にマッチするか返す<br>\n",
    "                search()と異なり、先頭からマッチするかを返す。\n",
    "            </td>\n",
    "        </tr>\n",
    "        <tr>\n",
    "            <td><m-b>fullmatch(string[, pos[, endpos]])</m-b></td>\n",
    "            <td><m-b>re.Match | None</m-b></td>\n",
    "            <td>指定した文字列全体がマッチするか返す</td>\n",
    "        </tr>\n",
    "        <tr>\n",
    "            <td><m-b>split(string, maxsplit=0)</m-b></td>\n",
    "            <td><m-b>list[str]</m-b></td>\n",
    "            <td>指定した文字列をマッチする文字列で分割する</td>\n",
    "        </tr>\n",
    "        <tr>\n",
    "            <td><m-b>sub(repl, string, count=0)</m-b></td>\n",
    "            <td><m-b>str</m-b></td>\n",
    "            <td>指定した文字列の中で正規表現にマッチする文字列を置き換える</td>\n",
    "        </tr>\n",
    "        <tr>\n",
    "            <td><m-b>findall(string[, pos[, endpos]])</m-b></td>\n",
    "            <td><m-b>list[str]</m-b></td>\n",
    "            <td>指定した文字列中の正規表現にマッチした文字列すべてをリストで返す</td>\n",
    "        </tr>\n",
    "        <tr>\n",
    "            <td><m-b>finditer</m-b></td>\n",
    "            <td><m-b>callable_iterator</m-b></td>\n",
    "            <td>指定した文字列中の正規表現にマッチした文字列すべてをイテレータで返す</td>\n",
    "        </tr>\n",
    "    </tbody>\n",
    "</table>"
   ]
  },
  {
   "cell_type": "code",
   "execution_count": 68,
   "metadata": {},
   "outputs": [
    {
     "name": "stdout",
     "output_type": "stream",
     "text": [
      "<re.Match object; span=(0, 7), match='123+456'>\n",
      "None\n",
      "['x', ',', 'x']\n",
      "['x', ',', 'x+90x']\n",
      "xxx.xxx\n",
      "xxx.172.11\n",
      "['10.0', '172.11']\n",
      "<callable_iterator object at 0x0000021764D95D80>\n",
      "[<re.Match object; span=(0, 4), match='10.0'>, <re.Match object; span=(5, 11), match='172.11'>]\n"
     ]
    }
   ],
   "source": [
    "import re\n",
    "\n",
    "ptn = re.compile('\\d+[^\\d]\\d+')\n",
    "\n",
    "print(ptn.fullmatch('123+456'))\n",
    "print(ptn.fullmatch('123+456+789'))\n",
    "\n",
    "print(ptn.split('x12+34,56-78x'))\n",
    "print(ptn.split('x12+34,56-78x+90x'))\n",
    "\n",
    "print(ptn.sub('xxx', '10.0.172.11'))\n",
    "print(ptn.sub('xxx', '10.0.172.11', count=1))\n",
    "\n",
    "print(ptn.findall('10.0.172.11'))\n",
    "print(ptn.finditer('10.0.172.11'))\n",
    "print([m for m in ptn.finditer('10.0.172.11')])"
   ]
  },
  {
   "cell_type": "code",
   "execution_count": 87,
   "metadata": {},
   "outputs": [
    {
     "name": "stdout",
     "output_type": "stream",
     "text": [
      "Java\n",
      "J\n",
      "va\n",
      "('J', 'va')\n",
      "{}\n",
      "\n",
      "JavaScript\n",
      "J\n",
      "vaScript\n",
      "('J', 'vaScript')\n",
      "{}\n",
      "\n",
      "React\n",
      "Re\n",
      "ct\n",
      "('Re', 'ct')\n",
      "{}\n",
      "\n",
      "Java\n",
      "J\n",
      "va\n",
      "J\n",
      "va\n",
      "('J', 'va')\n",
      "{'first': 'J', 'second': 'va'}\n",
      "\n",
      "JavaScript\n",
      "J\n",
      "vaScript\n",
      "J\n",
      "vaScript\n",
      "('J', 'vaScript')\n",
      "{'first': 'J', 'second': 'vaScript'}\n",
      "\n",
      "React\n",
      "Re\n",
      "ct\n",
      "Re\n",
      "ct\n",
      "('Re', 'ct')\n",
      "{'first': 'Re', 'second': 'ct'}\n",
      "\n"
     ]
    }
   ],
   "source": [
    "# マッチオブジェクトのメソッド\n",
    "import re\n",
    "\n",
    "ptn1 = re.compile('(\\w+?)[abcd](\\w+)')\n",
    "for m in ptn1.finditer('python Java php JavaScript swift go React'):\n",
    "    print(m.group())\n",
    "    print(m.group(1))\n",
    "    print(m.group(2))\n",
    "    print(m.groups())\n",
    "    print(m.groupdict())\n",
    "    print()\n",
    "\n",
    "ptn2 = re.compile('(?P<first>\\w+?)[abcd](?P<second>\\w+)')\n",
    "for m in ptn2.finditer('python Java php JavaScript swift go React'):\n",
    "    print(m.group())\n",
    "    print(m.group(1))\n",
    "    print(m.group(2))\n",
    "    print(m.group('first'))\n",
    "    print(m.group('second'))\n",
    "    print(m.groups())\n",
    "    print(m.groupdict())\n",
    "    print()"
   ]
  }
 ],
 "metadata": {
  "kernelspec": {
   "display_name": "Python 3",
   "language": "python",
   "name": "python3"
  },
  "language_info": {
   "codemirror_mode": {
    "name": "ipython",
    "version": 3
   },
   "file_extension": ".py",
   "mimetype": "text/x-python",
   "name": "python",
   "nbconvert_exporter": "python",
   "pygments_lexer": "ipython3",
   "version": "3.11.7"
  }
 },
 "nbformat": 4,
 "nbformat_minor": 2
}
