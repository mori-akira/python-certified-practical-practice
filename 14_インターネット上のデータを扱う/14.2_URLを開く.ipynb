{
 "cells": [
  {
   "cell_type": "code",
   "execution_count": 7,
   "metadata": {},
   "outputs": [
    {
     "name": "stdout",
     "output_type": "stream",
     "text": [
      "b'<!DOCTYPE html><html lang=\"ja\"><head><meta charset=\"UTF-8\"><meta name=\"viewport\" content=\"width=1160'\n",
      "<class 'bytes'>\n"
     ]
    }
   ],
   "source": [
    "# GETリクエスト\n",
    "from urllib import request\n",
    "with request.urlopen('https://www.pythonic-exam.com/exam/jissen') as f:\n",
    "    res = f.read()\n",
    "print(res[:100])\n",
    "print(type(res))\n"
   ]
  },
  {
   "cell_type": "code",
   "execution_count": 20,
   "metadata": {},
   "outputs": [
    {
     "name": "stdout",
     "output_type": "stream",
     "text": [
      "<http.client.HTTPResponse object at 0x000002D1ABE63490>\n",
      "200\n",
      "200\n",
      "9593\n",
      "https://httpbin.org/\n",
      "11\n",
      "Date: Wed, 13 Dec 2023 14:13:21 GMT\n",
      "Content-Type: text/html; charset=utf-8\n",
      "Content-Length: 9593\n",
      "Connection: close\n",
      "Server: gunicorn/19.9.0\n",
      "Access-Control-Allow-Origin: *\n",
      "Access-Control-Allow-Credentials: true\n",
      "\n",
      "\n"
     ]
    }
   ],
   "source": [
    "from urllib import request\n",
    "from http.client import HTTPResponse\n",
    "res: HTTPResponse = request.urlopen('https://httpbin.org/')\n",
    "print(res)\n",
    "print(res.status)\n",
    "print(res.code)\n",
    "print(res.length)\n",
    "print(res.url)\n",
    "print(res.version)\n",
    "print(res.headers)\n"
   ]
  },
  {
   "cell_type": "code",
   "execution_count": 30,
   "metadata": {},
   "outputs": [
    {
     "name": "stdout",
     "output_type": "stream",
     "text": [
      "{\n",
      "  \"args\": {\n",
      "    \"query\": \"value\"\n",
      "  }, \n",
      "  \"data\": \"\", \n",
      "  \"files\": {}, \n",
      "  \"form\": {\n",
      "    \"body\": \"value2\"\n",
      "  }, \n",
      "  \"headers\": {\n",
      "    \"Accept-Encoding\": \"identity\", \n",
      "    \"Content-Length\": \"11\", \n",
      "    \"Content-Type\": \"application/x-www-form-urlencoded\", \n",
      "    \"Host\": \"httpbin.org\", \n",
      "    \"User-Agent\": \"Python-urllib/3.11\", \n",
      "    \"X-Amzn-Trace-Id\": \"Root=1-6579bd58-200d05341b73a83228bef1ce\"\n",
      "  }, \n",
      "  \"json\": null, \n",
      "  \"origin\": \"60.70.81.130\", \n",
      "  \"url\": \"https://httpbin.org/post?query=value\"\n",
      "}\n",
      "\n"
     ]
    }
   ],
   "source": [
    "# POSTメソッド\n",
    "from urllib import request\n",
    "from http.client import HTTPResponse\n",
    "data='body=value2'\n",
    "res: HTTPResponse = request.urlopen('https://httpbin.org/post?query=value#hash', data=data.encode())\n",
    "print(res.read().decode())\n"
   ]
  },
  {
   "cell_type": "code",
   "execution_count": 36,
   "metadata": {},
   "outputs": [
    {
     "name": "stdout",
     "output_type": "stream",
     "text": [
      "{\n",
      "  \"args\": {\n",
      "    \"query\": \"value\"\n",
      "  }, \n",
      "  \"data\": \"\\\"body=value2\\\"\", \n",
      "  \"files\": {}, \n",
      "  \"form\": {}, \n",
      "  \"headers\": {\n",
      "    \"Accept-Encoding\": \"identity\", \n",
      "    \"Content-Length\": \"13\", \n",
      "    \"Content-Type\": \"application/json\", \n",
      "    \"Host\": \"httpbin.org\", \n",
      "    \"User-Agent\": \"Python-urllib/3.11\", \n",
      "    \"X-Amzn-Trace-Id\": \"Root=1-6579bed9-618837312d1ecacd510f7d6e\"\n",
      "  }, \n",
      "  \"json\": \"body=value2\", \n",
      "  \"origin\": \"60.70.81.130\", \n",
      "  \"url\": \"https://httpbin.org/put?query=value\"\n",
      "}\n",
      "\n"
     ]
    }
   ],
   "source": [
    "# GET、POST以外のリクエスト\n",
    "from urllib import request\n",
    "import json\n",
    "data='body=value2'\n",
    "req = request.Request(\n",
    "    'https://httpbin.org/put?query=value',\n",
    "    data=json.dumps(data).encode(),\n",
    "    method='PUT',\n",
    "    headers={'Content-Type': 'application/json'},\n",
    ")\n",
    "res = request.urlopen(req)\n",
    "print(res.read().decode())\n"
   ]
  }
 ],
 "metadata": {
  "kernelspec": {
   "display_name": "Python 3",
   "language": "python",
   "name": "python3"
  },
  "language_info": {
   "codemirror_mode": {
    "name": "ipython",
    "version": 3
   },
   "file_extension": ".py",
   "mimetype": "text/x-python",
   "name": "python",
   "nbconvert_exporter": "python",
   "pygments_lexer": "ipython3",
   "version": "3.11.7"
  }
 },
 "nbformat": 4,
 "nbformat_minor": 2
}
