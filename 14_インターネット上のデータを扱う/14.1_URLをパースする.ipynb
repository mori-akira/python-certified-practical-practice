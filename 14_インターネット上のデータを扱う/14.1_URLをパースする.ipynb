{
 "cells": [
  {
   "cell_type": "code",
   "execution_count": 7,
   "metadata": {},
   "outputs": [
    {
     "name": "stdout",
     "output_type": "stream",
     "text": [
      "ParseResult(scheme='https', netloc='www.example.com', path='/test/', params='parameter', query='q=query', fragment='fragment')\n",
      "https://www.example.com/test/;parameter?q=query#fragment\n",
      "https\n",
      "parameter\n",
      "None\n",
      "www.example.com\n"
     ]
    }
   ],
   "source": [
    "# URLパース\n",
    "from urllib import parse\n",
    "result = parse.urlparse('https://www.example.com/test/;parameter?q=query#fragment')\n",
    "print(result)\n",
    "print(result.geturl())\n",
    "print(result.scheme)\n",
    "print(result[3])\n",
    "print(result.port)\n",
    "print(result.hostname)\n"
   ]
  },
  {
   "cell_type": "code",
   "execution_count": 12,
   "metadata": {},
   "outputs": [
    {
     "name": "stdout",
     "output_type": "stream",
     "text": [
      "hoge=xxx&fuga=123&piyo=true&piyo=false&piyo=true&foo=\n",
      "{'hoge': ['xxx'], 'fuga': ['123'], 'piyo': ['true', 'false', 'true']}\n"
     ]
    }
   ],
   "source": [
    "# クエリパラメータをパース\n",
    "from urllib import parse\n",
    "target = 'http://www.example.com?hoge=xxx&fuga=123&piyo=true&piyo=false&piyo=true&foo='\n",
    "url = parse.urlparse(target)\n",
    "print(url.query)\n",
    "print(parse.parse_qs(url.query))\n"
   ]
  },
  {
   "cell_type": "code",
   "execution_count": 14,
   "metadata": {},
   "outputs": [
    {
     "name": "stdout",
     "output_type": "stream",
     "text": [
      "key1=value&key2=True&key3=999&key4=None&key5=%5B%27%27%2C+123%2C+True%5D\n",
      "key1=value&key2=True&key3=999&key4=None&key5=&key5=123&key5=True\n"
     ]
    }
   ],
   "source": [
    "# クエリパラメータを構築\n",
    "from urllib import parse\n",
    "query = {'key1': 'value', 'key2': True, 'key3': 999, 'key4': None, 'key5': ['', 123, True]}\n",
    "print(parse.urlencode(query))\n",
    "print(parse.urlencode(query, doseq=True))\n"
   ]
  },
  {
   "cell_type": "code",
   "execution_count": 25,
   "metadata": {},
   "outputs": [
    {
     "name": "stdout",
     "output_type": "stream",
     "text": [
      "%40%21%20%22%60\n",
      "%40%21%20\"`\n",
      "%40%21+%22%60\n"
     ]
    }
   ],
   "source": [
    "# パーセントエンコーディング\n",
    "from urllib import parse\n",
    "print(parse.quote('@! \"`'))\n",
    "print(parse.quote('@! \"`', safe='\"`'))\n",
    "print(parse.quote_plus('@! \"`'))\n"
   ]
  },
  {
   "cell_type": "code",
   "execution_count": 11,
   "metadata": {},
   "outputs": [
    {
     "name": "stdout",
     "output_type": "stream",
     "text": [
      "https://www.pythonic-exam.com/exam/jissen\n",
      "https://www.pythonic-exam.com/exam/jissen\n",
      "https://www.pythonic-exam.com/jissen\n",
      "https://www.pythonic-exam.com/exam/basic\n",
      "exam/exam/basic\n",
      "exam/jissen/exam/basic\n"
     ]
    }
   ],
   "source": [
    "# URLの結合\n",
    "from urllib import parse\n",
    "print(parse.urljoin('https://www.pythonic-exam.com', 'exam/jissen'))\n",
    "print(parse.urljoin('https://www.pythonic-exam.com/', '/exam/jissen'))\n",
    "print(parse.urljoin('https://www.pythonic-exam.com/exam', '../jissen'))\n",
    "print(parse.urljoin('https://www.pythonic-exam.com/exam/jissen', 'https://www.pythonic-exam.com/exam/basic'))\n",
    "print(parse.urljoin('exam/jissen', 'exam/basic'))\n",
    "print(parse.urljoin('exam/jissen/', 'exam/basic'))\n"
   ]
  }
 ],
 "metadata": {
  "kernelspec": {
   "display_name": "Python 3",
   "language": "python",
   "name": "python3"
  },
  "language_info": {
   "codemirror_mode": {
    "name": "ipython",
    "version": 3
   },
   "file_extension": ".py",
   "mimetype": "text/x-python",
   "name": "python",
   "nbconvert_exporter": "python",
   "pygments_lexer": "ipython3",
   "version": "3.11.7"
  }
 },
 "nbformat": 4,
 "nbformat_minor": 2
}
