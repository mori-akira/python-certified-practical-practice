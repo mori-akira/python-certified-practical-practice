{
 "cells": [
  {
   "cell_type": "code",
   "execution_count": 1,
   "metadata": {},
   "outputs": [
    {
     "name": "stdout",
     "output_type": "stream",
     "text": [
      "Hello, 123\n"
     ]
    }
   ],
   "source": [
    "# 型ヒントの基本的な書き方\n",
    "def hello_word(name: str) -> str:\n",
    "    return f'Hello, {name}'\n",
    "name: str = 123\n",
    "message: object = hello_word(name)\n",
    "print(message)"
   ]
  },
  {
   "cell_type": "code",
   "execution_count": 10,
   "metadata": {},
   "outputs": [
    {
     "name": "stdout",
     "output_type": "stream",
     "text": [
      "Book(name='Pythonデータ分析', author='fuga', price=1000)\n"
     ]
    }
   ],
   "source": [
    "from dataclasses import dataclass\n",
    "from operator import attrgetter\n",
    "\n",
    "@dataclass\n",
    "class Book:\n",
    "    name: str\n",
    "    author: str\n",
    "    price: int\n",
    "\n",
    "def cheapest_book(target: list[Book]) -> Book:\n",
    "    return sorted(target, key=attrgetter('price'))[0]\n",
    "\n",
    "print(cheapest_book([\n",
    "    Book('Python基礎', 'hoge', 1200),\n",
    "    Book('Pythonデータ分析', 'fuga', 1000),\n",
    "    Book('Python実践', 'piyo', 1000),\n",
    "]))"
   ]
  },
  {
   "cell_type": "code",
   "execution_count": 22,
   "metadata": {},
   "outputs": [
    {
     "name": "stdout",
     "output_type": "stream",
     "text": [
      "1\n",
      "1.0\n",
      "cannot convert number: 1\n",
      "1\n",
      "cannot convert number: hoge\n"
     ]
    }
   ],
   "source": [
    "# Union\n",
    "from typing import Union\n",
    "\n",
    "def to_number(tar: Union[int, float, bool, str]) -> Union[int, float]:\n",
    "    if isinstance(tar, bool):\n",
    "        return int(tar)\n",
    "    elif isinstance(tar, (int, float)):\n",
    "        return tar\n",
    "    elif isinstance(tar, str):\n",
    "        try:\n",
    "            return int(str)\n",
    "        except TypeError:\n",
    "            try:\n",
    "                return float(str)\n",
    "            except:\n",
    "                print(f'cannot convert number: {tar}')\n",
    "    else:\n",
    "        raise TypeError(f'invalid type: {tar}')\n",
    "\n",
    "to_number(1) and print(to_number(1))\n",
    "to_number(1.0) and print(to_number(1.0))\n",
    "to_number('1') and print(to_number('1'))\n",
    "to_number(True) and print(to_number(True))\n",
    "to_number('hoge') and print(to_number('hoge'))"
   ]
  },
  {
   "cell_type": "code",
   "execution_count": 26,
   "metadata": {},
   "outputs": [
    {
     "name": "stdout",
     "output_type": "stream",
     "text": [
      "None None\n"
     ]
    }
   ],
   "source": [
    "# Optional\n",
    "from typing import Optional\n",
    "\n",
    "tmp1: int = None\n",
    "tmp2: Optional[int] = None\n",
    "print(tmp1, tmp2)"
   ]
  },
  {
   "cell_type": "code",
   "execution_count": 27,
   "metadata": {},
   "outputs": [
    {
     "name": "stdout",
     "output_type": "stream",
     "text": [
      "hoge None\n"
     ]
    }
   ],
   "source": [
    "from __future__ import annotations # 3.10以降では記述不要\n",
    "\n",
    "tmp1: int | str = 'hoge'\n",
    "tmp2: str | None = None\n",
    "print(tmp1, tmp2)"
   ]
  },
  {
   "cell_type": "code",
   "execution_count": 29,
   "metadata": {},
   "outputs": [
    {
     "name": "stdout",
     "output_type": "stream",
     "text": [
      "xml hoge.xml\n",
      "csv fuga.csv\n"
     ]
    }
   ],
   "source": [
    "# Literal\n",
    "from typing import Literal\n",
    "\n",
    "FILETYPE = Literal['xml', 'json', 'yaml']\n",
    "def access_file(path: str, type: FILETYPE):\n",
    "    print(type, path)\n",
    "\n",
    "access_file('hoge.xml', 'xml')\n",
    "access_file('fuga.csv', 'csv')"
   ]
  },
  {
   "cell_type": "code",
   "execution_count": 30,
   "metadata": {},
   "outputs": [
    {
     "name": "stdout",
     "output_type": "stream",
     "text": [
      "False {} None\n"
     ]
    }
   ],
   "source": [
    "# Any\n",
    "from typing import Any\n",
    "\n",
    "hoge: Any = False\n",
    "fuga: Any = {}\n",
    "piyo: Any = None\n",
    "print(hoge, fuga, piyo)"
   ]
  },
  {
   "cell_type": "code",
   "execution_count": 32,
   "metadata": {},
   "outputs": [
    {
     "name": "stdout",
     "output_type": "stream",
     "text": [
      "2\n",
      "2.0\n"
     ]
    }
   ],
   "source": [
    "# TypeVar\n",
    "from typing import TypeVar\n",
    "\n",
    "T = TypeVar('T', int, float)\n",
    "def add_one(tar: T) -> T:\n",
    "    return tar + 1\n",
    "\n",
    "print(add_one(1))\n",
    "print(add_one(1.0))"
   ]
  },
  {
   "cell_type": "code",
   "execution_count": 34,
   "metadata": {},
   "outputs": [
    {
     "name": "stdout",
     "output_type": "stream",
     "text": [
      "{'name': 'カイゼン・ジャーニー', 'author': '市谷 聡啓', 'price': 2300}\n"
     ]
    }
   ],
   "source": [
    "# TypeDict\n",
    "from typing import TypedDict\n",
    "\n",
    "class BookDict(TypedDict):\n",
    "    name: str\n",
    "    author: str\n",
    "    price: int\n",
    "\n",
    "mybook: BookDict = {'name': 'カイゼン・ジャーニー', 'author': '市谷 聡啓', 'price': 2300}\n",
    "print(mybook)"
   ]
  }
 ],
 "metadata": {
  "kernelspec": {
   "display_name": "Python 3",
   "language": "python",
   "name": "python3"
  },
  "language_info": {
   "codemirror_mode": {
    "name": "ipython",
    "version": 3
   },
   "file_extension": ".py",
   "mimetype": "text/x-python",
   "name": "python",
   "nbconvert_exporter": "python",
   "pygments_lexer": "ipython3",
   "version": "3.11.6"
  }
 },
 "nbformat": 4,
 "nbformat_minor": 2
}
