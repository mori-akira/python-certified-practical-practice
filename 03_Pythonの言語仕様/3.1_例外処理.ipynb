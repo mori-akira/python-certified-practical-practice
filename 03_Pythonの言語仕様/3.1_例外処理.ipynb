{
 "cells": [
  {
   "cell_type": "code",
   "execution_count": 8,
   "metadata": {},
   "outputs": [
    {
     "name": "stdout",
     "output_type": "stream",
     "text": [
      "exception occurred\n"
     ]
    }
   ],
   "source": [
    "# 例外ハンドリング\n",
    "try:\n",
    "    num = 10 / 0\n",
    "    print(num)\n",
    "except ZeroDivisionError:\n",
    "    print('exception occurred')"
   ]
  },
  {
   "cell_type": "code",
   "execution_count": 7,
   "metadata": {},
   "outputs": [
    {
     "name": "stdout",
     "output_type": "stream",
     "text": [
      "TypeError\n",
      "unsupported operand type(s) for /: 'int' and 'str'\n"
     ]
    }
   ],
   "source": [
    "# 例外クラスごとにハンドリング\n",
    "try:\n",
    "    num = 10 / '2'\n",
    "    print(num)\n",
    "except ZeroDivisionError as e:\n",
    "    print('ZeroDivisionError')\n",
    "    print(e)\n",
    "except TypeError as e:\n",
    "    print('TypeError')\n",
    "    print(e)\n",
    "except Exception as e:\n",
    "    print('Exception')\n",
    "    print(e)"
   ]
  },
  {
   "cell_type": "code",
   "execution_count": 6,
   "metadata": {},
   "outputs": [
    {
     "name": "stdout",
     "output_type": "stream",
     "text": [
      "Exception\n",
      "unsupported operand type(s) for /: 'int' and 'str'\n"
     ]
    }
   ],
   "source": [
    "try:\n",
    "    num = 10 / '2'\n",
    "    print(num)\n",
    "except ZeroDivisionError as e:\n",
    "    print('ZeroDivisionError')\n",
    "    print(e)\n",
    "except Exception as e:\n",
    "    print('Exception')\n",
    "    print(e)\n",
    "except TypeError as e:\n",
    "    print('TypeError')\n",
    "    print(e)"
   ]
  },
  {
   "cell_type": "code",
   "execution_count": 5,
   "metadata": {},
   "outputs": [
    {
     "name": "stdout",
     "output_type": "stream",
     "text": [
      "name 'nun' is not defined\n",
      "NameError\n"
     ]
    }
   ],
   "source": [
    "# 複数の例外クラスをまとめてハンドリング\n",
    "try:\n",
    "    num = 10 / 1\n",
    "    print(nun)\n",
    "except (NameError, TypeError, ZeroDivisionError) as e:\n",
    "    print(e)\n",
    "    print(e.__class__.__name__)"
   ]
  },
  {
   "cell_type": "code",
   "execution_count": 4,
   "metadata": {},
   "outputs": [
    {
     "name": "stdout",
     "output_type": "stream",
     "text": [
      "except block\n",
      "finally block\n"
     ]
    }
   ],
   "source": [
    "# elseブロック、finallyブロック\n",
    "try:\n",
    "    num = 10 / 0\n",
    "    print(num)\n",
    "except (NameError, TypeError, ZeroDivisionError) as e:\n",
    "    print('except block')\n",
    "else:\n",
    "    print('else block')\n",
    "finally:\n",
    "    print('finally block')"
   ]
  },
  {
   "cell_type": "code",
   "execution_count": 10,
   "metadata": {},
   "outputs": [
    {
     "name": "stdout",
     "output_type": "stream",
     "text": [
      "hoge\n",
      "<class '__main__.MyError'>\n"
     ]
    }
   ],
   "source": [
    "# 独自例外\n",
    "class MyError(Exception):\n",
    "    def __init__(self, arg=''):\n",
    "        self.arg = arg\n",
    "\n",
    "try:\n",
    "    raise MyError('hoge')\n",
    "except Exception as ex:\n",
    "    print(ex)\n",
    "    print(type(ex))"
   ]
  },
  {
   "cell_type": "markdown",
   "metadata": {},
   "source": [
    "## Pythonの組み込み例外クラス\n",
    "\n",
    "Pythonでは、次の階層で組み込み例外が定義されている(主な階層のみ表示)\n",
    "\n",
    "<pre>\n",
    "<m-b>BaseException</m-b><br>\n",
    "    ├ <m-b>SystemExit</m-b><br>\n",
    "    ├ <m-b>KeyboardInterrupt</m-b><br>\n",
    "    ├ <m-b>GeneratorExit</m-b><br>\n",
    "    └ <m-b>Exception</m-b> ┬ ...色々な例外\n",
    "</pre>"
   ]
  }
 ],
 "metadata": {
  "kernelspec": {
   "display_name": "Python 3 (ipykernel)",
   "language": "python",
   "name": "python3"
  },
  "language_info": {
   "codemirror_mode": {
    "name": "ipython",
    "version": 3
   },
   "file_extension": ".py",
   "mimetype": "text/x-python",
   "name": "python",
   "nbconvert_exporter": "python",
   "pygments_lexer": "ipython3",
   "version": "3.11.6"
  }
 },
 "nbformat": 4,
 "nbformat_minor": 4
}
