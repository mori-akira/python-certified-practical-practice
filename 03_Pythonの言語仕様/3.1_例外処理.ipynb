{
 "cells": [
  {
   "cell_type": "code",
   "execution_count": 2,
   "metadata": {},
   "outputs": [
    {
     "name": "stdout",
     "output_type": "stream",
     "text": [
      "division by zero\n"
     ]
    }
   ],
   "source": [
    "try:\n",
    "    num = 10 / 0\n",
    "    print(num)\n",
    "except ZeroDivisionError as e:\n",
    "    print(e)"
   ]
  },
  {
   "cell_type": "code",
   "execution_count": 7,
   "metadata": {},
   "outputs": [
    {
     "name": "stdout",
     "output_type": "stream",
     "text": [
      "TypeError\n",
      "unsupported operand type(s) for /: 'int' and 'str'\n"
     ]
    }
   ],
   "source": [
    "try:\n",
    "    num = 10 / '2'\n",
    "    print(num)\n",
    "except ZeroDivisionError as e:\n",
    "    print('ZeroDivisionError')\n",
    "    print(e)\n",
    "except TypeError as e:\n",
    "    print('TypeError')\n",
    "    print(e)\n",
    "except Exception as e:\n",
    "    print('Exception')\n",
    "    print(e)"
   ]
  },
  {
   "cell_type": "code",
   "execution_count": 10,
   "metadata": {},
   "outputs": [
    {
     "name": "stdout",
     "output_type": "stream",
     "text": [
      "Exception\n",
      "unsupported operand type(s) for /: 'int' and 'str'\n"
     ]
    }
   ],
   "source": [
    "try:\n",
    "    num = 10 / '2'\n",
    "    print(num)\n",
    "except ZeroDivisionError as e:\n",
    "    print('ZeroDivisionError')\n",
    "    print(e)\n",
    "except Exception as e:\n",
    "    print('Exception')\n",
    "    print(e)\n",
    "except TypeError as e:\n",
    "    print('TypeError')\n",
    "    print(e)"
   ]
  },
  {
   "cell_type": "code",
   "execution_count": 12,
   "metadata": {},
   "outputs": [
    {
     "name": "stdout",
     "output_type": "stream",
     "text": [
      "name 'nun' is not defined\n",
      "NameError\n"
     ]
    }
   ],
   "source": [
    "try:\n",
    "    num = 10 / 1\n",
    "    print(nun)\n",
    "except (NameError, TypeError, ZeroDivisionError) as e:\n",
    "    print(e)\n",
    "    print(e.__class__.__name__)"
   ]
  },
  {
   "cell_type": "code",
   "execution_count": 13,
   "metadata": {},
   "outputs": [
    {
     "name": "stdout",
     "output_type": "stream",
     "text": [
      "10.0\n",
      "ok\n"
     ]
    }
   ],
   "source": [
    "try:\n",
    "    num = 10 / 1\n",
    "    print(num)\n",
    "except (NameError, TypeError, ZeroDivisionError) as e:\n",
    "    print(e)\n",
    "    print(e.__class__.__name__)\n",
    "else:\n",
    "    print('ok')"
   ]
  }
 ],
 "metadata": {
  "kernelspec": {
   "display_name": "Python 3 (ipykernel)",
   "language": "python",
   "name": "python3"
  },
  "language_info": {
   "codemirror_mode": {
    "name": "ipython",
    "version": 3
   },
   "file_extension": ".py",
   "mimetype": "text/x-python",
   "name": "python",
   "nbconvert_exporter": "python",
   "pygments_lexer": "ipython3",
   "version": "3.11.6"
  }
 },
 "nbformat": 4,
 "nbformat_minor": 4
}
