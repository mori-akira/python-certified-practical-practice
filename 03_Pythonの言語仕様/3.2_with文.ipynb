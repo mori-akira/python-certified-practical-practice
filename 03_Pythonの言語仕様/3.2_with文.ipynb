{
 "cells": [
  {
   "cell_type": "markdown",
   "metadata": {},
   "source": [
    "## コンテキストマネージャー\n",
    "\n",
    "with文に渡すオブジェクトをコンテキストマネージャーと呼ぶ。\n",
    "これは、メソッド<m-b>\\_\\_enter\\_\\_()</m-b>、<m-b>\\_\\_exit\\_\\_()</m-b>の特殊メソッドを実装したクラスのインスタンスである。"
   ]
  },
  {
   "cell_type": "code",
   "execution_count": 3,
   "metadata": {},
   "outputs": [
    {
     "name": "stdout",
     "output_type": "stream",
     "text": [
      "True\n",
      "True\n"
     ]
    }
   ],
   "source": [
    "# open()で取得するコンテキストマネージャーの確認\n",
    "file_obj = open('sample.txt')\n",
    "file_dir = dir(file_obj)\n",
    "print('__enter__' in file_dir)\n",
    "print('__exit__' in file_dir)"
   ]
  },
  {
   "cell_type": "code",
   "execution_count": 15,
   "metadata": {},
   "outputs": [
    {
     "name": "stdout",
     "output_type": "stream",
     "text": [
      "file open: sample.txt\n",
      "This is sample text.\n",
      "close file: sample.txt\n",
      "\n",
      "file open: sample.txt\n",
      "error occurred: type=<class 'AttributeError'>, value='_io.TextIOWrapper' object has no attribute 'readd'\n",
      "close file: sample.txt\n"
     ]
    }
   ],
   "source": [
    "# 独自のコンテキストマネージャーでopen()をラップ\n",
    "class MyOpenContextManager:\n",
    "    def __init__(self, file_path):\n",
    "        self.file_path = file_path\n",
    "    def __enter__(self):\n",
    "        print(f'file open: {self.file_path}')\n",
    "        self.file_obj = open(self.file_path)\n",
    "        return self.file_obj\n",
    "    def __exit__(self, type, value, traceback):\n",
    "        if type:\n",
    "            print(f'error occurred: type={type}, value={value}')\n",
    "        print(f'close file: {self.file_path}')\n",
    "        self.file_obj.close()\n",
    "\n",
    "try:\n",
    "    with MyOpenContextManager('sample.txt') as f:\n",
    "        print(f.read())\n",
    "except:\n",
    "    pass\n",
    "print()\n",
    "try:\n",
    "    with MyOpenContextManager('sample.txt') as f:\n",
    "        print(f.readd())\n",
    "except:\n",
    "    pass"
   ]
  },
  {
   "cell_type": "code",
   "execution_count": 29,
   "metadata": {},
   "outputs": [
    {
     "name": "stdout",
     "output_type": "stream",
     "text": [
      "file open: {file_path}\n",
      "This is sample text.\n",
      "close file: sample.txt\n",
      "\n",
      "file open: {file_path}\n",
      "close file: sample.txt\n"
     ]
    },
    {
     "name": "stderr",
     "output_type": "stream",
     "text": [
      "Traceback (most recent call last):\n",
      "  File \"C:\\Users\\kgrmr\\AppData\\Local\\Temp\\ipykernel_16580\\2761131906.py\", line 10, in my_open_context_manager\n",
      "    yield file_obj\n",
      "  File \"C:\\Users\\kgrmr\\AppData\\Local\\Temp\\ipykernel_16580\\2761131906.py\", line 25, in <module>\n",
      "    print(f.readd())\n",
      "          ^^^^^^^\n",
      "AttributeError: '_io.TextIOWrapper' object has no attribute 'readd'\n"
     ]
    }
   ],
   "source": [
    "# デコレータを用いて関数をコンテキストマネージャとして扱う\n",
    "import contextlib\n",
    "import traceback\n",
    "\n",
    "@contextlib.contextmanager\n",
    "def my_open_context_manager(file_path):\n",
    "    file_obj = open(file_path, 'r')\n",
    "    try:\n",
    "        print('file open: {file_path}')\n",
    "        yield file_obj\n",
    "    except Exception as ex:\n",
    "        traceback.print_exception(ex)\n",
    "    finally:\n",
    "        file_obj.close()\n",
    "        print(f'close file: {file_path}')\n",
    "\n",
    "try:\n",
    "    with my_open_context_manager('sample.txt') as f:\n",
    "        print(f.read())\n",
    "except:\n",
    "    pass\n",
    "print()\n",
    "try:\n",
    "    with my_open_context_manager('sample.txt') as f:\n",
    "        print(f.readd())\n",
    "except:\n",
    "    pass"
   ]
  },
  {
   "cell_type": "code",
   "execution_count": 33,
   "metadata": {},
   "outputs": [
    {
     "name": "stdout",
     "output_type": "stream",
     "text": [
      "process duration: 0.5007326602935791s\n"
     ]
    }
   ],
   "source": [
    "# コンテキストマネージャを用いて、実行時間を測定するサンプル\n",
    "import contextlib\n",
    "import time\n",
    "\n",
    "@contextlib.contextmanager\n",
    "def timed():\n",
    "    start = time.time()\n",
    "    try:\n",
    "        yield\n",
    "    finally:\n",
    "        end = time.time()\n",
    "        print(f'process duration: {end - start}s')\n",
    "\n",
    "with timed():\n",
    "    time.sleep(0.5)"
   ]
  },
  {
   "cell_type": "code",
   "execution_count": 42,
   "metadata": {},
   "outputs": [
    {
     "name": "stdout",
     "output_type": "stream",
     "text": [
      "file content: hogehoge\n",
      "\n"
     ]
    }
   ],
   "source": [
    "# contextlibモジュールのその他の機能\n",
    "import contextlib\n",
    "import os\n",
    "\n",
    "# 指定の例外を無視する\n",
    "with contextlib.suppress(FileNotFoundError):\n",
    "    os.remove('存在しないファイル.txt')\n",
    "\n",
    "# 標準出力/標準エラーの出力先を変える\n",
    "with open('stdout.log', 'w') as f:\n",
    "    with contextlib.redirect_stdout(f):\n",
    "        print('hogehoge')\n",
    "with open('stdout.log', mode='r') as f:\n",
    "    print(f'file content: {f.read()}')"
   ]
  }
 ],
 "metadata": {
  "kernelspec": {
   "display_name": "Python 3",
   "language": "python",
   "name": "python3"
  },
  "language_info": {
   "codemirror_mode": {
    "name": "ipython",
    "version": 3
   },
   "file_extension": ".py",
   "mimetype": "text/x-python",
   "name": "python",
   "nbconvert_exporter": "python",
   "pygments_lexer": "ipython3",
   "version": "3.11.6"
  }
 },
 "nbformat": 4,
 "nbformat_minor": 2
}
