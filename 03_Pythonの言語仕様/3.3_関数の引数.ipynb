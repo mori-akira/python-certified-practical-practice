{
 "cells": [
  {
   "cell_type": "code",
   "execution_count": 4,
   "metadata": {},
   "outputs": [
    {
     "name": "stdout",
     "output_type": "stream",
     "text": [
      "p1=1, p2=2, p3=3\n",
      "p1=4, p2=5, p3=6\n"
     ]
    }
   ],
   "source": [
    "# 専用引数\n",
    "def func(p1, /, p2, *, p3):\n",
    "    print(f'p1={p1}, p2={p2}, p3={p3}')\n",
    "\n",
    "func(1, 2, p3=3)\n",
    "func(4, p2=5, p3=6)"
   ]
  },
  {
   "cell_type": "code",
   "execution_count": 5,
   "metadata": {},
   "outputs": [
    {
     "ename": "TypeError",
     "evalue": "func() got some positional-only arguments passed as keyword arguments: 'p1'",
     "output_type": "error",
     "traceback": [
      "\u001b[1;31m---------------------------------------------------------------------------\u001b[0m",
      "\u001b[1;31mTypeError\u001b[0m                                 Traceback (most recent call last)",
      "\u001b[1;32mc:\\Users\\kgrmr\\OneDrive\\ドキュメント\\GitHub\\python-certified-practical-practice\\03_Pythonの言語仕様\\3.3_関数の引数.ipynb Cell 2\u001b[0m line \u001b[0;36m1\n\u001b[1;32m----> <a href='vscode-notebook-cell:/c%3A/Users/kgrmr/OneDrive/%E3%83%89%E3%82%AD%E3%83%A5%E3%83%A1%E3%83%B3%E3%83%88/GitHub/python-certified-practical-practice/03_Python%E3%81%AE%E8%A8%80%E8%AA%9E%E4%BB%95%E6%A7%98/3.3_%E9%96%A2%E6%95%B0%E3%81%AE%E5%BC%95%E6%95%B0.ipynb#W1sZmlsZQ%3D%3D?line=0'>1</a>\u001b[0m func(p1\u001b[39m=\u001b[39;49m\u001b[39m7\u001b[39;49m, p2\u001b[39m=\u001b[39;49m\u001b[39m8\u001b[39;49m, p3\u001b[39m=\u001b[39;49m\u001b[39m9\u001b[39;49m)\n",
      "\u001b[1;31mTypeError\u001b[0m: func() got some positional-only arguments passed as keyword arguments: 'p1'"
     ]
    }
   ],
   "source": [
    "func(p1=7, p2=8, p3=9)"
   ]
  },
  {
   "cell_type": "code",
   "execution_count": 6,
   "metadata": {},
   "outputs": [
    {
     "ename": "TypeError",
     "evalue": "func() takes 2 positional arguments but 3 were given",
     "output_type": "error",
     "traceback": [
      "\u001b[1;31m---------------------------------------------------------------------------\u001b[0m",
      "\u001b[1;31mTypeError\u001b[0m                                 Traceback (most recent call last)",
      "\u001b[1;32mc:\\Users\\kgrmr\\OneDrive\\ドキュメント\\GitHub\\python-certified-practical-practice\\03_Pythonの言語仕様\\3.3_関数の引数.ipynb Cell 3\u001b[0m line \u001b[0;36m1\n\u001b[1;32m----> <a href='vscode-notebook-cell:/c%3A/Users/kgrmr/OneDrive/%E3%83%89%E3%82%AD%E3%83%A5%E3%83%A1%E3%83%B3%E3%83%88/GitHub/python-certified-practical-practice/03_Python%E3%81%AE%E8%A8%80%E8%AA%9E%E4%BB%95%E6%A7%98/3.3_%E9%96%A2%E6%95%B0%E3%81%AE%E5%BC%95%E6%95%B0.ipynb#W2sZmlsZQ%3D%3D?line=0'>1</a>\u001b[0m func(\u001b[39m10\u001b[39;49m, \u001b[39m11\u001b[39;49m, \u001b[39m12\u001b[39;49m)\n",
      "\u001b[1;31mTypeError\u001b[0m: func() takes 2 positional arguments but 3 were given"
     ]
    }
   ],
   "source": [
    "func(10, 11, 12)"
   ]
  },
  {
   "cell_type": "code",
   "execution_count": 25,
   "metadata": {},
   "outputs": [
    {
     "name": "stdout",
     "output_type": "stream",
     "text": [
      "3\n",
      "5\n",
      "[3]\n",
      "[3, 5]\n",
      "\n",
      "uesr info: {'name': 'Kogure', 'age': 27, 'gender': 'male'}\n",
      "save datetime: 2023-11-19 22:00:34.057021\n",
      "uesr info: {'name': 'Kimura', 'age': 26}\n",
      "save datetime: 2023-11-19 22:00:34.057021\n",
      "uesr info: {'name': 'Sato', 'age': 28}\n",
      "save datetime: 2023-11-19 22:00:34.058031\n"
     ]
    }
   ],
   "source": [
    "# デフォルト引数を使う場合の注意\n",
    "def func1(a, b, c=0):\n",
    "    c = a + b + c\n",
    "    print(c)\n",
    "func1(1, 2)\n",
    "func1(2, 3)\n",
    "\n",
    "def func2(a, b, c=[]):\n",
    "    c.append(a + b)\n",
    "    print(c)\n",
    "func2(1, 2)\n",
    "func2(2, 3)\n",
    "\n",
    "from datetime import datetime\n",
    "import time\n",
    "def save_user(save_datetime=datetime.now(), **user):\n",
    "    print(f'uesr info: {user}')\n",
    "    print(f'save datetime: {save_datetime}')\n",
    "    time.sleep(0.1)\n",
    "\n",
    "user_info1 = {'name': 'Kogure', 'age': 27, 'gender': 'male'}\n",
    "user_info2 = {'name': 'Kimura', 'age': 26}\n",
    "user_info3 = {'name': 'Sato', 'age': 28, 'save_datetime': datetime.now()}\n",
    "print()\n",
    "save_user(**user_info1)\n",
    "save_user(**user_info2)\n",
    "save_user(**user_info3)"
   ]
  }
 ],
 "metadata": {
  "kernelspec": {
   "display_name": "Python 3",
   "language": "python",
   "name": "python3"
  },
  "language_info": {
   "codemirror_mode": {
    "name": "ipython",
    "version": 3
   },
   "file_extension": ".py",
   "mimetype": "text/x-python",
   "name": "python",
   "nbconvert_exporter": "python",
   "pygments_lexer": "ipython3",
   "version": "3.11.6"
  }
 },
 "nbformat": 4,
 "nbformat_minor": 2
}
