{
 "cells": [
  {
   "cell_type": "code",
   "execution_count": 1,
   "metadata": {},
   "outputs": [
    {
     "name": "stdout",
     "output_type": "stream",
     "text": [
      "p1=1, p2=2, p3=3\n",
      "p1=4, p2=5, p3=6\n"
     ]
    },
    {
     "ename": "TypeError",
     "evalue": "func() got some positional-only arguments passed as keyword arguments: 'p1'",
     "output_type": "error",
     "traceback": [
      "\u001b[1;31m---------------------------------------------------------------------------\u001b[0m",
      "\u001b[1;31mTypeError\u001b[0m                                 Traceback (most recent call last)",
      "Cell \u001b[1;32mIn[1], line 7\u001b[0m\n\u001b[0;32m      5\u001b[0m func(\u001b[38;5;241m1\u001b[39m, \u001b[38;5;241m2\u001b[39m, p3\u001b[38;5;241m=\u001b[39m\u001b[38;5;241m3\u001b[39m)\n\u001b[0;32m      6\u001b[0m func(\u001b[38;5;241m4\u001b[39m, p2\u001b[38;5;241m=\u001b[39m\u001b[38;5;241m5\u001b[39m, p3\u001b[38;5;241m=\u001b[39m\u001b[38;5;241m6\u001b[39m)\n\u001b[1;32m----> 7\u001b[0m \u001b[43mfunc\u001b[49m\u001b[43m(\u001b[49m\u001b[43mp1\u001b[49m\u001b[38;5;241;43m=\u001b[39;49m\u001b[38;5;241;43m7\u001b[39;49m\u001b[43m,\u001b[49m\u001b[43m \u001b[49m\u001b[43mp2\u001b[49m\u001b[38;5;241;43m=\u001b[39;49m\u001b[38;5;241;43m8\u001b[39;49m\u001b[43m,\u001b[49m\u001b[43m \u001b[49m\u001b[43mp3\u001b[49m\u001b[38;5;241;43m=\u001b[39;49m\u001b[38;5;241;43m9\u001b[39;49m\u001b[43m)\u001b[49m\n",
      "\u001b[1;31mTypeError\u001b[0m: func() got some positional-only arguments passed as keyword arguments: 'p1'"
     ]
    }
   ],
   "source": [
    "# 専用引数\n",
    "def func(p1, /, p2, *, p3):\n",
    "    print(f'p1={p1}, p2={p2}, p3={p3}')\n",
    "\n",
    "func(1, 2, p3=3)\n",
    "func(4, p2=5, p3=6)\n",
    "func(p1=7, p2=8, p3=9)\n"
   ]
  },
  {
   "cell_type": "code",
   "execution_count": 2,
   "metadata": {},
   "outputs": [
    {
     "ename": "TypeError",
     "evalue": "func() takes 2 positional arguments but 3 were given",
     "output_type": "error",
     "traceback": [
      "\u001b[1;31m---------------------------------------------------------------------------\u001b[0m",
      "\u001b[1;31mTypeError\u001b[0m                                 Traceback (most recent call last)",
      "Cell \u001b[1;32mIn[2], line 3\u001b[0m\n\u001b[0;32m      1\u001b[0m \u001b[38;5;28;01mdef\u001b[39;00m \u001b[38;5;21mfunc\u001b[39m(p1, \u001b[38;5;241m/\u001b[39m, p2, \u001b[38;5;241m*\u001b[39m, p3):\n\u001b[0;32m      2\u001b[0m     \u001b[38;5;28mprint\u001b[39m(\u001b[38;5;124mf\u001b[39m\u001b[38;5;124m'\u001b[39m\u001b[38;5;124mp1=\u001b[39m\u001b[38;5;132;01m{\u001b[39;00mp1\u001b[38;5;132;01m}\u001b[39;00m\u001b[38;5;124m, p2=\u001b[39m\u001b[38;5;132;01m{\u001b[39;00mp2\u001b[38;5;132;01m}\u001b[39;00m\u001b[38;5;124m, p3=\u001b[39m\u001b[38;5;132;01m{\u001b[39;00mp3\u001b[38;5;132;01m}\u001b[39;00m\u001b[38;5;124m'\u001b[39m)\n\u001b[1;32m----> 3\u001b[0m \u001b[43mfunc\u001b[49m\u001b[43m(\u001b[49m\u001b[38;5;241;43m10\u001b[39;49m\u001b[43m,\u001b[49m\u001b[43m \u001b[49m\u001b[38;5;241;43m11\u001b[39;49m\u001b[43m,\u001b[49m\u001b[43m \u001b[49m\u001b[38;5;241;43m12\u001b[39;49m\u001b[43m)\u001b[49m\n",
      "\u001b[1;31mTypeError\u001b[0m: func() takes 2 positional arguments but 3 were given"
     ]
    }
   ],
   "source": [
    "\n",
    "def func(p1, /, p2, *, p3):\n",
    "    print(f'p1={p1}, p2={p2}, p3={p3}')\n",
    "func(10, 11, 12)\n"
   ]
  },
  {
   "cell_type": "code",
   "execution_count": 1,
   "metadata": {},
   "outputs": [
    {
     "name": "stdout",
     "output_type": "stream",
     "text": [
      "3\n",
      "5\n",
      "[3]\n",
      "[3, 5]\n"
     ]
    }
   ],
   "source": [
    "# デフォルト引数を使う場合の注意\n",
    "def func1(a, b, c=0):\n",
    "    c = a + b + c\n",
    "    print(c)\n",
    "func1(1, 2)\n",
    "func1(2, 3)\n",
    "\n",
    "def func2(a, b, c=[]):\n",
    "    c.append(a + b)\n",
    "    print(c)\n",
    "func2(1, 2)\n",
    "func2(2, 3)\n"
   ]
  },
  {
   "cell_type": "code",
   "execution_count": 2,
   "metadata": {},
   "outputs": [
    {
     "name": "stdout",
     "output_type": "stream",
     "text": [
      "uesr info: {'name': 'Kogure', 'age': 27, 'gender': 'male'}\n",
      "save datetime: 2023-12-09 17:11:36.087647\n",
      "uesr info: {'name': 'Kimura', 'age': 26}\n",
      "save datetime: 2023-12-09 17:11:36.087647\n",
      "uesr info: {'name': 'Sato', 'age': 28}\n",
      "save datetime: 2023-12-09 17:11:36.088151\n"
     ]
    }
   ],
   "source": [
    "from datetime import datetime\n",
    "import time\n",
    "\n",
    "def save_user(save_datetime=datetime.now(), **user):\n",
    "    print(f\"uesr info: {user}\")\n",
    "    print(f\"save datetime: {save_datetime}\")\n",
    "    time.sleep(0.1)\n",
    "\n",
    "user_info1 = {\"name\": \"Kogure\", \"age\": 27, \"gender\": \"male\"}\n",
    "user_info2 = {\"name\": \"Kimura\", \"age\": 26}\n",
    "user_info3 = {\"name\": \"Sato\", \"age\": 28, \"save_datetime\": datetime.now()}\n",
    "save_user(**user_info1)\n",
    "save_user(**user_info2)\n",
    "save_user(**user_info3)\n"
   ]
  }
 ],
 "metadata": {
  "kernelspec": {
   "display_name": "Python 3",
   "language": "python",
   "name": "python3"
  },
  "language_info": {
   "codemirror_mode": {
    "name": "ipython",
    "version": 3
   },
   "file_extension": ".py",
   "mimetype": "text/x-python",
   "name": "python",
   "nbconvert_exporter": "python",
   "pygments_lexer": "ipython3",
   "version": "3.11.7"
  }
 },
 "nbformat": 4,
 "nbformat_minor": 2
}
