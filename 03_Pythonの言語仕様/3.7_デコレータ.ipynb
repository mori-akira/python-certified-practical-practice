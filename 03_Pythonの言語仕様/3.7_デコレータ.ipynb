{
 "cells": [
  {
   "cell_type": "code",
   "execution_count": 4,
   "metadata": {},
   "outputs": [
    {
     "name": "stdout",
     "output_type": "stream",
     "text": [
      "retry\n",
      "retry\n",
      "retry\n",
      "retry\n",
      "retry\n",
      "retry\n",
      "process completed\n"
     ]
    }
   ],
   "source": [
    "# リトライ\n",
    "import random\n",
    "from retrying import retry\n",
    "\n",
    "@retry\n",
    "def proc():\n",
    "    if random.randint(0, 10) == 5:\n",
    "        print('process completed')\n",
    "    else:\n",
    "        print('retry')\n",
    "        raise ValueError('invalid value')\n",
    "\n",
    "proc()"
   ]
  },
  {
   "cell_type": "code",
   "execution_count": 5,
   "metadata": {},
   "outputs": [
    {
     "name": "stdout",
     "output_type": "stream",
     "text": [
      "retry\n",
      "retry\n",
      "retry\n"
     ]
    },
    {
     "ename": "ValueError",
     "evalue": "invalid value",
     "output_type": "error",
     "traceback": [
      "\u001b[1;31m---------------------------------------------------------------------------\u001b[0m",
      "\u001b[1;31mValueError\u001b[0m                                Traceback (most recent call last)",
      "\u001b[1;32mc:\\Users\\kgrmr\\OneDrive\\ドキュメント\\GitHub\\python-certified-practical-practice\\03_Pythonの言語仕様\\3.7_デコレータ.ipynb Cell 2\u001b[0m line \u001b[0;36m9\n\u001b[0;32m      <a href='vscode-notebook-cell:/c%3A/Users/kgrmr/OneDrive/%E3%83%89%E3%82%AD%E3%83%A5%E3%83%A1%E3%83%B3%E3%83%88/GitHub/python-certified-practical-practice/03_Python%E3%81%AE%E8%A8%80%E8%AA%9E%E4%BB%95%E6%A7%98/3.7_%E3%83%87%E3%82%B3%E3%83%AC%E3%83%BC%E3%82%BF.ipynb#W1sZmlsZQ%3D%3D?line=5'>6</a>\u001b[0m         \u001b[39mprint\u001b[39m(\u001b[39m'\u001b[39m\u001b[39mretry\u001b[39m\u001b[39m'\u001b[39m)\n\u001b[0;32m      <a href='vscode-notebook-cell:/c%3A/Users/kgrmr/OneDrive/%E3%83%89%E3%82%AD%E3%83%A5%E3%83%A1%E3%83%B3%E3%83%88/GitHub/python-certified-practical-practice/03_Python%E3%81%AE%E8%A8%80%E8%AA%9E%E4%BB%95%E6%A7%98/3.7_%E3%83%87%E3%82%B3%E3%83%AC%E3%83%BC%E3%82%BF.ipynb#W1sZmlsZQ%3D%3D?line=6'>7</a>\u001b[0m         \u001b[39mraise\u001b[39;00m \u001b[39mValueError\u001b[39;00m(\u001b[39m'\u001b[39m\u001b[39minvalid value\u001b[39m\u001b[39m'\u001b[39m)\n\u001b[1;32m----> <a href='vscode-notebook-cell:/c%3A/Users/kgrmr/OneDrive/%E3%83%89%E3%82%AD%E3%83%A5%E3%83%A1%E3%83%B3%E3%83%88/GitHub/python-certified-practical-practice/03_Python%E3%81%AE%E8%A8%80%E8%AA%9E%E4%BB%95%E6%A7%98/3.7_%E3%83%87%E3%82%B3%E3%83%AC%E3%83%BC%E3%82%BF.ipynb#W1sZmlsZQ%3D%3D?line=8'>9</a>\u001b[0m proc()\n",
      "File \u001b[1;32m~\\AppData\\Local\\Packages\\PythonSoftwareFoundation.Python.3.11_qbz5n2kfra8p0\\LocalCache\\local-packages\\Python311\\site-packages\\retrying.py:56\u001b[0m, in \u001b[0;36mretry.<locals>.wrap.<locals>.wrapped_f\u001b[1;34m(*args, **kw)\u001b[0m\n\u001b[0;32m     54\u001b[0m \u001b[39m@six\u001b[39m\u001b[39m.\u001b[39mwraps(f)\n\u001b[0;32m     55\u001b[0m \u001b[39mdef\u001b[39;00m \u001b[39mwrapped_f\u001b[39m(\u001b[39m*\u001b[39margs, \u001b[39m*\u001b[39m\u001b[39m*\u001b[39mkw):\n\u001b[1;32m---> 56\u001b[0m     \u001b[39mreturn\u001b[39;00m Retrying(\u001b[39m*\u001b[39;49mdargs, \u001b[39m*\u001b[39;49m\u001b[39m*\u001b[39;49mdkw)\u001b[39m.\u001b[39;49mcall(f, \u001b[39m*\u001b[39;49margs, \u001b[39m*\u001b[39;49m\u001b[39m*\u001b[39;49mkw)\n",
      "File \u001b[1;32m~\\AppData\\Local\\Packages\\PythonSoftwareFoundation.Python.3.11_qbz5n2kfra8p0\\LocalCache\\local-packages\\Python311\\site-packages\\retrying.py:266\u001b[0m, in \u001b[0;36mRetrying.call\u001b[1;34m(self, fn, *args, **kwargs)\u001b[0m\n\u001b[0;32m    263\u001b[0m \u001b[39mif\u001b[39;00m \u001b[39mself\u001b[39m\u001b[39m.\u001b[39mstop(attempt_number, delay_since_first_attempt_ms):\n\u001b[0;32m    264\u001b[0m     \u001b[39mif\u001b[39;00m \u001b[39mnot\u001b[39;00m \u001b[39mself\u001b[39m\u001b[39m.\u001b[39m_wrap_exception \u001b[39mand\u001b[39;00m attempt\u001b[39m.\u001b[39mhas_exception:\n\u001b[0;32m    265\u001b[0m         \u001b[39m# get() on an attempt with an exception should cause it to be raised, but raise just in case\u001b[39;00m\n\u001b[1;32m--> 266\u001b[0m         \u001b[39mraise\u001b[39;00m attempt\u001b[39m.\u001b[39;49mget()\n\u001b[0;32m    267\u001b[0m     \u001b[39melse\u001b[39;00m:\n\u001b[0;32m    268\u001b[0m         \u001b[39mraise\u001b[39;00m RetryError(attempt)\n",
      "File \u001b[1;32m~\\AppData\\Local\\Packages\\PythonSoftwareFoundation.Python.3.11_qbz5n2kfra8p0\\LocalCache\\local-packages\\Python311\\site-packages\\retrying.py:301\u001b[0m, in \u001b[0;36mAttempt.get\u001b[1;34m(self, wrap_exception)\u001b[0m\n\u001b[0;32m    299\u001b[0m         \u001b[39mraise\u001b[39;00m RetryError(\u001b[39mself\u001b[39m)\n\u001b[0;32m    300\u001b[0m     \u001b[39melse\u001b[39;00m:\n\u001b[1;32m--> 301\u001b[0m         six\u001b[39m.\u001b[39;49mreraise(\u001b[39mself\u001b[39;49m\u001b[39m.\u001b[39;49mvalue[\u001b[39m0\u001b[39;49m], \u001b[39mself\u001b[39;49m\u001b[39m.\u001b[39;49mvalue[\u001b[39m1\u001b[39;49m], \u001b[39mself\u001b[39;49m\u001b[39m.\u001b[39;49mvalue[\u001b[39m2\u001b[39;49m])\n\u001b[0;32m    302\u001b[0m \u001b[39melse\u001b[39;00m:\n\u001b[0;32m    303\u001b[0m     \u001b[39mreturn\u001b[39;00m \u001b[39mself\u001b[39m\u001b[39m.\u001b[39mvalue\n",
      "File \u001b[1;32m~\\AppData\\Local\\Packages\\PythonSoftwareFoundation.Python.3.11_qbz5n2kfra8p0\\LocalCache\\local-packages\\Python311\\site-packages\\six.py:719\u001b[0m, in \u001b[0;36mreraise\u001b[1;34m(tp, value, tb)\u001b[0m\n\u001b[0;32m    717\u001b[0m     \u001b[39mif\u001b[39;00m value\u001b[39m.\u001b[39m__traceback__ \u001b[39mis\u001b[39;00m \u001b[39mnot\u001b[39;00m tb:\n\u001b[0;32m    718\u001b[0m         \u001b[39mraise\u001b[39;00m value\u001b[39m.\u001b[39mwith_traceback(tb)\n\u001b[1;32m--> 719\u001b[0m     \u001b[39mraise\u001b[39;00m value\n\u001b[0;32m    720\u001b[0m \u001b[39mfinally\u001b[39;00m:\n\u001b[0;32m    721\u001b[0m     value \u001b[39m=\u001b[39m \u001b[39mNone\u001b[39;00m\n",
      "File \u001b[1;32m~\\AppData\\Local\\Packages\\PythonSoftwareFoundation.Python.3.11_qbz5n2kfra8p0\\LocalCache\\local-packages\\Python311\\site-packages\\retrying.py:251\u001b[0m, in \u001b[0;36mRetrying.call\u001b[1;34m(self, fn, *args, **kwargs)\u001b[0m\n\u001b[0;32m    248\u001b[0m     \u001b[39mself\u001b[39m\u001b[39m.\u001b[39m_before_attempts(attempt_number)\n\u001b[0;32m    250\u001b[0m \u001b[39mtry\u001b[39;00m:\n\u001b[1;32m--> 251\u001b[0m     attempt \u001b[39m=\u001b[39m Attempt(fn(\u001b[39m*\u001b[39;49margs, \u001b[39m*\u001b[39;49m\u001b[39m*\u001b[39;49mkwargs), attempt_number, \u001b[39mFalse\u001b[39;00m)\n\u001b[0;32m    252\u001b[0m \u001b[39mexcept\u001b[39;00m:\n\u001b[0;32m    253\u001b[0m     tb \u001b[39m=\u001b[39m sys\u001b[39m.\u001b[39mexc_info()\n",
      "\u001b[1;32mc:\\Users\\kgrmr\\OneDrive\\ドキュメント\\GitHub\\python-certified-practical-practice\\03_Pythonの言語仕様\\3.7_デコレータ.ipynb Cell 2\u001b[0m line \u001b[0;36m7\n\u001b[0;32m      <a href='vscode-notebook-cell:/c%3A/Users/kgrmr/OneDrive/%E3%83%89%E3%82%AD%E3%83%A5%E3%83%A1%E3%83%B3%E3%83%88/GitHub/python-certified-practical-practice/03_Python%E3%81%AE%E8%A8%80%E8%AA%9E%E4%BB%95%E6%A7%98/3.7_%E3%83%87%E3%82%B3%E3%83%AC%E3%83%BC%E3%82%BF.ipynb#W1sZmlsZQ%3D%3D?line=4'>5</a>\u001b[0m \u001b[39melse\u001b[39;00m:\n\u001b[0;32m      <a href='vscode-notebook-cell:/c%3A/Users/kgrmr/OneDrive/%E3%83%89%E3%82%AD%E3%83%A5%E3%83%A1%E3%83%B3%E3%83%88/GitHub/python-certified-practical-practice/03_Python%E3%81%AE%E8%A8%80%E8%AA%9E%E4%BB%95%E6%A7%98/3.7_%E3%83%87%E3%82%B3%E3%83%AC%E3%83%BC%E3%82%BF.ipynb#W1sZmlsZQ%3D%3D?line=5'>6</a>\u001b[0m     \u001b[39mprint\u001b[39m(\u001b[39m'\u001b[39m\u001b[39mretry\u001b[39m\u001b[39m'\u001b[39m)\n\u001b[1;32m----> <a href='vscode-notebook-cell:/c%3A/Users/kgrmr/OneDrive/%E3%83%89%E3%82%AD%E3%83%A5%E3%83%A1%E3%83%B3%E3%83%88/GitHub/python-certified-practical-practice/03_Python%E3%81%AE%E8%A8%80%E8%AA%9E%E4%BB%95%E6%A7%98/3.7_%E3%83%87%E3%82%B3%E3%83%AC%E3%83%BC%E3%82%BF.ipynb#W1sZmlsZQ%3D%3D?line=6'>7</a>\u001b[0m     \u001b[39mraise\u001b[39;00m \u001b[39mValueError\u001b[39;00m(\u001b[39m'\u001b[39m\u001b[39minvalid value\u001b[39m\u001b[39m'\u001b[39m)\n",
      "\u001b[1;31mValueError\u001b[0m: invalid value"
     ]
    }
   ],
   "source": [
    "import random\n",
    "from retrying import retry\n",
    "\n",
    "@retry(stop_max_attempt_number=3)\n",
    "def proc():\n",
    "    if random.randint(0, 10) == 5:\n",
    "        print('process completed')\n",
    "    else:\n",
    "        print('retry')\n",
    "        raise ValueError('invalid value')\n",
    "\n",
    "proc()"
   ]
  },
  {
   "cell_type": "code",
   "execution_count": 22,
   "metadata": {},
   "outputs": [
    {
     "name": "stdout",
     "output_type": "stream",
     "text": [
      "call function: name=my_func, args=(), kwargs={}\n",
      "p1=hoge, p2=fuga, p3=None\n",
      "complete function: name=my_func, ret=p1=hoge, p2=fuga, p3=None\n",
      "function=wrap, duration=0.10062861442565918\n",
      "\n",
      "call function: name=my_func, args=('hop', 'step', 'jump'), kwargs={}\n",
      "p1=hop, p2=step, p3=jump\n",
      "complete function: name=my_func, ret=p1=hop, p2=step, p3=jump\n",
      "function=wrap, duration=0.1006767749786377\n",
      "\n",
      "call function: name=my_func, args=('',), kwargs={'p3': 'xxx', 'p2': 'yyy'}\n",
      "p1=, p2=yyy, p3=xxx\n",
      "complete function: name=my_func, ret=p1=, p2=yyy, p3=xxx\n",
      "function=wrap, duration=0.10092997550964355\n"
     ]
    }
   ],
   "source": [
    "# デコレータ自作\n",
    "import time\n",
    "\n",
    "def timed(tar):\n",
    "    def wrap(*args, **kwargs):\n",
    "        start = time.time()\n",
    "        tar(*args, **kwargs)\n",
    "        print(f'function={tar.__name__}, duration={time.time() - start}')\n",
    "    return wrap\n",
    "\n",
    "def logged(tar):\n",
    "    def wrap(*args, **kwargs):\n",
    "        print(f'call function: name={tar.__name__}, args={args}, kwargs={kwargs}')\n",
    "        ret = tar(*args, **kwargs)\n",
    "        print(f'complete function: name={tar.__name__}, ret={ret}')\n",
    "        return ret\n",
    "    return wrap\n",
    "\n",
    "@timed\n",
    "@logged\n",
    "def my_func(p1='hoge', p2='fuga', p3=None):\n",
    "    print(f'p1={p1}, p2={p2}, p3={p3}')\n",
    "    time.sleep(0.1)\n",
    "    return f'p1={p1}, p2={p2}, p3={p3}'\n",
    "\n",
    "my_func()\n",
    "print()\n",
    "my_func('hop', 'step', 'jump')\n",
    "print()\n",
    "my_func('', p3='xxx', p2='yyy')"
   ]
  },
  {
   "cell_type": "code",
   "execution_count": 25,
   "metadata": {},
   "outputs": [
    {
     "name": "stdout",
     "output_type": "stream",
     "text": [
      "<function my_decorator.<locals>.wrap at 0x000002281E50C540>\n",
      "wrap\n",
      "docstring of decorator\n"
     ]
    }
   ],
   "source": [
    "# 関数名やdocstringの置き換わり\n",
    "def my_decorator(tar):\n",
    "    def wrap(*args, **kwargs):\n",
    "        '''docstring of decorator'''\n",
    "        tar(*args, **kwargs)\n",
    "    return wrap\n",
    "\n",
    "@my_decorator\n",
    "def my_func(param):\n",
    "    '''docstring of original'''\n",
    "    print(param)\n",
    "\n",
    "print(my_func)\n",
    "print(my_func.__name__)\n",
    "print(my_func.__doc__)"
   ]
  },
  {
   "cell_type": "code",
   "execution_count": 26,
   "metadata": {},
   "outputs": [
    {
     "name": "stdout",
     "output_type": "stream",
     "text": [
      "<function my_func at 0x000002281D7A6A20>\n",
      "my_func\n",
      "docstring of original\n"
     ]
    }
   ],
   "source": [
    "# functools.wrapsによる問題回避\n",
    "from functools import wraps\n",
    "\n",
    "def my_decorator(tar):\n",
    "    @wraps(tar)\n",
    "    def wrap(*args, **kwargs):\n",
    "        '''docstring of decorator'''\n",
    "        tar(*args, **kwargs)\n",
    "    return wrap\n",
    "\n",
    "@my_decorator\n",
    "def my_func(param):\n",
    "    '''docstring of original'''\n",
    "    print(param)\n",
    "\n",
    "print(my_func)\n",
    "print(my_func.__name__)\n",
    "print(my_func.__doc__)"
   ]
  }
 ],
 "metadata": {
  "kernelspec": {
   "display_name": "Python 3",
   "language": "python",
   "name": "python3"
  },
  "language_info": {
   "codemirror_mode": {
    "name": "ipython",
    "version": 3
   },
   "file_extension": ".py",
   "mimetype": "text/x-python",
   "name": "python",
   "nbconvert_exporter": "python",
   "pygments_lexer": "ipython3",
   "version": "3.11.6"
  }
 },
 "nbformat": 4,
 "nbformat_minor": 2
}
