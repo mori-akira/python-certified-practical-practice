{
 "cells": [
  {
   "cell_type": "code",
   "execution_count": 23,
   "metadata": {},
   "outputs": [
    {
     "name": "stdout",
     "output_type": "stream",
     "text": [
      "abcdefghijklmnopqrstuvwxyz0123456789\n",
      "\n",
      "5ix4ef4yqgwsrtdtgr1g4e7irduzpucp\n",
      "tf3xn2hyk1j316o5omvo8s2mwvtk4mpz\n",
      "b424bcdz97310rl51yit24fqni0pokjp\n",
      "3rlezg3j773e5jln9vzwynjiyfbgmaxw\n"
     ]
    }
   ],
   "source": [
    "# パスワードの生成\n",
    "import secrets\n",
    "import string\n",
    "alnum = string.ascii_lowercase + string.digits\n",
    "print(alnum)\n",
    "print()\n",
    "\n",
    "for _ in range(4):\n",
    "    for _ in range(32):\n",
    "        print(secrets.choice(alnum), end='')\n",
    "    print()\n"
   ]
  },
  {
   "cell_type": "code",
   "execution_count": 27,
   "metadata": {},
   "outputs": [
    {
     "name": "stdout",
     "output_type": "stream",
     "text": [
      "b'q^\\xd7\\xbcX\\x1e\\xac\\x87\\xf6Bah%3}q\\xfd\\x8c\\xce$df\\xfemQ\\x86G\\x95(\\xb2\\x1d\\r'\n",
      "b'~\\xea\\xeb\\xa6'\n"
     ]
    },
    {
     "ename": "UnicodeDecodeError",
     "evalue": "'utf-8' codec can't decode byte 0xfd in position 0: invalid start byte",
     "output_type": "error",
     "traceback": [
      "\u001b[1;31m---------------------------------------------------------------------------\u001b[0m",
      "\u001b[1;31mUnicodeDecodeError\u001b[0m                        Traceback (most recent call last)",
      "Cell \u001b[1;32mIn[27], line 5\u001b[0m\n\u001b[0;32m      3\u001b[0m \u001b[38;5;28mprint\u001b[39m(secrets\u001b[38;5;241m.\u001b[39mtoken_bytes())\n\u001b[0;32m      4\u001b[0m \u001b[38;5;28mprint\u001b[39m(secrets\u001b[38;5;241m.\u001b[39mtoken_bytes(\u001b[38;5;241m4\u001b[39m))\n\u001b[1;32m----> 5\u001b[0m \u001b[38;5;28mprint\u001b[39m(\u001b[43msecrets\u001b[49m\u001b[38;5;241;43m.\u001b[39;49m\u001b[43mtoken_bytes\u001b[49m\u001b[43m(\u001b[49m\u001b[43m)\u001b[49m\u001b[38;5;241;43m.\u001b[39;49m\u001b[43mdecode\u001b[49m\u001b[43m(\u001b[49m\u001b[43m)\u001b[49m)\n",
      "\u001b[1;31mUnicodeDecodeError\u001b[0m: 'utf-8' codec can't decode byte 0xfd in position 0: invalid start byte"
     ]
    }
   ],
   "source": [
    "# トークンの生成\n",
    "import secrets\n",
    "print(secrets.token_bytes())\n",
    "print(secrets.token_bytes(4))\n",
    "print(secrets.token_bytes().decode())\n"
   ]
  },
  {
   "cell_type": "code",
   "execution_count": 26,
   "metadata": {},
   "outputs": [
    {
     "name": "stdout",
     "output_type": "stream",
     "text": [
      "845207a43aa37488e1f92cec52f70e925293fb759de3ee9cc4a6f00416beb34c\n",
      "24cf65f630277b0b\n",
      "kChAQLQBiv6txee8QSg956oWpZGEnl5QQYSzWe3JhKo\n",
      "cNjwTh77JaKJgaE2NOmD3A\n"
     ]
    }
   ],
   "source": [
    "import secrets\n",
    "print(secrets.token_hex())\n",
    "print(secrets.token_hex(8))\n",
    "print(secrets.token_urlsafe())\n",
    "print(secrets.token_urlsafe(16))\n"
   ]
  },
  {
   "cell_type": "code",
   "execution_count": 29,
   "metadata": {},
   "outputs": [
    {
     "name": "stdout",
     "output_type": "stream",
     "text": [
      "True\n",
      "False\n"
     ]
    }
   ],
   "source": [
    "# トークンの検証\n",
    "import secrets\n",
    "token_a = secrets.token_bytes()\n",
    "token_b = secrets.token_bytes()\n",
    "print(secrets.compare_digest(token_a, token_a))\n",
    "print(secrets.compare_digest(token_a, token_b))\n"
   ]
  }
 ],
 "metadata": {
  "kernelspec": {
   "display_name": "Python 3",
   "language": "python",
   "name": "python3"
  },
  "language_info": {
   "codemirror_mode": {
    "name": "ipython",
    "version": 3
   },
   "file_extension": ".py",
   "mimetype": "text/x-python",
   "name": "python",
   "nbconvert_exporter": "python",
   "pygments_lexer": "ipython3",
   "version": "3.11.7"
  }
 },
 "nbformat": 4,
 "nbformat_minor": 2
}
