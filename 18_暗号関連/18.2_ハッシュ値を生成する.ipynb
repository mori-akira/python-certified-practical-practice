{
 "cells": [
  {
   "cell_type": "code",
   "execution_count": 1,
   "metadata": {},
   "outputs": [
    {
     "name": "stdout",
     "output_type": "stream",
     "text": [
      "{'md5', 'sm3', 'sha512', 'shake_128', 'ripemd160', 'sha256', 'sha512_224', 'blake2b', 'sha3_256', 'sha3_384', 'sha1', 'md5-sha1', 'sha3_512', 'sha384', 'sha3_224', 'sha224', 'sha512_256', 'blake2s', 'shake_256'}\n"
     ]
    }
   ],
   "source": [
    "# 利用可能なハッシュアルゴリズム\n",
    "import hashlib\n",
    "print(hashlib.algorithms_available)\n"
   ]
  },
  {
   "cell_type": "code",
   "execution_count": 3,
   "metadata": {},
   "outputs": [
    {
     "name": "stdout",
     "output_type": "stream",
     "text": [
      "e9e21d51f2a57bb83e99e4476f1f2eaf0c443c68\n",
      "b'\\xe9\\xe2\\x1dQ\\xf2\\xa5{\\xb8>\\x99\\xe4Go\\x1f.\\xaf\\x0cD<h'\n"
     ]
    }
   ],
   "source": [
    "# sha1アルゴリズムでハッシュ値を算出\n",
    "import hashlib\n",
    "hash_sha1 = hashlib.sha1()\n",
    "hash_sha1.update(b'Sample String')\n",
    "print(hash_sha1.hexdigest())\n",
    "print(hash_sha1.digest())\n"
   ]
  },
  {
   "cell_type": "code",
   "execution_count": 16,
   "metadata": {},
   "outputs": [
    {
     "name": "stdout",
     "output_type": "stream",
     "text": [
      "b'e<\\xc8\\x88\\xd97\\xef\\xe2(\\x10\\xa5\\xcb\\xdb%\\xa5\\xbd\\x82\\xe2\\xeb\\xb2z\\x80\\x0f\\x85\\xcf\\xa3`\\xa6\\xd9%\\x19\\x8e'\n",
      "e<Ȉ7(\u0010%z\u000fϣ`%\u0019\n"
     ]
    }
   ],
   "source": [
    "# 鍵導出\n",
    "import hashlib\n",
    "password = 'password'.encode()\n",
    "salt = 'salt'.encode()\n",
    "stretch = 10\n",
    "hashed_password = hashlib.pbkdf2_hmac('sha256', password=password, salt=salt, iterations=stretch)\n",
    "print(hashed_password)\n",
    "print(hashed_password.decode(errors='ignore'))\n"
   ]
  }
 ],
 "metadata": {
  "kernelspec": {
   "display_name": "Python 3",
   "language": "python",
   "name": "python3"
  },
  "language_info": {
   "codemirror_mode": {
    "name": "ipython",
    "version": 3
   },
   "file_extension": ".py",
   "mimetype": "text/x-python",
   "name": "python",
   "nbconvert_exporter": "python",
   "pygments_lexer": "ipython3",
   "version": "3.11.7"
  }
 },
 "nbformat": 4,
 "nbformat_minor": 2
}
