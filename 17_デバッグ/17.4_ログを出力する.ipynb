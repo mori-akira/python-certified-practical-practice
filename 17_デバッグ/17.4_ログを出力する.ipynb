{
 "cells": [
  {
   "cell_type": "code",
   "execution_count": 6,
   "metadata": {},
   "outputs": [
    {
     "name": "stdout",
     "output_type": "stream",
     "text": [
      "50\n",
      "40\n",
      "30\n",
      "20\n",
      "10\n",
      "0\n",
      "{50: 'CRITICAL', 40: 'ERROR', 30: 'WARNING', 20: 'INFO', 10: 'DEBUG', 0: 'NOTSET'}\n"
     ]
    }
   ],
   "source": [
    "# 標準のログレベルと価\n",
    "import logging\n",
    "\n",
    "print(logging.CRITICAL)\n",
    "print(logging.ERROR)\n",
    "print(logging.WARNING)\n",
    "print(logging.INFO)\n",
    "print(logging.DEBUG)\n",
    "print(logging.NOTSET)\n",
    "print(logging._levelToName)\n"
   ]
  },
  {
   "cell_type": "code",
   "execution_count": 9,
   "metadata": {},
   "outputs": [
    {
     "name": "stderr",
     "output_type": "stream",
     "text": [
      "WARNING:root:warning log\n"
     ]
    }
   ],
   "source": [
    "# ログを出力\n",
    "import logging\n",
    "logging.debug('debug log')\n",
    "logging.info('info log')\n",
    "logging.warning('warning log')\n"
   ]
  },
  {
   "cell_type": "code",
   "execution_count": 19,
   "metadata": {},
   "outputs": [
    {
     "name": "stderr",
     "output_type": "stream",
     "text": [
      "WARNING:root:warning log\n"
     ]
    }
   ],
   "source": [
    "# ログ設定\n",
    "import logging\n",
    "\n",
    "format = '%(process)s:%(thread)s %(asctime)s %(levelname)6s %(filename)12s:%(lineno)4d %(message)s'\n",
    "logging.basicConfig(filename='log.log', filemode='a', format=format, level=logging.INFO)\n",
    "\n",
    "logging.debug('debug log')\n",
    "logging.info('info log')\n",
    "logging.warning('warning log')\n"
   ]
  },
  {
   "cell_type": "code",
   "execution_count": 2,
   "metadata": {},
   "outputs": [
    {
     "name": "stderr",
     "output_type": "stream",
     "text": [
      "INFO:root:info log\n",
      "WARNING:root:warning log\n"
     ]
    }
   ],
   "source": [
    "# Jupyterでログレベルを変える場合、ロガーを設定する\n",
    "import logging\n",
    "\n",
    "logger = logging.getLogger()\n",
    "logger.setLevel(logging.INFO)\n",
    "\n",
    "logging.debug('debug log')\n",
    "logging.info('info log')\n",
    "logging.warning('warning log')\n"
   ]
  },
  {
   "cell_type": "markdown",
   "metadata": {},
   "source": [
    "### ロギングを構成する部品\n",
    "\n",
    "<table>\n",
    "    <thead>\n",
    "        <tr>\n",
    "            <th>名前</th>\n",
    "            <th>説明</th>\n",
    "        </tr>\n",
    "    </thead>\n",
    "    <tbody>\n",
    "        <tr>\n",
    "            <td><m-b>ロガー</m-b></td>\n",
    "            <td>ログ出力のI/Fを提供する</td>\n",
    "        </tr>\n",
    "        <tr>\n",
    "            <td><m-b>ハンドラー</m-b></td>\n",
    "            <td>ログの送信先を指定する</td>\n",
    "        </tr>\n",
    "        <tr>\n",
    "            <td><m-b>フィルター</m-b></td>\n",
    "            <td>ログのフィルタリング機能を提供する</td>\n",
    "        </tr>\n",
    "        <tr>\n",
    "            <td><m-b>フォーマッター</m-b></td>\n",
    "            <td>ログの出力フォーマットを指定する</td>\n",
    "        </tr>\n",
    "    </tbody>\n",
    "</table>\n"
   ]
  },
  {
   "cell_type": "code",
   "execution_count": 1,
   "metadata": {},
   "outputs": [
    {
     "name": "stderr",
     "output_type": "stream",
     "text": [
      "warning\n"
     ]
    },
    {
     "name": "stdout",
     "output_type": "stream",
     "text": [
      "\n",
      "info\n",
      "warning\n",
      "\n"
     ]
    }
   ],
   "source": [
    "# ロガー・ハンドラー・フィルターを使用\n",
    "import logging\n",
    "from pathlib import Path\n",
    "\n",
    "# hoge.fuga.piyoロガーを作成\n",
    "logger = logging.getLogger('hoge.fuga.piyo')\n",
    "logger.setLevel(logging.INFO)\n",
    "\n",
    "# hoge.fugaでフィルタリングするフィルター\n",
    "filter = logging.Filter('hoge.fuga')\n",
    "\n",
    "# ファイルに出力するハンドラー\n",
    "handler = logging.FileHandler('log.log', mode='w')\n",
    "handler.setLevel(logging.INFO)\n",
    "handler.addFilter(filter)\n",
    "logger.addHandler(handler)\n",
    "\n",
    "# コンソールに出力するハンドラー\n",
    "handler2 = logging.StreamHandler()\n",
    "handler2.setLevel(logging.WARNING)\n",
    "handler2.addFilter(filter)\n",
    "logger.addHandler(handler2)\n",
    "\n",
    "logger.info('info')\n",
    "logger.warning('warning')\n",
    "print()\n",
    "print(Path('log.log').read_text())\n"
   ]
  }
 ],
 "metadata": {
  "kernelspec": {
   "display_name": "Python 3",
   "language": "python",
   "name": "python3"
  },
  "language_info": {
   "codemirror_mode": {
    "name": "ipython",
    "version": 3
   },
   "file_extension": ".py",
   "mimetype": "text/x-python",
   "name": "python",
   "nbconvert_exporter": "python",
   "pygments_lexer": "ipython3",
   "version": "3.11.7"
  }
 },
 "nbformat": 4,
 "nbformat_minor": 2
}
