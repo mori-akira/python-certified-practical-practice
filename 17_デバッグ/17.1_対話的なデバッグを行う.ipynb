{
 "cells": [
  {
   "cell_type": "markdown",
   "metadata": {},
   "source": [
    "### pdbがサポートする代表的なデバッガコマンド\n",
    "※()内は省略可\n",
    "\n",
    "<table>\n",
    "    <thead>\n",
    "        <tr>\n",
    "            <th>オプション</th>\n",
    "            <th>説明</th>\n",
    "        </tr>\n",
    "    </thead>\n",
    "    <tbody>\n",
    "        <tr>\n",
    "            <td><m-b>h(elp) [command]</m-b></td>\n",
    "            <td>ヘルプコマンド</td>\n",
    "        </tr>\n",
    "        <tr>\n",
    "            <td><m-b>w(here)</m-b></td>\n",
    "            <td>スタックトレースを出力</td>\n",
    "        </tr>\n",
    "        <tr>\n",
    "            <td><m-b>n(ext)</m-b></td>\n",
    "            <td>次に進む</td>\n",
    "        </tr>\n",
    "        <tr>\n",
    "            <td><m-b>l(ist) [first, [last]]</m-b></td>\n",
    "            <td>\n",
    "                指定した範囲のソースを出力<br>\n",
    "                指定がない場合は、周囲11行を表示する。\n",
    "            </td>\n",
    "        </tr>\n",
    "        <tr>\n",
    "            <td><m-b>c(ont(inue))</m-b></td>\n",
    "            <td>ブレークポイントに到達するまで実行</td>\n",
    "        </tr>\n",
    "        <tr>\n",
    "            <td><m-b>p expression</m-b></td>\n",
    "            <td>現在行の時点でのexpressionを出力</td>\n",
    "        </tr>\n",
    "        <tr>\n",
    "            <td><m-b>pp expression</m-b></td>\n",
    "            <td>現在行の時点でのexpressionをpprintモジュールを用いて出力</td>\n",
    "        </tr>\n",
    "        <tr>\n",
    "            <td><m-b>q(uit)</m-b></td>\n",
    "            <td>デバッガを終了</td>\n",
    "        </tr>\n",
    "    </tbody>\n",
    "</table>\n"
   ]
  },
  {
   "cell_type": "code",
   "execution_count": 2,
   "metadata": {},
   "outputs": [
    {
     "name": "stdout",
     "output_type": "stream",
     "text": [
      "> \u001b[1;32mc:\\users\\kgrmr\\appdata\\local\\temp\\ipykernel_12816\\1486788186.py\u001b[0m(8)\u001b[0;36mget_system_implementation\u001b[1;34m()\u001b[0m\n",
      "\n",
      "\n",
      "Documented commands (type help <topic>):\n",
      "========================================\n",
      "EOF    commands   enable      list      pinfo2   rv               unt   \n",
      "a      condition  exceptions  ll        pp       s                until \n",
      "alias  cont       exit        longlist  psource  skip_hidden      up    \n",
      "args   context    h           n         q        skip_predicates  w     \n",
      "b      continue   help        next      quit     source           whatis\n",
      "break  d          ignore      p         r        step             where \n",
      "bt     debug      interact    pdef      restart  tbreak         \n",
      "c      disable    j           pdoc      return   u              \n",
      "cl     display    jump        pfile     retval   unalias        \n",
      "clear  down       l           pinfo     run      undisplay      \n",
      "\n",
      "Miscellaneous help topics:\n",
      "==========================\n",
      "exec  pdb\n",
      "\n",
      "namespace(name='cpython', cache_tag='cpython-311', version=sys.version_info(major=3, minor=11, micro=7, releaselevel='final', serial=0), hexversion=51054576)\n"
     ]
    }
   ],
   "source": [
    "# デバッガを挿入\n",
    "import sys\n",
    "import pdb\n",
    "\n",
    "def get_system_implementation():\n",
    "    result = sys.implementation\n",
    "    pdb.set_trace()\n",
    "    return result\n",
    "\n",
    "def main():\n",
    "    get_system_implementation()\n",
    "\n",
    "if __name__ == '__main__':\n",
    "    main()\n"
   ]
  }
 ],
 "metadata": {
  "kernelspec": {
   "display_name": "Python 3",
   "language": "python",
   "name": "python3"
  },
  "language_info": {
   "codemirror_mode": {
    "name": "ipython",
    "version": 3
   },
   "file_extension": ".py",
   "mimetype": "text/x-python",
   "name": "python",
   "nbconvert_exporter": "python",
   "pygments_lexer": "ipython3",
   "version": "3.11.7"
  }
 },
 "nbformat": 4,
 "nbformat_minor": 2
}
