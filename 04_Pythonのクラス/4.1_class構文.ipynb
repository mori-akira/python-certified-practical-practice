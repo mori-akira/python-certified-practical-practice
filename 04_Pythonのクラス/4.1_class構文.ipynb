{
 "cells": [
  {
   "cell_type": "code",
   "execution_count": 3,
   "metadata": {},
   "outputs": [
    {
     "name": "stdout",
     "output_type": "stream",
     "text": [
      "My name is Kogure.\n",
      "I'm 27 years old.\n",
      "\n",
      "My name is Sato.\n",
      "I'm 69 years old.\n",
      "I'm senior employee.\n",
      "\n"
     ]
    }
   ],
   "source": [
    "# クラス定義の例\n",
    "\n",
    "class Employee:\n",
    "    type = None\n",
    "    def __init__(self, name, age):\n",
    "        self.name = name\n",
    "        self.age = age\n",
    "        if age > 65:\n",
    "            self.type = 'senior'\n",
    "\n",
    "    def greet(self):\n",
    "        print(f'My name is {self.name}.')\n",
    "        print(f\"I'm {self.age} years old.\")\n",
    "        if self.type == 'senior':\n",
    "            print(\"I'm senior employee.\")\n",
    "        print()\n",
    "\n",
    "e1 = Employee('Kogure', 27)\n",
    "e2 = Employee('Sato', 69)\n",
    "e1.greet()\n",
    "e2.greet()"
   ]
  }
 ],
 "metadata": {
  "kernelspec": {
   "display_name": "Python 3",
   "language": "python",
   "name": "python3"
  },
  "language_info": {
   "codemirror_mode": {
    "name": "ipython",
    "version": 3
   },
   "file_extension": ".py",
   "mimetype": "text/x-python",
   "name": "python",
   "nbconvert_exporter": "python",
   "pygments_lexer": "ipython3",
   "version": "3.11.6"
  }
 },
 "nbformat": 4,
 "nbformat_minor": 2
}
