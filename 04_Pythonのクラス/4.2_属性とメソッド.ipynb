{
 "cells": [
  {
   "cell_type": "code",
   "execution_count": 3,
   "metadata": {},
   "outputs": [
    {
     "name": "stdout",
     "output_type": "stream",
     "text": [
      "tmp\n",
      "AttributeError\n",
      "tmp\n",
      "temp\n"
     ]
    }
   ],
   "source": [
    "# クラス変数とインスタンス変数\n",
    "class Sample:\n",
    "    var1 = 'tmp'\n",
    "    def __init__(self, var2):\n",
    "        self.var2 = var2\n",
    "\n",
    "try:\n",
    "    print(Sample.var1)\n",
    "except AttributeError:\n",
    "    print('AttributeError')\n",
    "try:\n",
    "    print(Sample.var2)\n",
    "except AttributeError:\n",
    "    print('AttributeError')\n",
    "\n",
    "sample = Sample('temp')\n",
    "try:\n",
    "    print(sample.var1)\n",
    "except AttributeError:\n",
    "    print('AttributeError')\n",
    "try:\n",
    "    print(sample.var2)\n",
    "except AttributeError:\n",
    "    print('AttributeError')"
   ]
  },
  {
   "cell_type": "code",
   "execution_count": 6,
   "metadata": {},
   "outputs": [
    {
     "name": "stdout",
     "output_type": "stream",
     "text": [
      "hoge\n",
      "xxxhoge\n"
     ]
    }
   ],
   "source": [
    "# 静的メソッド\n",
    "class HogeUtil:\n",
    "    @staticmethod\n",
    "    def getHoge():\n",
    "        return 'hoge'\n",
    "    @staticmethod\n",
    "    def appendHoge(tar):\n",
    "        return tar + 'hoge'\n",
    "\n",
    "print(HogeUtil.getHoge())\n",
    "print(HogeUtil.appendHoge('xxx'))"
   ]
  },
  {
   "cell_type": "markdown",
   "metadata": {},
   "source": [
    "## 主な特殊メソッド\n",
    "\n",
    "<table>\n",
    "    <thead>\n",
    "        <tr>\n",
    "            <th>メソッド</th>\n",
    "            <th>用途</th>\n",
    "        </tr>\n",
    "    </thead>\n",
    "    <tbody>\n",
    "        <tr>\n",
    "            <td><m-b>__init__</m-b></td>\n",
    "            <td>コンストラクタ</td>\n",
    "        </tr>\n",
    "        <tr>\n",
    "            <td><m-b>__call__</m-b></td>\n",
    "            <td>呼び出し可能化(関数のようにインスタンスを呼び出せるようにする)</td>\n",
    "        </tr>\n",
    "        <tr>\n",
    "            <td><m-b>__repr__</m-b></td>\n",
    "            <td>文字列表現</td>\n",
    "        </tr>\n",
    "        <tr>\n",
    "            <td><m-b>__str__</m-b></td>\n",
    "            <td>文字列型への変換</td>\n",
    "        </tr>\n",
    "        <tr>\n",
    "            <td><m-b>__len__</m-b></td>\n",
    "            <td>要素数の取得</td>\n",
    "        </tr>\n",
    "        <tr>\n",
    "            <td><m-b>__lt__</m-b></td>\n",
    "            <td>小なり比較演算子</td>\n",
    "        </tr>\n",
    "        <tr>\n",
    "            <td><m-b>__gt__</m-b></td>\n",
    "            <td>大なり比較演算子</td>\n",
    "        </tr>\n",
    "        <tr>\n",
    "            <td><m-b>__le__</m-b></td>\n",
    "            <td>以下比較演算子</td>\n",
    "        </tr>\n",
    "        <tr>\n",
    "            <td><m-b>__ge__</m-b></td>\n",
    "            <td>以上比較演算子</td>\n",
    "        </tr>\n",
    "        <tr>\n",
    "            <td><m-b>__eq__</m-b></td>\n",
    "            <td>等価比較演算子</td>\n",
    "        </tr>\n",
    "        <tr>\n",
    "            <td><m-b>__ne__</m-b></td>\n",
    "            <td>非等価比較演算子</td>\n",
    "        </tr>\n",
    "        <tr>\n",
    "            <td><m-b>__add__</m-b></td>\n",
    "            <td>加算演算子</td>\n",
    "        </tr>\n",
    "        <tr>\n",
    "            <td><m-b>__sub__</m-b></td>\n",
    "            <td>減算演算子</td>\n",
    "        </tr>\n",
    "        <tr>\n",
    "            <td><m-b>__mul__</m-b></td>\n",
    "            <td>乗算演算子</td>\n",
    "        </tr>\n",
    "        <tr>\n",
    "            <td><m-b>__truediv__</m-b></td>\n",
    "            <td>除算演算子</td>\n",
    "        </tr>\n",
    "    </tbody>\n",
    "</table>"
   ]
  },
  {
   "cell_type": "code",
   "execution_count": 8,
   "metadata": {},
   "outputs": [
    {
     "name": "stdout",
     "output_type": "stream",
     "text": [
      "<class 'TypeError'>\n",
      "佐藤\n"
     ]
    }
   ],
   "source": [
    "# インスタンスメソッドのプロパティ化\n",
    "class User:\n",
    "    def __init__(self, name):\n",
    "        self.name = name\n",
    "    @property\n",
    "    def first_name(self):\n",
    "        return self.name.split(' ')[0]\n",
    "\n",
    "user = User('佐藤 太郎')\n",
    "try:\n",
    "    print(user.first_name())\n",
    "except Exception as ex:\n",
    "    print(type(ex))\n",
    "try:\n",
    "    print(user.first_name)\n",
    "except Exception as ex:\n",
    "    print(type(ex))"
   ]
  },
  {
   "cell_type": "code",
   "execution_count": 12,
   "metadata": {},
   "outputs": [
    {
     "name": "stdout",
     "output_type": "stream",
     "text": [
      "(0, 0)\n"
     ]
    }
   ],
   "source": [
    "# クラスメソッド\n",
    "class Coordinate:\n",
    "    def __init__(self, x, y):\n",
    "        self.x = x\n",
    "        self.y = y\n",
    "    def __repr__(self):\n",
    "        return f'({self.x}, {self.y})'\n",
    "    @classmethod\n",
    "    def origin(cls):\n",
    "        return cls(0, 0)\n",
    "\n",
    "print(Coordinate.origin())"
   ]
  }
 ],
 "metadata": {
  "kernelspec": {
   "display_name": "Python 3",
   "language": "python",
   "name": "python3"
  },
  "language_info": {
   "codemirror_mode": {
    "name": "ipython",
    "version": 3
   },
   "file_extension": ".py",
   "mimetype": "text/x-python",
   "name": "python",
   "nbconvert_exporter": "python",
   "pygments_lexer": "ipython3",
   "version": "3.11.6"
  }
 },
 "nbformat": 4,
 "nbformat_minor": 2
}
