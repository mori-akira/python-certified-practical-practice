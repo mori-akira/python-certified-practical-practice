{
 "cells": [
  {
   "cell_type": "code",
   "execution_count": 10,
   "metadata": {},
   "outputs": [
    {
     "name": "stdout",
     "output_type": "stream",
     "text": [
      "student\n",
      "Person(name=斎藤, age=11)\n",
      "My name is 斎藤.\n",
      "I'm 11 years old.\n",
      "My grade is 5.\n"
     ]
    }
   ],
   "source": [
    "# 継承の例\n",
    "class Person:\n",
    "    type = None\n",
    "    def __init__(self, name, age):\n",
    "        self.name = name\n",
    "        self.age = age\n",
    "    def __repr__(self):\n",
    "        return f'Person(name={self.name}, age={self.age})'\n",
    "    def greet(self):\n",
    "        print(f'My name is {self.name}.')\n",
    "        print(f\"I'm {self.age} years old.\")\n",
    "\n",
    "class Student(Person):\n",
    "    type = 'student'\n",
    "    def __init__(self, name, age, grade):\n",
    "        super().__init__(name, age)\n",
    "        self.grade = grade\n",
    "    def greet(self):\n",
    "        super().greet()\n",
    "        print(f'My grade is {self.grade}.')\n",
    "\n",
    "student = Student('斎藤', 11, 5)\n",
    "print(Student.type)\n",
    "print(student)\n",
    "student.greet()"
   ]
  }
 ],
 "metadata": {
  "kernelspec": {
   "display_name": "Python 3",
   "language": "python",
   "name": "python3"
  },
  "language_info": {
   "codemirror_mode": {
    "name": "ipython",
    "version": 3
   },
   "file_extension": ".py",
   "mimetype": "text/x-python",
   "name": "python",
   "nbconvert_exporter": "python",
   "pygments_lexer": "ipython3",
   "version": "3.11.6"
  }
 },
 "nbformat": 4,
 "nbformat_minor": 2
}
