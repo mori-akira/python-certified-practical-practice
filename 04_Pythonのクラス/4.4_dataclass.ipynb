{
 "cells": [
  {
   "cell_type": "code",
   "execution_count": 1,
   "metadata": {},
   "outputs": [
    {
     "name": "stdout",
     "output_type": "stream",
     "text": [
      "User(name='木暮', age=27, address='神奈川県川崎市')\n"
     ]
    }
   ],
   "source": [
    "from dataclasses import dataclass\n",
    "\n",
    "@dataclass\n",
    "class User:\n",
    "    name: str\n",
    "    age: int\n",
    "    address: str\n",
    "\n",
    "print(User('木暮', 27, '神奈川県川崎市'))"
   ]
  },
  {
   "cell_type": "code",
   "execution_count": 2,
   "metadata": {},
   "outputs": [
    {
     "ename": "FrozenInstanceError",
     "evalue": "cannot assign to field 'name'",
     "output_type": "error",
     "traceback": [
      "\u001b[1;31m---------------------------------------------------------------------------\u001b[0m",
      "\u001b[1;31mFrozenInstanceError\u001b[0m                       Traceback (most recent call last)",
      "\u001b[1;32mc:\\Users\\kgrmr\\OneDrive\\ドキュメント\\GitHub\\python-certified-practical-practice\\04_Pythonのクラス\\4.4_dataclass.ipynb Cell 2\u001b[0m line \u001b[0;36m1\n\u001b[0;32m      <a href='vscode-notebook-cell:/c%3A/Users/kgrmr/OneDrive/%E3%83%89%E3%82%AD%E3%83%A5%E3%83%A1%E3%83%B3%E3%83%88/GitHub/python-certified-practical-practice/04_Python%E3%81%AE%E3%82%AF%E3%83%A9%E3%82%B9/4.4_dataclass.ipynb#W1sZmlsZQ%3D%3D?line=7'>8</a>\u001b[0m     address: \u001b[39mstr\u001b[39m\n\u001b[0;32m     <a href='vscode-notebook-cell:/c%3A/Users/kgrmr/OneDrive/%E3%83%89%E3%82%AD%E3%83%A5%E3%83%A1%E3%83%B3%E3%83%88/GitHub/python-certified-practical-practice/04_Python%E3%81%AE%E3%82%AF%E3%83%A9%E3%82%B9/4.4_dataclass.ipynb#W1sZmlsZQ%3D%3D?line=9'>10</a>\u001b[0m user \u001b[39m=\u001b[39m User(\u001b[39m'\u001b[39m\u001b[39m木暮\u001b[39m\u001b[39m'\u001b[39m, \u001b[39m27\u001b[39m, \u001b[39m'\u001b[39m\u001b[39m神奈川県川崎市\u001b[39m\u001b[39m'\u001b[39m)\n\u001b[1;32m---> <a href='vscode-notebook-cell:/c%3A/Users/kgrmr/OneDrive/%E3%83%89%E3%82%AD%E3%83%A5%E3%83%A1%E3%83%B3%E3%83%88/GitHub/python-certified-practical-practice/04_Python%E3%81%AE%E3%82%AF%E3%83%A9%E3%82%B9/4.4_dataclass.ipynb#W1sZmlsZQ%3D%3D?line=10'>11</a>\u001b[0m user\u001b[39m.\u001b[39;49mname \u001b[39m=\u001b[39m \u001b[39m'\u001b[39m\u001b[39m木村\u001b[39m\u001b[39m'\u001b[39m\n",
      "File \u001b[1;32m<string>:4\u001b[0m, in \u001b[0;36m__setattr__\u001b[1;34m(self, name, value)\u001b[0m\n",
      "\u001b[1;31mFrozenInstanceError\u001b[0m: cannot assign to field 'name'"
     ]
    }
   ],
   "source": [
    "# frozen設定\n",
    "from dataclasses import dataclass\n",
    "\n",
    "@dataclass(frozen=True)\n",
    "class User:\n",
    "    name: str\n",
    "    age: int\n",
    "    address: str\n",
    "\n",
    "user = User('木暮', 27, '神奈川県川崎市')\n",
    "user.name = '木村'\n",
    "print(user)"
   ]
  },
  {
   "cell_type": "code",
   "execution_count": 7,
   "metadata": {},
   "outputs": [
    {
     "name": "stdout",
     "output_type": "stream",
     "text": [
      "True\n",
      "False\n"
     ]
    }
   ],
   "source": [
    "# eq設定\n",
    "from dataclasses import dataclass\n",
    "\n",
    "@dataclass(eq=True)\n",
    "class User:\n",
    "    name: str\n",
    "    age: int\n",
    "    address: str\n",
    "\n",
    "user1 = User('hoge', 10, 'fuga')\n",
    "user2 = User('hoge', 10, 'fuga')\n",
    "print(user1 == user2)\n",
    "user2.name = 'piyo'\n",
    "print(user1 == user2)\n"
   ]
  },
  {
   "cell_type": "code",
   "execution_count": 8,
   "metadata": {},
   "outputs": [
    {
     "name": "stdout",
     "output_type": "stream",
     "text": [
      "User(name='', age=0, address='日本')\n"
     ]
    }
   ],
   "source": [
    "# コンストラクタのデフォルト値\n",
    "from dataclasses import dataclass\n",
    "\n",
    "@dataclass(frozen=True, eq=True)\n",
    "class User:\n",
    "    name: str = ''\n",
    "    age: int = 0\n",
    "    address: str = '日本'\n",
    "\n",
    "print(User())"
   ]
  },
  {
   "cell_type": "code",
   "execution_count": 11,
   "metadata": {},
   "outputs": [
    {
     "name": "stdout",
     "output_type": "stream",
     "text": [
      "{'name': '', 'age': 0, 'address': '日本'}\n",
      "('', 0, '日本')\n",
      "User(name='', age=0, address='日本')\n",
      "User(name='', age=0, address='日本')\n"
     ]
    }
   ],
   "source": [
    "# asdict, astuple\n",
    "from dataclasses import dataclass, asdict, astuple\n",
    "\n",
    "@dataclass(frozen=True, eq=True)\n",
    "class User:\n",
    "    name: str = ''\n",
    "    age: int = 0\n",
    "    address: str = '日本'\n",
    "\n",
    "user = User()\n",
    "print(asdict(user))\n",
    "print(astuple(user))\n",
    "print(User(*astuple(user)))\n",
    "print(User(**asdict(user)))"
   ]
  }
 ],
 "metadata": {
  "kernelspec": {
   "display_name": "Python 3",
   "language": "python",
   "name": "python3"
  },
  "language_info": {
   "codemirror_mode": {
    "name": "ipython",
    "version": 3
   },
   "file_extension": ".py",
   "mimetype": "text/x-python",
   "name": "python",
   "nbconvert_exporter": "python",
   "pygments_lexer": "ipython3",
   "version": "3.11.6"
  }
 },
 "nbformat": 4,
 "nbformat_minor": 2
}
