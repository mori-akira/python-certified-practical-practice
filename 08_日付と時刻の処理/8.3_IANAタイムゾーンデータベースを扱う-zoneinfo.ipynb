{
 "cells": [
  {
   "cell_type": "code",
   "execution_count": 5,
   "metadata": {},
   "outputs": [
    {
     "name": "stdout",
     "output_type": "stream",
     "text": [
      "2023-11-24 14:04:21.995029+00:00\n",
      "2023-11-24 23:04:22.008628+09:00\n",
      "2023-11-24 11:04:22.023703-03:00\n",
      "2023-11-24 09:04:22.030436-05:00\n"
     ]
    }
   ],
   "source": [
    "# ZoneInfo\n",
    "from zoneinfo import ZoneInfo\n",
    "from datetime import datetime\n",
    "\n",
    "print(datetime.now(tz=ZoneInfo('UTC')))\n",
    "print(datetime.now(tz=ZoneInfo('Asia/Tokyo')))\n",
    "print(datetime.now(tz=ZoneInfo('America/Argentina/Cordoba')))\n",
    "print(datetime.now(tz=ZoneInfo('US/Michigan')))"
   ]
  },
  {
   "cell_type": "code",
   "execution_count": 6,
   "metadata": {},
   "outputs": [
    {
     "name": "stdout",
     "output_type": "stream",
     "text": [
      "{'America/Argentina/Salta', 'Asia/Ulaanbaatar', 'Pacific/Guam', 'Asia/Amman', 'America/Bahia', 'Kwajalein', 'Asia/Istanbul', 'Asia/Ust-Nera', 'WET', 'America/St_Johns', 'Pacific/Yap', 'Asia/Barnaul', 'Etc/GMT-1', 'Africa/Malabo', 'Africa/Abidjan', 'America/Punta_Arenas', 'America/Guayaquil', 'Europe/Zurich', 'Etc/GMT+3', 'Australia/South', 'Europe/Oslo', 'Europe/Kyiv', 'America/Antigua', 'Africa/Bujumbura', 'America/Coral_Harbour', 'Etc/GMT+1', 'Atlantic/Azores', 'Europe/Belfast', 'Asia/Choibalsan', 'Brazil/DeNoronha', 'Europe/Ulyanovsk', 'ROC', 'America/Ensenada', 'Asia/Tehran', 'Asia/Baghdad', 'America/Santarem', 'Asia/Karachi', 'America/Argentina/Cordoba', 'America/Argentina/La_Rioja', 'Chile/Continental', 'America/Belize', 'America/Fort_Wayne', 'America/Nuuk', 'America/Inuvik', 'Pacific/Funafuti', 'Pacific/Ponape', 'America/Ojinaga', 'Zulu', 'Asia/Dacca', 'Africa/Conakry', 'Etc/GMT+8', 'Europe/Kiev', 'Asia/Tomsk', 'America/North_Dakota/New_Salem', 'Etc/GMT-7', 'Asia/Kuala_Lumpur', 'Asia/Singapore', 'Asia/Colombo', 'Pacific/Easter', 'Indian/Christmas', 'Africa/Freetown', 'America/Maceio', 'Asia/Dhaka', 'Asia/Kathmandu', 'Asia/Gaza', 'Canada/Yukon', 'Mexico/BajaNorte', 'Asia/Anadyr', 'Antarctica/South_Pole', 'Pacific/Pohnpei', 'Pacific/Fakaofo', 'Africa/Monrovia', 'Europe/Rome', 'America/Sitka', 'America/Dawson_Creek', 'Etc/GMT-0', 'Etc/Greenwich', 'America/Cuiaba', 'Etc/GMT-14', 'Brazil/Acre', 'America/Moncton', 'Atlantic/Faeroe', 'America/Regina', 'Africa/Dar_es_Salaam', 'America/Rio_Branco', 'Asia/Dushanbe', 'Pacific/Noumea', 'Libya', 'America/North_Dakota/Center', 'Europe/Volgograd', 'Canada/Mountain', 'Europe/Athens', 'NZ', 'Etc/GMT+11', 'America/Rainy_River', 'Australia/Lord_Howe', 'America/Porto_Acre', 'Asia/Saigon', 'ROK', 'Asia/Makassar', 'America/Port_of_Spain', 'America/Grand_Turk', 'Asia/Qyzylorda', 'Etc/UTC', 'Europe/Jersey', 'America/Asuncion', 'America/Toronto', 'Africa/Juba', 'America/Indiana/Petersburg', 'Chile/EasterIsland', 'Europe/Zaporozhye', 'Africa/Asmara', 'America/Araguaina', 'Europe/Monaco', 'Indian/Cocos', 'Africa/Addis_Ababa', 'Indian/Mayotte', 'America/Goose_Bay', 'Australia/Adelaide', 'Asia/Urumqi', 'Etc/GMT+6', 'Africa/Kampala', 'Africa/Blantyre', 'America/Merida', 'Pacific/Enderbury', 'America/Monterrey', 'Europe/Prague', 'Etc/GMT+5', 'Asia/Kuwait', 'Asia/Manila', 'America/Guyana', 'Pacific/Rarotonga', 'Europe/Simferopol', 'UCT', 'Turkey', 'Asia/Chita', 'America/Fort_Nelson', 'Asia/Omsk', 'Etc/GMT', 'Asia/Krasnoyarsk', 'Etc/GMT-9', 'Canada/Saskatchewan', 'Asia/Tashkent', 'America/Indianapolis', 'America/St_Barthelemy', 'Mexico/General', 'Indian/Mahe', 'Asia/Kuching', 'America/Lower_Princes', 'Europe/Luxembourg', 'Europe/Chisinau', 'Pacific/Gambier', 'America/Costa_Rica', 'America/Dominica', 'Iceland', 'Pacific/Apia', 'HST', 'America/Indiana/Tell_City', 'America/Menominee', 'Pacific/Midway', 'Asia/Famagusta', 'America/Argentina/Rio_Gallegos', 'Pacific/Palau', 'Europe/Uzhgorod', 'Australia/Eucla', 'Africa/Casablanca', 'Etc/GMT-13', 'Etc/GMT-2', 'America/St_Lucia', 'Europe/Podgorica', 'America/Thunder_Bay', 'Africa/Lusaka', 'Asia/Dubai', 'Europe/Belgrade', 'America/Bogota', 'Asia/Magadan', 'Etc/GMT+9', 'Africa/Khartoum', 'America/Whitehorse', 'America/Kralendijk', 'America/Tortola', 'Pacific/Truk', 'Australia/Yancowinna', 'Africa/Nairobi', 'Africa/Tripoli', 'Atlantic/Cape_Verde', 'EST', 'America/New_York', 'Pacific/Niue', 'America/Indiana/Indianapolis', 'Pacific/Kanton', 'America/Glace_Bay', 'Eire', 'Asia/Sakhalin', 'Europe/Sarajevo', 'America/Ciudad_Juarez', 'US/Michigan', 'Africa/Porto-Novo', 'Asia/Tel_Aviv', 'Asia/Aqtobe', 'Universal', 'Africa/Lubumbashi', 'America/Bahia_Banderas', 'Etc/GMT-11', 'Africa/Ouagadougou', 'Asia/Macau', 'US/Mountain', 'Australia/Queensland', 'Pacific/Bougainville', 'Europe/Vaduz', 'Cuba', 'Europe/Vilnius', 'America/Catamarca', 'Portugal', 'Canada/Newfoundland', 'Asia/Yekaterinburg', 'Asia/Hebron', 'America/Juneau', 'PST8PDT', 'Asia/Samarkand', 'Africa/Banjul', 'Europe/Isle_of_Man', 'Africa/Libreville', 'America/Tegucigalpa', 'America/Matamoros', 'America/Argentina/Mendoza', 'America/Mazatlan', 'Europe/Andorra', 'Africa/Johannesburg', 'Asia/Calcutta', 'NZ-CHAT', 'Europe/Nicosia', 'Europe/Tirane', 'America/Los_Angeles', 'Asia/Almaty', 'Europe/Astrakhan', 'Asia/Srednekolymsk', 'Canada/Atlantic', 'Europe/Istanbul', 'America/Eirunepe', 'Europe/Guernsey', 'America/Noronha', 'Europe/Moscow', 'America/Aruba', 'Australia/Canberra', 'Africa/Bangui', 'Antarctica/Troll', 'America/Hermosillo', 'Australia/West', 'Greenwich', 'GMT0', 'Australia/Brisbane', 'America/Paramaribo', 'Asia/Jerusalem', 'Africa/Mogadishu', 'America/Chicago', 'Africa/Kinshasa', 'Indian/Maldives', 'Europe/Bucharest', 'Australia/Perth', 'Pacific/Samoa', 'Pacific/Galapagos', 'Asia/Vientiane', 'Asia/Qostanay', 'America/Yakutat', 'America/Rosario', 'America/Cambridge_Bay', 'Europe/London', 'Asia/Kashgar', 'Pacific/Majuro', 'America/Lima', 'America/Phoenix', 'Africa/Sao_Tome', 'America/Grenada', 'America/Metlakatla', 'America/Barbados', 'Australia/Sydney', 'Africa/Ceuta', 'Pacific/Marquesas', 'America/Nipigon', 'America/Shiprock', 'Canada/Pacific', 'Africa/Bissau', 'Europe/Minsk', 'US/Indiana-Starke', 'Pacific/Tarawa', 'Europe/Malta', 'Europe/Warsaw', 'America/Swift_Current', 'US/Eastern', 'Atlantic/St_Helena', 'America/Argentina/Catamarca', 'Europe/Budapest', 'Antarctica/Davis', 'Antarctica/Casey', 'Asia/Seoul', 'Pacific/Chatham', 'America/Halifax', 'Asia/Jakarta', 'America/Thule', 'EET', 'America/Argentina/Tucuman', 'Indian/Comoro', 'Asia/Jayapura', 'Asia/Ashgabat', 'America/Cancun', 'CET', 'PRC', 'CST6CDT', 'America/Atka', 'America/Guatemala', 'Pacific/Johnston', 'Etc/GMT-3', 'America/La_Paz', 'America/Resolute', 'America/Santo_Domingo', 'Etc/GMT+2', 'America/Argentina/Jujuy', 'GMT-0', 'Asia/Thimphu', 'America/Louisville', 'America/Puerto_Rico', 'Europe/Copenhagen', 'America/Vancouver', 'Asia/Shanghai', 'Singapore', 'Africa/Kigali', 'Indian/Chagos', 'Europe/Riga', 'Indian/Reunion', 'Asia/Tokyo', 'Atlantic/Faroe', 'Atlantic/Reykjavik', 'Europe/Saratov', 'America/Rankin_Inlet', 'Asia/Harbin', 'Etc/GMT+10', 'Antarctica/McMurdo', 'America/St_Thomas', 'Poland', 'Africa/Lome', 'America/Yellowknife', 'America/Iqaluit', 'EST5EDT', 'Asia/Rangoon', 'Pacific/Nauru', 'Etc/GMT-4', 'Africa/Luanda', 'US/Aleutian', 'America/Panama', 'Pacific/Norfolk', 'Antarctica/Macquarie', 'GB-Eire', 'America/Indiana/Vevay', 'Asia/Khandyga', 'Asia/Ashkhabad', 'Antarctica/Mawson', 'Pacific/Kosrae', 'Asia/Aden', 'Australia/Melbourne', 'US/Samoa', 'Asia/Ulan_Bator', 'Africa/Lagos', 'GB', 'Africa/Nouakchott', 'Japan', 'Asia/Muscat', 'Pacific/Tahiti', 'MST7MDT', 'Canada/Eastern', 'America/Montevideo', 'America/Argentina/Ushuaia', 'Europe/Tallinn', 'Australia/NSW', 'America/Recife', 'Europe/Paris', 'America/Atikokan', 'America/Scoresbysund', 'MET', 'Asia/Irkutsk', 'Africa/Maputo', 'Australia/LHI', 'Asia/Kabul', 'Africa/Dakar', 'Europe/Ljubljana', 'Asia/Ujung_Pandang', 'America/North_Dakota/Beulah', 'Indian/Mauritius', 'America/Edmonton', 'Asia/Dili', 'Australia/Lindeman', 'Asia/Riyadh', 'America/Kentucky/Louisville', 'Australia/Victoria', 'Pacific/Kiritimati', 'Pacific/Auckland', 'America/Curacao', 'Atlantic/Bermuda', 'Pacific/Honolulu', 'Europe/Madrid', 'Asia/Yerevan', 'America/Anguilla', 'Africa/Gaborone', 'Asia/Pontianak', 'Africa/Douala', 'Africa/Asmera', 'Atlantic/South_Georgia', 'Indian/Kerguelen', 'MST', 'W-SU', 'Asia/Yangon', 'America/Jujuy', 'GMT+0', 'America/St_Vincent', 'America/Winnipeg', 'America/Boa_Vista', 'America/Blanc-Sablon', 'UTC', 'America/St_Kitts', 'Antarctica/Palmer', 'America/Denver', 'Arctic/Longyearbyen', 'Asia/Brunei', 'Antarctica/Vostok', 'Antarctica/Rothera', 'Europe/Vienna', 'Etc/GMT-12', 'Etc/GMT+7', 'Australia/Darwin', 'Europe/Stockholm', 'America/Mendoza', 'Iran', 'Pacific/Saipan', 'Etc/GMT-10', 'US/Hawaii', 'America/Martinique', 'Pacific/Pitcairn', 'Europe/San_Marino', 'Europe/Amsterdam', 'Factory', 'Israel', 'Africa/Windhoek', 'Antarctica/Syowa', 'Canada/Central', 'Atlantic/Canary', 'Asia/Vladivostok', 'Asia/Thimbu', 'America/Fortaleza', 'Asia/Chungking', 'Asia/Hovd', 'Antarctica/DumontDUrville', 'Africa/Brazzaville', 'America/Montreal', 'Pacific/Efate', 'Etc/UCT', 'Asia/Hong_Kong', 'Europe/Skopje', 'Indian/Antananarivo', 'Pacific/Chuuk', 'Africa/Timbuktu', 'America/Chihuahua', 'Africa/Ndjamena', 'Asia/Kamchatka', 'Asia/Tbilisi', 'America/Porto_Velho', 'Asia/Bahrain', 'GMT', 'Jamaica', 'America/Godthab', 'Asia/Taipei', 'Australia/Broken_Hill', 'Pacific/Fiji', 'Europe/Bratislava', 'Europe/Tiraspol', 'America/Creston', 'Europe/Lisbon', 'Asia/Kolkata', 'America/Pangnirtung', 'America/Sao_Paulo', 'America/Montserrat', 'Asia/Bishkek', 'America/Managua', 'America/Anchorage', 'America/Adak', 'America/Indiana/Winamac', 'Pacific/Port_Moresby', 'America/Nome', 'Etc/Zulu', 'America/Buenos_Aires', 'America/Cayenne', 'Europe/Kirov', 'America/Cordoba', 'America/Tijuana', 'Atlantic/Jan_Mayen', 'Europe/Samara', 'Pacific/Pago_Pago', 'Brazil/West', 'Egypt', 'America/Dawson', 'Asia/Pyongyang', 'Pacific/Guadalcanal', 'America/Mexico_City', 'Asia/Phnom_Penh', 'Europe/Vatican', 'Atlantic/Madeira', 'Asia/Bangkok', 'Navajo', 'Africa/Niamey', 'Europe/Brussels', 'America/Caracas', 'Australia/Tasmania', 'Africa/Maseru', 'Asia/Atyrau', 'America/Argentina/Buenos_Aires', 'America/Cayman', 'Pacific/Wake', 'Africa/Harare', 'Africa/Mbabane', 'Pacific/Wallis', 'Europe/Kaliningrad', 'Africa/Djibouti', 'Etc/GMT+0', 'Asia/Qatar', 'Africa/Accra', 'Asia/Ho_Chi_Minh', 'America/Santiago', 'Asia/Chongqing', 'Asia/Katmandu', 'Asia/Yakutsk', 'Asia/Novosibirsk', 'Europe/Busingen', 'Pacific/Tongatapu', 'America/Miquelon', 'Europe/Berlin', 'America/Argentina/San_Juan', 'America/Knox_IN', 'America/Marigot', 'Asia/Oral', 'Europe/Dublin', 'Etc/GMT+4', 'Etc/GMT-6', 'Asia/Macao', 'Brazil/East', 'Europe/Mariehamn', 'America/Argentina/ComodRivadavia', 'Africa/Algiers', 'Asia/Aqtau', 'Asia/Novokuznetsk', 'Africa/Bamako', 'America/Indiana/Marengo', 'Africa/Cairo', 'Etc/GMT-5', 'Etc/GMT0', 'America/Virgin', 'Australia/ACT', 'America/Campo_Grande', 'America/Danmarkshavn', 'Australia/Currie', 'Asia/Nicosia', 'America/Indiana/Knox', 'Etc/GMT+12', 'Asia/Damascus', 'America/Nassau', 'Europe/Sofia', 'Etc/Universal', 'America/Detroit', 'America/Boise', 'America/Argentina/San_Luis', 'Asia/Beirut', 'Pacific/Kwajalein', 'Australia/North', 'Atlantic/Stanley', 'US/Arizona', 'Europe/Zagreb', 'America/Jamaica', 'Europe/Helsinki', 'Africa/El_Aaiun', 'Australia/Hobart', 'America/Indiana/Vincennes', 'America/Santa_Isabel', 'US/Alaska', 'Europe/Gibraltar', 'America/El_Salvador', 'Hongkong', 'America/Kentucky/Monticello', 'Asia/Baku', 'Mexico/BajaSur', 'America/Havana', 'Africa/Tunis', 'America/Guadeloupe', 'US/East-Indiana', 'US/Pacific', 'America/Belem', 'America/Port-au-Prince', 'Etc/GMT-8', 'America/Manaus', 'US/Central'}\n",
      "597\n",
      "\n",
      "Zulu\n",
      "WET\n",
      "W-SU\n",
      "Universal\n",
      "UTC\n",
      "US/Samoa\n",
      "US/Pacific\n",
      "US/Mountain\n",
      "US/Michigan\n",
      "US/Indiana-Starke\n"
     ]
    }
   ],
   "source": [
    "# TimeZone\n",
    "from zoneinfo import available_timezones\n",
    "\n",
    "print(available_timezones())\n",
    "print(len(available_timezones()))\n",
    "print()\n",
    "for tz in sorted(list(available_timezones()), reverse=True)[:10]:\n",
    "    print(tz)"
   ]
  },
  {
   "cell_type": "markdown",
   "metadata": {},
   "source": [
    "### Windowsにおけるタイムゾーン\n",
    "\n",
    "zoneinfoはOSに内蔵されている<m-b>TZif</m-b>形式のファイルからタイムゾーンデータベースを参照するが、Windowsにはない。\n",
    "Windows環境でzoneinfoを使用する場合、<m-b>pip install tzdata</m-b>を実行し、CPythonのコア開発者がメンテナンスしているパッケージをインストールする必要がある。"
   ]
  }
 ],
 "metadata": {
  "kernelspec": {
   "display_name": "Python 3",
   "language": "python",
   "name": "python3"
  },
  "language_info": {
   "codemirror_mode": {
    "name": "ipython",
    "version": 3
   },
   "file_extension": ".py",
   "mimetype": "text/x-python",
   "name": "python",
   "nbconvert_exporter": "python",
   "pygments_lexer": "ipython3",
   "version": "3.11.6"
  }
 },
 "nbformat": 4,
 "nbformat_minor": 2
}
