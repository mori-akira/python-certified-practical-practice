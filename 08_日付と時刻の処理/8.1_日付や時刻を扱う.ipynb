{
 "cells": [
  {
   "cell_type": "code",
   "execution_count": 8,
   "metadata": {},
   "outputs": [
    {
     "name": "stdout",
     "output_type": "stream",
     "text": [
      "2023-12-01\n",
      "2023-11-24\n",
      "4\n",
      "5\n",
      "2023-11-24\n",
      "2023-12-31\n",
      "2023\n",
      "11\n",
      "24\n"
     ]
    }
   ],
   "source": [
    "# 日付を扱う\n",
    "from datetime import date\n",
    "\n",
    "print(date(year=2023, month=12, day=1))\n",
    "print(date.today())\n",
    "print(date.today().weekday())\n",
    "print(date.today().isoweekday())\n",
    "print(date.today().isoformat())\n",
    "print(date.fromisoformat('2023-12-31'))\n",
    "print(date.today().year)\n",
    "print(date.today().month)\n",
    "print(date.today().day)"
   ]
  },
  {
   "cell_type": "code",
   "execution_count": 30,
   "metadata": {},
   "outputs": [
    {
     "name": "stdout",
     "output_type": "stream",
     "text": [
      "09:20:19.123456\n",
      "12:00:00\n",
      "12:00:00.000999\n",
      "12:00:00.999990\n",
      "22:22:22.222000\n",
      "UTC\n"
     ]
    }
   ],
   "source": [
    "# 時刻を扱う\n",
    "from datetime import time\n",
    "from zoneinfo import ZoneInfo\n",
    "\n",
    "print(time(hour=9, minute=20, second=19, microsecond=123456, tzinfo=None, fold=0))\n",
    "print(time(hour=12).isoformat())\n",
    "print(time(hour=12, microsecond=999).isoformat())\n",
    "print(time(hour=12, microsecond=999990).isoformat())\n",
    "print(time.fromisoformat('22:22:22.222'))\n",
    "print(time(tzinfo=ZoneInfo('UTC')).tzname())"
   ]
  },
  {
   "cell_type": "code",
   "execution_count": 41,
   "metadata": {},
   "outputs": [
    {
     "name": "stdout",
     "output_type": "stream",
     "text": [
      "2023-10-10 00:00:00.123400-04:00\n",
      "2023-11-24 08:21:49.286922\n",
      "2023-11-24 08:21:49.286921\n",
      "2023-11-23 15:21:49.286921-08:00\n",
      "2023-11-23 23:21:49.286921\n",
      "2023-11-23\n",
      "23:21:49.286921\n",
      "2023-11-23T23:21:49.286921\n",
      "2023-11-23 23:21:49.286921\n",
      "2023-10-01 00:11:22\n",
      "UTC\n",
      "UTC\n"
     ]
    }
   ],
   "source": [
    "# 日時を扱う\n",
    "from datetime import datetime\n",
    "from zoneinfo import ZoneInfo\n",
    "\n",
    "print(\n",
    "    datetime(\n",
    "        year=2023,\n",
    "        month=10,\n",
    "        day=10,\n",
    "        microsecond=123400,\n",
    "        tzinfo=ZoneInfo(\"America/Kentucky/Louisville\"),\n",
    "    )\n",
    ")\n",
    "print(datetime.today())\n",
    "print(datetime.now())\n",
    "print(datetime.now(tz=ZoneInfo(\"America/Los_Angeles\")))\n",
    "print(datetime.utcnow())\n",
    "print(datetime.utcnow().date())\n",
    "print(datetime.utcnow().time())\n",
    "print(datetime.utcnow().isoformat())\n",
    "print(datetime.utcnow().isoformat(sep=\" \"))\n",
    "print(datetime.fromisoformat(\"2023-10-01T00:11:22\"))\n",
    "print(datetime.now(tz=ZoneInfo('UTC')).tzinfo)\n",
    "print(datetime.now(tz=ZoneInfo('UTC')).tzname())"
   ]
  },
  {
   "cell_type": "code",
   "execution_count": 49,
   "metadata": {},
   "outputs": [
    {
     "name": "stdout",
     "output_type": "stream",
     "text": [
      "2023-11-24 08:26:51.160158\n",
      "2023-11-25 20:26:51.160158\n",
      "2024-03-31 08:26:51.160158\n",
      "2024-02-16 08:26:51.160158\n",
      "317 days, 5:00:00\n",
      "<class 'datetime.timedelta'>\n",
      "317 days, 14:00:00\n"
     ]
    }
   ],
   "source": [
    "# 日時の差を扱う\n",
    "from datetime import timedelta, datetime\n",
    "from zoneinfo import ZoneInfo\n",
    "\n",
    "inc1 = timedelta(hours=36)\n",
    "inc2 = timedelta(days=128)\n",
    "inc3 = timedelta(weeks=12)\n",
    "\n",
    "print(datetime.now())\n",
    "print(datetime.now() + inc1)\n",
    "print(datetime.now() + inc2)\n",
    "print(datetime.now() + inc3)\n",
    "\n",
    "print(\n",
    "    datetime(year=2023, month=12, day=31, hour=17)\n",
    "    - datetime(year=2023, month=2, day=17, hour=12)\n",
    ")\n",
    "print(\n",
    "    type(\n",
    "        datetime(year=2023, month=12, day=31, hour=17)\n",
    "        - datetime(year=2023, month=2, day=17, hour=12)\n",
    "    )\n",
    ")\n",
    "print(\n",
    "    datetime(year=2023, month=12, day=31, hour=17, tzinfo=ZoneInfo(\"UTC\"))\n",
    "    - datetime(year=2023, month=2, day=17, hour=12, tzinfo=ZoneInfo(\"Asia/Tokyo\"))\n",
    ")"
   ]
  },
  {
   "cell_type": "markdown",
   "metadata": {},
   "source": [
    "### strftime()で使える指定子\n",
    "\n",
    "<table>\n",
    "    <thead>\n",
    "        <tr>\n",
    "            <th>指定子</th>\n",
    "            <th>説明</th>\n",
    "        </tr>\n",
    "    </thead>\n",
    "    <tbody>\n",
    "        <tr>\n",
    "            <td><m-b>%d</m-b></td>\n",
    "            <td>0埋めした月中の日</td>\n",
    "        </tr>\n",
    "        <tr>\n",
    "            <td><m-b>%m</m-b></td>\n",
    "            <td>0埋めした月</td>\n",
    "        </tr>\n",
    "        <tr>\n",
    "            <td><m-b>%y</m-b></td>\n",
    "            <td>0埋めした世紀なしの年(2桁)</td>\n",
    "        </tr>\n",
    "        <tr>\n",
    "            <td><m-b>%Y</m-b></td>\n",
    "            <td>西暦の年(4桁)</td>\n",
    "        </tr>\n",
    "        <tr>\n",
    "            <td><m-b>%H</m-b></td>\n",
    "            <td>24時間表記の時間</td>\n",
    "        </tr>\n",
    "        <tr>\n",
    "            <td><m-b>%M</m-b></td>\n",
    "            <td>0埋めした分</td>\n",
    "        </tr>\n",
    "        <tr>\n",
    "            <td><m-b>%S</m-b></td>\n",
    "            <td>0埋めした秒</td>\n",
    "        </tr>\n",
    "    </tbody>\n",
    "</table>"
   ]
  }
 ],
 "metadata": {
  "kernelspec": {
   "display_name": "Python 3",
   "language": "python",
   "name": "python3"
  },
  "language_info": {
   "codemirror_mode": {
    "name": "ipython",
    "version": 3
   },
   "file_extension": ".py",
   "mimetype": "text/x-python",
   "name": "python",
   "nbconvert_exporter": "python",
   "pygments_lexer": "ipython3",
   "version": "3.11.6"
  }
 },
 "nbformat": 4,
 "nbformat_minor": 2
}
