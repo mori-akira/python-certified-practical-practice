{
 "cells": [
  {
   "cell_type": "code",
   "execution_count": 8,
   "metadata": {},
   "outputs": [
    {
     "name": "stdout",
     "output_type": "stream",
     "text": [
      "2023-12-01\n",
      "2023-11-24\n",
      "4\n",
      "5\n",
      "2023-11-24\n",
      "2023-12-31\n",
      "2023\n",
      "11\n",
      "24\n"
     ]
    }
   ],
   "source": [
    "# 日付を扱う\n",
    "from datetime import date\n",
    "\n",
    "print(date(year=2023, month=12, day=1))\n",
    "print(date.today())\n",
    "print(date.today().weekday())\n",
    "print(date.today().isoweekday())\n",
    "print(date.today().isoformat())\n",
    "print(date.fromisoformat('2023-12-31'))\n",
    "print(date.today().year)\n",
    "print(date.today().month)\n",
    "print(date.today().day)"
   ]
  },
  {
   "cell_type": "code",
   "execution_count": 30,
   "metadata": {},
   "outputs": [
    {
     "name": "stdout",
     "output_type": "stream",
     "text": [
      "09:20:19.123456\n",
      "12:00:00\n",
      "12:00:00.000999\n",
      "12:00:00.999990\n",
      "22:22:22.222000\n",
      "UTC\n"
     ]
    }
   ],
   "source": [
    "# 時刻を扱う\n",
    "from datetime import time\n",
    "from zoneinfo import ZoneInfo\n",
    "\n",
    "print(time(hour=9, minute=20, second=19, microsecond=123456, tzinfo=None, fold=0))\n",
    "print(time(hour=12).isoformat())\n",
    "print(time(hour=12, microsecond=999).isoformat())\n",
    "print(time(hour=12, microsecond=999990).isoformat())\n",
    "print(time.fromisoformat('22:22:22.222'))\n",
    "print(time(tzinfo=ZoneInfo('UTC')).tzname())"
   ]
  },
  {
   "cell_type": "code",
   "execution_count": 41,
   "metadata": {},
   "outputs": [
    {
     "name": "stdout",
     "output_type": "stream",
     "text": [
      "2023-10-10 00:00:00.123400-04:00\n",
      "2023-11-24 08:21:49.286922\n",
      "2023-11-24 08:21:49.286921\n",
      "2023-11-23 15:21:49.286921-08:00\n",
      "2023-11-23 23:21:49.286921\n",
      "2023-11-23\n",
      "23:21:49.286921\n",
      "2023-11-23T23:21:49.286921\n",
      "2023-11-23 23:21:49.286921\n",
      "2023-10-01 00:11:22\n",
      "UTC\n",
      "UTC\n"
     ]
    }
   ],
   "source": [
    "# 日時を扱う\n",
    "from datetime import datetime\n",
    "from zoneinfo import ZoneInfo\n",
    "\n",
    "print(\n",
    "    datetime(\n",
    "        year=2023,\n",
    "        month=10,\n",
    "        day=10,\n",
    "        microsecond=123400,\n",
    "        tzinfo=ZoneInfo(\"America/Kentucky/Louisville\"),\n",
    "    )\n",
    ")\n",
    "print(datetime.today())\n",
    "print(datetime.now())\n",
    "print(datetime.now(tz=ZoneInfo(\"America/Los_Angeles\")))\n",
    "print(datetime.utcnow())\n",
    "print(datetime.utcnow().date())\n",
    "print(datetime.utcnow().time())\n",
    "print(datetime.utcnow().isoformat())\n",
    "print(datetime.utcnow().isoformat(sep=\" \"))\n",
    "print(datetime.fromisoformat(\"2023-10-01T00:11:22\"))\n",
    "print(datetime.now(tz=ZoneInfo('UTC')).tzinfo)\n",
    "print(datetime.now(tz=ZoneInfo('UTC')).tzname())"
   ]
  },
  {
   "cell_type": "code",
   "execution_count": 49,
   "metadata": {},
   "outputs": [
    {
     "name": "stdout",
     "output_type": "stream",
     "text": [
      "2023-11-24 08:26:51.160158\n",
      "2023-11-25 20:26:51.160158\n",
      "2024-03-31 08:26:51.160158\n",
      "2024-02-16 08:26:51.160158\n",
      "317 days, 5:00:00\n",
      "<class 'datetime.timedelta'>\n",
      "317 days, 14:00:00\n"
     ]
    }
   ],
   "source": [
    "# 日時の差を扱う\n",
    "from datetime import timedelta, datetime\n",
    "from zoneinfo import ZoneInfo\n",
    "\n",
    "inc1 = timedelta(hours=36)\n",
    "inc2 = timedelta(days=128)\n",
    "inc3 = timedelta(weeks=12)\n",
    "\n",
    "print(datetime.now())\n",
    "print(datetime.now() + inc1)\n",
    "print(datetime.now() + inc2)\n",
    "print(datetime.now() + inc3)\n",
    "\n",
    "print(\n",
    "    datetime(year=2023, month=12, day=31, hour=17)\n",
    "    - datetime(year=2023, month=2, day=17, hour=12)\n",
    ")\n",
    "print(\n",
    "    type(\n",
    "        datetime(year=2023, month=12, day=31, hour=17)\n",
    "        - datetime(year=2023, month=2, day=17, hour=12)\n",
    "    )\n",
    ")\n",
    "print(\n",
    "    datetime(year=2023, month=12, day=31, hour=17, tzinfo=ZoneInfo(\"UTC\"))\n",
    "    - datetime(year=2023, month=2, day=17, hour=12, tzinfo=ZoneInfo(\"Asia/Tokyo\"))\n",
    ")"
   ]
  },
  {
   "cell_type": "markdown",
   "metadata": {},
   "source": [
    "### strftime()で使える指定子\n",
    "\n",
    "<table>\n",
    "    <thead>\n",
    "        <tr>\n",
    "            <th>指定子</th>\n",
    "            <th>説明</th>\n",
    "        </tr>\n",
    "    </thead>\n",
    "    <tbody>\n",
    "        <tr>\n",
    "            <td><m-b>%d</m-b></td>\n",
    "            <td>0埋めした月中の日</td>\n",
    "        </tr>\n",
    "        <tr>\n",
    "            <td><m-b>%m</m-b></td>\n",
    "            <td>0埋めした月</td>\n",
    "        </tr>\n",
    "        <tr>\n",
    "            <td><m-b>%y</m-b></td>\n",
    "            <td>0埋めした世紀なしの年(2桁)</td>\n",
    "        </tr>\n",
    "        <tr>\n",
    "            <td><m-b>%Y</m-b></td>\n",
    "            <td>西暦の年(4桁)</td>\n",
    "        </tr>\n",
    "        <tr>\n",
    "            <td><m-b>%H</m-b></td>\n",
    "            <td>24時間表記の時間</td>\n",
    "        </tr>\n",
    "        <tr>\n",
    "            <td><m-b>%M</m-b></td>\n",
    "            <td>0埋めした分</td>\n",
    "        </tr>\n",
    "        <tr>\n",
    "            <td><m-b>%S</m-b></td>\n",
    "            <td>0埋めした秒</td>\n",
    "        </tr>\n",
    "    </tbody>\n",
    "</table>"
   ]
  },
  {
   "cell_type": "code",
   "execution_count": 50,
   "metadata": {},
   "outputs": [
    {
     "name": "stdout",
     "output_type": "stream",
     "text": [
      "{'America/Bahia', 'Pacific/Kwajalein', 'Africa/Bangui', 'Europe/Copenhagen', 'Australia/Queensland', 'Europe/Kyiv', 'Africa/Johannesburg', 'America/Campo_Grande', 'Pacific/Norfolk', 'Asia/Kashgar', 'Europe/Vaduz', 'America/Port_of_Spain', 'Asia/Tomsk', 'Asia/Bangkok', 'Africa/Douala', 'Asia/Aden', 'Etc/Greenwich', 'Asia/Bishkek', 'America/Indiana/Vevay', 'America/Hermosillo', 'Asia/Kolkata', 'Africa/Djibouti', 'Asia/Tbilisi', 'US/Arizona', 'Atlantic/Cape_Verde', 'Chile/EasterIsland', 'America/Indiana/Tell_City', 'EET', 'America/Argentina/Jujuy', 'Etc/GMT+4', 'Europe/Belgrade', 'America/Mexico_City', 'Africa/Timbuktu', 'America/St_Johns', 'America/Danmarkshavn', 'Pacific/Enderbury', 'Canada/Saskatchewan', 'America/Tegucigalpa', 'Australia/Yancowinna', 'Africa/Porto-Novo', 'GB', 'America/St_Barthelemy', 'Kwajalein', 'Pacific/Samoa', 'America/Ensenada', 'America/Tortola', 'US/East-Indiana', 'Africa/Tunis', 'Etc/UTC', 'Europe/Gibraltar', 'Africa/Lusaka', 'America/Nome', 'America/Bahia_Banderas', 'America/Argentina/San_Juan', 'Hongkong', 'America/Rainy_River', 'America/Creston', 'Asia/Macau', 'Africa/Khartoum', 'Europe/Amsterdam', 'Asia/Ulan_Bator', 'Africa/Cairo', 'Europe/Riga', 'America/Yellowknife', 'Asia/Hong_Kong', 'America/Toronto', 'Pacific/Port_Moresby', 'Etc/UCT', 'Etc/GMT-6', 'Canada/Eastern', 'Pacific/Marquesas', 'America/Chicago', 'Indian/Antananarivo', 'Iceland', 'Asia/Makassar', 'Pacific/Honolulu', 'America/Montevideo', 'America/Porto_Velho', 'Australia/Lord_Howe', 'America/Panama', 'America/Indianapolis', 'Asia/Tokyo', 'Asia/Kathmandu', 'Pacific/Kosrae', 'Asia/Dacca', 'America/Caracas', 'PRC', 'Atlantic/South_Georgia', 'America/Curacao', 'Africa/Sao_Tome', 'Etc/GMT-2', 'Asia/Barnaul', 'Etc/GMT+1', 'MET', 'Europe/Isle_of_Man', 'Asia/Chita', 'Pacific/Easter', 'Europe/Bratislava', 'Etc/GMT+12', 'Asia/Qatar', 'Australia/LHI', 'America/Costa_Rica', 'Asia/Baghdad', 'Australia/Hobart', 'America/Mendoza', 'Pacific/Apia', 'Navajo', 'America/Moncton', 'America/Pangnirtung', 'Africa/Asmara', 'Pacific/Pohnpei', 'Antarctica/Mawson', 'Etc/GMT-5', 'Pacific/Galapagos', 'GMT-0', 'Asia/Muscat', 'Europe/San_Marino', 'America/Scoresbysund', 'Pacific/Bougainville', 'Asia/Colombo', 'Indian/Kerguelen', 'America/Cayenne', 'America/Fort_Wayne', 'Africa/Maseru', 'Atlantic/Bermuda', 'Europe/Kiev', 'Europe/Mariehamn', 'Asia/Khandyga', 'Asia/Yakutsk', 'Asia/Irkutsk', 'Etc/GMT-7', 'HST', 'America/Atikokan', 'US/Aleutian', 'America/Araguaina', 'US/Hawaii', 'Singapore', 'Africa/Bujumbura', 'Etc/GMT-1', 'Zulu', 'Arctic/Longyearbyen', 'Indian/Reunion', 'Asia/Novokuznetsk', 'America/Martinique', 'America/Glace_Bay', 'America/Santo_Domingo', 'Africa/Niamey', 'Asia/Hebron', 'Asia/Jakarta', 'Africa/Harare', 'Brazil/East', 'Asia/Ho_Chi_Minh', 'Europe/Brussels', 'Atlantic/Faroe', 'America/Barbados', 'America/Puerto_Rico', 'Africa/Nouakchott', 'America/Cordoba', 'Africa/Accra', 'America/Managua', 'Australia/North', 'Europe/Vilnius', 'Universal', 'Africa/Addis_Ababa', 'Africa/Dakar', 'Etc/GMT-12', 'America/Aruba', 'Asia/Magadan', 'GMT+0', 'Europe/Zaporozhye', 'Antarctica/Syowa', 'Africa/Luanda', 'Europe/Busingen', 'Pacific/Efate', 'America/Santa_Isabel', 'Asia/Sakhalin', 'Asia/Urumqi', 'America/Argentina/Buenos_Aires', 'Pacific/Pitcairn', 'Asia/Vladivostok', 'America/Indiana/Marengo', 'Africa/Dar_es_Salaam', 'America/Fort_Nelson', 'America/Guadeloupe', 'America/Bogota', 'Asia/Harbin', 'America/Indiana/Indianapolis', 'America/La_Paz', 'Europe/Jersey', 'Africa/Bissau', 'Etc/GMT0', 'Africa/Maputo', 'America/Indiana/Winamac', 'Africa/Brazzaville', 'Asia/Karachi', 'Africa/Conakry', 'Europe/Tirane', 'Asia/Chongqing', 'America/St_Vincent', 'Asia/Gaza', 'America/Anchorage', 'Pacific/Fakaofo', 'Europe/Andorra', 'W-SU', 'Etc/GMT+3', 'GB-Eire', 'Australia/Brisbane', 'Asia/Ujung_Pandang', 'Asia/Qostanay', 'America/Dominica', 'Etc/GMT-13', 'America/Argentina/San_Luis', 'Brazil/DeNoronha', 'America/Grand_Turk', 'Asia/Jerusalem', 'America/Indiana/Vincennes', 'America/Belize', 'Etc/GMT-14', 'Japan', 'Asia/Yerevan', 'Asia/Baku', 'Canada/Mountain', 'Pacific/Nauru', 'Pacific/Niue', 'Asia/Jayapura', 'America/Argentina/La_Rioja', 'Asia/Katmandu', 'Antarctica/DumontDUrville', 'Europe/Chisinau', 'America/Belem', 'America/New_York', 'America/Cancun', 'America/Noronha', 'Antarctica/Vostok', 'America/Louisville', 'Asia/Phnom_Penh', 'Antarctica/McMurdo', 'Australia/West', 'Pacific/Kiritimati', 'Pacific/Majuro', 'Pacific/Tahiti', 'Africa/Monrovia', 'America/Recife', 'Brazil/Acre', 'America/St_Lucia', 'Asia/Aqtobe', 'Antarctica/South_Pole', 'Asia/Kabul', 'Israel', 'Africa/Bamako', 'America/Lima', 'America/Ojinaga', 'Atlantic/St_Helena', 'America/Guatemala', 'Pacific/Tarawa', 'Pacific/Saipan', 'America/Port-au-Prince', 'EST', 'America/Dawson_Creek', 'America/Asuncion', 'Europe/Tallinn', 'Etc/GMT-3', 'Asia/Vientiane', 'Asia/Novosibirsk', 'Asia/Dubai', 'MST', 'Pacific/Kanton', 'Etc/GMT', 'Asia/Damascus', 'Europe/Moscow', 'Europe/Belfast', 'Africa/Abidjan', 'America/Guayaquil', 'Asia/Kuwait', 'Africa/Ceuta', 'America/Merida', 'Europe/Rome', 'America/Cambridge_Bay', 'America/Anguilla', 'Asia/Tel_Aviv', 'NZ', 'America/Coral_Harbour', 'Pacific/Tongatapu', 'America/Blanc-Sablon', 'Asia/Seoul', 'Europe/Bucharest', 'Europe/Dublin', 'Africa/Mogadishu', 'Europe/Sofia', 'America/Boise', 'Pacific/Noumea', 'Pacific/Guadalcanal', 'America/Virgin', 'Australia/Sydney', 'Pacific/Wallis', 'America/Argentina/Cordoba', 'Asia/Samarkand', 'Pacific/Yap', 'Asia/Macao', 'America/Nipigon', 'Africa/Kigali', 'America/Sao_Paulo', 'Asia/Tashkent', 'America/Eirunepe', 'Indian/Cocos', 'Australia/Perth', 'GMT0', 'America/Inuvik', 'Africa/Freetown', 'Australia/NSW', 'Africa/Kinshasa', 'America/Cuiaba', 'Europe/Monaco', 'America/Thule', 'America/Metlakatla', 'Asia/Ust-Nera', 'America/Santiago', 'America/Yakutat', 'Europe/Helsinki', 'Indian/Chagos', 'Canada/Newfoundland', 'Asia/Taipei', 'Pacific/Pago_Pago', 'America/Argentina/ComodRivadavia', 'Australia/Currie', 'America/Argentina/Tucuman', 'Europe/Zurich', 'Poland', 'America/North_Dakota/Center', 'Europe/Tiraspol', 'Asia/Manila', 'America/Nuuk', 'Asia/Anadyr', 'America/Swift_Current', 'US/Indiana-Starke', 'Australia/Victoria', 'Eire', 'Asia/Omsk', 'America/Detroit', 'America/Boa_Vista', 'Africa/Lome', 'Pacific/Midway', 'America/Rosario', 'America/Los_Angeles', 'America/Resolute', 'America/Phoenix', 'Egypt', 'Pacific/Chatham', 'Turkey', 'Africa/Gaborone', 'America/Knox_IN', 'Australia/Melbourne', 'Europe/Malta', 'Europe/Athens', 'Antarctica/Troll', 'Indian/Mahe', 'Antarctica/Rothera', 'Pacific/Truk', 'Asia/Yekaterinburg', 'Europe/Lisbon', 'Europe/Nicosia', 'Asia/Saigon', 'Asia/Choibalsan', 'America/Paramaribo', 'Pacific/Rarotonga', 'America/Dawson', 'Africa/Lagos', 'Etc/GMT+6', 'Pacific/Funafuti', 'America/Kentucky/Louisville', 'America/Ciudad_Juarez', 'Mexico/BajaNorte', 'America/Porto_Acre', 'America/Regina', 'Africa/Malabo', 'Asia/Calcutta', 'NZ-CHAT', 'Asia/Qyzylorda', 'Europe/Minsk', 'Indian/Maldives', 'America/Tijuana', 'Europe/Kaliningrad', 'Asia/Kuala_Lumpur', 'America/Thunder_Bay', 'Africa/Blantyre', 'Antarctica/Macquarie', 'America/Buenos_Aires', 'Europe/Budapest', 'Etc/GMT+7', 'America/Antigua', 'Atlantic/Faeroe', 'Asia/Singapore', 'America/Catamarca', 'America/Punta_Arenas', 'Pacific/Palau', 'Iran', 'Factory', 'Atlantic/Reykjavik', 'Atlantic/Jan_Mayen', 'US/Eastern', 'America/Denver', 'Etc/GMT-0', 'Europe/Kirov', 'America/Kralendijk', 'Asia/Dili', 'America/St_Kitts', 'America/Maceio', 'CET', 'Brazil/West', 'Europe/Astrakhan', 'Mexico/General', 'Asia/Chungking', 'America/Atka', 'Pacific/Guam', 'ROC', 'Asia/Nicosia', 'America/Cayman', 'America/North_Dakota/Beulah', 'Pacific/Wake', 'America/St_Thomas', 'Atlantic/Azores', 'Cuba', 'America/Shiprock', 'America/Manaus', 'Etc/GMT-8', 'Antarctica/Casey', 'US/Michigan', 'America/Grenada', 'Asia/Beirut', 'MST7MDT', 'Pacific/Fiji', 'Europe/Madrid', 'America/Whitehorse', 'UCT', 'Pacific/Chuuk', 'Etc/GMT-9', 'Asia/Brunei', 'Europe/Samara', 'Asia/Srednekolymsk', 'Europe/Saratov', 'PST8PDT', 'Antarctica/Davis', 'Europe/Stockholm', 'CST6CDT', 'Greenwich', 'Etc/GMT+9', 'Africa/Ndjamena', 'Europe/Oslo', 'Europe/Simferopol', 'America/El_Salvador', 'Etc/GMT+10', 'Australia/ACT', 'Europe/Luxembourg', 'Australia/Adelaide', 'Atlantic/Canary', 'Asia/Atyrau', 'Etc/GMT+11', 'Africa/Tripoli', 'Asia/Almaty', 'Indian/Christmas', 'US/Central', 'Asia/Aqtau', 'Etc/GMT+0', 'Indian/Mayotte', 'America/Kentucky/Monticello', 'US/Samoa', 'Asia/Bahrain', 'Australia/Broken_Hill', 'America/Adak', 'America/Guyana', 'Europe/Sarajevo', 'US/Pacific', 'Pacific/Gambier', 'WET', 'America/Indiana/Knox', 'Asia/Famagusta', 'Australia/Darwin', 'America/Juneau', 'America/Miquelon', 'Asia/Ashgabat', 'Europe/Istanbul', 'Africa/Libreville', 'America/Halifax', 'Etc/Zulu', 'Africa/Windhoek', 'Australia/Canberra', 'Asia/Pontianak', 'Asia/Tehran', 'America/Edmonton', 'EST5EDT', 'America/Argentina/Ushuaia', 'Europe/London', 'America/Argentina/Catamarca', 'America/Fortaleza', 'America/Sitka', 'America/Vancouver', 'America/Goose_Bay', 'America/Argentina/Mendoza', 'Asia/Shanghai', 'Europe/Vatican', 'America/Matamoros', 'Asia/Amman', 'US/Alaska', 'Asia/Krasnoyarsk', 'America/Indiana/Petersburg', 'Canada/Atlantic', 'America/Montreal', 'Asia/Thimphu', 'Africa/Casablanca', 'Asia/Thimbu', 'Indian/Mauritius', 'America/Winnipeg', 'Canada/Yukon', 'Africa/Banjul', 'Europe/Warsaw', 'Asia/Riyadh', 'Etc/GMT+8', 'Asia/Rangoon', 'Asia/Ashkhabad', 'America/Argentina/Rio_Gallegos', 'Africa/Asmera', 'Europe/Paris', 'Europe/Ljubljana', 'Africa/Nairobi', 'Jamaica', 'Pacific/Johnston', 'Africa/Kampala', 'Asia/Oral', 'Africa/Lubumbashi', 'Asia/Istanbul', 'Europe/Zagreb', 'Etc/Universal', 'America/Havana', 'Libya', 'Asia/Hovd', 'Etc/GMT-4', 'Asia/Dhaka', 'Africa/El_Aaiun', 'Africa/Ouagadougou', 'Asia/Ulaanbaatar', 'America/Menominee', 'Mexico/BajaSur', 'America/North_Dakota/New_Salem', 'Europe/Uzhgorod', 'Australia/Tasmania', 'Canada/Central', 'Australia/Lindeman', 'Etc/GMT-11', 'GMT', 'Atlantic/Stanley', 'US/Mountain', 'Europe/Prague', 'Antarctica/Palmer', 'Australia/South', 'UTC', 'Canada/Pacific', 'America/Iqaluit', 'America/Jamaica', 'Europe/Guernsey', 'Africa/Juba', 'Asia/Dushanbe', 'ROK', 'Etc/GMT+5', 'Etc/GMT+2', 'Europe/Podgorica', 'America/Santarem', 'Portugal', 'Atlantic/Madeira', 'Pacific/Auckland', 'Europe/Vienna', 'America/Argentina/Salta', 'Africa/Algiers', 'Africa/Mbabane', 'Asia/Pyongyang', 'Chile/Continental', 'Etc/GMT-10', 'America/Nassau', 'America/Godthab', 'America/Lower_Princes', 'America/Marigot', 'Pacific/Ponape', 'Europe/Ulyanovsk', 'Europe/Volgograd', 'America/Chihuahua', 'Europe/Skopje', 'America/Rankin_Inlet', 'America/Rio_Branco', 'America/Mazatlan', 'Europe/Berlin', 'Australia/Eucla', 'America/Jujuy', 'Indian/Comoro', 'Asia/Yangon', 'America/Montserrat', 'America/Monterrey', 'Asia/Kuching', 'Asia/Kamchatka'}\n",
      "597\n"
     ]
    }
   ],
   "source": [
    "# TimeZone\n",
    "from zoneinfo import available_timezones\n",
    "\n",
    "print(available_timezones())\n",
    "print(len(available_timezones()))"
   ]
  },
  {
   "cell_type": "markdown",
   "metadata": {},
   "source": [
    "### Windowsにおけるタイムゾーン\n",
    "\n",
    "zoneinfoはOSに内蔵されている<m-b>TZif</m-b>形式のファイルからタイムゾーンデータベースを参照するが、Windowsにはない。\n",
    "Windows環境でzoneinfoを使用する場合、<m-b>pip install tzdata</m-b>を実行し、CPythonのコア開発者がメンテナンスしているパッケージをインストールする必要がある。"
   ]
  }
 ],
 "metadata": {
  "kernelspec": {
   "display_name": "Python 3",
   "language": "python",
   "name": "python3"
  },
  "language_info": {
   "codemirror_mode": {
    "name": "ipython",
    "version": 3
   },
   "file_extension": ".py",
   "mimetype": "text/x-python",
   "name": "python",
   "nbconvert_exporter": "python",
   "pygments_lexer": "ipython3",
   "version": "3.11.6"
  }
 },
 "nbformat": 4,
 "nbformat_minor": 2
}
