{
 "cells": [
  {
   "cell_type": "markdown",
   "metadata": {},
   "source": [
    "### timeモジュールのメソッド\n",
    "\n",
    "<table>\n",
    "    <thead>\n",
    "        <tr>\n",
    "            <th>メソッド</th>\n",
    "            <th>説明</th>\n",
    "        </tr>\n",
    "    </thead>\n",
    "    <tbody>\n",
    "        <tr>\n",
    "            <td><m-b>gmtime([secs])</m-b></td>\n",
    "            <td>\n",
    "                UTCの現在時刻を返す<br>\n",
    "                secsを指定する場合、エポックからの経過時間を時刻として返す。\n",
    "            </td>\n",
    "        </tr>\n",
    "        <tr>\n",
    "            <td><m-b>localtime([secs])</m-b></td>\n",
    "            <td>\n",
    "                ローカルの現在時刻を返す<br>\n",
    "                secsを指定する場合、エポックからの経過時間を時刻として返す。\n",
    "            </td>\n",
    "        </tr>\n",
    "        <tr>\n",
    "            <td><m-b>strftime(format[, t])</m-b></td>\n",
    "            <td>現在時刻(または指定の時刻t)のフォーマット文字列を返す</td>\n",
    "        </tr>\n",
    "        <tr>\n",
    "            <td><m-b>time()</m-b></td>\n",
    "            <td>エポックからの秒数を浮動小数で返す</td>\n",
    "        </tr>\n",
    "    </tbody>\n",
    "</table>"
   ]
  },
  {
   "cell_type": "code",
   "execution_count": 10,
   "metadata": {},
   "outputs": [
    {
     "name": "stdout",
     "output_type": "stream",
     "text": [
      "time.struct_time(tm_year=2023, tm_mon=11, tm_mday=24, tm_hour=13, tm_min=46, tm_sec=15, tm_wday=4, tm_yday=328, tm_isdst=0)\n",
      "time.struct_time(tm_year=1970, tm_mon=1, tm_mday=12, tm_hour=13, tm_min=46, tm_sec=40, tm_wday=0, tm_yday=12, tm_isdst=0)\n",
      "time.struct_time(tm_year=2023, tm_mon=11, tm_mday=24, tm_hour=22, tm_min=46, tm_sec=15, tm_wday=4, tm_yday=328, tm_isdst=0)\n",
      "time.struct_time(tm_year=1970, tm_mon=1, tm_mday=12, tm_hour=22, tm_min=46, tm_sec=40, tm_wday=0, tm_yday=12, tm_isdst=0)\n",
      "15:46:22\n",
      "1700833575.6864784\n"
     ]
    }
   ],
   "source": [
    "import time\n",
    "\n",
    "print(time.gmtime())\n",
    "print(time.gmtime(1000000.0))\n",
    "\n",
    "print(time.localtime())\n",
    "print(time.localtime(1000000.0))\n",
    "\n",
    "print(time.strftime('%S:%M:%H'))\n",
    "\n",
    "print(time.time())"
   ]
  },
  {
   "cell_type": "code",
   "execution_count": 17,
   "metadata": {},
   "outputs": [
    {
     "name": "stdout",
     "output_type": "stream",
     "text": [
      "2023 11 24\n",
      "22 49 32\n",
      "4 328\n",
      "0\n",
      "東京 (標準時)\n",
      "32400\n",
      "9.0\n"
     ]
    }
   ],
   "source": [
    "# 時刻オブジェクト(struct_time)\n",
    "import time\n",
    "\n",
    "tm: time.struct_time = time.localtime()\n",
    "print(tm.tm_year, tm.tm_mon, tm.tm_mday)\n",
    "print(tm.tm_hour, tm.tm_min, tm.tm_sec)\n",
    "print(tm.tm_wday, tm.tm_yday)\n",
    "print(tm.tm_isdst) # サマータイムか\n",
    "print(tm.tm_zone)\n",
    "print(tm.tm_gmtoff)\n",
    "print(tm.tm_gmtoff / 3600)"
   ]
  },
  {
   "cell_type": "code",
   "execution_count": 18,
   "metadata": {},
   "outputs": [
    {
     "name": "stdout",
     "output_type": "stream",
     "text": [
      "1700833814.1833375\n",
      "1700833815.183872\n",
      "1700833816.1845489\n",
      "1700833817.1848512\n",
      "1700833818.1855662\n"
     ]
    }
   ],
   "source": [
    "# sleep()メソッド\n",
    "import time\n",
    "\n",
    "for _ in range(5):\n",
    "    print(time.time())\n",
    "    time.sleep(1)"
   ]
  },
  {
   "cell_type": "code",
   "execution_count": 27,
   "metadata": {},
   "outputs": [
    {
     "name": "stdout",
     "output_type": "stream",
     "text": [
      "start hoge: 0\n",
      "finish hoge: 2\n",
      "start fuga: 2\n",
      "finish fuga: 4\n"
     ]
    }
   ],
   "source": [
    "# time.sleep()を用いたコルーチンの待機\n",
    "import asyncio\n",
    "import time\n",
    "\n",
    "async def func(string):\n",
    "    print(f'start {string}: {time.localtime().tm_sec}')\n",
    "    time.sleep(2)\n",
    "    print(f'finish {string}: {time.localtime().tm_sec}')\n",
    "\n",
    "async def main():\n",
    "    await asyncio.gather(func('hoge'), func('fuga'))\n",
    "\n",
    "await main()"
   ]
  },
  {
   "cell_type": "code",
   "execution_count": 29,
   "metadata": {},
   "outputs": [
    {
     "name": "stdout",
     "output_type": "stream",
     "text": [
      "start hoge: 2\n",
      "start fuga: 2\n",
      "finish hoge: 4\n",
      "finish fuga: 4\n"
     ]
    }
   ],
   "source": [
    "# asyncio.sleep()を用いたコルーチンの待機\n",
    "import asyncio\n",
    "import time\n",
    "\n",
    "async def func(string):\n",
    "    print(f'start {string}: {time.localtime().tm_sec}')\n",
    "    await asyncio.sleep(2)\n",
    "    print(f'finish {string}: {time.localtime().tm_sec}')\n",
    "\n",
    "async def main():\n",
    "    await asyncio.gather(func('hoge'), func('fuga'))\n",
    "\n",
    "await main()"
   ]
  }
 ],
 "metadata": {
  "kernelspec": {
   "display_name": "Python 3",
   "language": "python",
   "name": "python3"
  },
  "language_info": {
   "codemirror_mode": {
    "name": "ipython",
    "version": 3
   },
   "file_extension": ".py",
   "mimetype": "text/x-python",
   "name": "python",
   "nbconvert_exporter": "python",
   "pygments_lexer": "ipython3",
   "version": "3.11.6"
  }
 },
 "nbformat": 4,
 "nbformat_minor": 2
}
