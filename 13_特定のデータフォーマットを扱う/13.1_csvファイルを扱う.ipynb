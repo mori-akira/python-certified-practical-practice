{
 "cells": [
  {
   "cell_type": "code",
   "execution_count": 6,
   "metadata": {},
   "outputs": [
    {
     "name": "stdout",
     "output_type": "stream",
     "text": [
      "都道府県,県庁所在地,総人口\n",
      "\n",
      "茨城,水戸,2852000\n",
      "\n",
      "栃木,宇都宮,1921000\n",
      "\n",
      "群馬,前橋,1927000\n",
      "\n",
      "埼玉,さいたま,7340000\n",
      "\n",
      "千葉,千葉,6275000\n",
      "\n",
      "東京,東京,14010000\n",
      "\n",
      "神奈川,横浜,9236000\n",
      "\n",
      "\n"
     ]
    }
   ],
   "source": [
    "# writer.writerowを用いたcsvファイル書き込み\n",
    "import csv\n",
    "from pathlib import Path\n",
    "\n",
    "with open(\"sample.csv\", mode=\"w\", encoding=\"cp932\") as f:\n",
    "    writer = csv.writer(f, delimiter=\",\")\n",
    "    writer.writerow([\"都道府県\", \"県庁所在地\", \"総人口\"])\n",
    "    writer.writerow([\"茨城\", \"水戸\", \"2852000\"])\n",
    "    writer.writerow([\"栃木\", \"宇都宮\", \"1921000\"])\n",
    "    writer.writerow([\"群馬\", \"前橋\", \"1927000\"])\n",
    "    writer.writerow([\"埼玉\", \"さいたま\", \"7340000\"])\n",
    "    writer.writerow([\"千葉\", \"千葉\", \"6275000\"])\n",
    "    writer.writerow([\"東京\", \"東京\", \"14010000\"])\n",
    "    writer.writerow([\"神奈川\", \"横浜\", \"9236000\"])\n",
    "\n",
    "print(Path('./sample.csv').read_text(encoding='cp932'))"
   ]
  },
  {
   "cell_type": "code",
   "execution_count": 20,
   "metadata": {},
   "outputs": [
    {
     "name": "stdout",
     "output_type": "stream",
     "text": [
      "都道府県,県庁所在地,総人口\n",
      "茨城,水戸,2852000\n",
      "栃木,宇都宮,1921000\n",
      "群馬,前橋,1927000\n",
      "埼玉,さいたま,7340000\n",
      "千葉,千葉,6275000\n",
      "東京,東京,14010000\n",
      "神奈川,横浜,9236000\n",
      "\n"
     ]
    }
   ],
   "source": [
    "import csv\n",
    "from pathlib import Path\n",
    "\n",
    "with open(\"sample.csv\", mode=\"w\", encoding=\"utf-8\") as f:\n",
    "    writer = csv.writer(f, delimiter=\",\", lineterminator='\\n')\n",
    "    writer.writerow([\"都道府県\", \"県庁所在地\", \"総人口\"])\n",
    "    data = [[\"茨城\", \"水戸\", \"2852000\"],\n",
    "            [\"栃木\", \"宇都宮\", \"1921000\"],\n",
    "            [\"群馬\", \"前橋\", \"1927000\"],\n",
    "            [\"埼玉\", \"さいたま\", \"7340000\"],\n",
    "            [\"千葉\", \"千葉\", \"6275000\"],\n",
    "            [\"東京\", \"東京\", \"14010000\"],\n",
    "            [\"神奈川\", \"横浜\", \"9236000\"]]\n",
    "    writer.writerows(data)\n",
    "\n",
    "print(Path('./sample.csv').read_text(encoding='utf-8'))"
   ]
  },
  {
   "cell_type": "code",
   "execution_count": 21,
   "metadata": {},
   "outputs": [
    {
     "name": "stdout",
     "output_type": "stream",
     "text": [
      "['都道府県', '県庁所在地', '総人口']\n",
      "['茨城', '水戸', '2852000']\n",
      "['栃木', '宇都宮', '1921000']\n",
      "['群馬', '前橋', '1927000']\n",
      "['埼玉', 'さいたま', '7340000']\n",
      "['千葉', '千葉', '6275000']\n",
      "['東京', '東京', '14010000']\n",
      "['神奈川', '横浜', '9236000']\n"
     ]
    }
   ],
   "source": [
    "# csvファイルを読み込む\n",
    "import csv\n",
    "with open('sample.csv', mode='r', encoding='utf-8') as f:\n",
    "    reader = csv.reader(f, delimiter=',')\n",
    "    for row in reader:\n",
    "        print(row)\n"
   ]
  },
  {
   "cell_type": "code",
   "execution_count": 22,
   "metadata": {},
   "outputs": [
    {
     "name": "stdout",
     "output_type": "stream",
     "text": [
      "都道府県,県庁所在地,総人口\n",
      "#茨城#@#水戸#@#2852000#\n",
      "#栃木#@#宇都宮#@#1921000#\n",
      "\n",
      "['都道府県,県庁所在地,総人口']\n",
      "['茨城', '水戸', '2852000']\n",
      "['栃木', '宇都宮', '1921000']\n"
     ]
    }
   ],
   "source": [
    "# 引用符・区切り文字の指定\n",
    "import csv\n",
    "with open('sample2.csv', mode='r', encoding='utf-8') as f:\n",
    "    print(f.read())\n",
    "    reader = csv.reader(f, delimiter='@', quotechar='#')\n",
    "    f.seek(0)\n",
    "    for row in reader:\n",
    "        print(row)\n"
   ]
  },
  {
   "cell_type": "code",
   "execution_count": 23,
   "metadata": {},
   "outputs": [
    {
     "name": "stdout",
     "output_type": "stream",
     "text": [
      "[{'都道府県': '茨城', '県庁所在地': '水戸', '総人口': '2852000'}, {'都道府県': '栃木', '県庁所在地': '宇都宮', '総人口': '1921000'}, {'都道府県': '群馬', '県庁所在地': '前橋', '総人口': '1927000'}, {'都道府県': '埼玉', '県庁所在地': 'さいたま', '総人口': '7340000'}, {'都道府県': '千葉', '県庁所在地': '千葉', '総人口': '6275000'}, {'都道府県': '東京', '県庁所在地': '東京', '総人口': '14010000'}, {'都道府県': '神奈川', '県庁所在地': '横浜', '総人口': '9236000'}]\n"
     ]
    }
   ],
   "source": [
    "# 辞書型として読み込む\n",
    "import csv\n",
    "with open('sample.csv', mode='r', encoding='utf-8') as f:\n",
    "    reader = csv.DictReader(f)\n",
    "    print(list(reader))\n"
   ]
  },
  {
   "cell_type": "code",
   "execution_count": 31,
   "metadata": {},
   "outputs": [
    {
     "name": "stdout",
     "output_type": "stream",
     "text": [
      "name\tage\n",
      "佐藤\t25\n",
      "田中\t29\n",
      "木村\t22\n",
      "関口\t31\n",
      "\n"
     ]
    }
   ],
   "source": [
    "# 辞書型として書き込む\n",
    "from dataclasses import dataclass, asdict\n",
    "import csv\n",
    "\n",
    "@dataclass\n",
    "class User:\n",
    "    name: str\n",
    "    age: int\n",
    "\n",
    "data_list = [User(\"佐藤\", 25), User(\"田中\", 29), User(\"木村\", 22), User(\"関口\", 31)]\n",
    "with open(\"sample3.csv\", mode=\"w\", encoding=\"utf-8\") as f:\n",
    "    writer = csv.DictWriter(\n",
    "        f, delimiter=\"\\t\", lineterminator=\"\\n\", fieldnames=[\"name\", \"age\"]\n",
    "    )\n",
    "    writer.writeheader()\n",
    "    for data in data_list:\n",
    "        writer.writerow(asdict(data))\n",
    "\n",
    "with open(\"sample3.csv\", mode=\"r\", encoding=\"utf-8\") as f:\n",
    "    print(f.read())\n"
   ]
  }
 ],
 "metadata": {
  "kernelspec": {
   "display_name": "Python 3",
   "language": "python",
   "name": "python3"
  },
  "language_info": {
   "codemirror_mode": {
    "name": "ipython",
    "version": 3
   },
   "file_extension": ".py",
   "mimetype": "text/x-python",
   "name": "python",
   "nbconvert_exporter": "python",
   "pygments_lexer": "ipython3",
   "version": "3.11.7"
  }
 },
 "nbformat": 4,
 "nbformat_minor": 2
}
