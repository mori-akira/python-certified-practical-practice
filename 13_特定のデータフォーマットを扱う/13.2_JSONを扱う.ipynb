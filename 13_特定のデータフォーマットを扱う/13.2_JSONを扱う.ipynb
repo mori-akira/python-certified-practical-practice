{
 "cells": [
  {
   "cell_type": "code",
   "execution_count": 5,
   "metadata": {},
   "outputs": [
    {
     "name": "stdout",
     "output_type": "stream",
     "text": [
      "{\n",
      "  \"hoge\": 123,\n",
      "  \"fuga\": \"abc\",\n",
      "  \"piyo\": true,\n",
      "  \"\\u65e5\\u672c\\u8a9e\": \"\\u3042\\u3044\\u3046\\u3048\\u304a\"\n",
      "}\n",
      "{\n",
      "    \"fuga\": \"abc\",\n",
      "    \"hoge\": 123,\n",
      "    \"piyo\": true,\n",
      "    \"\\u65e5\\u672c\\u8a9e\": \"\\u3042\\u3044\\u3046\\u3048\\u304a\"\n",
      "}\n",
      "{\n",
      " \"hoge\": 123,\n",
      " \"fuga\": \"abc\",\n",
      " \"piyo\": true,\n",
      " \"日本語\": \"あいうえお\"\n",
      "}\n"
     ]
    }
   ],
   "source": [
    "# JSONにエンコードする\n",
    "import json\n",
    "obj = {\n",
    "    \"hoge\": 123,\n",
    "    \"fuga\": \"abc\",\n",
    "    \"piyo\": True,\n",
    "    \"日本語\": \"あいうえお\"\n",
    "}\n",
    "print(json.dumps(obj, indent=2))\n",
    "print(json.dumps(obj, indent=4, sort_keys=True))\n",
    "print(json.dumps(obj, indent=1, ensure_ascii=False))\n"
   ]
  },
  {
   "cell_type": "code",
   "execution_count": 22,
   "metadata": {},
   "outputs": [
    {
     "name": "stdout",
     "output_type": "stream",
     "text": [
      "<class 'TypeError'>\n",
      "Object of type datetime is not JSON serializable\n",
      "{\"time\": \"2023-12-11 23:32:04\", \"this\": \"c:\\\\Users\\\\kgrmr\\\\OneDrive\\\\ドキュメント\\\\GitHub\\\\python-certified-practical-practice\\\\13_特定のデータフォーマットを扱う\", \"other\": \"()\"}\n"
     ]
    }
   ],
   "source": [
    "# 基本型以外の処理\n",
    "from datetime import datetime\n",
    "from pathlib import Path\n",
    "import json\n",
    "\n",
    "data = {\n",
    "    'time': datetime.now(),\n",
    "    'this': Path('.').absolute(),\n",
    "    'other': json.encoder\n",
    "}\n",
    "try:\n",
    "    print(json.dumps(data))\n",
    "except Exception as ex:\n",
    "    print(type(ex))\n",
    "    print(ex)\n",
    "\n",
    "def mydefault(e):\n",
    "    if isinstance(e, datetime):\n",
    "        return e.strftime('%Y-%m-%d %H:%M:%S')\n",
    "    elif isinstance(e, Path):\n",
    "        return str(e)\n",
    "    else:\n",
    "        return '()'\n",
    "\n",
    "print(json.dumps(data, default=mydefault, ensure_ascii=False))\n",
    "with open('sample.json', mode='w') as f:\n",
    "    json.dump(data, f, default=mydefault, ensure_ascii=False)\n",
    "\n"
   ]
  },
  {
   "cell_type": "code",
   "execution_count": 23,
   "metadata": {},
   "outputs": [
    {
     "name": "stdout",
     "output_type": "stream",
     "text": [
      "{'xxx': [123, 'hoge', True, None], 'yyy': [{'abc': 'def', 'ghi': 999}], 'zzz': {'foo': {'bar': None}}}\n"
     ]
    }
   ],
   "source": [
    "# jsonのデコード\n",
    "import json\n",
    "data = '''\\\n",
    "    {\n",
    "    \"xxx\": [123, \"hoge\", true, null],\n",
    "    \"yyy\": [\n",
    "        {\"abc\": \"def\", \"ghi\": 999}\n",
    "    ],\n",
    "    \"zzz\": {\n",
    "        \"foo\": {\n",
    "            \"bar\": null\n",
    "        }\n",
    "    }\n",
    "}\\\n",
    "'''\n",
    "print(json.loads(data))\n"
   ]
  }
 ],
 "metadata": {
  "kernelspec": {
   "display_name": "Python 3",
   "language": "python",
   "name": "python3"
  },
  "language_info": {
   "codemirror_mode": {
    "name": "ipython",
    "version": 3
   },
   "file_extension": ".py",
   "mimetype": "text/x-python",
   "name": "python",
   "nbconvert_exporter": "python",
   "pygments_lexer": "ipython3",
   "version": "3.11.7"
  }
 },
 "nbformat": 4,
 "nbformat_minor": 2
}
