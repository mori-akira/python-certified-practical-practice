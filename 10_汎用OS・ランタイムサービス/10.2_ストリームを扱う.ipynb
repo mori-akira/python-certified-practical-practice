{
 "cells": [
  {
   "cell_type": "markdown",
   "metadata": {},
   "source": [
    "### ioモジュールについて\n",
    "\n",
    "ioモジュールは様々なI/Oのストリームオブジェクトを提供する。\n",
    "これは<m-b>file-lickオブジェクト</m-b>とも呼ばれ、文字列やバイト列などのオブジェクトをファイルのように扱うことができる。\n",
    "\n",
    "このモジュールは次のクラスを提供する。\n",
    "\n",
    "- 文字列をファイルと同じI/Fで扱う<m-b>StringIO<m-b>クラス\n",
    "- バイト列をファイルと同じI/Fで扱う<m-b>BytesIO<m-b>クラス\n",
    "- その他、ストリームオブジェクトの抽象基底クラス群"
   ]
  },
  {
   "cell_type": "code",
   "execution_count": 29,
   "metadata": {},
   "outputs": [
    {
     "name": "stdout",
     "output_type": "stream",
     "text": [
      "This \n",
      "5\n",
      "10\n",
      "mple text \n",
      "This is sample text for StringIO sample.\n",
      "None\n"
     ]
    }
   ],
   "source": [
    "# インメモリでテキストストリームを扱う\n",
    "import io\n",
    "stream = io.StringIO(\"This is sample text for StringIO sample.\")\n",
    "print(stream.read(5))\n",
    "print(stream.tell())\n",
    "print(stream.seek(10))\n",
    "print(stream.read(10))\n",
    "print(stream.getvalue())\n",
    "print(stream.close())"
   ]
  },
  {
   "cell_type": "code",
   "execution_count": 31,
   "metadata": {},
   "outputs": [
    {
     "name": "stdout",
     "output_type": "stream",
     "text": [
      "4\n",
      "4\n",
      "HOGE is sample text for StringIO sample.\n",
      "10\n",
      "4\n",
      "HOGE is saFUGA text for StringIO sample.\n",
      "40\n",
      "4\n",
      "HOGE is saFUGA text for StringIO sample.PIYO\n"
     ]
    }
   ],
   "source": [
    "# 書き込み\n",
    "import io\n",
    "from io import SEEK_END\n",
    "stream = io.StringIO(\"This is sample text for StringIO sample.\")\n",
    "print(stream.write('HOGE'))\n",
    "print(stream.tell())\n",
    "print(stream.getvalue())\n",
    "print(stream.seek(10))\n",
    "print(stream.write('FUGA'))\n",
    "print(stream.getvalue())\n",
    "print(stream.seek(0, SEEK_END)) # 末尾に移動\n",
    "print(stream.write('PIYO'))\n",
    "print(stream.getvalue())\n"
   ]
  },
  {
   "cell_type": "code",
   "execution_count": 15,
   "metadata": {},
   "outputs": [
    {
     "name": "stdout",
     "output_type": "stream",
     "text": [
      "10\n",
      "mple  15\n",
      "15\n",
      "text  20\n",
      "40\n",
      " 40\n"
     ]
    },
    {
     "ename": "OSError",
     "evalue": "Can't do nonzero cur-relative seeks",
     "output_type": "error",
     "traceback": [
      "\u001b[1;31m---------------------------------------------------------------------------\u001b[0m",
      "\u001b[1;31mOSError\u001b[0m                                   Traceback (most recent call last)",
      "\u001b[1;32mc:\\Users\\kgrmr\\OneDrive\\ドキュメント\\GitHub\\python-certified-practical-practice\\10_汎用OS・ランタイムサービス\\10.2_ストリームを扱う.ipynb Cell 3\u001b[0m line \u001b[0;36m1\n\u001b[0;32m      <a href='vscode-notebook-cell:/c%3A/Users/kgrmr/OneDrive/%E3%83%89%E3%82%AD%E3%83%A5%E3%83%A1%E3%83%B3%E3%83%88/GitHub/python-certified-practical-practice/10_%E6%B1%8E%E7%94%A8OS%E3%83%BB%E3%83%A9%E3%83%B3%E3%82%BF%E3%82%A4%E3%83%A0%E3%82%B5%E3%83%BC%E3%83%93%E3%82%B9/10.2_%E3%82%B9%E3%83%88%E3%83%AA%E3%83%BC%E3%83%A0%E3%82%92%E6%89%B1%E3%81%86.ipynb#W2sZmlsZQ%3D%3D?line=8'>9</a>\u001b[0m \u001b[39mprint\u001b[39m(stream\u001b[39m.\u001b[39mseek(\u001b[39m0\u001b[39m, SEEK_END)) \u001b[39m# 末尾にオフセットを指定\u001b[39;00m\n\u001b[0;32m     <a href='vscode-notebook-cell:/c%3A/Users/kgrmr/OneDrive/%E3%83%89%E3%82%AD%E3%83%A5%E3%83%A1%E3%83%B3%E3%83%88/GitHub/python-certified-practical-practice/10_%E6%B1%8E%E7%94%A8OS%E3%83%BB%E3%83%A9%E3%83%B3%E3%82%BF%E3%82%A4%E3%83%A0%E3%82%B5%E3%83%BC%E3%83%93%E3%82%B9/10.2_%E3%82%B9%E3%83%88%E3%83%AA%E3%83%BC%E3%83%A0%E3%82%92%E6%89%B1%E3%81%86.ipynb#W2sZmlsZQ%3D%3D?line=9'>10</a>\u001b[0m \u001b[39mprint\u001b[39m(stream\u001b[39m.\u001b[39mread(\u001b[39m5\u001b[39m), stream\u001b[39m.\u001b[39mtell())\n\u001b[1;32m---> <a href='vscode-notebook-cell:/c%3A/Users/kgrmr/OneDrive/%E3%83%89%E3%82%AD%E3%83%A5%E3%83%A1%E3%83%B3%E3%83%88/GitHub/python-certified-practical-practice/10_%E6%B1%8E%E7%94%A8OS%E3%83%BB%E3%83%A9%E3%83%B3%E3%82%BF%E3%82%A4%E3%83%A0%E3%82%B5%E3%83%BC%E3%83%93%E3%82%B9/10.2_%E3%82%B9%E3%83%88%E3%83%AA%E3%83%BC%E3%83%A0%E3%82%92%E6%89%B1%E3%81%86.ipynb#W2sZmlsZQ%3D%3D?line=10'>11</a>\u001b[0m \u001b[39mprint\u001b[39m(stream\u001b[39m.\u001b[39;49mseek(\u001b[39m1\u001b[39;49m, SEEK_CUR)) \u001b[39m# 0以外はエラー\u001b[39;00m\n",
      "\u001b[1;31mOSError\u001b[0m: Can't do nonzero cur-relative seeks"
     ]
    }
   ],
   "source": [
    "# オフセット位置の指定\n",
    "import io\n",
    "from io import SEEK_SET, SEEK_CUR, SEEK_END\n",
    "with io.StringIO(\"This is sample text for StringIO sample.\") as stream:\n",
    "    print(stream.seek(10, SEEK_SET)) # 先頭からオフセットを指定\n",
    "    print(stream.read(5), stream.tell())\n",
    "    print(stream.seek(0, SEEK_CUR)) # 現在地にオフセットを指定\n",
    "    print(stream.read(5), stream.tell())\n",
    "    print(stream.seek(0, SEEK_END)) # 末尾にオフセットを指定\n",
    "    print(stream.read(5), stream.tell())\n",
    "    print(stream.seek(1, SEEK_CUR)) # 0以外はエラー"
   ]
  },
  {
   "cell_type": "code",
   "execution_count": 24,
   "metadata": {},
   "outputs": [
    {
     "name": "stdout",
     "output_type": "stream",
     "text": [
      "line1: True: This is multiple line text.\n",
      "line2: True: This is second line in sample text.\n",
      "line3: True: This is third line in sample text.\n"
     ]
    }
   ],
   "source": [
    "# 1行ずつ読み込む\n",
    "import io\n",
    "import os\n",
    "target = '''\\\n",
    "This is multiple line text.\n",
    "This is second line in sample text.\n",
    "This is third line in sample text.\n",
    "'''\n",
    "with io.StringIO(target, newline=os.linesep) as stream:\n",
    "    i = 1\n",
    "    for line in stream:\n",
    "        print(f'line{i}: ', end='')\n",
    "        print(f'{line.endswith(os.linesep)}: ', end='')\n",
    "        i += 1\n",
    "        print(line, end='')\n"
   ]
  },
  {
   "cell_type": "code",
   "execution_count": 42,
   "metadata": {},
   "outputs": [
    {
     "name": "stdout",
     "output_type": "stream",
     "text": [
      "['This is multiple line text.\\r\\n', 'This is second line in sample text.\\r\\n', 'This is third line in sample text.\\r\\n']\n",
      "\n",
      "0\n",
      "This is multiple line text.\n",
      "True\n",
      "This is second line in sample text.\n"
     ]
    }
   ],
   "source": [
    "# 複数行を読み込む\n",
    "import io\n",
    "import os\n",
    "target = '''\\\n",
    "This is multiple line text.\n",
    "This is second line in sample text.\n",
    "This is third line in sample text.\n",
    "'''\n",
    "with io.StringIO(target, newline=os.linesep) as stream:\n",
    "    print(stream.readlines())\n",
    "    print(stream.readline())\n",
    "    print(stream.seek(0))\n",
    "    print(stream.readline(), end='')\n",
    "    print(stream.readable())\n",
    "    print(stream.readline(), end='')"
   ]
  },
  {
   "cell_type": "code",
   "execution_count": 37,
   "metadata": {},
   "outputs": [],
   "source": [
    "# ユニットテストでの応用\n",
    "import io\n",
    "from unittest.mock import patch\n",
    "\n",
    "def print_hoge():\n",
    "    print('hoge')\n",
    "\n",
    "@patch('sys.stdout', new_callable=io.StringIO)\n",
    "def test_pritn_hoge(mocked_object):\n",
    "    print_hoge()\n",
    "    assert mocked_object.getvalue() == 'hoge\\n'\n",
    "\n",
    "test_pritn_hoge()\n"
   ]
  }
 ],
 "metadata": {
  "kernelspec": {
   "display_name": "Python 3",
   "language": "python",
   "name": "python3"
  },
  "language_info": {
   "codemirror_mode": {
    "name": "ipython",
    "version": 3
   },
   "file_extension": ".py",
   "mimetype": "text/x-python",
   "name": "python",
   "nbconvert_exporter": "python",
   "pygments_lexer": "ipython3",
   "version": "3.11.7"
  }
 },
 "nbformat": 4,
 "nbformat_minor": 2
}
