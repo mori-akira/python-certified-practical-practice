{
 "cells": [
  {
   "cell_type": "markdown",
   "metadata": {},
   "source": [
    "### ioモジュールについて\n",
    "\n",
    "ioモジュールは様々なI/Oのストリームオブジェクトを提供する。\n",
    "これは<m-b>file-lickオブジェクト</m-b>とも呼ばれ、文字列やバイト列などのオブジェクトをファイルのように扱うことができる。\n",
    "\n",
    "このモジュールは次のクラスを提供する。\n",
    "\n",
    "- 文字列をファイルと同じI/Fで扱う<m-b>StringIO<m-b>クラス\n",
    "- バイト列をファイルと同じI/Fで扱う<m-b>BytesIO<m-b>クラス\n",
    "- その他、ストリームオブジェクトの抽象基底クラス群"
   ]
  }
 ],
 "metadata": {
  "language_info": {
   "name": "python"
  }
 },
 "nbformat": 4,
 "nbformat_minor": 2
}
