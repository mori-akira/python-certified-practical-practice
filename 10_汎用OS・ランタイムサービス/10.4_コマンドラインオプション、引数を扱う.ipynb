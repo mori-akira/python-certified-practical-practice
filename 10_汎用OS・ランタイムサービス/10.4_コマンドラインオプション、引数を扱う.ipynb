{
 "cells": [
  {
   "cell_type": "code",
   "execution_count": 2,
   "metadata": {},
   "outputs": [
    {
     "name": "stderr",
     "output_type": "stream",
     "text": [
      "usage: ipykernel_launcher.py [-h] -s STRING [-n NUM]\n",
      "ipykernel_launcher.py: error: the following arguments are required: -s/--string\n"
     ]
    },
    {
     "ename": "SystemExit",
     "evalue": "2",
     "output_type": "error",
     "traceback": [
      "An exception has occurred, use %tb to see the full traceback.\n",
      "\u001b[1;31mSystemExit\u001b[0m\u001b[1;31m:\u001b[0m 2\n"
     ]
    },
    {
     "name": "stderr",
     "output_type": "stream",
     "text": [
      "C:\\Users\\kgrmr\\AppData\\Local\\Packages\\PythonSoftwareFoundation.Python.3.11_qbz5n2kfra8p0\\LocalCache\\local-packages\\Python311\\site-packages\\IPython\\core\\interactiveshell.py:3556: UserWarning: To exit: use 'exit', 'quit', or Ctrl-D.\n",
      "  warn(\"To exit: use 'exit', 'quit', or Ctrl-D.\", stacklevel=1)\n"
     ]
    }
   ],
   "source": [
    "# コマンドラインオプションを扱う\n",
    "import argparse\n",
    "\n",
    "parser = argparse.ArgumentParser(description='Example Command')\n",
    "parser.add_argument('-s', '--string', type=str, help='string to display', required=True)\n",
    "parser.add_argument('-n', '--num', type=int, help='number of times repeat', required=False, default=2)\n",
    "args = parser.parse_args()\n",
    "\n",
    "print(args.string * args.num)"
   ]
  },
  {
   "cell_type": "code",
   "execution_count": 15,
   "metadata": {},
   "outputs": [
    {
     "name": "stdout",
     "output_type": "stream",
     "text": [
      "usage: repeat.py [-h] -s STRING [-n NUM]\n",
      "\n",
      "Example Command\n",
      "\n",
      "options:\n",
      "  -h, --help            show this help message and exit\n",
      "  -s STRING, --string STRING\n",
      "                        string to display\n",
      "  -n NUM, --num NUM     number of times repeat\n",
      "\n"
     ]
    }
   ],
   "source": [
    "# 上記のコードをrepeat.pyに保存し、-hオプションを付与して実行した場合\n",
    "import subprocess\n",
    "out = subprocess.run('python repeat.py -h', capture_output=True, text=True).stdout\n",
    "print(out.replace(r'\\n', r'\\r\\n'))\n"
   ]
  }
 ],
 "metadata": {
  "kernelspec": {
   "display_name": "Python 3",
   "language": "python",
   "name": "python3"
  },
  "language_info": {
   "codemirror_mode": {
    "name": "ipython",
    "version": 3
   },
   "file_extension": ".py",
   "mimetype": "text/x-python",
   "name": "python",
   "nbconvert_exporter": "python",
   "pygments_lexer": "ipython3",
   "version": "3.11.7"
  }
 },
 "nbformat": 4,
 "nbformat_minor": 2
}
