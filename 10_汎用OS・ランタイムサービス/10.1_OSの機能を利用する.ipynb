{
 "cells": [
  {
   "cell_type": "code",
   "execution_count": 6,
   "metadata": {},
   "outputs": [
    {
     "name": "stdout",
     "output_type": "stream",
     "text": [
      "environ({'ALLUSERSPROFILE': 'C:\\\\ProgramData', 'APPDATA': 'C:\\\\Users\\\\kgrmr\\\\AppData\\\\Roaming', 'APPLICATION_INSIGHTS_NO_DIAGNOSTIC_CHANNEL': '1', 'CHROME_CRASHPAD_PIPE_NAME': '\\\\\\\\.\\\\pipe\\\\crashpad_8960_EMWMKSNMPHGXTCIW', 'COMMONPROGRAMFILES': 'C:\\\\Program Files\\\\Common Files', 'COMMONPROGRAMFILES(X86)': 'C:\\\\Program Files (x86)\\\\Common Files', 'COMMONPROGRAMW6432': 'C:\\\\Program Files\\\\Common Files', 'COMPUTERNAME': '木暮のPC', 'COMSPEC': 'C:\\\\Windows\\\\system32\\\\cmd.exe', 'DRIVERDATA': 'C:\\\\Windows\\\\System32\\\\Drivers\\\\DriverData', 'EFC_14436': '1', 'ELECTRON_RUN_AS_NODE': '1', 'HOMEDRIVE': 'C:', 'HOMEPATH': '\\\\Users\\\\kgrmr', 'JAVA_HOME': 'C:\\\\java\\\\jdk-17', 'JPY_INTERRUPT_EVENT': '2508', 'LOCALAPPDATA': 'C:\\\\Users\\\\kgrmr\\\\AppData\\\\Local', 'LOGONSERVER': '\\\\\\\\木暮のPC', 'NUMBER_OF_PROCESSORS': '16', 'ONEDRIVE': 'C:\\\\Users\\\\kgrmr\\\\OneDrive', 'ONEDRIVECONSUMER': 'C:\\\\Users\\\\kgrmr\\\\OneDrive', 'ORIGINAL_XDG_CURRENT_DESKTOP': 'undefined', 'OS': 'Windows_NT', 'PATH': 'c:\\\\Users\\\\kgrmr\\\\AppData\\\\Local\\\\Microsoft\\\\WindowsApps;c:\\\\Users\\\\kgrmr\\\\AppData\\\\Local\\\\Packages\\\\PythonSoftwareFoundation.Python.3.11_qbz5n2kfra8p0\\\\LocalCache\\\\local-packages\\\\Python311\\\\Scripts;C:\\\\Windows\\\\system32;C:\\\\Windows;C:\\\\Windows\\\\System32\\\\Wbem;C:\\\\Windows\\\\System32\\\\WindowsPowerShell\\\\v1.0\\\\;C:\\\\Windows\\\\System32\\\\OpenSSH\\\\;C:\\\\Program Files (x86)\\\\NVIDIA Corporation\\\\PhysX\\\\Common;C:\\\\Program Files\\\\NVIDIA Corporation\\\\NVIDIA NvDLISR;C:\\\\Program Files\\\\nodejs\\\\;C:\\\\Program Files\\\\Docker\\\\Docker\\\\resources\\\\bin;C:\\\\java\\\\jdk-17\\\\bin;C:\\\\Program Files\\\\Git\\\\cmd;C:\\\\Users\\\\kgrmr\\\\AppData\\\\Local\\\\Microsoft\\\\WindowsApps;C:\\\\Users\\\\kgrmr\\\\AppData\\\\Local\\\\Programs\\\\Microsoft VS Code\\\\bin;C:\\\\Users\\\\kgrmr\\\\AppData\\\\Roaming\\\\npm;C:\\\\Users\\\\kgrmr\\\\AppData\\\\Local\\\\GitHubDesktop\\\\bin;C:\\\\Users\\\\kgrmr\\\\AppData\\\\Local\\\\Packages\\\\PythonSoftwareFoundation.Python.3.11_qbz5n2kfra8p0\\\\LocalCache\\\\local-packages\\\\Python311\\\\Scripts;;C:\\\\Windows\\\\system32;C:\\\\Windows;C:\\\\Windows\\\\System32\\\\Wbem;C:\\\\Windows\\\\System32\\\\WindowsPowerShell\\\\v1.0\\\\;C:\\\\Windows\\\\System32\\\\OpenSSH\\\\;C:\\\\Program Files (x86)\\\\NVIDIA Corporation\\\\PhysX\\\\Common;C:\\\\Program Files\\\\NVIDIA Corporation\\\\NVIDIA NvDLISR;C:\\\\Program Files\\\\nodejs\\\\;C:\\\\Program Files\\\\Docker\\\\Docker\\\\resources\\\\bin;C:\\\\java\\\\jdk-17\\\\bin;C:\\\\Program Files\\\\Git\\\\cmd;C:\\\\Users\\\\kgrmr\\\\AppData\\\\Local\\\\Microsoft\\\\WindowsApps;C:\\\\Users\\\\kgrmr\\\\AppData\\\\Local\\\\Programs\\\\Microsoft VS Code\\\\bin;C:\\\\Users\\\\kgrmr\\\\AppData\\\\Roaming\\\\npm;C:\\\\Users\\\\kgrmr\\\\AppData\\\\Local\\\\GitHubDesktop\\\\bin;C:\\\\Users\\\\kgrmr\\\\AppData\\\\Local\\\\Packages\\\\PythonSoftwareFoundation.Python.3.11_qbz5n2kfra8p0\\\\LocalCache\\\\local-packages\\\\Python311\\\\Scripts;', 'PATHEXT': '.COM;.EXE;.BAT;.CMD;.VBS;.VBE;.JS;.JSE;.WSF;.WSH;.MSC', 'PROCESSOR_ARCHITECTURE': 'AMD64', 'PROCESSOR_IDENTIFIER': 'Intel64 Family 6 Model 154 Stepping 3, GenuineIntel', 'PROCESSOR_LEVEL': '6', 'PROCESSOR_REVISION': '9a03', 'PROGRAMDATA': 'C:\\\\ProgramData', 'PROGRAMFILES': 'C:\\\\Program Files', 'PROGRAMFILES(X86)': 'C:\\\\Program Files (x86)', 'PROGRAMW6432': 'C:\\\\Program Files', 'PSMODULEPATH': 'C:\\\\Program Files\\\\WindowsPowerShell\\\\Modules;C:\\\\Windows\\\\system32\\\\WindowsPowerShell\\\\v1.0\\\\Modules', 'PUBLIC': 'C:\\\\Users\\\\Public', 'PYDEVD_IPYTHON_COMPATIBLE_DEBUGGING': '1', 'PYTHONIOENCODING': 'utf-8', 'PYTHONUNBUFFERED': '1', 'SESSIONNAME': 'Console', 'SYSTEMDRIVE': 'C:', 'SYSTEMROOT': 'C:\\\\Windows', 'TEMP': 'C:\\\\Users\\\\kgrmr\\\\AppData\\\\Local\\\\Temp', 'TMP': 'hoge', 'USERDOMAIN': '木暮のPC', 'USERDOMAIN_ROAMINGPROFILE': '木暮のPC', 'USERNAME': 'kgrmr', 'USERPROFILE': 'C:\\\\Users\\\\kgrmr', 'VSCODE_AMD_ENTRYPOINT': 'vs/workbench/api/node/extensionHostProcess', 'VSCODE_CODE_CACHE_PATH': 'C:\\\\Users\\\\kgrmr\\\\AppData\\\\Roaming\\\\Code\\\\CachedData\\\\1a5daa3a0231a0fbba4f14db7ec463cf99d7768e', 'VSCODE_CRASH_REPORTER_PROCESS_TYPE': 'extensionHost', 'VSCODE_CWD': 'C:\\\\Users\\\\kgrmr\\\\OneDrive\\\\ドキュメント\\\\GitHub\\\\python-certified-practical-practice', 'VSCODE_HANDLES_UNCAUGHT_ERRORS': 'true', 'VSCODE_IPC_HOOK': '\\\\\\\\.\\\\pipe\\\\2d9303ac0ed9e2d17b7b976e15e5731b-1.84.2-main-sock', 'VSCODE_L10N_BUNDLE_LOCATION': '', 'VSCODE_NLS_CONFIG': '{\"locale\":\"en-us\",\"osLocale\":\"ja\",\"availableLanguages\":{},\"_languagePackSupport\":true}', 'VSCODE_PID': '8960', 'WINDIR': 'C:\\\\Windows', 'ZES_ENABLE_SYSMAN': '1', 'PYTHONUSERBASE': 'C:\\\\Users\\\\kgrmr\\\\AppData\\\\Local\\\\Packages\\\\PythonSoftwareFoundation.Python.3.11_qbz5n2kfra8p0\\\\LocalCache\\\\local-packages', 'PYDEVD_USE_FRAME_EVAL': 'NO', 'TERM': 'xterm-color', 'CLICOLOR': '1', 'FORCE_COLOR': '1', 'CLICOLOR_FORCE': '1', 'PAGER': 'cat', 'GIT_PAGER': 'cat', 'MPLBACKEND': 'module://matplotlib_inline.backend_inline'})\n",
      "\\Users\\kgrmr\n",
      "hoge\n",
      "None\n"
     ]
    }
   ],
   "source": [
    "# 環境変数\n",
    "import os\n",
    "print(os.environ)\n",
    "print(os.environ['HOMEPATH'])\n",
    "os.environ['TEMP'] = 'hoge'\n",
    "print(os.getenv('TEMP'))\n",
    "os.environ.pop('TEMP')\n",
    "print(os.getenv('TEMP'))\n"
   ]
  },
  {
   "cell_type": "markdown",
   "metadata": {},
   "source": [
    "### ファイルとディレクトリの操作\n",
    "\n",
    "<table>\n",
    "    <thead>\n",
    "        <tr>\n",
    "            <th>関数名</th>\n",
    "            <th>戻り値</th>\n",
    "            <th>環境</th>\n",
    "            <th>pathlibにある同等の関数</th>\n",
    "            <th>説明</th>\n",
    "        </tr>\n",
    "    </thead>\n",
    "    <tbody>\n",
    "        <tr>\n",
    "            <td><m-b>chdir(path)</m-b></td>\n",
    "            <td><m-b>None</m-b></td>\n",
    "            <td>Unix、Windows</td>\n",
    "            <td>-</td>\n",
    "            <td>現在の作業ディレクトリをpathに変更する</td>\n",
    "        </tr>\n",
    "        <tr>\n",
    "            <td><m-b>\n",
    "                chmod(path, mode, *,<br>\n",
    "                    dir_fd=None,<br>\n",
    "                    follow_symlinks=True)\n",
    "            </m-b></td>\n",
    "            <td><m-b>None</m-b></td>\n",
    "            <td>Unix</td>\n",
    "            <td><m-b>Path.chmod()</m-b></td>\n",
    "            <td>pathで指定したファイルまたはディレクトリのモードを変更する</td>\n",
    "        </tr>\n",
    "        <tr>\n",
    "            <td><m-b>\n",
    "                chown(path, uid, gid, *,<br>\n",
    "                    dir_fd=None,<br>\n",
    "                    follow_symlinks=True)\n",
    "            </m-b></td>\n",
    "            <td><m-b>None</m-b></td>\n",
    "            <td>Unix</td>\n",
    "            <td>-</td>\n",
    "            <td>pathで指定したファイルまたはディレクトリの所有者とグループを指定する</td>\n",
    "        </tr>\n",
    "        <tr>\n",
    "            <td><m-b>getcwd()</m-b></td>\n",
    "            <td><m-b>str</m-b></td>\n",
    "            <td>Unix、Windows</td>\n",
    "            <td><m-b>Path.cwd()</m-b></td>\n",
    "            <td>現在の作業ディレクトリを取得する</td>\n",
    "        </tr>\n",
    "        <tr>\n",
    "            <td><m-b>listdir(path='.')</m-b></td>\n",
    "            <td><m-b>list</m-b></td>\n",
    "            <td>Unix、Windows</td>\n",
    "            <td><m-b>Path.iterdir()</m-b></td>\n",
    "            <td>pathで指定したディレクトリ内のファイルとディレクトリを取得する</td>\n",
    "        </tr>\n",
    "        <tr>\n",
    "            <td><m-b>\n",
    "                mkdir(path, mode=0o777, *,<br>\n",
    "                    dir_fd=None)\n",
    "            </m-b></td>\n",
    "            <td><m-b>None</m-b></td>\n",
    "            <td>Unix、Windows</td>\n",
    "            <td><m-b>Path.mkdir()</m-b></td>\n",
    "            <td>pathで指定したディレクトリを作成する</td>\n",
    "        </tr>\n",
    "        <tr>\n",
    "            <td><m-b>\n",
    "                makedirs(name, mode=0o777,<br>\n",
    "                    exist_ok=False)\n",
    "            </m-b></td>\n",
    "            <td><m-b>None</m-b></td>\n",
    "            <td>Unix、Windows</td>\n",
    "            <td><m-b>Path.mkdir()</m-b></td>\n",
    "            <td>\n",
    "                nameで指定したディレクトリを再帰的に作成する<br>\n",
    "                末端ディレクトリのみでなく中間ディレクトリも作成する。\n",
    "            </td>\n",
    "        </tr>\n",
    "        <tr>\n",
    "            <td><m-b>remove(path, *, dir_fd=None)</m-b></td>\n",
    "            <td><m-b>None</m-b></td>\n",
    "            <td>Unix、Windows</td>\n",
    "            <td><m-b>Path.unlink()</m-b></td>\n",
    "            <td>\n",
    "                pathで指定されたファイルを削除する<br>\n",
    "                ディレクトリの場合は<m-b>OSError</m-b>が送出される。\n",
    "            </td>\n",
    "        </tr>\n",
    "        <tr>\n",
    "            <td><m-b>removedirs(name)</m-b></td>\n",
    "            <td><m-b>None</m-b></td>\n",
    "            <td>Unix、Windows</td>\n",
    "            <td>-</td>\n",
    "            <td>nameで指定したディレクトリの末端から再帰的に削除する</td>\n",
    "        </tr>\n",
    "        <tr>\n",
    "            <td><m-b>\n",
    "                rename(src, dst, *,<br>\n",
    "                    src_dir_fd=None,<br>\n",
    "                    dst_dir_fd=None)\n",
    "            </m-b></td>\n",
    "            <td><m-b>None</m-b></td>\n",
    "            <td>Unix、Windows</td>\n",
    "            <td><m-b>Path.rename()</m-b></td>\n",
    "            <td>ファイルまたはディレクトリのパスをsrcからdstに変更する</td>\n",
    "        </tr>\n",
    "        <tr>\n",
    "            <td><m-b>renames(old, new)</m-b></td>\n",
    "            <td><m-b>None</m-b></td>\n",
    "            <td>Unix、Windows</td>\n",
    "            <td>-</td>\n",
    "            <td>\n",
    "                ファイルまたはディレクトリパスをoldからnewに変更する<br>\n",
    "                newで指定したパスは中間ディレクトリも含めて作成され、oldで指定したディレクトリは再帰的に削除される。\n",
    "            </td>\n",
    "        </tr>\n",
    "        <tr>\n",
    "            <td><m-b>rmdir(path, *, dir_fd=None)</m-b></td>\n",
    "            <td><m-b>None</m-b></td>\n",
    "            <td>Unix、Windows</td>\n",
    "            <td><m-b>Path.rmdir()</m-b></td>\n",
    "            <td>\n",
    "                pathで指定したディレクトリを削除する<br>\n",
    "                ディレクトリが空でない場合は<m-b>OSError</m-b>を送出する。\n",
    "            </td>\n",
    "        </tr>\n",
    "        <tr>\n",
    "            <td><m-b>\n",
    "                symlink(src, dst,<br>\n",
    "                    target_is_directory=False,<br>\n",
    "                    *, dir_fd=None)\n",
    "            </m-b></td>\n",
    "            <td><m-b>None</m-b></td>\n",
    "            <td>Unix、Windows</td>\n",
    "            <td><m-b>Path.symlink_to()</m-b></td>\n",
    "            <td>\n",
    "                srcを参照するシンボリックリンクをdstで指定したファイル名で作成する<br>\n",
    "                target_is_directoryはWindowsのみで使用でき、Trueならディレクトリとして、Falseならファイルとして作成する。\n",
    "            </td>\n",
    "        </tr>\n",
    "    </tbody>\n",
    "</table>"
   ]
  },
  {
   "cell_type": "code",
   "execution_count": 13,
   "metadata": {},
   "outputs": [
    {
     "name": "stdout",
     "output_type": "stream",
     "text": [
      "c:\\Users\\kgrmr\\OneDrive\\ドキュメント\\GitHub\\python-certified-practical-practice\\10_汎用OS・ランタイムサービス\n",
      "['9.1_ソート.html', '9.1_ソート.ipynb', '9.2_さまざまなコンテナ型を扱う.html', '9.2_さまざまなコンテナ型を扱う.ipynb', '9.4_列挙型による定数の定義を行う.html', '9.4_列挙型による定数の定義を行う.ipynb', '9.6_イテレーターの組み合わせで処理を組み立てる.html', '9.6_イテレーターの組み合わせで処理を組み立てる.ipynb', '9.7_ミュータブルなオブジェクトをコピーする.html', '9.7_ミュータブルなオブジェクトをコピーする.ipynb']\n"
     ]
    }
   ],
   "source": [
    "import os\n",
    "print(os.getcwd())\n",
    "print(os.listdir(path='../09_データ型とアルゴリズム/'))\n"
   ]
  },
  {
   "cell_type": "code",
   "execution_count": 15,
   "metadata": {},
   "outputs": [
    {
     "name": "stdout",
     "output_type": "stream",
     "text": [
      ".\n",
      "..\n",
      "\\\n",
      ".\n",
      "\n",
      "\n"
     ]
    }
   ],
   "source": [
    "# ファイルパス関連の定数\n",
    "import os\n",
    "print(os.curdir)  # カレンとディレクトリ\n",
    "print(os.pardir)  # 親ディレクトリ\n",
    "print(os.sep)     # パスの区切り文字\n",
    "print(os.extsep)  # ファイル名と拡張子の区切り文字\n",
    "print(os.linesep) # 改行文字\n"
   ]
  },
  {
   "cell_type": "markdown",
   "metadata": {},
   "source": [
    "### OSシステム情報にアクセスするメソッド/定数(UNIX)\n",
    "\n",
    "<table>\n",
    "    <thead>\n",
    "        <tr>\n",
    "            <th>関数</th>\n",
    "            <th>戻り値</th>\n",
    "            <th>説明</th>\n",
    "        </tr>\n",
    "    </thead>\n",
    "    <tbody>\n",
    "        <tr>\n",
    "            <td><m-b>confstr(name)</m-b></td>\n",
    "            <td><m-b>str</m-b></td>\n",
    "            <td>システム設定値を文字列で取得する</td>\n",
    "        </tr>\n",
    "        <tr>\n",
    "            <td><m-b>confstr_names</m-b></td>\n",
    "            <td><m-b>dict</m-b></td>\n",
    "            <td>confstr()に渡すことのできる値を定義した辞書を取得する</td>\n",
    "        </tr>\n",
    "        <tr>\n",
    "            <td><m-b>sysconf(name)</m-b></td>\n",
    "            <td><m-b>int</m-b></td>\n",
    "            <td>システム設定値を数値で取得する</td>\n",
    "        </tr>\n",
    "        <tr>\n",
    "            <td><m-b>sysconf_names</m-b></td>\n",
    "            <td><m-b>dict</m-b></td>\n",
    "            <td>sysconf()に渡すことのできる値を定義した辞書を取得する</td>\n",
    "        </tr>\n",
    "        <tr>\n",
    "            <td><m-b>cpu_count()</m-b></td>\n",
    "            <td><m-b>int</m-b></td>\n",
    "            <td>CPU数を取得する</td>\n",
    "        </tr>\n",
    "        <tr>\n",
    "            <td><m-b>getloadavg()</m-b></td>\n",
    "            <td><m-b>(float, float, float)</m-b></td>\n",
    "            <td>過去1分間、5分間、15分間のロードアベレージをタプルで取得する</td>\n",
    "        </tr>\n",
    "    </tbody>\n",
    "</table>"
   ]
  },
  {
   "cell_type": "code",
   "execution_count": 1,
   "metadata": {},
   "outputs": [
    {
     "name": "stdout",
     "output_type": "stream",
     "text": [
      "b'\\xde\\xda\\xf9\\x08\\xc1~2\\xdc\\xa2\\xdb\\x90\\xc8^\\x84\\rf'\n"
     ]
    }
   ],
   "source": [
    "# ランダム文字列の生成\n",
    "import os\n",
    "print(os.urandom(16))"
   ]
  },
  {
   "cell_type": "code",
   "execution_count": 13,
   "metadata": {},
   "outputs": [
    {
     "name": "stdout",
     "output_type": "stream",
     "text": [
      "0\n",
      "0o0\n",
      "384\n",
      "0o600\n"
     ]
    }
   ],
   "source": [
    "# 一時的にumaskを書き換える\n",
    "import os\n",
    "old = os.umask(0o777)\n",
    "print(old)\n",
    "print(oct(old))\n",
    "try:\n",
    "    os.makedirs('./hoge/fuga/piyo', exist_ok=True)\n",
    "finally:\n",
    "    new = os.umask(old)\n",
    "    print(new)\n",
    "    print(oct(new))\n"
   ]
  }
 ],
 "metadata": {
  "kernelspec": {
   "display_name": "Python 3",
   "language": "python",
   "name": "python3"
  },
  "language_info": {
   "codemirror_mode": {
    "name": "ipython",
    "version": 3
   },
   "file_extension": ".py",
   "mimetype": "text/x-python",
   "name": "python",
   "nbconvert_exporter": "python",
   "pygments_lexer": "ipython3",
   "version": "3.11.7"
  }
 },
 "nbformat": 4,
 "nbformat_minor": 2
}
