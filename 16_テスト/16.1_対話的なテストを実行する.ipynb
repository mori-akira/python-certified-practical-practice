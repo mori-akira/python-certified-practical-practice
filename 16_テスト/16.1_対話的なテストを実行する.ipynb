{
 "cells": [
  {
   "cell_type": "code",
   "execution_count": 3,
   "metadata": {},
   "outputs": [
    {
     "name": "stdout",
     "output_type": "stream",
     "text": [
      "**********************************************************************\n",
      "File \"__main__\", line 13, in __main__.div\n",
      "Failed example:\n",
      "    [div(n, 2) for n in range(5)]\n",
      "Expected:\n",
      "    [0.0, 0.5, 1.0, 1.5 ,2.0]\n",
      "Got:\n",
      "    [0.0, 0.5, 1.0, 1.5, 2.0]\n",
      "**********************************************************************\n",
      "1 items had failures:\n",
      "   1 of   1 in __main__.div\n",
      "***Test Failed*** 1 failures.\n"
     ]
    }
   ],
   "source": [
    "# doctestを作成し、実行する\n",
    "'''\n",
    "除算テスト\n",
    "\n",
    ">>> div(5, 2)\n",
    "2.5\n",
    "'''\n",
    "\n",
    "def div(a, b):\n",
    "    '''\n",
    "    メソッドテスト\n",
    "\n",
    "    >>> [div(n, 2) for n in range(5)]\n",
    "    [0.0, 0.5, 1.0, 1.5 ,2.0]\n",
    "    '''\n",
    "    return a / b\n",
    "\n",
    "if __name__ == '__main__':\n",
    "    import doctest\n",
    "    doctest.testmod()\n"
   ]
  },
  {
   "cell_type": "code",
   "execution_count": 16,
   "metadata": {},
   "outputs": [
    {
     "name": "stdout",
     "output_type": "stream",
     "text": [
      "\n",
      "\n",
      "Trying:\n",
      "    [div(n, 2) for n in range(5)]\n",
      "Expecting:\n",
      "    [0.0, 0.5, 1.0, 1.5, 2.0]\n",
      "ok\n",
      "1 items had no tests:\n",
      "    __main__\n",
      "1 items passed all tests:\n",
      "   1 tests in __main__.div\n",
      "1 tests in 2 items.\n",
      "1 passed and 0 failed.\n",
      "Test passed.\n",
      "\n"
     ]
    }
   ],
   "source": [
    "import subprocess\n",
    "print(subprocess.check_output('python test1.py').decode())\n",
    "print()\n",
    "print(subprocess.check_output('python test1.py -v').decode())\n"
   ]
  },
  {
   "cell_type": "code",
   "execution_count": 17,
   "metadata": {},
   "outputs": [
    {
     "name": "stdout",
     "output_type": "stream",
     "text": [
      "**********************************************************************\n",
      "File \"c:\\Users\\kgrmr\\OneDrive\\ドキュメント\\GitHub\\python-certified-practical-practice\\16_テスト\\test2.py\", line 14, in __main__.div\n",
      "Failed example:\n",
      "    [div(n, 2) for n in range(5)]\n",
      "Expected:\n",
      "    [0.0, 0.5, 1.0, 1.5, 2.1]\n",
      "Got:\n",
      "    [0.0, 0.5, 1.0, 1.5, 2.0]\n",
      "**********************************************************************\n",
      "1 items had failures:\n",
      "   1 of   1 in __main__.div\n",
      "***Test Failed*** 1 failures.\n",
      "\n",
      "\n",
      "Trying:\n",
      "    [div(n, 2) for n in range(5)]\n",
      "Expecting:\n",
      "    [0.0, 0.5, 1.0, 1.5, 2.1]\n",
      "**********************************************************************\n",
      "File \"c:\\Users\\kgrmr\\OneDrive\\ドキュメント\\GitHub\\python-certified-practical-practice\\16_テスト\\test2.py\", line 14, in __main__.div\n",
      "Failed example:\n",
      "    [div(n, 2) for n in range(5)]\n",
      "Expected:\n",
      "    [0.0, 0.5, 1.0, 1.5, 2.1]\n",
      "Got:\n",
      "    [0.0, 0.5, 1.0, 1.5, 2.0]\n",
      "1 items had no tests:\n",
      "    __main__\n",
      "**********************************************************************\n",
      "1 items had failures:\n",
      "   1 of   1 in __main__.div\n",
      "1 tests in 2 items.\n",
      "0 passed and 1 failed.\n",
      "***Test Failed*** 1 failures.\n",
      "\n"
     ]
    }
   ],
   "source": [
    "# テストに失敗するケース\n",
    "import subprocess\n",
    "print(subprocess.check_output('python test2.py').decode())\n",
    "print()\n",
    "print(subprocess.check_output('python test2.py -v').decode())\n"
   ]
  }
 ],
 "metadata": {
  "kernelspec": {
   "display_name": "Python 3",
   "language": "python",
   "name": "python3"
  },
  "language_info": {
   "codemirror_mode": {
    "name": "ipython",
    "version": 3
   },
   "file_extension": ".py",
   "mimetype": "text/x-python",
   "name": "python",
   "nbconvert_exporter": "python",
   "pygments_lexer": "ipython3",
   "version": "3.11.7"
  }
 },
 "nbformat": 4,
 "nbformat_minor": 2
}
