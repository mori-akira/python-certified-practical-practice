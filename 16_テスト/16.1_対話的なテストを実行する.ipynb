{
 "cells": [
  {
   "cell_type": "code",
   "execution_count": 3,
   "metadata": {},
   "outputs": [
    {
     "name": "stdout",
     "output_type": "stream",
     "text": [
      "**********************************************************************\n",
      "File \"__main__\", line 13, in __main__.div\n",
      "Failed example:\n",
      "    [div(n, 2) for n in range(5)]\n",
      "Expected:\n",
      "    [0.0, 0.5, 1.0, 1.5 ,2.0]\n",
      "Got:\n",
      "    [0.0, 0.5, 1.0, 1.5, 2.0]\n",
      "**********************************************************************\n",
      "1 items had failures:\n",
      "   1 of   1 in __main__.div\n",
      "***Test Failed*** 1 failures.\n"
     ]
    }
   ],
   "source": [
    "# doctestを作成し、実行する\n",
    "'''\n",
    "除算テスト\n",
    "\n",
    ">>> div(5, 2)\n",
    "2.5\n",
    "'''\n",
    "\n",
    "def div(a, b):\n",
    "    '''\n",
    "    メソッドテスト\n",
    "\n",
    "    >>> [div(n, 2) for n in range(5)]\n",
    "    [0.0, 0.5, 1.0, 1.5 ,2.0]\n",
    "    '''\n",
    "    return a / b\n",
    "\n",
    "if __name__ == '__main__':\n",
    "    import doctest\n",
    "    doctest.testmod()\n"
   ]
  },
  {
   "cell_type": "code",
   "execution_count": 16,
   "metadata": {},
   "outputs": [
    {
     "name": "stdout",
     "output_type": "stream",
     "text": [
      "\n",
      "\n",
      "Trying:\n",
      "    [div(n, 2) for n in range(5)]\n",
      "Expecting:\n",
      "    [0.0, 0.5, 1.0, 1.5, 2.0]\n",
      "ok\n",
      "1 items had no tests:\n",
      "    __main__\n",
      "1 items passed all tests:\n",
      "   1 tests in __main__.div\n",
      "1 tests in 2 items.\n",
      "1 passed and 0 failed.\n",
      "Test passed.\n",
      "\n"
     ]
    }
   ],
   "source": [
    "import subprocess\n",
    "print(subprocess.check_output('python test1.py').decode())\n",
    "print()\n",
    "print(subprocess.check_output('python test1.py -v').decode())\n"
   ]
  },
  {
   "cell_type": "code",
   "execution_count": 17,
   "metadata": {},
   "outputs": [
    {
     "name": "stdout",
     "output_type": "stream",
     "text": [
      "**********************************************************************\n",
      "File \"c:\\Users\\kgrmr\\OneDrive\\ドキュメント\\GitHub\\python-certified-practical-practice\\16_テスト\\test2.py\", line 14, in __main__.div\n",
      "Failed example:\n",
      "    [div(n, 2) for n in range(5)]\n",
      "Expected:\n",
      "    [0.0, 0.5, 1.0, 1.5, 2.1]\n",
      "Got:\n",
      "    [0.0, 0.5, 1.0, 1.5, 2.0]\n",
      "**********************************************************************\n",
      "1 items had failures:\n",
      "   1 of   1 in __main__.div\n",
      "***Test Failed*** 1 failures.\n",
      "\n",
      "\n",
      "Trying:\n",
      "    [div(n, 2) for n in range(5)]\n",
      "Expecting:\n",
      "    [0.0, 0.5, 1.0, 1.5, 2.1]\n",
      "**********************************************************************\n",
      "File \"c:\\Users\\kgrmr\\OneDrive\\ドキュメント\\GitHub\\python-certified-practical-practice\\16_テスト\\test2.py\", line 14, in __main__.div\n",
      "Failed example:\n",
      "    [div(n, 2) for n in range(5)]\n",
      "Expected:\n",
      "    [0.0, 0.5, 1.0, 1.5, 2.1]\n",
      "Got:\n",
      "    [0.0, 0.5, 1.0, 1.5, 2.0]\n",
      "1 items had no tests:\n",
      "    __main__\n",
      "**********************************************************************\n",
      "1 items had failures:\n",
      "   1 of   1 in __main__.div\n",
      "1 tests in 2 items.\n",
      "0 passed and 1 failed.\n",
      "***Test Failed*** 1 failures.\n",
      "\n"
     ]
    }
   ],
   "source": [
    "# テストに失敗するケース\n",
    "import subprocess\n",
    "print(subprocess.check_output('python test2.py').decode())\n",
    "print()\n",
    "print(subprocess.check_output('python test2.py -v').decode())\n"
   ]
  },
  {
   "cell_type": "code",
   "execution_count": 10,
   "metadata": {},
   "outputs": [
    {
     "name": "stdout",
     "output_type": "stream",
     "text": [
      "0\n"
     ]
    }
   ],
   "source": [
    "# doctestで例外を記述する\n",
    "import doctest\n",
    "def div(a, b):\n",
    "    '''\n",
    "    >>> div(1, 0)\n",
    "    Traceback (most recent call last):\n",
    "        File \"<stdin>\", line 1, in <module>\n",
    "        File \"<stdin>\", line 2, in div\n",
    "    ZeroDivisionError: division by zero\n",
    "    '''\n",
    "    return a / b\n",
    "\n",
    "if __name__ == '__main__':\n",
    "    result = doctest.testmod()\n",
    "    print(result.failed)\n"
   ]
  },
  {
   "cell_type": "code",
   "execution_count": 13,
   "metadata": {},
   "outputs": [
    {
     "ename": "FileNotFoundError",
     "evalue": "[Errno 2] No such file or directory: 'C:\\\\Users\\\\kgrmr\\\\AppData\\\\Local\\\\Packages\\\\PythonSoftwareFoundation.Python.3.11_qbz5n2kfra8p0\\\\LocalCache\\\\local-packages\\\\Python311\\\\site-packages\\\\.\\\\test3.txt'",
     "output_type": "error",
     "traceback": [
      "\u001b[1;31m---------------------------------------------------------------------------\u001b[0m",
      "\u001b[1;31mFileNotFoundError\u001b[0m                         Traceback (most recent call last)",
      "Cell \u001b[1;32mIn[13], line 11\u001b[0m\n\u001b[0;32m      8\u001b[0m         \u001b[38;5;28mprint\u001b[39m(\u001b[38;5;124m'\u001b[39m\u001b[38;5;124m>>> div(6, 2)\u001b[39m\u001b[38;5;124m'\u001b[39m)\n\u001b[0;32m      9\u001b[0m         \u001b[38;5;28mprint\u001b[39m(\u001b[38;5;124m'\u001b[39m\u001b[38;5;124m4.0\u001b[39m\u001b[38;5;124m'\u001b[39m)\n\u001b[1;32m---> 11\u001b[0m \u001b[43mdoctest\u001b[49m\u001b[38;5;241;43m.\u001b[39;49m\u001b[43mtestfile\u001b[49m\u001b[43m(\u001b[49m\u001b[38;5;124;43m'\u001b[39;49m\u001b[38;5;124;43m./test3.txt\u001b[39;49m\u001b[38;5;124;43m'\u001b[39;49m\u001b[43m)\u001b[49m\n",
      "File \u001b[1;32mC:\\Program Files\\WindowsApps\\PythonSoftwareFoundation.Python.3.11_3.11.2032.0_x64__qbz5n2kfra8p0\\Lib\\doctest.py:2089\u001b[0m, in \u001b[0;36mtestfile\u001b[1;34m(filename, module_relative, name, package, globs, verbose, report, optionflags, extraglobs, raise_on_error, parser, encoding)\u001b[0m\n\u001b[0;32m   2085\u001b[0m     \u001b[38;5;28;01mraise\u001b[39;00m \u001b[38;5;167;01mValueError\u001b[39;00m(\u001b[38;5;124m\"\u001b[39m\u001b[38;5;124mPackage may only be specified for module-\u001b[39m\u001b[38;5;124m\"\u001b[39m\n\u001b[0;32m   2086\u001b[0m                      \u001b[38;5;124m\"\u001b[39m\u001b[38;5;124mrelative paths.\u001b[39m\u001b[38;5;124m\"\u001b[39m)\n\u001b[0;32m   2088\u001b[0m \u001b[38;5;66;03m# Relativize the path\u001b[39;00m\n\u001b[1;32m-> 2089\u001b[0m text, filename \u001b[38;5;241m=\u001b[39m \u001b[43m_load_testfile\u001b[49m\u001b[43m(\u001b[49m\u001b[43mfilename\u001b[49m\u001b[43m,\u001b[49m\u001b[43m \u001b[49m\u001b[43mpackage\u001b[49m\u001b[43m,\u001b[49m\u001b[43m \u001b[49m\u001b[43mmodule_relative\u001b[49m\u001b[43m,\u001b[49m\n\u001b[0;32m   2090\u001b[0m \u001b[43m                                \u001b[49m\u001b[43mencoding\u001b[49m\u001b[43m \u001b[49m\u001b[38;5;129;43;01mor\u001b[39;49;00m\u001b[43m \u001b[49m\u001b[38;5;124;43m\"\u001b[39;49m\u001b[38;5;124;43mutf-8\u001b[39;49m\u001b[38;5;124;43m\"\u001b[39;49m\u001b[43m)\u001b[49m\n\u001b[0;32m   2092\u001b[0m \u001b[38;5;66;03m# If no name was given, then use the file's name.\u001b[39;00m\n\u001b[0;32m   2093\u001b[0m \u001b[38;5;28;01mif\u001b[39;00m name \u001b[38;5;129;01mis\u001b[39;00m \u001b[38;5;28;01mNone\u001b[39;00m:\n",
      "File \u001b[1;32mC:\\Program Files\\WindowsApps\\PythonSoftwareFoundation.Python.3.11_3.11.2032.0_x64__qbz5n2kfra8p0\\Lib\\doctest.py:233\u001b[0m, in \u001b[0;36m_load_testfile\u001b[1;34m(filename, package, module_relative, encoding)\u001b[0m\n\u001b[0;32m    230\u001b[0m         \u001b[38;5;66;03m# get_data() opens files as 'rb', so one must do the equivalent\u001b[39;00m\n\u001b[0;32m    231\u001b[0m         \u001b[38;5;66;03m# conversion as universal newlines would do.\u001b[39;00m\n\u001b[0;32m    232\u001b[0m         \u001b[38;5;28;01mreturn\u001b[39;00m _newline_convert(file_contents), filename\n\u001b[1;32m--> 233\u001b[0m \u001b[38;5;28;01mwith\u001b[39;00m \u001b[38;5;28;43mopen\u001b[39;49m\u001b[43m(\u001b[49m\u001b[43mfilename\u001b[49m\u001b[43m,\u001b[49m\u001b[43m \u001b[49m\u001b[43mencoding\u001b[49m\u001b[38;5;241;43m=\u001b[39;49m\u001b[43mencoding\u001b[49m\u001b[43m)\u001b[49m \u001b[38;5;28;01mas\u001b[39;00m f:\n\u001b[0;32m    234\u001b[0m     \u001b[38;5;28;01mreturn\u001b[39;00m f\u001b[38;5;241m.\u001b[39mread(), filename\n",
      "\u001b[1;31mFileNotFoundError\u001b[0m: [Errno 2] No such file or directory: 'C:\\\\Users\\\\kgrmr\\\\AppData\\\\Local\\\\Packages\\\\PythonSoftwareFoundation.Python.3.11_qbz5n2kfra8p0\\\\LocalCache\\\\local-packages\\\\Python311\\\\site-packages\\\\.\\\\test3.txt'"
     ]
    }
   ],
   "source": [
    "# テキストファイルを読み込んでテスト\n",
    "import doctest\n",
    "import contextlib\n",
    "with open('test3.txt', mode='w', encoding='utf-8') as f:\n",
    "    with contextlib.redirect_stdout(f):\n",
    "        print('テキストファイルからdiv()をテスト')\n",
    "        print('>>> from test1 import div')\n",
    "        print('>>> div(6, 2)')\n",
    "        print('4.0')\n",
    "\n",
    "doctest.testfile('./test3.txt')\n"
   ]
  },
  {
   "cell_type": "code",
   "execution_count": 19,
   "metadata": {},
   "outputs": [
    {
     "name": "stdout",
     "output_type": "stream",
     "text": [
      "**********************************************************************\n",
      "File \"c:\\Users\\kgrmr\\OneDrive\\ドキュメント\\GitHub\\python-certified-practical-practice\\16_テスト\\test3.txt\", line 3, in test3.txt\n",
      "Failed example:\n",
      "    div(6, 2)\n",
      "Expected:\n",
      "    4.0\n",
      "Got:\n",
      "    3.0\n",
      "**********************************************************************\n",
      "1 items had failures:\n",
      "   1 of   2 in test3.txt\n",
      "***Test Failed*** 1 failures.\n",
      "TestResults(failed=1, attempted=2)\n"
     ]
    }
   ],
   "source": [
    "# テキストファイルを読み込んでテスト 改\n",
    "import doctest\n",
    "import contextlib\n",
    "import os\n",
    "from pathlib import Path\n",
    "with open('test3.txt', mode='w', encoding='utf-8') as f:\n",
    "    with contextlib.redirect_stdout(f):\n",
    "        print('テキストファイルからdiv()をテスト')\n",
    "        print('>>> from test1 import div')\n",
    "        print('>>> div(6, 2)')\n",
    "        print('4.0')\n",
    "\n",
    "tar = Path(os.getcwd(), './test3.txt')\n",
    "result = doctest.testfile(str(tar))\n",
    "print(result)\n"
   ]
  }
 ],
 "metadata": {
  "kernelspec": {
   "display_name": "Python 3",
   "language": "python",
   "name": "python3"
  },
  "language_info": {
   "codemirror_mode": {
    "name": "ipython",
    "version": 3
   },
   "file_extension": ".py",
   "mimetype": "text/x-python",
   "name": "python",
   "nbconvert_exporter": "python",
   "pygments_lexer": "ipython3",
   "version": "3.11.7"
  }
 },
 "nbformat": 4,
 "nbformat_minor": 2
}
