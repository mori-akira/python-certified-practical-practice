{
 "cells": [
  {
   "cell_type": "code",
   "execution_count": 1,
   "metadata": {},
   "outputs": [
    {
     "name": "stdout",
     "output_type": "stream",
     "text": [
      "<class 'TypeError'>\n",
      "1\n"
     ]
    }
   ],
   "source": [
    "# Mock\n",
    "from unittest.mock import Mock\n",
    "mock = Mock()\n",
    "try:\n",
    "    print(int(mock))\n",
    "except Exception as ex:\n",
    "    print(type(ex))\n",
    "\n",
    "try:\n",
    "    mock.__int__ = Mock(return_value=1)\n",
    "    print(int(mock))\n",
    "except Exception as ex:\n",
    "    print(type(ex))\n"
   ]
  },
  {
   "cell_type": "code",
   "execution_count": 8,
   "metadata": {},
   "outputs": [
    {
     "name": "stdout",
     "output_type": "stream",
     "text": [
      "1\n",
      "<MagicMock id='1682279674832'>\n",
      "True\n",
      "{}\n",
      "[]\n",
      "<class 'unittest.mock.MagicMock'>\n"
     ]
    }
   ],
   "source": [
    "# MagicMock\n",
    "from unittest.mock import MagicMock\n",
    "mock = MagicMock()\n",
    "print(int(mock))\n",
    "print(str(mock))\n",
    "print(bool(mock))\n",
    "print(dict(mock))\n",
    "print(list(mock))\n",
    "print(type(mock))\n"
   ]
  },
  {
   "cell_type": "code",
   "execution_count": 17,
   "metadata": {},
   "outputs": [
    {
     "name": "stderr",
     "output_type": "stream",
     "text": [
      ".\n",
      "----------------------------------------------------------------------\n",
      "Ran 1 test in 0.002s\n",
      "\n",
      "OK\n"
     ]
    }
   ],
   "source": [
    "# デコレータを使用してMockを使用\n",
    "import unittest\n",
    "from unittest.mock import patch\n",
    "\n",
    "class Hoge():\n",
    "    def hoge(self):\n",
    "        return 'hoge'\n",
    "\n",
    "def func():\n",
    "    return Hoge().hoge()\n",
    "\n",
    "class MyTest(unittest.TestCase):\n",
    "    @patch(__name__ + '.Hoge')\n",
    "    def test(self, HogeMock):\n",
    "        hoge = HogeMock()\n",
    "        self.assertIs(HogeMock, Hoge)\n",
    "        hoge.hoge.return_value = 'fuga'\n",
    "        self.assertEqual(func(), 'fuga')\n",
    "\n",
    "if __name__ == '__main__':\n",
    "    unittest.main(argv=[''], exit=False)\n"
   ]
  },
  {
   "cell_type": "code",
   "execution_count": 18,
   "metadata": {},
   "outputs": [
    {
     "name": "stderr",
     "output_type": "stream",
     "text": [
      ".\n",
      "----------------------------------------------------------------------\n",
      "Ran 1 test in 0.001s\n",
      "\n",
      "OK\n"
     ]
    }
   ],
   "source": [
    "# コンテキストマネージャ\n",
    "import unittest\n",
    "from unittest.mock import patch\n",
    "\n",
    "class Hoge():\n",
    "    def hoge(self):\n",
    "        return 'hoge'\n",
    "\n",
    "def func():\n",
    "    return Hoge().hoge()\n",
    "\n",
    "class MyTest(unittest.TestCase):\n",
    "    def test(self):\n",
    "        with patch(__name__ + '.Hoge') as HogeMock:\n",
    "            self.assertIs(HogeMock, Hoge)\n",
    "            HogeMock().hoge.return_value = 'fuga'\n",
    "            self.assertEqual(func(), 'fuga')\n",
    "        self.assertEqual(func(), 'hoge')\n",
    "\n",
    "if __name__ == '__main__':\n",
    "    unittest.main(argv=[''], exit=False)\n"
   ]
  },
  {
   "cell_type": "code",
   "execution_count": 41,
   "metadata": {},
   "outputs": [
    {
     "name": "stderr",
     "output_type": "stream",
     "text": [
      ".\n",
      "----------------------------------------------------------------------\n",
      "Ran 1 test in 0.002s\n",
      "\n",
      "OK\n"
     ]
    }
   ],
   "source": [
    "# 呼び出し検証\n",
    "import unittest\n",
    "from unittest.mock import patch\n",
    "\n",
    "class Hoge():\n",
    "    def hoge(self, times):\n",
    "        return 'hoge' * times\n",
    "    def fuga(self):\n",
    "        pass\n",
    "\n",
    "def func(times):\n",
    "    return Hoge().hoge(times)\n",
    "\n",
    "class MyTest(unittest.TestCase):\n",
    "    @patch(__name__ + '.Hoge.fuga')\n",
    "    @patch(__name__ + '.Hoge.hoge')\n",
    "    def test(self, hoge_mock, fuga_mock):\n",
    "        hoge_mock.return_value = 'fuga'\n",
    "        self.assertEqual(func(3), 'fuga')\n",
    "        hoge_mock.assert_called()\n",
    "        hoge_mock.assert_called_once()\n",
    "        hoge_mock.assert_called_with(3)\n",
    "        hoge_mock.assert_called_once_with(3)\n",
    "        fuga_mock.assert_not_called()\n",
    "\n",
    "if __name__ == '__main__':\n",
    "    unittest.main(argv=[''], exit=False)\n"
   ]
  },
  {
   "cell_type": "code",
   "execution_count": 1,
   "metadata": {},
   "outputs": [
    {
     "name": "stderr",
     "output_type": "stream",
     "text": [
      "EE\n",
      "======================================================================\n",
      "ERROR: test (__main__.MyTest.test)\n",
      "----------------------------------------------------------------------\n",
      "Traceback (most recent call last):\n",
      "  File \"C:\\Users\\kgrmr\\AppData\\Local\\Temp\\ipykernel_15808\\506472568.py\", line 7, in test\n",
      "    with patch(\"foo.bar\") as mock:\n",
      "  File \"C:\\Program Files\\WindowsApps\\PythonSoftwareFoundation.Python.3.11_3.11.2032.0_x64__qbz5n2kfra8p0\\Lib\\unittest\\mock.py\", line 1427, in __enter__\n",
      "    self.target = self.getter()\n",
      "                  ^^^^^^^^^^^^^\n",
      "  File \"C:\\Program Files\\WindowsApps\\PythonSoftwareFoundation.Python.3.11_3.11.2032.0_x64__qbz5n2kfra8p0\\Lib\\pkgutil.py\", line 700, in resolve_name\n",
      "    mod = importlib.import_module(modname)\n",
      "          ^^^^^^^^^^^^^^^^^^^^^^^^^^^^^^^^\n",
      "  File \"C:\\Program Files\\WindowsApps\\PythonSoftwareFoundation.Python.3.11_3.11.2032.0_x64__qbz5n2kfra8p0\\Lib\\importlib\\__init__.py\", line 126, in import_module\n",
      "    return _bootstrap._gcd_import(name[level:], package, level)\n",
      "           ^^^^^^^^^^^^^^^^^^^^^^^^^^^^^^^^^^^^^^^^^^^^^^^^^^^^\n",
      "  File \"<frozen importlib._bootstrap>\", line 1204, in _gcd_import\n",
      "  File \"<frozen importlib._bootstrap>\", line 1176, in _find_and_load\n",
      "  File \"<frozen importlib._bootstrap>\", line 1140, in _find_and_load_unlocked\n",
      "ModuleNotFoundError: No module named 'foo'\n",
      "\n",
      "======================================================================\n",
      "ERROR: test (__main__.MyTest2.test)\n",
      "----------------------------------------------------------------------\n",
      "Traceback (most recent call last):\n",
      "  File \"C:\\Users\\kgrmr\\AppData\\Local\\Temp\\ipykernel_15808\\506472568.py\", line 12, in test\n",
      "    with patch(\"foo.bar\", create=True) as mock:\n",
      "  File \"C:\\Program Files\\WindowsApps\\PythonSoftwareFoundation.Python.3.11_3.11.2032.0_x64__qbz5n2kfra8p0\\Lib\\unittest\\mock.py\", line 1427, in __enter__\n",
      "    self.target = self.getter()\n",
      "                  ^^^^^^^^^^^^^\n",
      "  File \"C:\\Program Files\\WindowsApps\\PythonSoftwareFoundation.Python.3.11_3.11.2032.0_x64__qbz5n2kfra8p0\\Lib\\pkgutil.py\", line 700, in resolve_name\n",
      "    mod = importlib.import_module(modname)\n",
      "          ^^^^^^^^^^^^^^^^^^^^^^^^^^^^^^^^\n",
      "  File \"C:\\Program Files\\WindowsApps\\PythonSoftwareFoundation.Python.3.11_3.11.2032.0_x64__qbz5n2kfra8p0\\Lib\\importlib\\__init__.py\", line 126, in import_module\n",
      "    return _bootstrap._gcd_import(name[level:], package, level)\n",
      "           ^^^^^^^^^^^^^^^^^^^^^^^^^^^^^^^^^^^^^^^^^^^^^^^^^^^^\n",
      "  File \"<frozen importlib._bootstrap>\", line 1204, in _gcd_import\n",
      "  File \"<frozen importlib._bootstrap>\", line 1176, in _find_and_load\n",
      "  File \"<frozen importlib._bootstrap>\", line 1140, in _find_and_load_unlocked\n",
      "ModuleNotFoundError: No module named 'foo'\n",
      "\n",
      "----------------------------------------------------------------------\n",
      "Ran 2 tests in 0.004s\n",
      "\n",
      "FAILED (errors=2)\n"
     ]
    }
   ],
   "source": [
    "# 存在しないモジュールをMockしようとする場合\n",
    "import unittest\n",
    "from unittest.mock import patch\n",
    "\n",
    "class MyTest(unittest.TestCase):\n",
    "    def test(self):\n",
    "        with patch(\"foo.bar\") as mock:\n",
    "            self.assertTrue(True)\n",
    "\n",
    "class MyTest2(unittest.TestCase):\n",
    "    def test(self):\n",
    "        with patch(\"foo.bar\", create=True) as mock:\n",
    "            self.assertTrue(True)\n",
    "\n",
    "if __name__ == \"__main__\":\n",
    "    unittest.main(argv=[\"\"], exit=False)\n"
   ]
  }
 ],
 "metadata": {
  "kernelspec": {
   "display_name": "Python 3",
   "language": "python",
   "name": "python3"
  },
  "language_info": {
   "codemirror_mode": {
    "name": "ipython",
    "version": 3
   },
   "file_extension": ".py",
   "mimetype": "text/x-python",
   "name": "python",
   "nbconvert_exporter": "python",
   "pygments_lexer": "ipython3",
   "version": "3.11.7"
  }
 },
 "nbformat": 4,
 "nbformat_minor": 2
}
