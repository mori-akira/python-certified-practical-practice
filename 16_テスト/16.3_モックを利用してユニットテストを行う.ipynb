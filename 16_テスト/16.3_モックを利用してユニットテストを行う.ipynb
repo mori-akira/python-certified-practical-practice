{
 "cells": [
  {
   "cell_type": "code",
   "execution_count": 1,
   "metadata": {},
   "outputs": [
    {
     "name": "stdout",
     "output_type": "stream",
     "text": [
      "<class 'TypeError'>\n",
      "1\n"
     ]
    }
   ],
   "source": [
    "# Mock\n",
    "from unittest.mock import Mock\n",
    "mock = Mock()\n",
    "try:\n",
    "    print(int(mock))\n",
    "except Exception as ex:\n",
    "    print(type(ex))\n",
    "\n",
    "try:\n",
    "    mock.__int__ = Mock(return_value=1)\n",
    "    print(int(mock))\n",
    "except Exception as ex:\n",
    "    print(type(ex))\n"
   ]
  },
  {
   "cell_type": "code",
   "execution_count": 8,
   "metadata": {},
   "outputs": [
    {
     "name": "stdout",
     "output_type": "stream",
     "text": [
      "1\n",
      "<MagicMock id='1682279674832'>\n",
      "True\n",
      "{}\n",
      "[]\n",
      "<class 'unittest.mock.MagicMock'>\n"
     ]
    }
   ],
   "source": [
    "# MagicMock\n",
    "from unittest.mock import MagicMock\n",
    "mock = MagicMock()\n",
    "print(int(mock))\n",
    "print(str(mock))\n",
    "print(bool(mock))\n",
    "print(dict(mock))\n",
    "print(list(mock))\n",
    "print(type(mock))\n"
   ]
  },
  {
   "cell_type": "code",
   "execution_count": 26,
   "metadata": {},
   "outputs": [
    {
     "name": "stderr",
     "output_type": "stream",
     "text": [
      ".\n",
      "----------------------------------------------------------------------\n",
      "Ran 1 test in 0.002s\n",
      "\n",
      "OK\n"
     ]
    }
   ],
   "source": [
    "# デコレータを使用してMockを使用\n",
    "import unittest\n",
    "from unittest.mock import patch\n",
    "from datetime import datetime, date\n",
    "\n",
    "class Hoge():\n",
    "    def hoge():\n",
    "        return 'hoge'\n",
    "\n",
    "def func():\n",
    "    return Hoge().hoge()\n",
    "\n",
    "class MyTest(unittest.TestCase):\n",
    "    @patch(__module__ + '.Hoge')\n",
    "    def test(self, HogeMock):\n",
    "        hoge = HogeMock()\n",
    "        self.assertIs(HogeMock, Hoge)\n",
    "        hoge.hoge.return_value = 'fuga'\n",
    "        self.assertEqual(func(), 'fuga')\n",
    "\n",
    "if __name__ == '__main__':\n",
    "    unittest.main(argv=[''], exit=False)\n"
   ]
  }
 ],
 "metadata": {
  "kernelspec": {
   "display_name": "Python 3",
   "language": "python",
   "name": "python3"
  },
  "language_info": {
   "codemirror_mode": {
    "name": "ipython",
    "version": 3
   },
   "file_extension": ".py",
   "mimetype": "text/x-python",
   "name": "python",
   "nbconvert_exporter": "python",
   "pygments_lexer": "ipython3",
   "version": "3.11.7"
  }
 },
 "nbformat": 4,
 "nbformat_minor": 2
}
