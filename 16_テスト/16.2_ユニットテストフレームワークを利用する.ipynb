{
 "cells": [
  {
   "cell_type": "code",
   "execution_count": 21,
   "metadata": {},
   "outputs": [
    {
     "name": "stderr",
     "output_type": "stream",
     "text": [
      "F\n",
      "======================================================================\n",
      "FAIL: test_func (__main__.FuncTest.test_func)\n",
      "func()関数のテストコード\n",
      "----------------------------------------------------------------------\n",
      "Traceback (most recent call last):\n",
      "  File \"C:\\Users\\kgrmr\\AppData\\Local\\Temp\\ipykernel_19832\\3085844531.py\", line 16, in test_func\n",
      "    self.assertEqual(func(2, 3), 5)\n",
      "AssertionError: 6 != 5\n",
      "\n",
      "----------------------------------------------------------------------\n",
      "Ran 1 test in 0.001s\n",
      "\n",
      "FAILED (failures=1)\n"
     ]
    }
   ],
   "source": [
    "# テストケース\n",
    "import unittest\n",
    "\n",
    "def func(a, b):\n",
    "    if a + 1 == b:\n",
    "        return a * b\n",
    "    return a + b\n",
    "\n",
    "class FuncTest(unittest.TestCase):\n",
    "    def test_func(self):\n",
    "        '''\n",
    "        func()関数のテストコード\n",
    "        '''\n",
    "        self.assertEqual(func(2, 2), 4)\n",
    "        self.assertEqual(func(3, 2), 5)\n",
    "        self.assertEqual(func(2, 3), 5)\n",
    "\n",
    "# FuncTest().test_func()\n",
    "if __name__ == '__main__': unittest.main(argv=['jupyterで動かす場合入れる'], exit=False)\n"
   ]
  },
  {
   "cell_type": "code",
   "execution_count": 1,
   "metadata": {},
   "outputs": [
    {
     "name": "stderr",
     "output_type": "stream",
     "text": [
      ".\n",
      "----------------------------------------------------------------------\n",
      "Ran 1 test in 0.001s\n",
      "\n",
      "OK\n"
     ]
    }
   ],
   "source": [
    "# アサーションメソッド色々\n",
    "import unittest\n",
    "\n",
    "class AssertionMethodSample(unittest.TestCase):\n",
    "    def test__hoge(self):\n",
    "        self.assertNotEqual('a', 'b')\n",
    "        self.assertIs('a', 'a')\n",
    "        self.assertFalse(False)\n",
    "        self.assertIsNotNone([])\n",
    "        self.assertIn(234, [123, 234, 345])\n",
    "        self.assertIsInstance(True, int)\n",
    "        with self.assertRaises(ZeroDivisionError):\n",
    "            3 / 0\n",
    "\n",
    "if __name__ == '__main__':\n",
    "    unittest.main(argv=[''], exit=False)\n"
   ]
  },
  {
   "cell_type": "code",
   "execution_count": 3,
   "metadata": {},
   "outputs": [
    {
     "name": "stderr",
     "output_type": "stream",
     "text": [
      ".FFF\n",
      "======================================================================\n",
      "FAIL: test_ (__main__.MyTest.test_) (idx=0)\n",
      "----------------------------------------------------------------------\n",
      "Traceback (most recent call last):\n",
      "  File \"C:\\Users\\kgrmr\\AppData\\Local\\Temp\\ipykernel_9388\\1643575822.py\", line 9, in test_\n",
      "    self.assertTrue(tar % 2 == 0)\n",
      "AssertionError: False is not true\n",
      "\n",
      "======================================================================\n",
      "FAIL: test_ (__main__.MyTest.test_) (idx=2)\n",
      "----------------------------------------------------------------------\n",
      "Traceback (most recent call last):\n",
      "  File \"C:\\Users\\kgrmr\\AppData\\Local\\Temp\\ipykernel_9388\\1643575822.py\", line 9, in test_\n",
      "    self.assertTrue(tar % 2 == 0)\n",
      "AssertionError: False is not true\n",
      "\n",
      "======================================================================\n",
      "FAIL: test_ (__main__.MyTest.test_) (idx=4)\n",
      "----------------------------------------------------------------------\n",
      "Traceback (most recent call last):\n",
      "  File \"C:\\Users\\kgrmr\\AppData\\Local\\Temp\\ipykernel_9388\\1643575822.py\", line 9, in test_\n",
      "    self.assertTrue(tar % 2 == 0)\n",
      "AssertionError: False is not true\n",
      "\n",
      "----------------------------------------------------------------------\n",
      "Ran 2 tests in 0.003s\n",
      "\n",
      "FAILED (failures=3)\n"
     ]
    }
   ],
   "source": [
    "# エラーの場合も中断せずテストを実行\n",
    "import unittest\n",
    "\n",
    "class MyTest(unittest.TestCase):\n",
    "    def test_(self):\n",
    "        targets = [1, 2, 3, 4, 5]\n",
    "        for i, tar in enumerate(targets):\n",
    "            with self.subTest(idx=i):\n",
    "                self.assertTrue(tar % 2 == 0)\n",
    "\n",
    "if __name__ == '__main__':\n",
    "    unittest.main(argv=[''], exit=False)\n"
   ]
  },
  {
   "cell_type": "code",
   "execution_count": 14,
   "metadata": {},
   "outputs": [
    {
     "name": "stderr",
     "output_type": "stream",
     "text": [
      ".\n",
      "----------------------------------------------------------------------\n",
      "Ran 1 test in 0.001s\n",
      "\n",
      "OK\n"
     ]
    },
    {
     "name": "stdout",
     "output_type": "stream",
     "text": [
      "setUpClass()\n",
      "setUp()\n",
      "tearDown()\n",
      "tearDownClass()\n"
     ]
    }
   ],
   "source": [
    "# テストクラスの事前処理・事後処理\n",
    "import unittest\n",
    "\n",
    "class MyTest(unittest.TestCase):\n",
    "    def setUp(self):\n",
    "        print('setUp()')\n",
    "    @classmethod\n",
    "    def setUpClass(cls):\n",
    "        print('setUpClass()')\n",
    "    def tearDown(self):\n",
    "        print('tearDown()')\n",
    "    @classmethod\n",
    "    def tearDownClass(cls):\n",
    "        print('tearDownClass()')\n",
    "    def test_(self):\n",
    "        self.assertTrue(True)\n",
    "\n",
    "if __name__ == '__main__':\n",
    "    unittest.main(argv=[''], exit=False)\n"
   ]
  },
  {
   "cell_type": "markdown",
   "metadata": {},
   "source": [
    "### unittestをコマンドラインインターフェイスで実行する\n",
    "- モジュールに対してテストを実行:<br>\n",
    "  <m-b>python -m unittest test_module</m-b>\n",
    "- クラスに対してテストを実行:<br>\n",
    "  <m-b>python -m unittest test_module.TestClass</m-b>\n",
    "- メソッドに対してテストを実行:<br>\n",
    "  <m-b>python -m unittest test_module.TestClass.test_method</m-b>\n"
   ]
  },
  {
   "cell_type": "markdown",
   "metadata": {},
   "source": [
    "### unittestのコマンドラインオプション\n",
    "\n",
    "<table>\n",
    "    <thead>\n",
    "        <tr>\n",
    "            <th>オプション</th>\n",
    "            <th>説明</th>\n",
    "        </tr>\n",
    "    </thead>\n",
    "    <tbody>\n",
    "        <tr>\n",
    "            <td><m-b>-b、--buffer</m-b></td>\n",
    "            <td>標準出力と標準エラーのストリームをテストの間バッファリングする</td>\n",
    "        </tr>\n",
    "        <tr>\n",
    "            <td><m-b>-c、--catch</m-b></td>\n",
    "            <td>Ctrl+Cを入力するまでテストを遅延させ、そこまでの結果を出力する</td>\n",
    "        </tr>\n",
    "        <tr>\n",
    "            <td><m-b>-f、--failfast</m-b></td>\n",
    "            <td>初回のエラー/テスト失敗の際にテストを停止する</td>\n",
    "        </tr>\n",
    "        <tr>\n",
    "            <td><m-b>-k</m-b></td>\n",
    "            <td>パターンや部分文字列にマッチするテストメソッドやクラスのみ実行する</td>\n",
    "        </tr>\n",
    "        <tr>\n",
    "            <td><m-b>--locals</m-b></td>\n",
    "            <td>トレースバック内の局所変数を表示する</td>\n",
    "        </tr>\n",
    "    </tbody>\n",
    "</table>\n"
   ]
  },
  {
   "cell_type": "markdown",
   "metadata": {},
   "source": [
    "### discoveryサブコマンドのコマンドラインオプション\n",
    "\n",
    "<table>\n",
    "    <thead>\n",
    "        <tr>\n",
    "            <th>オプション</th>\n",
    "            <th>説明</th>\n",
    "        </tr>\n",
    "    </thead>\n",
    "    <tbody>\n",
    "        <tr>\n",
    "            <td><m-b>-v、--verbose</m-b></td>\n",
    "            <td>詳細な出力を行う</td>\n",
    "        </tr>\n",
    "        <tr>\n",
    "            <td><m-b>-s、--start-directory</m-b></td>\n",
    "            <td>ディスカバリーを開始すいるディレクトリを指定する（デフォルトは<m-b>.</m-b>）</td>\n",
    "        </tr>\n",
    "        <tr>\n",
    "            <td><m-b>-p、--pattern</m-b></td>\n",
    "            <td>テストファイル名を識別するファイル名を指定する（デフォルトは<m-b>test*.py</m-b>）</td>\n",
    "        </tr>\n",
    "        <tr>\n",
    "            <td><m-b>-t、--top-level-directory</m-b></td>\n",
    "            <td>プロジェクトの最上位ディスカバリーのディレクトリを指定する</td>\n",
    "        </tr>\n",
    "    </tbody>\n",
    "</table>\n"
   ]
  }
 ],
 "metadata": {
  "kernelspec": {
   "display_name": "Python 3",
   "language": "python",
   "name": "python3"
  },
  "language_info": {
   "codemirror_mode": {
    "name": "ipython",
    "version": 3
   },
   "file_extension": ".py",
   "mimetype": "text/x-python",
   "name": "python",
   "nbconvert_exporter": "python",
   "pygments_lexer": "ipython3",
   "version": "3.11.7"
  }
 },
 "nbformat": 4,
 "nbformat_minor": 2
}
