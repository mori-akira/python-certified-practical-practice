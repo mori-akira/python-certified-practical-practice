{
 "cells": [
  {
   "cell_type": "code",
   "execution_count": 5,
   "metadata": {},
   "outputs": [
    {
     "name": "stdout",
     "output_type": "stream",
     "text": [
      "Gender.man\n",
      "Gender.woman\n",
      "Gender.man\n",
      "woman\n",
      "0\n"
     ]
    }
   ],
   "source": [
    "# 列挙型の使用\n",
    "import enum\n",
    "class Gender(enum.Enum):\n",
    "    man = 0\n",
    "    woman = 1\n",
    "\n",
    "print(Gender.man)\n",
    "print(Gender['woman'])\n",
    "print(Gender(0))\n",
    "print(Gender(1).name)\n",
    "print(Gender(0).value)\n"
   ]
  },
  {
   "cell_type": "code",
   "execution_count": 7,
   "metadata": {},
   "outputs": [
    {
     "name": "stdout",
     "output_type": "stream",
     "text": [
      "Gender.man\n",
      "Gender.woman\n",
      "Gender.man\n"
     ]
    },
    {
     "ename": "ValueError",
     "evalue": "1 is not a valid Gender",
     "output_type": "error",
     "traceback": [
      "\u001b[1;31m---------------------------------------------------------------------------\u001b[0m",
      "\u001b[1;31mValueError\u001b[0m                                Traceback (most recent call last)",
      "\u001b[1;32mc:\\Users\\kgrmr\\OneDrive\\ドキュメント\\GitHub\\python-certified-practical-practice\\09_データ型とアルゴリズム\\9.3_列挙型による定数の定義を行う.ipynb Cell 2\u001b[0m line \u001b[0;36m1\n\u001b[0;32m      <a href='vscode-notebook-cell:/c%3A/Users/kgrmr/OneDrive/%E3%83%89%E3%82%AD%E3%83%A5%E3%83%A1%E3%83%B3%E3%83%88/GitHub/python-certified-practical-practice/09_%E3%83%87%E3%83%BC%E3%82%BF%E5%9E%8B%E3%81%A8%E3%82%A2%E3%83%AB%E3%82%B4%E3%83%AA%E3%82%BA%E3%83%A0/9.3_%E5%88%97%E6%8C%99%E5%9E%8B%E3%81%AB%E3%82%88%E3%82%8B%E5%AE%9A%E6%95%B0%E3%81%AE%E5%AE%9A%E7%BE%A9%E3%82%92%E8%A1%8C%E3%81%86.ipynb#W1sZmlsZQ%3D%3D?line=7'>8</a>\u001b[0m \u001b[39mprint\u001b[39m(Gender[\u001b[39m'\u001b[39m\u001b[39mwoman\u001b[39m\u001b[39m'\u001b[39m])\n\u001b[0;32m      <a href='vscode-notebook-cell:/c%3A/Users/kgrmr/OneDrive/%E3%83%89%E3%82%AD%E3%83%A5%E3%83%A1%E3%83%B3%E3%83%88/GitHub/python-certified-practical-practice/09_%E3%83%87%E3%83%BC%E3%82%BF%E5%9E%8B%E3%81%A8%E3%82%A2%E3%83%AB%E3%82%B4%E3%83%AA%E3%82%BA%E3%83%A0/9.3_%E5%88%97%E6%8C%99%E5%9E%8B%E3%81%AB%E3%82%88%E3%82%8B%E5%AE%9A%E6%95%B0%E3%81%AE%E5%AE%9A%E7%BE%A9%E3%82%92%E8%A1%8C%E3%81%86.ipynb#W1sZmlsZQ%3D%3D?line=8'>9</a>\u001b[0m \u001b[39mprint\u001b[39m(Gender(\u001b[39m'\u001b[39m\u001b[39mMAN\u001b[39m\u001b[39m'\u001b[39m))\n\u001b[1;32m---> <a href='vscode-notebook-cell:/c%3A/Users/kgrmr/OneDrive/%E3%83%89%E3%82%AD%E3%83%A5%E3%83%A1%E3%83%B3%E3%83%88/GitHub/python-certified-practical-practice/09_%E3%83%87%E3%83%BC%E3%82%BF%E5%9E%8B%E3%81%A8%E3%82%A2%E3%83%AB%E3%82%B4%E3%83%AA%E3%82%BA%E3%83%A0/9.3_%E5%88%97%E6%8C%99%E5%9E%8B%E3%81%AB%E3%82%88%E3%82%8B%E5%AE%9A%E6%95%B0%E3%81%AE%E5%AE%9A%E7%BE%A9%E3%82%92%E8%A1%8C%E3%81%86.ipynb#W1sZmlsZQ%3D%3D?line=9'>10</a>\u001b[0m \u001b[39mprint\u001b[39m(Gender(\u001b[39m1\u001b[39;49m))\n",
      "File \u001b[1;32mC:\\Program Files\\WindowsApps\\PythonSoftwareFoundation.Python.3.11_3.11.2032.0_x64__qbz5n2kfra8p0\\Lib\\enum.py:712\u001b[0m, in \u001b[0;36mEnumType.__call__\u001b[1;34m(cls, value, names, module, qualname, type, start, boundary)\u001b[0m\n\u001b[0;32m    687\u001b[0m \u001b[39m\u001b[39m\u001b[39m\"\"\"\u001b[39;00m\n\u001b[0;32m    688\u001b[0m \u001b[39mEither returns an existing member, or creates a new enum class.\u001b[39;00m\n\u001b[0;32m    689\u001b[0m \n\u001b[1;32m   (...)\u001b[0m\n\u001b[0;32m    709\u001b[0m \u001b[39m`type`, if set, will be mixed in as the first base class.\u001b[39;00m\n\u001b[0;32m    710\u001b[0m \u001b[39m\"\"\"\u001b[39;00m\n\u001b[0;32m    711\u001b[0m \u001b[39mif\u001b[39;00m names \u001b[39mis\u001b[39;00m \u001b[39mNone\u001b[39;00m:  \u001b[39m# simple value lookup\u001b[39;00m\n\u001b[1;32m--> 712\u001b[0m     \u001b[39mreturn\u001b[39;00m \u001b[39mcls\u001b[39;49m\u001b[39m.\u001b[39;49m\u001b[39m__new__\u001b[39;49m(\u001b[39mcls\u001b[39;49m, value)\n\u001b[0;32m    713\u001b[0m \u001b[39m# otherwise, functional API: we're creating a new Enum type\u001b[39;00m\n\u001b[0;32m    714\u001b[0m \u001b[39mreturn\u001b[39;00m \u001b[39mcls\u001b[39m\u001b[39m.\u001b[39m_create_(\n\u001b[0;32m    715\u001b[0m         value,\n\u001b[0;32m    716\u001b[0m         names,\n\u001b[1;32m   (...)\u001b[0m\n\u001b[0;32m    721\u001b[0m         boundary\u001b[39m=\u001b[39mboundary,\n\u001b[0;32m    722\u001b[0m         )\n",
      "File \u001b[1;32mC:\\Program Files\\WindowsApps\\PythonSoftwareFoundation.Python.3.11_3.11.2032.0_x64__qbz5n2kfra8p0\\Lib\\enum.py:1135\u001b[0m, in \u001b[0;36mEnum.__new__\u001b[1;34m(cls, value)\u001b[0m\n\u001b[0;32m   1133\u001b[0m ve_exc \u001b[39m=\u001b[39m \u001b[39mValueError\u001b[39;00m(\u001b[39m\"\u001b[39m\u001b[39m%r\u001b[39;00m\u001b[39m is not a valid \u001b[39m\u001b[39m%s\u001b[39;00m\u001b[39m\"\u001b[39m \u001b[39m%\u001b[39m (value, \u001b[39mcls\u001b[39m\u001b[39m.\u001b[39m\u001b[39m__qualname__\u001b[39m))\n\u001b[0;32m   1134\u001b[0m \u001b[39mif\u001b[39;00m result \u001b[39mis\u001b[39;00m \u001b[39mNone\u001b[39;00m \u001b[39mand\u001b[39;00m exc \u001b[39mis\u001b[39;00m \u001b[39mNone\u001b[39;00m:\n\u001b[1;32m-> 1135\u001b[0m     \u001b[39mraise\u001b[39;00m ve_exc\n\u001b[0;32m   1136\u001b[0m \u001b[39melif\u001b[39;00m exc \u001b[39mis\u001b[39;00m \u001b[39mNone\u001b[39;00m:\n\u001b[0;32m   1137\u001b[0m     exc \u001b[39m=\u001b[39m \u001b[39mTypeError\u001b[39;00m(\n\u001b[0;32m   1138\u001b[0m             \u001b[39m'\u001b[39m\u001b[39merror in \u001b[39m\u001b[39m%s\u001b[39;00m\u001b[39m._missing_: returned \u001b[39m\u001b[39m%r\u001b[39;00m\u001b[39m instead of None or a valid member\u001b[39m\u001b[39m'\u001b[39m\n\u001b[0;32m   1139\u001b[0m             \u001b[39m%\u001b[39m (\u001b[39mcls\u001b[39m\u001b[39m.\u001b[39m\u001b[39m__name__\u001b[39m, result)\n\u001b[0;32m   1140\u001b[0m             )\n",
      "\u001b[1;31mValueError\u001b[0m: 1 is not a valid Gender"
     ]
    }
   ],
   "source": [
    "# 列挙型の使用\n",
    "import enum\n",
    "class Gender(enum.Enum):\n",
    "    man = 'MAN'\n",
    "    woman = 'WOMAN'\n",
    "\n",
    "print(Gender.man)\n",
    "print(Gender['woman'])\n",
    "print(Gender('MAN'))\n",
    "print(Gender(1))\n"
   ]
  },
  {
   "cell_type": "code",
   "execution_count": 12,
   "metadata": {},
   "outputs": [
    {
     "name": "stdout",
     "output_type": "stream",
     "text": [
      "<enum 'Kanto'>\n",
      "1\n",
      "2\n"
     ]
    }
   ],
   "source": [
    "# 自動で値を作成する\n",
    "import enum\n",
    "class Kanto(enum.Enum):\n",
    "    TOKYO = enum.auto()\n",
    "    KANAGAWA = enum.auto()\n",
    "    SAITAMA = enum.auto()\n",
    "    CHIBA = enum.auto()\n",
    "print(Kanto)\n",
    "print(Kanto.TOKYO.value)\n",
    "print(Kanto.KANAGAWA.value)\n"
   ]
  },
  {
   "cell_type": "code",
   "execution_count": 14,
   "metadata": {},
   "outputs": [
    {
     "ename": "ValueError",
     "evalue": "duplicate values found in <enum 'Food2'>: STEAK -> RAMEN, SUSHI -> RAMEN",
     "output_type": "error",
     "traceback": [
      "\u001b[1;31m---------------------------------------------------------------------------\u001b[0m",
      "\u001b[1;31mValueError\u001b[0m                                Traceback (most recent call last)",
      "\u001b[1;32mc:\\Users\\kgrmr\\OneDrive\\ドキュメント\\GitHub\\python-certified-practical-practice\\09_データ型とアルゴリズム\\9.3_列挙型による定数の定義を行う.ipynb Cell 4\u001b[0m line \u001b[0;36m9\n\u001b[0;32m      <a href='vscode-notebook-cell:/c%3A/Users/kgrmr/OneDrive/%E3%83%89%E3%82%AD%E3%83%A5%E3%83%A1%E3%83%B3%E3%83%88/GitHub/python-certified-practical-practice/09_%E3%83%87%E3%83%BC%E3%82%BF%E5%9E%8B%E3%81%A8%E3%82%A2%E3%83%AB%E3%82%B4%E3%83%AA%E3%82%BA%E3%83%A0/9.3_%E5%88%97%E6%8C%99%E5%9E%8B%E3%81%AB%E3%82%88%E3%82%8B%E5%AE%9A%E6%95%B0%E3%81%AE%E5%AE%9A%E7%BE%A9%E3%82%92%E8%A1%8C%E3%81%86.ipynb#W3sZmlsZQ%3D%3D?line=5'>6</a>\u001b[0m     SUSHI \u001b[39m=\u001b[39m \u001b[39m0\u001b[39m\n\u001b[0;32m      <a href='vscode-notebook-cell:/c%3A/Users/kgrmr/OneDrive/%E3%83%89%E3%82%AD%E3%83%A5%E3%83%A1%E3%83%B3%E3%83%88/GitHub/python-certified-practical-practice/09_%E3%83%87%E3%83%BC%E3%82%BF%E5%9E%8B%E3%81%A8%E3%82%A2%E3%83%AB%E3%82%B4%E3%83%AA%E3%82%BA%E3%83%A0/9.3_%E5%88%97%E6%8C%99%E5%9E%8B%E3%81%AB%E3%82%88%E3%82%8B%E5%AE%9A%E6%95%B0%E3%81%AE%E5%AE%9A%E7%BE%A9%E3%82%92%E8%A1%8C%E3%81%86.ipynb#W3sZmlsZQ%3D%3D?line=7'>8</a>\u001b[0m \u001b[39mimport\u001b[39;00m \u001b[39menum\u001b[39;00m\n\u001b[1;32m----> <a href='vscode-notebook-cell:/c%3A/Users/kgrmr/OneDrive/%E3%83%89%E3%82%AD%E3%83%A5%E3%83%A1%E3%83%B3%E3%83%88/GitHub/python-certified-practical-practice/09_%E3%83%87%E3%83%BC%E3%82%BF%E5%9E%8B%E3%81%A8%E3%82%A2%E3%83%AB%E3%82%B4%E3%83%AA%E3%82%BA%E3%83%A0/9.3_%E5%88%97%E6%8C%99%E5%9E%8B%E3%81%AB%E3%82%88%E3%82%8B%E5%AE%9A%E6%95%B0%E3%81%AE%E5%AE%9A%E7%BE%A9%E3%82%92%E8%A1%8C%E3%81%86.ipynb#W3sZmlsZQ%3D%3D?line=8'>9</a>\u001b[0m \u001b[39m@enum\u001b[39;49m\u001b[39m.\u001b[39;49munique\n\u001b[0;32m     <a href='vscode-notebook-cell:/c%3A/Users/kgrmr/OneDrive/%E3%83%89%E3%82%AD%E3%83%A5%E3%83%A1%E3%83%B3%E3%83%88/GitHub/python-certified-practical-practice/09_%E3%83%87%E3%83%BC%E3%82%BF%E5%9E%8B%E3%81%A8%E3%82%A2%E3%83%AB%E3%82%B4%E3%83%AA%E3%82%BA%E3%83%A0/9.3_%E5%88%97%E6%8C%99%E5%9E%8B%E3%81%AB%E3%82%88%E3%82%8B%E5%AE%9A%E6%95%B0%E3%81%AE%E5%AE%9A%E7%BE%A9%E3%82%92%E8%A1%8C%E3%81%86.ipynb#W3sZmlsZQ%3D%3D?line=9'>10</a>\u001b[0m \u001b[39mclass\u001b[39;49;00m \u001b[39mFood2\u001b[39;49;00m(enum\u001b[39m.\u001b[39;49mEnum):\n\u001b[0;32m     <a href='vscode-notebook-cell:/c%3A/Users/kgrmr/OneDrive/%E3%83%89%E3%82%AD%E3%83%A5%E3%83%A1%E3%83%B3%E3%83%88/GitHub/python-certified-practical-practice/09_%E3%83%87%E3%83%BC%E3%82%BF%E5%9E%8B%E3%81%A8%E3%82%A2%E3%83%AB%E3%82%B4%E3%83%AA%E3%82%BA%E3%83%A0/9.3_%E5%88%97%E6%8C%99%E5%9E%8B%E3%81%AB%E3%82%88%E3%82%8B%E5%AE%9A%E6%95%B0%E3%81%AE%E5%AE%9A%E7%BE%A9%E3%82%92%E8%A1%8C%E3%81%86.ipynb#W3sZmlsZQ%3D%3D?line=10'>11</a>\u001b[0m     RAMEN \u001b[39m=\u001b[39;49m \u001b[39m0\u001b[39;49m\n\u001b[0;32m     <a href='vscode-notebook-cell:/c%3A/Users/kgrmr/OneDrive/%E3%83%89%E3%82%AD%E3%83%A5%E3%83%A1%E3%83%B3%E3%83%88/GitHub/python-certified-practical-practice/09_%E3%83%87%E3%83%BC%E3%82%BF%E5%9E%8B%E3%81%A8%E3%82%A2%E3%83%AB%E3%82%B4%E3%83%AA%E3%82%BA%E3%83%A0/9.3_%E5%88%97%E6%8C%99%E5%9E%8B%E3%81%AB%E3%82%88%E3%82%8B%E5%AE%9A%E6%95%B0%E3%81%AE%E5%AE%9A%E7%BE%A9%E3%82%92%E8%A1%8C%E3%81%86.ipynb#W3sZmlsZQ%3D%3D?line=11'>12</a>\u001b[0m     STEAK \u001b[39m=\u001b[39;49m \u001b[39m0\u001b[39;49m\n",
      "File \u001b[1;32mC:\\Program Files\\WindowsApps\\PythonSoftwareFoundation.Python.3.11_3.11.2032.0_x64__qbz5n2kfra8p0\\Lib\\enum.py:1571\u001b[0m, in \u001b[0;36munique\u001b[1;34m(enumeration)\u001b[0m\n\u001b[0;32m   1568\u001b[0m \u001b[39mif\u001b[39;00m duplicates:\n\u001b[0;32m   1569\u001b[0m     alias_details \u001b[39m=\u001b[39m \u001b[39m'\u001b[39m\u001b[39m, \u001b[39m\u001b[39m'\u001b[39m\u001b[39m.\u001b[39mjoin(\n\u001b[0;32m   1570\u001b[0m             [\u001b[39m\"\u001b[39m\u001b[39m%s\u001b[39;00m\u001b[39m -> \u001b[39m\u001b[39m%s\u001b[39;00m\u001b[39m\"\u001b[39m \u001b[39m%\u001b[39m (alias, name) \u001b[39mfor\u001b[39;00m (alias, name) \u001b[39min\u001b[39;00m duplicates])\n\u001b[1;32m-> 1571\u001b[0m     \u001b[39mraise\u001b[39;00m \u001b[39mValueError\u001b[39;00m(\u001b[39m'\u001b[39m\u001b[39mduplicate values found in \u001b[39m\u001b[39m%r\u001b[39;00m\u001b[39m: \u001b[39m\u001b[39m%s\u001b[39;00m\u001b[39m'\u001b[39m \u001b[39m%\u001b[39m\n\u001b[0;32m   1572\u001b[0m             (enumeration, alias_details))\n\u001b[0;32m   1573\u001b[0m \u001b[39mreturn\u001b[39;00m enumeration\n",
      "\u001b[1;31mValueError\u001b[0m: duplicate values found in <enum 'Food2'>: STEAK -> RAMEN, SUSHI -> RAMEN"
     ]
    }
   ],
   "source": [
    "# 値の重複を禁止する\n",
    "import enum\n",
    "class Food1(enum.Enum):\n",
    "    RAMEN = 0\n",
    "    STEAK = 0\n",
    "    SUSHI = 0\n",
    "\n",
    "import enum\n",
    "@enum.unique\n",
    "class Food2(enum.Enum):\n",
    "    RAMEN = 0\n",
    "    STEAK = 0\n",
    "    SUSHI = 0\n"
   ]
  },
  {
   "cell_type": "code",
   "execution_count": 18,
   "metadata": {},
   "outputs": [
    {
     "name": "stdout",
     "output_type": "stream",
     "text": [
      "Type.hoge\n",
      "[<Type.hoge: 0>]\n",
      "0\n",
      "0\n",
      "0\n"
     ]
    }
   ],
   "source": [
    "# 値が重複する場合の挙動\n",
    "import enum\n",
    "class Type(enum.Enum):\n",
    "    hoge = 0\n",
    "    fuga = 0\n",
    "    piyo = 0\n",
    "\n",
    "print(Type(0))\n",
    "print(list(Type))\n",
    "print(Type.hoge.value)\n",
    "print(Type.fuga.value)\n",
    "print(Type.piyo.value)\n"
   ]
  },
  {
   "cell_type": "code",
   "execution_count": 20,
   "metadata": {},
   "outputs": [
    {
     "name": "stdout",
     "output_type": "stream",
     "text": [
      "[<Type.hoge: 1>, <Type.fuga: 2>, <Type.piyo: 3>]\n",
      "{<Type.piyo: 3>, <Type.hoge: 1>, <Type.fuga: 2>}\n"
     ]
    },
    {
     "ename": "TypeError",
     "evalue": "cannot convert dictionary update sequence element #0 to a sequence",
     "output_type": "error",
     "traceback": [
      "\u001b[1;31m---------------------------------------------------------------------------\u001b[0m",
      "\u001b[1;31mTypeError\u001b[0m                                 Traceback (most recent call last)",
      "\u001b[1;32mc:\\Users\\kgrmr\\OneDrive\\ドキュメント\\GitHub\\python-certified-practical-practice\\09_データ型とアルゴリズム\\9.3_列挙型による定数の定義を行う.ipynb Cell 6\u001b[0m line \u001b[0;36m1\n\u001b[0;32m      <a href='vscode-notebook-cell:/c%3A/Users/kgrmr/OneDrive/%E3%83%89%E3%82%AD%E3%83%A5%E3%83%A1%E3%83%B3%E3%83%88/GitHub/python-certified-practical-practice/09_%E3%83%87%E3%83%BC%E3%82%BF%E5%9E%8B%E3%81%A8%E3%82%A2%E3%83%AB%E3%82%B4%E3%83%AA%E3%82%BA%E3%83%A0/9.3_%E5%88%97%E6%8C%99%E5%9E%8B%E3%81%AB%E3%82%88%E3%82%8B%E5%AE%9A%E6%95%B0%E3%81%AE%E5%AE%9A%E7%BE%A9%E3%82%92%E8%A1%8C%E3%81%86.ipynb#W5sZmlsZQ%3D%3D?line=8'>9</a>\u001b[0m \u001b[39mprint\u001b[39m(\u001b[39mlist\u001b[39m(Type))\n\u001b[0;32m     <a href='vscode-notebook-cell:/c%3A/Users/kgrmr/OneDrive/%E3%83%89%E3%82%AD%E3%83%A5%E3%83%A1%E3%83%B3%E3%83%88/GitHub/python-certified-practical-practice/09_%E3%83%87%E3%83%BC%E3%82%BF%E5%9E%8B%E3%81%A8%E3%82%A2%E3%83%AB%E3%82%B4%E3%83%AA%E3%82%BA%E3%83%A0/9.3_%E5%88%97%E6%8C%99%E5%9E%8B%E3%81%AB%E3%82%88%E3%82%8B%E5%AE%9A%E6%95%B0%E3%81%AE%E5%AE%9A%E7%BE%A9%E3%82%92%E8%A1%8C%E3%81%86.ipynb#W5sZmlsZQ%3D%3D?line=9'>10</a>\u001b[0m \u001b[39mprint\u001b[39m(\u001b[39mset\u001b[39m(Type))\n\u001b[1;32m---> <a href='vscode-notebook-cell:/c%3A/Users/kgrmr/OneDrive/%E3%83%89%E3%82%AD%E3%83%A5%E3%83%A1%E3%83%B3%E3%83%88/GitHub/python-certified-practical-practice/09_%E3%83%87%E3%83%BC%E3%82%BF%E5%9E%8B%E3%81%A8%E3%82%A2%E3%83%AB%E3%82%B4%E3%83%AA%E3%82%BA%E3%83%A0/9.3_%E5%88%97%E6%8C%99%E5%9E%8B%E3%81%AB%E3%82%88%E3%82%8B%E5%AE%9A%E6%95%B0%E3%81%AE%E5%AE%9A%E7%BE%A9%E3%82%92%E8%A1%8C%E3%81%86.ipynb#W5sZmlsZQ%3D%3D?line=10'>11</a>\u001b[0m \u001b[39mprint\u001b[39m(\u001b[39mdict\u001b[39;49m(Type))\n",
      "\u001b[1;31mTypeError\u001b[0m: cannot convert dictionary update sequence element #0 to a sequence"
     ]
    }
   ],
   "source": [
    "# list、dict、setによるキャスト\n",
    "import enum\n",
    "@enum.unique\n",
    "class Type(enum.Enum):\n",
    "    hoge = enum.auto()\n",
    "    fuga = enum.auto()\n",
    "    piyo = enum.auto()\n",
    "\n",
    "print(list(Type))\n",
    "print(set(Type))\n",
    "print(dict(Type))\n"
   ]
  },
  {
   "cell_type": "code",
   "execution_count": 23,
   "metadata": {},
   "outputs": [
    {
     "name": "stdout",
     "output_type": "stream",
     "text": [
      "True\n",
      "False\n",
      "True\n",
      "True\n",
      "False\n",
      "False\n"
     ]
    }
   ],
   "source": [
    "# enumの比較\n",
    "import enum\n",
    "class Type(enum.Enum):\n",
    "    hoge = 0\n",
    "    fuga = False\n",
    "    piyo = 1\n",
    "\n",
    "print(isinstance(Type.hoge, Type))\n",
    "print(isinstance(Type.fuga, bool))\n",
    "print(Type.hoge == Type.hoge)\n",
    "print(Type.hoge == Type.fuga)\n",
    "print(Type.hoge == Type.piyo)\n",
    "print(Type.hoge == 0)\n"
   ]
  },
  {
   "cell_type": "code",
   "execution_count": 26,
   "metadata": {},
   "outputs": [
    {
     "name": "stdout",
     "output_type": "stream",
     "text": [
      "255\n",
      "0\n"
     ]
    }
   ],
   "source": [
    "# enumのメソッド\n",
    "import enum\n",
    "class Color(enum.Enum):\n",
    "    RED = (255, 0, 0)\n",
    "    GREEN = (0, 255, 0)\n",
    "    BLUE = (0, 0, 255)\n",
    "    WHITE = (255, 255, 255)\n",
    "\n",
    "    def getR(self):\n",
    "        return self.value[0]\n",
    "    def getG(self):\n",
    "        return self.value[1]\n",
    "    def getB(self):\n",
    "        return self.value[2]\n",
    "\n",
    "print(Color.RED.getR())\n",
    "print(Color.RED.getG())\n"
   ]
  }
 ],
 "metadata": {
  "kernelspec": {
   "display_name": "Python 3",
   "language": "python",
   "name": "python3"
  },
  "language_info": {
   "codemirror_mode": {
    "name": "ipython",
    "version": 3
   },
   "file_extension": ".py",
   "mimetype": "text/x-python",
   "name": "python",
   "nbconvert_exporter": "python",
   "pygments_lexer": "ipython3",
   "version": "3.11.7"
  }
 },
 "nbformat": 4,
 "nbformat_minor": 2
}
