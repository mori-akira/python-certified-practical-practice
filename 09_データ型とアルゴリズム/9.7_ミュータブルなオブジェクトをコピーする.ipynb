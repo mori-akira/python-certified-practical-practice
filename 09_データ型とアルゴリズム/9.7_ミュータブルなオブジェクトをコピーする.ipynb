{
 "cells": [
  {
   "cell_type": "code",
   "execution_count": 5,
   "metadata": {},
   "outputs": [
    {
     "name": "stdout",
     "output_type": "stream",
     "text": [
      "['a', 'b', 'c']\n",
      "['a', 'b', 'c']\n"
     ]
    }
   ],
   "source": [
    "# シャローコピー\n",
    "import copy\n",
    "src = ['a', 'b', 'c']\n",
    "dest = copy.copy(src)\n",
    "print(dest)\n",
    "dest[0] = 'e'\n",
    "print(src)\n"
   ]
  },
  {
   "cell_type": "code",
   "execution_count": 6,
   "metadata": {},
   "outputs": [
    {
     "name": "stdout",
     "output_type": "stream",
     "text": [
      "[['a'], ['b'], ['c']]\n",
      "[['a'], ['b'], ['c']]\n",
      "[['a'], ['f'], ['c']]\n"
     ]
    }
   ],
   "source": [
    "# シャローコピー②\n",
    "import copy\n",
    "src = [['a'], ['b'], ['c']]\n",
    "dest = copy.copy(src)\n",
    "print(dest)\n",
    "dest[0] = ['e']\n",
    "print(src)\n",
    "dest[1][0] = 'f'\n",
    "print(src)\n"
   ]
  },
  {
   "cell_type": "code",
   "execution_count": 7,
   "metadata": {},
   "outputs": [
    {
     "name": "stdout",
     "output_type": "stream",
     "text": [
      "[['a'], ['b'], ['c']]\n",
      "[['a'], ['b'], ['c']]\n",
      "[['a'], ['b'], ['c']]\n"
     ]
    }
   ],
   "source": [
    "# ディープコピー\n",
    "import copy\n",
    "src = [['a'], ['b'], ['c']]\n",
    "dest = copy.deepcopy(src)\n",
    "print(dest)\n",
    "dest[0] = ['e']\n",
    "print(src)\n",
    "dest[1][0] = 'f'\n",
    "print(src)\n"
   ]
  }
 ],
 "metadata": {
  "kernelspec": {
   "display_name": "Python 3",
   "language": "python",
   "name": "python3"
  },
  "language_info": {
   "codemirror_mode": {
    "name": "ipython",
    "version": 3
   },
   "file_extension": ".py",
   "mimetype": "text/x-python",
   "name": "python",
   "nbconvert_exporter": "python",
   "pygments_lexer": "ipython3",
   "version": "3.11.7"
  }
 },
 "nbformat": 4,
 "nbformat_minor": 2
}
