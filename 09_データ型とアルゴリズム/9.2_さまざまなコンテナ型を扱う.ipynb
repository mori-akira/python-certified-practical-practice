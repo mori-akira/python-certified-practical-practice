{
 "cells": [
  {
   "cell_type": "code",
   "execution_count": 2,
   "metadata": {},
   "outputs": [
    {
     "name": "stdout",
     "output_type": "stream",
     "text": [
      "Counter({'t': 5, ' ': 5, 'i': 3, 's': 3, 'e': 3, 'u': 2, 'n': 2, 'p': 2, 'h': 1, 'C': 1, 'o': 1, 'r': 1, 'a': 1, 'm': 1, 'l': 1, 'x': 1, '.': 1})\n",
      "Counter({'piyo': 1000, 'fuga': 100, 'hoge': 10})\n"
     ]
    }
   ],
   "source": [
    "from collections import Counter\n",
    "import random\n",
    "\n",
    "c = Counter('this is Counter sample input text.')\n",
    "print(c)\n",
    "\n",
    "lst = ['hoge'] * 10 + ['fuga'] * 100 + ['piyo'] * 1000\n",
    "random.shuffle(lst)\n",
    "print(Counter(lst))"
   ]
  },
  {
   "cell_type": "code",
   "execution_count": 10,
   "metadata": {},
   "outputs": [
    {
     "name": "stdout",
     "output_type": "stream",
     "text": [
      "Counter()\n",
      "Counter({1: 3, 2: 1, 3: 1, '': 1, None: 1})\n",
      "3\n",
      "0\n",
      "1\n",
      "True\n"
     ]
    }
   ],
   "source": [
    "from collections import Counter\n",
    "counter = Counter()\n",
    "print(counter)\n",
    "\n",
    "counter[1] += 1\n",
    "counter[2] += 1\n",
    "counter[1] += 1\n",
    "counter[3] += 1\n",
    "counter[True] += 1\n",
    "counter[''] += 1\n",
    "counter[None] += 1\n",
    "print(counter)\n",
    "print(counter[1])\n",
    "print(counter[5])\n",
    "print(counter[None])\n",
    "print('' in counter)\n",
    "print(5 in counter)"
   ]
  }
 ],
 "metadata": {
  "kernelspec": {
   "display_name": "Python 3",
   "language": "python",
   "name": "python3"
  },
  "language_info": {
   "codemirror_mode": {
    "name": "ipython",
    "version": 3
   },
   "file_extension": ".py",
   "mimetype": "text/x-python",
   "name": "python",
   "nbconvert_exporter": "python",
   "pygments_lexer": "ipython3",
   "version": "3.11.6"
  }
 },
 "nbformat": 4,
 "nbformat_minor": 2
}
