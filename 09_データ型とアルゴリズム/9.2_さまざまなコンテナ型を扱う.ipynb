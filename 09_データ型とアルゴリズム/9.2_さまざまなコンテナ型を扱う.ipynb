{
 "cells": [
  {
   "cell_type": "code",
   "execution_count": 2,
   "metadata": {},
   "outputs": [
    {
     "name": "stdout",
     "output_type": "stream",
     "text": [
      "Counter({'t': 5, ' ': 5, 'i': 3, 's': 3, 'e': 3, 'u': 2, 'n': 2, 'p': 2, 'h': 1, 'C': 1, 'o': 1, 'r': 1, 'a': 1, 'm': 1, 'l': 1, 'x': 1, '.': 1})\n",
      "Counter({'piyo': 1000, 'fuga': 100, 'hoge': 10})\n"
     ]
    }
   ],
   "source": [
    "from collections import Counter\n",
    "import random\n",
    "\n",
    "c = Counter('this is Counter sample input text.')\n",
    "print(c)\n",
    "\n",
    "lst = ['hoge'] * 10 + ['fuga'] * 100 + ['piyo'] * 1000\n",
    "random.shuffle(lst)\n",
    "print(Counter(lst))\n"
   ]
  },
  {
   "cell_type": "code",
   "execution_count": 11,
   "metadata": {},
   "outputs": [
    {
     "name": "stdout",
     "output_type": "stream",
     "text": [
      "Counter()\n",
      "Counter({1: 3, 2: 1, 3: 1, '': 1, None: 1})\n",
      "3\n",
      "0\n",
      "1\n",
      "True\n",
      "False\n"
     ]
    }
   ],
   "source": [
    "from collections import Counter\n",
    "counter = Counter()\n",
    "print(counter)\n",
    "\n",
    "counter[1] += 1\n",
    "counter[2] += 1\n",
    "counter[1] += 1\n",
    "counter[3] += 1\n",
    "counter[True] += 1\n",
    "counter[''] += 1\n",
    "counter[None] += 1\n",
    "print(counter)\n",
    "print(counter[1])\n",
    "print(counter[5])\n",
    "print(counter[None])\n",
    "print('' in counter)\n",
    "print(5 in counter)\n"
   ]
  },
  {
   "cell_type": "code",
   "execution_count": 2,
   "metadata": {},
   "outputs": [
    {
     "name": "stdout",
     "output_type": "stream",
     "text": [
      "Counter({'d': 5, 'a': 4, 'c': 2, 'b': 1})\n",
      "<itertools.chain object at 0x00000248AA5CD540>\n",
      "['a', 'a', 'a', 'a', 'b', 'c', 'c', 'd', 'd', 'd', 'd', 'd']\n"
     ]
    }
   ],
   "source": [
    "# Counterオブジェクトのメソッド: elements()\n",
    "from collections import Counter\n",
    "cnt = Counter(a=4, b=1, c=2, d=5)\n",
    "print(cnt.elements())\n",
    "print(list(cnt.elements()))\n"
   ]
  },
  {
   "cell_type": "code",
   "execution_count": 4,
   "metadata": {},
   "outputs": [
    {
     "name": "stdout",
     "output_type": "stream",
     "text": [
      "[('a', 4)]\n",
      "[('a', 4), ('b', 3)]\n",
      "[('a', 4), ('b', 3), ('c', 3)]\n"
     ]
    }
   ],
   "source": [
    "# Counterオブジェクトのメソッド: most_common()\n",
    "from collections import Counter\n",
    "cnt = Counter(a=4, b=3, c=3, d=3)\n",
    "print(cnt.most_common(1))\n",
    "print(cnt.most_common(2))\n",
    "print(cnt.most_common(3))\n"
   ]
  },
  {
   "cell_type": "code",
   "execution_count": 9,
   "metadata": {},
   "outputs": [
    {
     "name": "stdout",
     "output_type": "stream",
     "text": [
      "None\n",
      "Counter({'a': 4, 'd': 2, 'b': 1, 'c': 1, 'f': -2, 'e': -4})\n",
      "None\n",
      "Counter({'e': 8, 'f': 4, 'd': 1, 'c': 0, 'b': -1, 'a': -4})\n"
     ]
    }
   ],
   "source": [
    "# Counterオブジェクトのメソッド: subtract()\n",
    "from collections import Counter\n",
    "cnt1 = Counter(a=4, b=1, c=2, d=5)\n",
    "cnt2 = Counter(c=1, d=3, e=4, f=2)\n",
    "print(cnt1.subtract(cnt2))\n",
    "print(cnt1)\n",
    "print(cnt2.subtract(cnt1))\n",
    "print(cnt2)\n"
   ]
  },
  {
   "cell_type": "code",
   "execution_count": 10,
   "metadata": {},
   "outputs": [
    {
     "name": "stdout",
     "output_type": "stream",
     "text": [
      "None\n",
      "Counter({'d': 8, 'a': 4, 'e': 4, 'c': 3, 'f': 2, 'b': 1})\n",
      "None\n",
      "Counter({'d': 11, 'e': 8, 'c': 4, 'f': 4, 'a': 4, 'b': 1})\n"
     ]
    }
   ],
   "source": [
    "# Counterオブジェクトのメソッド: update()\n",
    "from collections import Counter\n",
    "cnt1 = Counter(a=4, b=1, c=2, d=5)\n",
    "cnt2 = Counter(c=1, d=3, e=4, f=2)\n",
    "print(cnt1.update(cnt2))\n",
    "print(cnt1)\n",
    "print(cnt2.update(cnt1))\n",
    "print(cnt2)\n"
   ]
  },
  {
   "cell_type": "code",
   "execution_count": 21,
   "metadata": {},
   "outputs": [
    {
     "name": "stdout",
     "output_type": "stream",
     "text": [
      "Counter({'d': 8, 'a': 4, 'c': 4, 'e': 4, 'f': 2, 'b': 1})\n",
      "Counter({'a': 4, 'd': 2, 'b': 1})\n",
      "Counter({'d': 3, 'c': 2})\n",
      "Counter({'d': 5, 'a': 4, 'e': 4, 'c': 2, 'f': 2, 'b': 1})\n",
      "Counter({'e': 4, 'd': 3, 'c': 2, 'f': 2})\n",
      "Counter({'d': 5, 'a': 4, 'c': 2, 'b': 1})\n"
     ]
    }
   ],
   "source": [
    "# Counterオブジェクト同士の演算\n",
    "from collections import Counter\n",
    "cnt1 = Counter(a=4, b=1, c=2, d=5)\n",
    "cnt2 = Counter(c=2, d=3, e=4, f=2)\n",
    "print(cnt1 + cnt2)\n",
    "print(cnt1 - cnt2)\n",
    "print(cnt1 & cnt2)\n",
    "print(cnt1 | cnt2)\n",
    "print(cnt1 and cnt2)\n",
    "print(cnt1 or cnt2)\n"
   ]
  },
  {
   "cell_type": "code",
   "execution_count": 25,
   "metadata": {},
   "outputs": [
    {
     "name": "stdout",
     "output_type": "stream",
     "text": [
      "<class 'KeyError'>\n",
      "default\n"
     ]
    }
   ],
   "source": [
    "# デフォルト値を持った辞書: defaultdict\n",
    "from collections import defaultdict\n",
    "try:\n",
    "    dct = {'hoge': 1}\n",
    "    print(dct['fuga'])\n",
    "except Exception as ex:\n",
    "    print(type(ex))\n",
    "\n",
    "try:\n",
    "    dct = defaultdict(lambda: 'default', hoge=1)\n",
    "    print(dct['fuga'])\n",
    "except Exception as ex:\n",
    "    print(type(ex))\n"
   ]
  },
  {
   "cell_type": "code",
   "execution_count": 30,
   "metadata": {},
   "outputs": [
    {
     "name": "stdout",
     "output_type": "stream",
     "text": [
      "defaultdict(<class 'int'>, {})\n",
      "defaultdict(<class 'int'>, {'hoge': 3, 'fuga': 3})\n"
     ]
    }
   ],
   "source": [
    "# intをデフォルトに指定\n",
    "from collections import defaultdict\n",
    "dd = defaultdict(int)\n",
    "print(dd)\n",
    "dd['hoge'] += 1\n",
    "dd['hoge'] += 2\n",
    "dd['fuga'] += 3\n",
    "print(dd)\n"
   ]
  },
  {
   "cell_type": "code",
   "execution_count": 31,
   "metadata": {},
   "outputs": [
    {
     "name": "stdout",
     "output_type": "stream",
     "text": [
      "defaultdict(<class 'list'>, {})\n",
      "defaultdict(<class 'list'>, {'hoge': [1, 2, 2], 'fuga': [3, 3, 3]})\n"
     ]
    }
   ],
   "source": [
    "# listをデフォルトに指定\n",
    "from collections import defaultdict\n",
    "dd = defaultdict(list)\n",
    "print(dd)\n",
    "dd['hoge'] += [1]\n",
    "dd['hoge'] += [2] * 2\n",
    "dd['fuga'] += [3] * 3\n",
    "print(dd)\n"
   ]
  }
 ],
 "metadata": {
  "kernelspec": {
   "display_name": "Python 3",
   "language": "python",
   "name": "python3"
  },
  "language_info": {
   "codemirror_mode": {
    "name": "ipython",
    "version": 3
   },
   "file_extension": ".py",
   "mimetype": "text/x-python",
   "name": "python",
   "nbconvert_exporter": "python",
   "pygments_lexer": "ipython3",
   "version": "3.11.7"
  }
 },
 "nbformat": 4,
 "nbformat_minor": 2
}
