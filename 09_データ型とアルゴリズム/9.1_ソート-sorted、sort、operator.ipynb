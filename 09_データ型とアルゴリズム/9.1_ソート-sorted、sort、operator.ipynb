{
 "cells": [
  {
   "cell_type": "code",
   "execution_count": 3,
   "metadata": {},
   "outputs": [
    {
     "name": "stdout",
     "output_type": "stream",
     "text": [
      "[1, 1, 2, 3, 4, 5, 9]\n",
      "[9, 5, 4, 3, 2, 1, 1]\n",
      "[' ', ' ', '!', 'P', 'a', 'e', 'e', 'h', 'i', 'm', 'n', 'o', 'o', 's', 's', 't', 'w', 'y']\n"
     ]
    }
   ],
   "source": [
    "# sorted()関数\n",
    "print(sorted([3, 1, 4, 1, 5, 9, 2, 6]))\n",
    "print(sorted([3, 1, 4, 1, 5, 9, 2, 6], reverse=True))\n",
    "print(sorted('Python is awesome!'))\n"
   ]
  },
  {
   "cell_type": "code",
   "execution_count": 6,
   "metadata": {},
   "outputs": [
    {
     "name": "stdout",
     "output_type": "stream",
     "text": [
      "<list_reverseiterator object at 0x000001DED00CD990>\n",
      "[6, 2, 9, 5, 1, 4, 1, 3]\n",
      "[36, 4, 81, 25, 1, 16, 1, 9]\n"
     ]
    }
   ],
   "source": [
    "# reversed()関数\n",
    "print(reversed([3, 1, 4, 1, 5, 9, 2, 6]))\n",
    "print(list(reversed([3, 1, 4, 1, 5, 9, 2, 6])))\n",
    "print([i * i for i in reversed([3, 1, 4, 1, 5, 9, 2, 6])])\n"
   ]
  },
  {
   "cell_type": "code",
   "execution_count": 8,
   "metadata": {},
   "outputs": [
    {
     "name": "stdout",
     "output_type": "stream",
     "text": [
      "None\n",
      "[1, 1, 2, 3, 4, 5, 6, 9]\n",
      "None\n",
      "[9, 6, 5, 4, 3, 2, 1, 1]\n"
     ]
    }
   ],
   "source": [
    "# sort()メソッド\n",
    "lst = [3, 1, 4, 1, 5, 9, 2, 6]\n",
    "print(lst.sort())\n",
    "print(lst)\n",
    "print(lst.sort(reverse=True))\n",
    "print(lst)\n"
   ]
  },
  {
   "cell_type": "code",
   "execution_count": 9,
   "metadata": {},
   "outputs": [
    {
     "name": "stdout",
     "output_type": "stream",
     "text": [
      "None\n",
      "[6, 2, 9, 5, 1, 4, 1, 3]\n"
     ]
    }
   ],
   "source": [
    "# reverse()メソッド\n",
    "lst = [3, 1, 4, 1, 5, 9, 2, 6]\n",
    "print(lst.reverse())\n",
    "print(lst)\n"
   ]
  },
  {
   "cell_type": "code",
   "execution_count": 2,
   "metadata": {},
   "outputs": [
    {
     "name": "stdout",
     "output_type": "stream",
     "text": [
      "['Apple', 'BANANA', 'PEaCH', 'gRaPe', 'orange', 'pine']\n",
      "['Apple', 'BANANA', 'gRaPe', 'orange', 'PEaCH', 'pine']\n",
      "['pine', 'Apple', 'gRaPe', 'PEaCH', 'BANANA', 'orange']\n"
     ]
    }
   ],
   "source": [
    "# keyを指定\n",
    "lst = [\"BANANA\", \"orange\", \"gRaPe\", \"Apple\", \"PEaCH\", \"pine\"]\n",
    "lst.sort()\n",
    "print(lst)\n",
    "lst.sort(key=str.lower)\n",
    "print(lst)\n",
    "lst.sort(key=len)\n",
    "print(lst)\n"
   ]
  },
  {
   "cell_type": "code",
   "execution_count": 3,
   "metadata": {},
   "outputs": [
    {
     "name": "stdout",
     "output_type": "stream",
     "text": [
      "[(1, 5, 9), (2, 6, 5), (3, 1, 4), (3, 2, 3), (3, 5, 8), (9, 7, 9)]\n",
      "[(3, 1, 4), (3, 2, 3), (1, 5, 9), (3, 5, 8), (2, 6, 5), (9, 7, 9)]\n",
      "[(3, 2, 3), (3, 1, 4), (2, 6, 5), (3, 5, 8), (1, 5, 9), (9, 7, 9)]\n"
     ]
    },
    {
     "ename": "IndexError",
     "evalue": "tuple index out of range",
     "output_type": "error",
     "traceback": [
      "\u001b[1;31m---------------------------------------------------------------------------\u001b[0m",
      "\u001b[1;31mIndexError\u001b[0m                                Traceback (most recent call last)",
      "\u001b[1;32mc:\\Users\\kgrmr\\OneDrive\\ドキュメント\\GitHub\\python-certified-practical-practice\\09_データ型とアルゴリズム\\9.1_ソート-sorted、sort、operator.ipynb Cell 6\u001b[0m line \u001b[0;36m8\n\u001b[0;32m      <a href='vscode-notebook-cell:/c%3A/Users/kgrmr/OneDrive/%E3%83%89%E3%82%AD%E3%83%A5%E3%83%A1%E3%83%B3%E3%83%88/GitHub/python-certified-practical-practice/09_%E3%83%87%E3%83%BC%E3%82%BF%E5%9E%8B%E3%81%A8%E3%82%A2%E3%83%AB%E3%82%B4%E3%83%AA%E3%82%BA%E3%83%A0/9.1_%E3%82%BD%E3%83%BC%E3%83%88-sorted%E3%80%81sort%E3%80%81operator.ipynb#W5sZmlsZQ%3D%3D?line=5'>6</a>\u001b[0m \u001b[39mprint\u001b[39m(\u001b[39msorted\u001b[39m(data, key\u001b[39m=\u001b[39mitemgetter(\u001b[39m1\u001b[39m)))\n\u001b[0;32m      <a href='vscode-notebook-cell:/c%3A/Users/kgrmr/OneDrive/%E3%83%89%E3%82%AD%E3%83%A5%E3%83%A1%E3%83%B3%E3%83%88/GitHub/python-certified-practical-practice/09_%E3%83%87%E3%83%BC%E3%82%BF%E5%9E%8B%E3%81%A8%E3%82%A2%E3%83%AB%E3%82%B4%E3%83%AA%E3%82%BA%E3%83%A0/9.1_%E3%82%BD%E3%83%BC%E3%83%88-sorted%E3%80%81sort%E3%80%81operator.ipynb#W5sZmlsZQ%3D%3D?line=6'>7</a>\u001b[0m \u001b[39mprint\u001b[39m(\u001b[39msorted\u001b[39m(data, key\u001b[39m=\u001b[39mitemgetter(\u001b[39m2\u001b[39m)))\n\u001b[1;32m----> <a href='vscode-notebook-cell:/c%3A/Users/kgrmr/OneDrive/%E3%83%89%E3%82%AD%E3%83%A5%E3%83%A1%E3%83%B3%E3%83%88/GitHub/python-certified-practical-practice/09_%E3%83%87%E3%83%BC%E3%82%BF%E5%9E%8B%E3%81%A8%E3%82%A2%E3%83%AB%E3%82%B4%E3%83%AA%E3%82%BA%E3%83%A0/9.1_%E3%82%BD%E3%83%BC%E3%83%88-sorted%E3%80%81sort%E3%80%81operator.ipynb#W5sZmlsZQ%3D%3D?line=7'>8</a>\u001b[0m \u001b[39mprint\u001b[39m(\u001b[39msorted\u001b[39;49m(data, key\u001b[39m=\u001b[39;49mitemgetter(\u001b[39m3\u001b[39;49m)))\n",
      "\u001b[1;31mIndexError\u001b[0m: tuple index out of range"
     ]
    }
   ],
   "source": [
    "# operator.itemgetter\n",
    "from operator import itemgetter\n",
    "\n",
    "data = [(3, 1, 4), (1, 5, 9), (2, 6, 5), (3, 5, 8), (9, 7, 9), (3, 2, 3)]\n",
    "print(sorted(data))\n",
    "print(sorted(data, key=itemgetter(1)))\n",
    "print(sorted(data, key=itemgetter(2)))\n",
    "print(sorted(data, key=itemgetter(3)))\n"
   ]
  },
  {
   "cell_type": "code",
   "execution_count": 7,
   "metadata": {},
   "outputs": [
    {
     "name": "stdout",
     "output_type": "stream",
     "text": [
      "['fuga', 'hoge', 'piyo']\n",
      "[('fuga', 'def'), ('hoge', 'abc'), ('piyo', 'ghi')]\n",
      "[('hoge', 'abc'), ('fuga', 'def'), ('piyo', 'ghi')]\n"
     ]
    }
   ],
   "source": [
    "from operator import itemgetter\n",
    "\n",
    "data = {\n",
    "    'hoge': 'abc',\n",
    "    'fuga': 'def',\n",
    "    'piyo': 'ghi',\n",
    "}\n",
    "print(sorted(data))\n",
    "print(sorted(data.items()))\n",
    "print(sorted(data.items(), key=itemgetter(1)),)\n"
   ]
  },
  {
   "cell_type": "code",
   "execution_count": 16,
   "metadata": {},
   "outputs": [
    {
     "name": "stdout",
     "output_type": "stream",
     "text": [
      "[{'name': '佐藤', 'age': 31}, {'name': '木暮', 'age': 27}, {'name': '田中', 'age': 25}]\n",
      "[{'name': '田中', 'age': 25}, {'name': '木暮', 'age': 27}, {'name': '佐藤', 'age': 31}]\n"
     ]
    },
    {
     "ename": "TypeError",
     "evalue": "'<' not supported between instances of 'dict' and 'dict'",
     "output_type": "error",
     "traceback": [
      "\u001b[1;31m---------------------------------------------------------------------------\u001b[0m",
      "\u001b[1;31mTypeError\u001b[0m                                 Traceback (most recent call last)",
      "\u001b[1;32mc:\\Users\\kgrmr\\OneDrive\\ドキュメント\\GitHub\\python-certified-practical-practice\\09_データ型とアルゴリズム\\9.1_ソート-sorted、sort、operator.ipynb Cell 8\u001b[0m line \u001b[0;36m6\n\u001b[0;32m      <a href='vscode-notebook-cell:/c%3A/Users/kgrmr/OneDrive/%E3%83%89%E3%82%AD%E3%83%A5%E3%83%A1%E3%83%B3%E3%83%88/GitHub/python-certified-practical-practice/09_%E3%83%87%E3%83%BC%E3%82%BF%E5%9E%8B%E3%81%A8%E3%82%A2%E3%83%AB%E3%82%B4%E3%83%AA%E3%82%BA%E3%83%A0/9.1_%E3%82%BD%E3%83%BC%E3%83%88-sorted%E3%80%81sort%E3%80%81operator.ipynb#X11sZmlsZQ%3D%3D?line=3'>4</a>\u001b[0m \u001b[39mprint\u001b[39m(\u001b[39msorted\u001b[39m(data, key\u001b[39m=\u001b[39mitemgetter(\u001b[39m'\u001b[39m\u001b[39mname\u001b[39m\u001b[39m'\u001b[39m)))\n\u001b[0;32m      <a href='vscode-notebook-cell:/c%3A/Users/kgrmr/OneDrive/%E3%83%89%E3%82%AD%E3%83%A5%E3%83%A1%E3%83%B3%E3%83%88/GitHub/python-certified-practical-practice/09_%E3%83%87%E3%83%BC%E3%82%BF%E5%9E%8B%E3%81%A8%E3%82%A2%E3%83%AB%E3%82%B4%E3%83%AA%E3%82%BA%E3%83%A0/9.1_%E3%82%BD%E3%83%BC%E3%83%88-sorted%E3%80%81sort%E3%80%81operator.ipynb#X11sZmlsZQ%3D%3D?line=4'>5</a>\u001b[0m \u001b[39mprint\u001b[39m(\u001b[39msorted\u001b[39m(data, key\u001b[39m=\u001b[39mitemgetter(\u001b[39m'\u001b[39m\u001b[39mage\u001b[39m\u001b[39m'\u001b[39m)))\n\u001b[1;32m----> <a href='vscode-notebook-cell:/c%3A/Users/kgrmr/OneDrive/%E3%83%89%E3%82%AD%E3%83%A5%E3%83%A1%E3%83%B3%E3%83%88/GitHub/python-certified-practical-practice/09_%E3%83%87%E3%83%BC%E3%82%BF%E5%9E%8B%E3%81%A8%E3%82%A2%E3%83%AB%E3%82%B4%E3%83%AA%E3%82%BA%E3%83%A0/9.1_%E3%82%BD%E3%83%BC%E3%83%88-sorted%E3%80%81sort%E3%80%81operator.ipynb#X11sZmlsZQ%3D%3D?line=5'>6</a>\u001b[0m \u001b[39mprint\u001b[39m(\u001b[39msorted\u001b[39;49m(data))\n",
      "\u001b[1;31mTypeError\u001b[0m: '<' not supported between instances of 'dict' and 'dict'"
     ]
    }
   ],
   "source": [
    "from operator import itemgetter\n",
    "\n",
    "data = [{'name': '木暮', 'age': 27}, {'name': '田中', 'age': 25}, {'name': '佐藤', 'age': 31},]\n",
    "print(sorted(data, key=itemgetter('name')))\n",
    "print(sorted(data, key=itemgetter('age')))\n",
    "print(sorted(data))\n"
   ]
  },
  {
   "cell_type": "code",
   "execution_count": 14,
   "metadata": {},
   "outputs": [
    {
     "name": "stdout",
     "output_type": "stream",
     "text": [
      "[User(name='田中', age=25, registered=datetime.datetime(2019, 7, 19, 0, 0)), User(name='木暮', age=27, registered=datetime.datetime(2021, 3, 9, 0, 0)), User(name='佐藤', age=31, registered=datetime.datetime(2023, 5, 26, 0, 0))]\n",
      "[User(name='田中', age=25, registered=datetime.datetime(2019, 7, 19, 0, 0)), User(name='木暮', age=27, registered=datetime.datetime(2021, 3, 9, 0, 0)), User(name='佐藤', age=31, registered=datetime.datetime(2023, 5, 26, 0, 0))]\n"
     ]
    },
    {
     "ename": "TypeError",
     "evalue": "'<' not supported between instances of 'User' and 'User'",
     "output_type": "error",
     "traceback": [
      "\u001b[1;31m---------------------------------------------------------------------------\u001b[0m",
      "\u001b[1;31mTypeError\u001b[0m                                 Traceback (most recent call last)",
      "\u001b[1;32mc:\\Users\\kgrmr\\OneDrive\\ドキュメント\\GitHub\\python-certified-practical-practice\\09_データ型とアルゴリズム\\9.1_ソート-sorted、sort、operator.ipynb Cell 9\u001b[0m line \u001b[0;36m2\n\u001b[0;32m     <a href='vscode-notebook-cell:/c%3A/Users/kgrmr/OneDrive/%E3%83%89%E3%82%AD%E3%83%A5%E3%83%A1%E3%83%B3%E3%83%88/GitHub/python-certified-practical-practice/09_%E3%83%87%E3%83%BC%E3%82%BF%E5%9E%8B%E3%81%A8%E3%82%A2%E3%83%AB%E3%82%B4%E3%83%AA%E3%82%BA%E3%83%A0/9.1_%E3%82%BD%E3%83%BC%E3%83%88-sorted%E3%80%81sort%E3%80%81operator.ipynb#X10sZmlsZQ%3D%3D?line=18'>19</a>\u001b[0m \u001b[39mprint\u001b[39m(\u001b[39msorted\u001b[39m(users, key\u001b[39m=\u001b[39mattrgetter(\u001b[39m'\u001b[39m\u001b[39mage\u001b[39m\u001b[39m'\u001b[39m)))\n\u001b[0;32m     <a href='vscode-notebook-cell:/c%3A/Users/kgrmr/OneDrive/%E3%83%89%E3%82%AD%E3%83%A5%E3%83%A1%E3%83%B3%E3%83%88/GitHub/python-certified-practical-practice/09_%E3%83%87%E3%83%BC%E3%82%BF%E5%9E%8B%E3%81%A8%E3%82%A2%E3%83%AB%E3%82%B4%E3%83%AA%E3%82%BA%E3%83%A0/9.1_%E3%82%BD%E3%83%BC%E3%83%88-sorted%E3%80%81sort%E3%80%81operator.ipynb#X10sZmlsZQ%3D%3D?line=19'>20</a>\u001b[0m \u001b[39mprint\u001b[39m(\u001b[39msorted\u001b[39m(users, key\u001b[39m=\u001b[39mattrgetter(\u001b[39m'\u001b[39m\u001b[39mregistered\u001b[39m\u001b[39m'\u001b[39m)))\n\u001b[1;32m---> <a href='vscode-notebook-cell:/c%3A/Users/kgrmr/OneDrive/%E3%83%89%E3%82%AD%E3%83%A5%E3%83%A1%E3%83%B3%E3%83%88/GitHub/python-certified-practical-practice/09_%E3%83%87%E3%83%BC%E3%82%BF%E5%9E%8B%E3%81%A8%E3%82%A2%E3%83%AB%E3%82%B4%E3%83%AA%E3%82%BA%E3%83%A0/9.1_%E3%82%BD%E3%83%BC%E3%83%88-sorted%E3%80%81sort%E3%80%81operator.ipynb#X10sZmlsZQ%3D%3D?line=20'>21</a>\u001b[0m \u001b[39mprint\u001b[39m(\u001b[39msorted\u001b[39;49m(users))\n",
      "\u001b[1;31mTypeError\u001b[0m: '<' not supported between instances of 'User' and 'User'"
     ]
    }
   ],
   "source": [
    "# operator.attrgetter\n",
    "from operator import attrgetter\n",
    "from dataclasses import dataclass\n",
    "from datetime import datetime\n",
    "\n",
    "\n",
    "@dataclass\n",
    "class User:\n",
    "    name: str\n",
    "    age: int\n",
    "    registered: datetime\n",
    "\n",
    "\n",
    "users = [\n",
    "    User(\"木暮\", 27, datetime(2021, 3, 9)),\n",
    "    User(\"田中\", 25, datetime(2019, 7, 19)),\n",
    "    User(\"佐藤\", 31, datetime(2023, 5, 26)),\n",
    "]\n",
    "print(sorted(users, key=attrgetter('age')))\n",
    "print(sorted(users, key=attrgetter('registered')))\n",
    "print(sorted(users))\n"
   ]
  },
  {
   "cell_type": "code",
   "execution_count": 20,
   "metadata": {},
   "outputs": [
    {
     "name": "stdout",
     "output_type": "stream",
     "text": [
      "[datetime.date(2022, 12, 16), datetime.date(2023, 9, 4), datetime.date(2024, 5, 24)]\n",
      "[datetime.date(2024, 5, 24), datetime.date(2023, 9, 4), datetime.date(2022, 12, 16)]\n",
      "[datetime.date(2023, 9, 4), datetime.date(2022, 12, 16), datetime.date(2024, 5, 24)]\n"
     ]
    }
   ],
   "source": [
    "from operator import attrgetter\n",
    "from datetime import date\n",
    "\n",
    "data = [date(2022, 12, 16), date(2023, 9, 4), date(2024, 5, 24)]\n",
    "print(sorted(data))\n",
    "print(sorted(data, key=attrgetter('month')))\n",
    "print(sorted(data, key=attrgetter('day')))\n"
   ]
  },
  {
   "cell_type": "code",
   "execution_count": 21,
   "metadata": {},
   "outputs": [
    {
     "ename": "TypeError",
     "evalue": "'<' not supported between instances of 'int' and 'str'",
     "output_type": "error",
     "traceback": [
      "\u001b[1;31m---------------------------------------------------------------------------\u001b[0m",
      "\u001b[1;31mTypeError\u001b[0m                                 Traceback (most recent call last)",
      "\u001b[1;32mc:\\Users\\kgrmr\\OneDrive\\ドキュメント\\GitHub\\python-certified-practical-practice\\09_データ型とアルゴリズム\\9.1_ソート-sorted、sort、operator.ipynb Cell 11\u001b[0m line \u001b[0;36m2\n\u001b[0;32m      <a href='vscode-notebook-cell:/c%3A/Users/kgrmr/OneDrive/%E3%83%89%E3%82%AD%E3%83%A5%E3%83%A1%E3%83%B3%E3%83%88/GitHub/python-certified-practical-practice/09_%E3%83%87%E3%83%BC%E3%82%BF%E5%9E%8B%E3%81%A8%E3%82%A2%E3%83%AB%E3%82%B4%E3%83%AA%E3%82%BA%E3%83%A0/9.1_%E3%82%BD%E3%83%BC%E3%83%88-sorted%E3%80%81sort%E3%80%81operator.ipynb#X13sZmlsZQ%3D%3D?line=0'>1</a>\u001b[0m \u001b[39m# 比較できない要素を持つソート\u001b[39;00m\n\u001b[1;32m----> <a href='vscode-notebook-cell:/c%3A/Users/kgrmr/OneDrive/%E3%83%89%E3%82%AD%E3%83%A5%E3%83%A1%E3%83%B3%E3%83%88/GitHub/python-certified-practical-practice/09_%E3%83%87%E3%83%BC%E3%82%BF%E5%9E%8B%E3%81%A8%E3%82%A2%E3%83%AB%E3%82%B4%E3%83%AA%E3%82%BA%E3%83%A0/9.1_%E3%82%BD%E3%83%BC%E3%83%88-sorted%E3%80%81sort%E3%80%81operator.ipynb#X13sZmlsZQ%3D%3D?line=1'>2</a>\u001b[0m \u001b[39mprint\u001b[39m(\u001b[39msorted\u001b[39;49m([\u001b[39m1\u001b[39;49m, \u001b[39m'\u001b[39;49m\u001b[39m2\u001b[39;49m\u001b[39m'\u001b[39;49m, \u001b[39m3\u001b[39;49m, \u001b[39m'\u001b[39;49m\u001b[39m4\u001b[39;49m\u001b[39m'\u001b[39;49m], reverse\u001b[39m=\u001b[39;49m\u001b[39mTrue\u001b[39;49;00m))\n",
      "\u001b[1;31mTypeError\u001b[0m: '<' not supported between instances of 'int' and 'str'"
     ]
    }
   ],
   "source": [
    "# 比較できない要素を持つソート\n",
    "print(sorted([1, '2', 3, '4'], reverse=True))\n"
   ]
  }
 ],
 "metadata": {
  "kernelspec": {
   "display_name": "Python 3",
   "language": "python",
   "name": "python3"
  },
  "language_info": {
   "codemirror_mode": {
    "name": "ipython",
    "version": 3
   },
   "file_extension": ".py",
   "mimetype": "text/x-python",
   "name": "python",
   "nbconvert_exporter": "python",
   "pygments_lexer": "ipython3",
   "version": "3.11.7"
  }
 },
 "nbformat": 4,
 "nbformat_minor": 2
}
