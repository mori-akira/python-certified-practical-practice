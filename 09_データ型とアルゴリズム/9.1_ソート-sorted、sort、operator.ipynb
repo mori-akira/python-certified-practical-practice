{
 "cells": [
  {
   "cell_type": "code",
   "execution_count": 3,
   "metadata": {},
   "outputs": [
    {
     "name": "stdout",
     "output_type": "stream",
     "text": [
      "[1, 1, 2, 3, 4, 5, 9]\n",
      "[9, 5, 4, 3, 2, 1, 1]\n",
      "[' ', ' ', '!', 'P', 'a', 'e', 'e', 'h', 'i', 'm', 'n', 'o', 'o', 's', 's', 't', 'w', 'y']\n"
     ]
    }
   ],
   "source": [
    "# sorted()関数\n",
    "print(sorted([3, 1, 4, 1, 5, 9, 2, 6]))\n",
    "print(sorted([3, 1, 4, 1, 5, 9, 2, 6], reverse=True))\n",
    "print(sorted('Python is awesome!'))"
   ]
  },
  {
   "cell_type": "code",
   "execution_count": 6,
   "metadata": {},
   "outputs": [
    {
     "name": "stdout",
     "output_type": "stream",
     "text": [
      "<list_reverseiterator object at 0x000001DED00CD990>\n",
      "[6, 2, 9, 5, 1, 4, 1, 3]\n",
      "[36, 4, 81, 25, 1, 16, 1, 9]\n"
     ]
    }
   ],
   "source": [
    "# reversed()関数\n",
    "print(reversed([3, 1, 4, 1, 5, 9, 2, 6]))\n",
    "print(list(reversed([3, 1, 4, 1, 5, 9, 2, 6])))\n",
    "print([i * i for i in reversed([3, 1, 4, 1, 5, 9, 2, 6])])"
   ]
  },
  {
   "cell_type": "code",
   "execution_count": 8,
   "metadata": {},
   "outputs": [
    {
     "name": "stdout",
     "output_type": "stream",
     "text": [
      "None\n",
      "[1, 1, 2, 3, 4, 5, 6, 9]\n",
      "None\n",
      "[9, 6, 5, 4, 3, 2, 1, 1]\n"
     ]
    }
   ],
   "source": [
    "# sort()メソッド\n",
    "lst = [3, 1, 4, 1, 5, 9, 2, 6]\n",
    "print(lst.sort())\n",
    "print(lst)\n",
    "print(lst.sort(reverse=True))\n",
    "print(lst)"
   ]
  },
  {
   "cell_type": "code",
   "execution_count": 9,
   "metadata": {},
   "outputs": [
    {
     "name": "stdout",
     "output_type": "stream",
     "text": [
      "None\n",
      "[6, 2, 9, 5, 1, 4, 1, 3]\n"
     ]
    }
   ],
   "source": [
    "# reverse()メソッド\n",
    "lst = [3, 1, 4, 1, 5, 9, 2, 6]\n",
    "print(lst.reverse())\n",
    "print(lst)"
   ]
  }
 ],
 "metadata": {
  "kernelspec": {
   "display_name": "Python 3",
   "language": "python",
   "name": "python3"
  },
  "language_info": {
   "codemirror_mode": {
    "name": "ipython",
    "version": 3
   },
   "file_extension": ".py",
   "mimetype": "text/x-python",
   "name": "python",
   "nbconvert_exporter": "python",
   "pygments_lexer": "ipython3",
   "version": "3.11.6"
  }
 },
 "nbformat": 4,
 "nbformat_minor": 2
}
