{
 "cells": [
  {
   "cell_type": "code",
   "execution_count": 4,
   "metadata": {},
   "outputs": [
    {
     "name": "stdout",
     "output_type": "stream",
     "text": [
      "0 / 1 / h / o / g / e / 2 / 3 / "
     ]
    }
   ],
   "source": [
    "# イテラブルオブジェクトを連結する\n",
    "import itertools\n",
    "it = itertools.chain([0, 1], 'hoge', (2, 3))\n",
    "for e in it:\n",
    "    print(e, end=' / ')\n"
   ]
  },
  {
   "cell_type": "code",
   "execution_count": 5,
   "metadata": {},
   "outputs": [
    {
     "name": "stdout",
     "output_type": "stream",
     "text": [
      "h / o / g / e / "
     ]
    },
    {
     "ename": "TypeError",
     "evalue": "'int' object is not iterable",
     "output_type": "error",
     "traceback": [
      "\u001b[1;31m---------------------------------------------------------------------------\u001b[0m",
      "\u001b[1;31mTypeError\u001b[0m                                 Traceback (most recent call last)",
      "\u001b[1;32mc:\\Users\\kgrmr\\OneDrive\\ドキュメント\\GitHub\\python-certified-practical-practice\\09_データ型とアルゴリズム\\9.6_イテレーターの組み合わせで処理を組み立てる.ipynb Cell 2\u001b[0m line \u001b[0;36m3\n\u001b[0;32m      <a href='vscode-notebook-cell:/c%3A/Users/kgrmr/OneDrive/%E3%83%89%E3%82%AD%E3%83%A5%E3%83%A1%E3%83%B3%E3%83%88/GitHub/python-certified-practical-practice/09_%E3%83%87%E3%83%BC%E3%82%BF%E5%9E%8B%E3%81%A8%E3%82%A2%E3%83%AB%E3%82%B4%E3%83%AA%E3%82%BA%E3%83%A0/9.6_%E3%82%A4%E3%83%86%E3%83%AC%E3%83%BC%E3%82%BF%E3%83%BC%E3%81%AE%E7%B5%84%E3%81%BF%E5%90%88%E3%82%8F%E3%81%9B%E3%81%A7%E5%87%A6%E7%90%86%E3%82%92%E7%B5%84%E3%81%BF%E7%AB%8B%E3%81%A6%E3%82%8B.ipynb#W1sZmlsZQ%3D%3D?line=0'>1</a>\u001b[0m \u001b[39mimport\u001b[39;00m \u001b[39mitertools\u001b[39;00m\n\u001b[0;32m      <a href='vscode-notebook-cell:/c%3A/Users/kgrmr/OneDrive/%E3%83%89%E3%82%AD%E3%83%A5%E3%83%A1%E3%83%B3%E3%83%88/GitHub/python-certified-practical-practice/09_%E3%83%87%E3%83%BC%E3%82%BF%E5%9E%8B%E3%81%A8%E3%82%A2%E3%83%AB%E3%82%B4%E3%83%AA%E3%82%BA%E3%83%A0/9.6_%E3%82%A4%E3%83%86%E3%83%AC%E3%83%BC%E3%82%BF%E3%83%BC%E3%81%AE%E7%B5%84%E3%81%BF%E5%90%88%E3%82%8F%E3%81%9B%E3%81%A7%E5%87%A6%E7%90%86%E3%82%92%E7%B5%84%E3%81%BF%E7%AB%8B%E3%81%A6%E3%82%8B.ipynb#W1sZmlsZQ%3D%3D?line=1'>2</a>\u001b[0m it \u001b[39m=\u001b[39m itertools\u001b[39m.\u001b[39mchain(\u001b[39m'\u001b[39m\u001b[39mhoge\u001b[39m\u001b[39m'\u001b[39m, \u001b[39m0\u001b[39m, \u001b[39m1\u001b[39m)\n\u001b[1;32m----> <a href='vscode-notebook-cell:/c%3A/Users/kgrmr/OneDrive/%E3%83%89%E3%82%AD%E3%83%A5%E3%83%A1%E3%83%B3%E3%83%88/GitHub/python-certified-practical-practice/09_%E3%83%87%E3%83%BC%E3%82%BF%E5%9E%8B%E3%81%A8%E3%82%A2%E3%83%AB%E3%82%B4%E3%83%AA%E3%82%BA%E3%83%A0/9.6_%E3%82%A4%E3%83%86%E3%83%AC%E3%83%BC%E3%82%BF%E3%83%BC%E3%81%AE%E7%B5%84%E3%81%BF%E5%90%88%E3%82%8F%E3%81%9B%E3%81%A7%E5%87%A6%E7%90%86%E3%82%92%E7%B5%84%E3%81%BF%E7%AB%8B%E3%81%A6%E3%82%8B.ipynb#W1sZmlsZQ%3D%3D?line=2'>3</a>\u001b[0m \u001b[39mfor\u001b[39;49;00m e \u001b[39min\u001b[39;49;00m it:\n\u001b[0;32m      <a href='vscode-notebook-cell:/c%3A/Users/kgrmr/OneDrive/%E3%83%89%E3%82%AD%E3%83%A5%E3%83%A1%E3%83%B3%E3%83%88/GitHub/python-certified-practical-practice/09_%E3%83%87%E3%83%BC%E3%82%BF%E5%9E%8B%E3%81%A8%E3%82%A2%E3%83%AB%E3%82%B4%E3%83%AA%E3%82%BA%E3%83%A0/9.6_%E3%82%A4%E3%83%86%E3%83%AC%E3%83%BC%E3%82%BF%E3%83%BC%E3%81%AE%E7%B5%84%E3%81%BF%E5%90%88%E3%82%8F%E3%81%9B%E3%81%A7%E5%87%A6%E7%90%86%E3%82%92%E7%B5%84%E3%81%BF%E7%AB%8B%E3%81%A6%E3%82%8B.ipynb#W1sZmlsZQ%3D%3D?line=3'>4</a>\u001b[0m     \u001b[39mprint\u001b[39;49m(e, end\u001b[39m=\u001b[39;49m\u001b[39m'\u001b[39;49m\u001b[39m / \u001b[39;49m\u001b[39m'\u001b[39;49m)\n",
      "\u001b[1;31mTypeError\u001b[0m: 'int' object is not iterable"
     ]
    }
   ],
   "source": [
    "import itertools\n",
    "it = itertools.chain('hoge', 0, 1)\n",
    "for e in it:\n",
    "    print(e, end=' / ')\n"
   ]
  },
  {
   "cell_type": "code",
   "execution_count": 9,
   "metadata": {},
   "outputs": [
    {
     "name": "stdout",
     "output_type": "stream",
     "text": [
      "a: <itertools._grouper object at 0x000002C5AA4CFEE0>\n",
      "a: ['a', 'a', 'a']\n",
      "b: <itertools._grouper object at 0x000002C5AA4CD870>\n",
      "b: ['b', 'b', 'b', 'b', 'b']\n",
      "c: <itertools._grouper object at 0x000002C5AA4CFEE0>\n",
      "c: ['c', 'c', 'c']\n",
      "a: <itertools._grouper object at 0x000002C5AA4CD870>\n",
      "a: ['a', 'a', 'a']\n",
      "d: <itertools._grouper object at 0x000002C5AA4CFEE0>\n",
      "d: ['d', 'd', 'd', 'd', 'd']\n",
      "b: <itertools._grouper object at 0x000002C5AA4CD870>\n",
      "b: ['b', 'b', 'b', 'b', 'b', 'b', 'b']\n",
      "d: <itertools._grouper object at 0x000002C5AA4CFEE0>\n",
      "d: ['d', 'd', 'd', 'd', 'd', 'd']\n"
     ]
    }
   ],
   "source": [
    "# イテラブルオブジェクトをグルーピングする\n",
    "import itertools\n",
    "for v, g in itertools.groupby('aaabbbbbcccaaadddddbbbbbbbdddddd'):\n",
    "    print(f'{v}: {g}')\n",
    "    print(f'{v}: {list(g)}')\n"
   ]
  },
  {
   "cell_type": "code",
   "execution_count": 13,
   "metadata": {},
   "outputs": [
    {
     "name": "stdout",
     "output_type": "stream",
     "text": [
      "a: ['a', 'a', 'a']\n",
      "b: ['b', 'b']\n",
      "e: ['e']\n",
      "f: ['f', 'f']\n",
      "g: ['g', 'g']\n",
      "h: ['h']\n",
      "i: ['i']\n",
      "o: ['o', 'o', 'o', 'o']\n",
      "p: ['p']\n",
      "r: ['r']\n",
      "u: ['u']\n",
      "y: ['y']\n",
      "z: ['z']\n"
     ]
    }
   ],
   "source": [
    "# ソートと組み合わせる\n",
    "import itertools\n",
    "for v, g in itertools.groupby(sorted('hogefugapiyofoobarbaz')):\n",
    "    print(f'{v}: {list(g)}')\n"
   ]
  },
  {
   "cell_type": "code",
   "execution_count": 14,
   "metadata": {},
   "outputs": [
    {
     "name": "stdout",
     "output_type": "stream",
     "text": [
      "5: ['apple']\n",
      "6: ['banana', 'orange']\n",
      "5: ['grape', 'peach', 'melon']\n"
     ]
    }
   ],
   "source": [
    "# グルーピングの条件\n",
    "import itertools\n",
    "\n",
    "for v, g in itertools.groupby(\n",
    "    [\"apple\", \"banana\", \"orange\", \"grape\", \"peach\", \"melon\"], key=lambda e: len(e)\n",
    "):\n",
    "    print(f\"{v}: {list(g)}\")\n"
   ]
  },
  {
   "cell_type": "code",
   "execution_count": 17,
   "metadata": {},
   "outputs": [
    {
     "name": "stdout",
     "output_type": "stream",
     "text": [
      "['a', 'b', 'c', 'd', 'e', 'f', 'g', 'h', 'i', 'j']\n",
      "['a', 'b', 'c', 'd', 'e', 'f', 'g', 'h', 'i', 'j']\n",
      "['a', 'c', 'e', 'g', 'i']\n"
     ]
    },
    {
     "ename": "ValueError",
     "evalue": "Indices for islice() must be None or an integer: 0 <= x <= sys.maxsize.",
     "output_type": "error",
     "traceback": [
      "\u001b[1;31m---------------------------------------------------------------------------\u001b[0m",
      "\u001b[1;31mValueError\u001b[0m                                Traceback (most recent call last)",
      "\u001b[1;32mc:\\Users\\kgrmr\\OneDrive\\ドキュメント\\GitHub\\python-certified-practical-practice\\09_データ型とアルゴリズム\\9.6_イテレーターの組み合わせで処理を組み立てる.ipynb Cell 6\u001b[0m line \u001b[0;36m7\n\u001b[0;32m      <a href='vscode-notebook-cell:/c%3A/Users/kgrmr/OneDrive/%E3%83%89%E3%82%AD%E3%83%A5%E3%83%A1%E3%83%B3%E3%83%88/GitHub/python-certified-practical-practice/09_%E3%83%87%E3%83%BC%E3%82%BF%E5%9E%8B%E3%81%A8%E3%82%A2%E3%83%AB%E3%82%B4%E3%83%AA%E3%82%BA%E3%83%A0/9.6_%E3%82%A4%E3%83%86%E3%83%AC%E3%83%BC%E3%82%BF%E3%83%BC%E3%81%AE%E7%B5%84%E3%81%BF%E5%90%88%E3%82%8F%E3%81%9B%E3%81%A7%E5%87%A6%E7%90%86%E3%82%92%E7%B5%84%E3%81%BF%E7%AB%8B%E3%81%A6%E3%82%8B.ipynb#W5sZmlsZQ%3D%3D?line=4'>5</a>\u001b[0m \u001b[39mprint\u001b[39m(\u001b[39mlist\u001b[39m(itertools\u001b[39m.\u001b[39mislice(tar, \u001b[39m0\u001b[39m, \u001b[39m10\u001b[39m)))\n\u001b[0;32m      <a href='vscode-notebook-cell:/c%3A/Users/kgrmr/OneDrive/%E3%83%89%E3%82%AD%E3%83%A5%E3%83%A1%E3%83%B3%E3%83%88/GitHub/python-certified-practical-practice/09_%E3%83%87%E3%83%BC%E3%82%BF%E5%9E%8B%E3%81%A8%E3%82%A2%E3%83%AB%E3%82%B4%E3%83%AA%E3%82%BA%E3%83%A0/9.6_%E3%82%A4%E3%83%86%E3%83%AC%E3%83%BC%E3%82%BF%E3%83%BC%E3%81%AE%E7%B5%84%E3%81%BF%E5%90%88%E3%82%8F%E3%81%9B%E3%81%A7%E5%87%A6%E7%90%86%E3%82%92%E7%B5%84%E3%81%BF%E7%AB%8B%E3%81%A6%E3%82%8B.ipynb#W5sZmlsZQ%3D%3D?line=5'>6</a>\u001b[0m \u001b[39mprint\u001b[39m(\u001b[39mlist\u001b[39m(itertools\u001b[39m.\u001b[39mislice(tar, \u001b[39m0\u001b[39m, \u001b[39m10\u001b[39m, \u001b[39m2\u001b[39m)))\n\u001b[1;32m----> <a href='vscode-notebook-cell:/c%3A/Users/kgrmr/OneDrive/%E3%83%89%E3%82%AD%E3%83%A5%E3%83%A1%E3%83%B3%E3%83%88/GitHub/python-certified-practical-practice/09_%E3%83%87%E3%83%BC%E3%82%BF%E5%9E%8B%E3%81%A8%E3%82%A2%E3%83%AB%E3%82%B4%E3%83%AA%E3%82%BA%E3%83%A0/9.6_%E3%82%A4%E3%83%86%E3%83%AC%E3%83%BC%E3%82%BF%E3%83%BC%E3%81%AE%E7%B5%84%E3%81%BF%E5%90%88%E3%82%8F%E3%81%9B%E3%81%A7%E5%87%A6%E7%90%86%E3%82%92%E7%B5%84%E3%81%BF%E7%AB%8B%E3%81%A6%E3%82%8B.ipynb#W5sZmlsZQ%3D%3D?line=6'>7</a>\u001b[0m \u001b[39mprint\u001b[39m(\u001b[39mlist\u001b[39m(itertools\u001b[39m.\u001b[39;49mislice(tar, \u001b[39m-\u001b[39;49m\u001b[39m10\u001b[39;49m)))\n",
      "\u001b[1;31mValueError\u001b[0m: Indices for islice() must be None or an integer: 0 <= x <= sys.maxsize."
     ]
    }
   ],
   "source": [
    "# イテレータオブジェクトの特定の範囲の値を取得する\n",
    "import itertools\n",
    "tar = 'abcdefghijklmnopqrstuvwxyz'\n",
    "print(list(itertools.islice(tar, 10)))\n",
    "print(list(itertools.islice(tar, 0, 10)))\n",
    "print(list(itertools.islice(tar, 0, 10, 2)))\n",
    "print(list(itertools.islice(tar, -10)))\n"
   ]
  },
  {
   "cell_type": "code",
   "execution_count": 22,
   "metadata": {},
   "outputs": [
    {
     "name": "stdout",
     "output_type": "stream",
     "text": [
      "('hoge', 0, 'a')\n",
      "('fuga', 1, 'b')\n",
      "('piyo', 2, 'c')\n",
      "\n",
      "('hoge', 0, 'a')\n",
      "('fuga', 1, 'b')\n",
      "('piyo', 2, 'c')\n",
      "\n",
      "('hoge', 0, 'a')\n",
      "('fuga', 1, 'b')\n",
      "('piyo', 2, 'c')\n"
     ]
    },
    {
     "ename": "ValueError",
     "evalue": "zip() argument 3 is longer than arguments 1-2",
     "output_type": "error",
     "traceback": [
      "\u001b[1;31m---------------------------------------------------------------------------\u001b[0m",
      "\u001b[1;31mValueError\u001b[0m                                Traceback (most recent call last)",
      "\u001b[1;32mc:\\Users\\kgrmr\\OneDrive\\ドキュメント\\GitHub\\python-certified-practical-practice\\09_データ型とアルゴリズム\\9.6_イテレーターの組み合わせで処理を組み立てる.ipynb Cell 7\u001b[0m line \u001b[0;36m8\n\u001b[0;32m      <a href='vscode-notebook-cell:/c%3A/Users/kgrmr/OneDrive/%E3%83%89%E3%82%AD%E3%83%A5%E3%83%A1%E3%83%B3%E3%83%88/GitHub/python-certified-practical-practice/09_%E3%83%87%E3%83%BC%E3%82%BF%E5%9E%8B%E3%81%A8%E3%82%A2%E3%83%AB%E3%82%B4%E3%83%AA%E3%82%BA%E3%83%A0/9.6_%E3%82%A4%E3%83%86%E3%83%AC%E3%83%BC%E3%82%BF%E3%83%BC%E3%81%AE%E7%B5%84%E3%81%BF%E5%90%88%E3%82%8F%E3%81%9B%E3%81%A7%E5%87%A6%E7%90%86%E3%82%92%E7%B5%84%E3%81%BF%E7%AB%8B%E3%81%A6%E3%82%8B.ipynb#W6sZmlsZQ%3D%3D?line=5'>6</a>\u001b[0m     \u001b[39mprint\u001b[39m(v)\n\u001b[0;32m      <a href='vscode-notebook-cell:/c%3A/Users/kgrmr/OneDrive/%E3%83%89%E3%82%AD%E3%83%A5%E3%83%A1%E3%83%B3%E3%83%88/GitHub/python-certified-practical-practice/09_%E3%83%87%E3%83%BC%E3%82%BF%E5%9E%8B%E3%81%A8%E3%82%A2%E3%83%AB%E3%82%B4%E3%83%AA%E3%82%BA%E3%83%A0/9.6_%E3%82%A4%E3%83%86%E3%83%AC%E3%83%BC%E3%82%BF%E3%83%BC%E3%81%AE%E7%B5%84%E3%81%BF%E5%90%88%E3%82%8F%E3%81%9B%E3%81%A7%E5%87%A6%E7%90%86%E3%82%92%E7%B5%84%E3%81%BF%E7%AB%8B%E3%81%A6%E3%82%8B.ipynb#W6sZmlsZQ%3D%3D?line=6'>7</a>\u001b[0m \u001b[39mprint\u001b[39m()\n\u001b[1;32m----> <a href='vscode-notebook-cell:/c%3A/Users/kgrmr/OneDrive/%E3%83%89%E3%82%AD%E3%83%A5%E3%83%A1%E3%83%B3%E3%83%88/GitHub/python-certified-practical-practice/09_%E3%83%87%E3%83%BC%E3%82%BF%E5%9E%8B%E3%81%A8%E3%82%A2%E3%83%AB%E3%82%B4%E3%83%AA%E3%82%BA%E3%83%A0/9.6_%E3%82%A4%E3%83%86%E3%83%AC%E3%83%BC%E3%82%BF%E3%83%BC%E3%81%AE%E7%B5%84%E3%81%BF%E5%90%88%E3%82%8F%E3%81%9B%E3%81%A7%E5%87%A6%E7%90%86%E3%82%92%E7%B5%84%E3%81%BF%E7%AB%8B%E3%81%A6%E3%82%8B.ipynb#W6sZmlsZQ%3D%3D?line=7'>8</a>\u001b[0m \u001b[39mfor\u001b[39;49;00m v \u001b[39min\u001b[39;49;00m \u001b[39mzip\u001b[39;49m([\u001b[39m'\u001b[39;49m\u001b[39mhoge\u001b[39;49m\u001b[39m'\u001b[39;49m, \u001b[39m'\u001b[39;49m\u001b[39mfuga\u001b[39;49m\u001b[39m'\u001b[39;49m, \u001b[39m'\u001b[39;49m\u001b[39mpiyo\u001b[39;49m\u001b[39m'\u001b[39;49m], (\u001b[39m0\u001b[39;49m, \u001b[39m1\u001b[39;49m, \u001b[39m2\u001b[39;49m), \u001b[39m'\u001b[39;49m\u001b[39mabcde\u001b[39;49m\u001b[39m'\u001b[39;49m, strict\u001b[39m=\u001b[39;49m\u001b[39mTrue\u001b[39;49;00m):\n\u001b[0;32m      <a href='vscode-notebook-cell:/c%3A/Users/kgrmr/OneDrive/%E3%83%89%E3%82%AD%E3%83%A5%E3%83%A1%E3%83%B3%E3%83%88/GitHub/python-certified-practical-practice/09_%E3%83%87%E3%83%BC%E3%82%BF%E5%9E%8B%E3%81%A8%E3%82%A2%E3%83%AB%E3%82%B4%E3%83%AA%E3%82%BA%E3%83%A0/9.6_%E3%82%A4%E3%83%86%E3%83%AC%E3%83%BC%E3%82%BF%E3%83%BC%E3%81%AE%E7%B5%84%E3%81%BF%E5%90%88%E3%82%8F%E3%81%9B%E3%81%A7%E5%87%A6%E7%90%86%E3%82%92%E7%B5%84%E3%81%BF%E7%AB%8B%E3%81%A6%E3%82%8B.ipynb#W6sZmlsZQ%3D%3D?line=8'>9</a>\u001b[0m     \u001b[39mprint\u001b[39;49m(v)\n",
      "\u001b[1;31mValueError\u001b[0m: zip() argument 3 is longer than arguments 1-2"
     ]
    }
   ],
   "source": [
    "# 各イテラブルオブジェクトから値を取り出す\n",
    "for v in zip(['hoge', 'fuga', 'piyo'], (0, 1, 2), 'abc'):\n",
    "    print(v)\n",
    "print()\n",
    "for v in zip(['hoge', 'fuga', 'piyo'], (0, 1, 2), 'abcde', strict=False):\n",
    "    print(v)\n",
    "print()\n",
    "for v in zip(['hoge', 'fuga', 'piyo'], (0, 1, 2), 'abcde', strict=True):\n",
    "    print(v)\n"
   ]
  },
  {
   "cell_type": "code",
   "execution_count": 26,
   "metadata": {},
   "outputs": [
    {
     "name": "stdout",
     "output_type": "stream",
     "text": [
      "('hoge', 0, 'a')\n",
      "('fuga', 1, 'b')\n",
      "('piyo', 2, 'c')\n",
      "(None, None, 'd')\n",
      "(None, None, 'e')\n",
      "\n",
      "('hoge', 0, 'a')\n",
      "('fuga', 1, 'b')\n",
      "('piyo', 2, 'c')\n",
      "('NO VALUE', 'NO VALUE', 'd')\n",
      "('NO VALUE', 'NO VALUE', 'e')\n"
     ]
    }
   ],
   "source": [
    "import itertools\n",
    "for v in itertools.zip_longest(['hoge', 'fuga', 'piyo'], (0, 1, 2), 'abcde'):\n",
    "    print(v)\n",
    "print()\n",
    "for v in itertools.zip_longest(['hoge', 'fuga', 'piyo'], (0, 1, 2), 'abcde', fillvalue='NO VALUE'):\n",
    "    print(v)\n"
   ]
  },
  {
   "cell_type": "code",
   "execution_count": 28,
   "metadata": {},
   "outputs": [
    {
     "name": "stdout",
     "output_type": "stream",
     "text": [
      "[('A', 1), ('A', 2), ('A', 3), ('B', 1), ('B', 2), ('B', 3), ('C', 1), ('C', 2), ('C', 3)]\n",
      "[('A', 'A', 'A'), ('A', 'A', 'B'), ('A', 'B', 'A'), ('A', 'B', 'B'), ('B', 'A', 'A'), ('B', 'A', 'B'), ('B', 'B', 'A'), ('B', 'B', 'B')]\n"
     ]
    }
   ],
   "source": [
    "# デカルト積\n",
    "import itertools\n",
    "print(list(itertools.product('ABC', (1, 2, 3))))\n",
    "print(list(itertools.product('AB', repeat=3)))\n"
   ]
  },
  {
   "cell_type": "code",
   "execution_count": 31,
   "metadata": {},
   "outputs": [
    {
     "name": "stdout",
     "output_type": "stream",
     "text": [
      "[('A', 'B', 'C'), ('A', 'C', 'B'), ('B', 'A', 'C'), ('B', 'C', 'A'), ('C', 'A', 'B'), ('C', 'B', 'A')]\n",
      "[('A', 'B'), ('A', 'C'), ('B', 'A'), ('B', 'C'), ('C', 'A'), ('C', 'B')]\n",
      "[]\n"
     ]
    }
   ],
   "source": [
    "# 順列\n",
    "import itertools\n",
    "print(list(itertools.permutations('ABC')))\n",
    "print(list(itertools.permutations('ABC', 2)))\n",
    "print(list(itertools.permutations('ABC', 4)))\n"
   ]
  },
  {
   "cell_type": "code",
   "execution_count": 34,
   "metadata": {},
   "outputs": [
    {
     "name": "stdout",
     "output_type": "stream",
     "text": [
      "[('A',), ('B',), ('C',)]\n",
      "[('A', 'B'), ('A', 'C'), ('B', 'C')]\n",
      "[('A', 'B', 'C')]\n",
      "[]\n"
     ]
    }
   ],
   "source": [
    "# 組み合わせ\n",
    "import itertools\n",
    "print(list(itertools.combinations('ABC', 1)))\n",
    "print(list(itertools.combinations('ABC', 2)))\n",
    "print(list(itertools.combinations('ABC', 3)))\n",
    "print(list(itertools.combinations('ABC', 4)))\n"
   ]
  },
  {
   "cell_type": "code",
   "execution_count": 36,
   "metadata": {},
   "outputs": [
    {
     "name": "stdout",
     "output_type": "stream",
     "text": [
      "[('A',), ('B',), ('C',)]\n",
      "[('A', 'A'), ('A', 'B'), ('A', 'C'), ('B', 'B'), ('B', 'C'), ('C', 'C')]\n",
      "[('A', 'A', 'A'), ('A', 'A', 'B'), ('A', 'A', 'C'), ('A', 'B', 'B'), ('A', 'B', 'C'), ('A', 'C', 'C'), ('B', 'B', 'B'), ('B', 'B', 'C'), ('B', 'C', 'C'), ('C', 'C', 'C')]\n"
     ]
    }
   ],
   "source": [
    "# 同じ要素の繰り返しを含む組み合わせ\n",
    "import itertools\n",
    "print(list(itertools.combinations_with_replacement('ABC', 1)))\n",
    "print(list(itertools.combinations_with_replacement('ABC', 2)))\n",
    "print(list(itertools.combinations_with_replacement('ABC', 3)))\n"
   ]
  }
 ],
 "metadata": {
  "kernelspec": {
   "display_name": "Python 3",
   "language": "python",
   "name": "python3"
  },
  "language_info": {
   "codemirror_mode": {
    "name": "ipython",
    "version": 3
   },
   "file_extension": ".py",
   "mimetype": "text/x-python",
   "name": "python",
   "nbconvert_exporter": "python",
   "pygments_lexer": "ipython3",
   "version": "3.11.7"
  }
 },
 "nbformat": 4,
 "nbformat_minor": 2
}
